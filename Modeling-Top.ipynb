{
 "cells": [
  {
   "cell_type": "code",
   "execution_count": 1,
   "metadata": {},
   "outputs": [],
   "source": [
    "# Get pandas and postgres to work together\n",
    "import psycopg2 as pg\n",
    "import pandas as pd\n",
    "\n",
    "# We are also going to do some basic viz\n",
    "import seaborn as sns\n",
    "import matplotlib.pyplot as plt\n",
    "%matplotlib inline\n",
    "\n",
    "from imblearn.over_sampling import RandomOverSampler, SMOTE, ADASYN\n",
    "import pickle\n",
    "import numpy as np"
   ]
  },
  {
   "cell_type": "code",
   "execution_count": 2,
   "metadata": {},
   "outputs": [],
   "source": [
    "sns.set_context('notebook')\n",
    "sns.set_style('whitegrid')"
   ]
  },
  {
   "cell_type": "code",
   "execution_count": 3,
   "metadata": {},
   "outputs": [],
   "source": [
    "with open('data/champion_df.pickle', 'rb') as f:\n",
    "    df = pickle.load(f)"
   ]
  },
  {
   "cell_type": "markdown",
   "metadata": {},
   "source": [
    "## Split data into train and test"
   ]
  },
  {
   "cell_type": "code",
   "execution_count": 4,
   "metadata": {},
   "outputs": [
    {
     "data": {
      "text/plain": [
       "11406"
      ]
     },
     "execution_count": 4,
     "metadata": {},
     "output_type": "execute_result"
    }
   ],
   "source": [
    "len(df)"
   ]
  },
  {
   "cell_type": "code",
   "execution_count": 5,
   "metadata": {},
   "outputs": [],
   "source": [
    "import sklearn\n",
    "from sklearn.model_selection import train_test_split"
   ]
  },
  {
   "cell_type": "code",
   "execution_count": 6,
   "metadata": {},
   "outputs": [],
   "source": [
    "df_train, df_test = train_test_split(df, test_size=.20, random_state=42)"
   ]
  },
  {
   "cell_type": "code",
   "execution_count": 7,
   "metadata": {},
   "outputs": [],
   "source": [
    "X_train = df_train.iloc[:,7:-1]\n",
    "y_train = df_train['category']\n",
    "X_test = df_test.iloc[:,7:-1]\n",
    "y_test = df_test['category']"
   ]
  },
  {
   "cell_type": "code",
   "execution_count": 8,
   "metadata": {},
   "outputs": [
    {
     "data": {
      "text/plain": [
       "56"
      ]
     },
     "execution_count": 8,
     "metadata": {},
     "output_type": "execute_result"
    }
   ],
   "source": [
    "len(df.columns)"
   ]
  },
  {
   "cell_type": "code",
   "execution_count": 9,
   "metadata": {},
   "outputs": [
    {
     "data": {
      "text/html": [
       "<div>\n",
       "<style scoped>\n",
       "    .dataframe tbody tr th:only-of-type {\n",
       "        vertical-align: middle;\n",
       "    }\n",
       "\n",
       "    .dataframe tbody tr th {\n",
       "        vertical-align: top;\n",
       "    }\n",
       "\n",
       "    .dataframe thead th {\n",
       "        text-align: right;\n",
       "    }\n",
       "</style>\n",
       "<table border=\"1\" class=\"dataframe\">\n",
       "  <thead>\n",
       "    <tr style=\"text-align: right;\">\n",
       "      <th></th>\n",
       "      <th>ate_less</th>\n",
       "      <th>low_cal_foods</th>\n",
       "      <th>ate_less_fat</th>\n",
       "      <th>exercise</th>\n",
       "      <th>skip_meals</th>\n",
       "      <th>'diet'_foods</th>\n",
       "      <th>liquid_diet</th>\n",
       "      <th>wt_loss_program</th>\n",
       "      <th>rx_diet_pills</th>\n",
       "      <th>non-rx_diet_pills</th>\n",
       "      <th>...</th>\n",
       "      <th>total_fat</th>\n",
       "      <th>sat_fat</th>\n",
       "      <th>mono_fat</th>\n",
       "      <th>poly_fat</th>\n",
       "      <th>cholesterol</th>\n",
       "      <th>vig_work_days</th>\n",
       "      <th>mod_work_days</th>\n",
       "      <th>walk_bike_days</th>\n",
       "      <th>vig_rec_days</th>\n",
       "      <th>mod_rec_days</th>\n",
       "    </tr>\n",
       "  </thead>\n",
       "  <tbody>\n",
       "    <tr>\n",
       "      <th>6346</th>\n",
       "      <td>0.0</td>\n",
       "      <td>0.0</td>\n",
       "      <td>0.0</td>\n",
       "      <td>0.0</td>\n",
       "      <td>0.0</td>\n",
       "      <td>0.0</td>\n",
       "      <td>0.0</td>\n",
       "      <td>0.0</td>\n",
       "      <td>0.0</td>\n",
       "      <td>0.0</td>\n",
       "      <td>...</td>\n",
       "      <td>139.11</td>\n",
       "      <td>37.220</td>\n",
       "      <td>42.781</td>\n",
       "      <td>47.864</td>\n",
       "      <td>349.0</td>\n",
       "      <td>0.0</td>\n",
       "      <td>4.0</td>\n",
       "      <td>0.0</td>\n",
       "      <td>0.0</td>\n",
       "      <td>0.0</td>\n",
       "    </tr>\n",
       "    <tr>\n",
       "      <th>9931</th>\n",
       "      <td>1.0</td>\n",
       "      <td>0.0</td>\n",
       "      <td>0.0</td>\n",
       "      <td>1.0</td>\n",
       "      <td>0.0</td>\n",
       "      <td>0.0</td>\n",
       "      <td>0.0</td>\n",
       "      <td>0.0</td>\n",
       "      <td>0.0</td>\n",
       "      <td>0.0</td>\n",
       "      <td>...</td>\n",
       "      <td>57.57</td>\n",
       "      <td>15.689</td>\n",
       "      <td>17.983</td>\n",
       "      <td>19.815</td>\n",
       "      <td>257.0</td>\n",
       "      <td>0.0</td>\n",
       "      <td>5.0</td>\n",
       "      <td>0.0</td>\n",
       "      <td>0.0</td>\n",
       "      <td>3.0</td>\n",
       "    </tr>\n",
       "    <tr>\n",
       "      <th>1360</th>\n",
       "      <td>0.0</td>\n",
       "      <td>0.0</td>\n",
       "      <td>0.0</td>\n",
       "      <td>0.0</td>\n",
       "      <td>0.0</td>\n",
       "      <td>0.0</td>\n",
       "      <td>0.0</td>\n",
       "      <td>0.0</td>\n",
       "      <td>0.0</td>\n",
       "      <td>0.0</td>\n",
       "      <td>...</td>\n",
       "      <td>42.22</td>\n",
       "      <td>10.057</td>\n",
       "      <td>15.872</td>\n",
       "      <td>12.014</td>\n",
       "      <td>274.0</td>\n",
       "      <td>0.0</td>\n",
       "      <td>2.0</td>\n",
       "      <td>3.0</td>\n",
       "      <td>4.0</td>\n",
       "      <td>0.0</td>\n",
       "    </tr>\n",
       "    <tr>\n",
       "      <th>9781</th>\n",
       "      <td>0.0</td>\n",
       "      <td>0.0</td>\n",
       "      <td>0.0</td>\n",
       "      <td>0.0</td>\n",
       "      <td>0.0</td>\n",
       "      <td>0.0</td>\n",
       "      <td>0.0</td>\n",
       "      <td>0.0</td>\n",
       "      <td>0.0</td>\n",
       "      <td>0.0</td>\n",
       "      <td>...</td>\n",
       "      <td>53.23</td>\n",
       "      <td>17.054</td>\n",
       "      <td>18.060</td>\n",
       "      <td>14.377</td>\n",
       "      <td>99.0</td>\n",
       "      <td>0.0</td>\n",
       "      <td>0.0</td>\n",
       "      <td>0.0</td>\n",
       "      <td>0.0</td>\n",
       "      <td>0.0</td>\n",
       "    </tr>\n",
       "    <tr>\n",
       "      <th>10947</th>\n",
       "      <td>0.0</td>\n",
       "      <td>0.0</td>\n",
       "      <td>0.0</td>\n",
       "      <td>0.0</td>\n",
       "      <td>0.0</td>\n",
       "      <td>0.0</td>\n",
       "      <td>0.0</td>\n",
       "      <td>0.0</td>\n",
       "      <td>0.0</td>\n",
       "      <td>0.0</td>\n",
       "      <td>...</td>\n",
       "      <td>71.27</td>\n",
       "      <td>29.539</td>\n",
       "      <td>23.085</td>\n",
       "      <td>10.150</td>\n",
       "      <td>383.0</td>\n",
       "      <td>3.0</td>\n",
       "      <td>0.0</td>\n",
       "      <td>7.0</td>\n",
       "      <td>0.0</td>\n",
       "      <td>5.0</td>\n",
       "    </tr>\n",
       "    <tr>\n",
       "      <th>...</th>\n",
       "      <td>...</td>\n",
       "      <td>...</td>\n",
       "      <td>...</td>\n",
       "      <td>...</td>\n",
       "      <td>...</td>\n",
       "      <td>...</td>\n",
       "      <td>...</td>\n",
       "      <td>...</td>\n",
       "      <td>...</td>\n",
       "      <td>...</td>\n",
       "      <td>...</td>\n",
       "      <td>...</td>\n",
       "      <td>...</td>\n",
       "      <td>...</td>\n",
       "      <td>...</td>\n",
       "      <td>...</td>\n",
       "      <td>...</td>\n",
       "      <td>...</td>\n",
       "      <td>...</td>\n",
       "      <td>...</td>\n",
       "      <td>...</td>\n",
       "    </tr>\n",
       "    <tr>\n",
       "      <th>11284</th>\n",
       "      <td>0.0</td>\n",
       "      <td>0.0</td>\n",
       "      <td>0.0</td>\n",
       "      <td>0.0</td>\n",
       "      <td>0.0</td>\n",
       "      <td>0.0</td>\n",
       "      <td>0.0</td>\n",
       "      <td>0.0</td>\n",
       "      <td>0.0</td>\n",
       "      <td>0.0</td>\n",
       "      <td>...</td>\n",
       "      <td>126.48</td>\n",
       "      <td>41.930</td>\n",
       "      <td>52.533</td>\n",
       "      <td>22.061</td>\n",
       "      <td>477.0</td>\n",
       "      <td>0.0</td>\n",
       "      <td>0.0</td>\n",
       "      <td>0.0</td>\n",
       "      <td>2.0</td>\n",
       "      <td>1.0</td>\n",
       "    </tr>\n",
       "    <tr>\n",
       "      <th>5191</th>\n",
       "      <td>1.0</td>\n",
       "      <td>1.0</td>\n",
       "      <td>1.0</td>\n",
       "      <td>1.0</td>\n",
       "      <td>0.0</td>\n",
       "      <td>0.0</td>\n",
       "      <td>0.0</td>\n",
       "      <td>0.0</td>\n",
       "      <td>0.0</td>\n",
       "      <td>0.0</td>\n",
       "      <td>...</td>\n",
       "      <td>53.38</td>\n",
       "      <td>14.739</td>\n",
       "      <td>18.209</td>\n",
       "      <td>15.610</td>\n",
       "      <td>415.0</td>\n",
       "      <td>0.0</td>\n",
       "      <td>0.0</td>\n",
       "      <td>3.0</td>\n",
       "      <td>3.0</td>\n",
       "      <td>1.0</td>\n",
       "    </tr>\n",
       "    <tr>\n",
       "      <th>5390</th>\n",
       "      <td>0.0</td>\n",
       "      <td>0.0</td>\n",
       "      <td>0.0</td>\n",
       "      <td>0.0</td>\n",
       "      <td>0.0</td>\n",
       "      <td>0.0</td>\n",
       "      <td>0.0</td>\n",
       "      <td>0.0</td>\n",
       "      <td>0.0</td>\n",
       "      <td>0.0</td>\n",
       "      <td>...</td>\n",
       "      <td>79.92</td>\n",
       "      <td>30.904</td>\n",
       "      <td>27.643</td>\n",
       "      <td>13.785</td>\n",
       "      <td>373.0</td>\n",
       "      <td>0.0</td>\n",
       "      <td>0.0</td>\n",
       "      <td>0.0</td>\n",
       "      <td>0.0</td>\n",
       "      <td>0.0</td>\n",
       "    </tr>\n",
       "    <tr>\n",
       "      <th>860</th>\n",
       "      <td>1.0</td>\n",
       "      <td>0.0</td>\n",
       "      <td>0.0</td>\n",
       "      <td>0.0</td>\n",
       "      <td>0.0</td>\n",
       "      <td>0.0</td>\n",
       "      <td>0.0</td>\n",
       "      <td>0.0</td>\n",
       "      <td>0.0</td>\n",
       "      <td>0.0</td>\n",
       "      <td>...</td>\n",
       "      <td>155.93</td>\n",
       "      <td>45.702</td>\n",
       "      <td>50.069</td>\n",
       "      <td>51.416</td>\n",
       "      <td>641.0</td>\n",
       "      <td>0.0</td>\n",
       "      <td>0.0</td>\n",
       "      <td>0.0</td>\n",
       "      <td>0.0</td>\n",
       "      <td>3.0</td>\n",
       "    </tr>\n",
       "    <tr>\n",
       "      <th>7270</th>\n",
       "      <td>0.0</td>\n",
       "      <td>0.0</td>\n",
       "      <td>0.0</td>\n",
       "      <td>0.0</td>\n",
       "      <td>0.0</td>\n",
       "      <td>0.0</td>\n",
       "      <td>0.0</td>\n",
       "      <td>0.0</td>\n",
       "      <td>0.0</td>\n",
       "      <td>0.0</td>\n",
       "      <td>...</td>\n",
       "      <td>106.27</td>\n",
       "      <td>44.241</td>\n",
       "      <td>39.739</td>\n",
       "      <td>13.894</td>\n",
       "      <td>335.0</td>\n",
       "      <td>5.0</td>\n",
       "      <td>5.0</td>\n",
       "      <td>0.0</td>\n",
       "      <td>0.0</td>\n",
       "      <td>0.0</td>\n",
       "    </tr>\n",
       "  </tbody>\n",
       "</table>\n",
       "<p>9124 rows × 48 columns</p>\n",
       "</div>"
      ],
      "text/plain": [
       "       ate_less  low_cal_foods  ate_less_fat  exercise  skip_meals  \\\n",
       "6346        0.0            0.0           0.0       0.0         0.0   \n",
       "9931        1.0            0.0           0.0       1.0         0.0   \n",
       "1360        0.0            0.0           0.0       0.0         0.0   \n",
       "9781        0.0            0.0           0.0       0.0         0.0   \n",
       "10947       0.0            0.0           0.0       0.0         0.0   \n",
       "...         ...            ...           ...       ...         ...   \n",
       "11284       0.0            0.0           0.0       0.0         0.0   \n",
       "5191        1.0            1.0           1.0       1.0         0.0   \n",
       "5390        0.0            0.0           0.0       0.0         0.0   \n",
       "860         1.0            0.0           0.0       0.0         0.0   \n",
       "7270        0.0            0.0           0.0       0.0         0.0   \n",
       "\n",
       "       'diet'_foods  liquid_diet  wt_loss_program  rx_diet_pills  \\\n",
       "6346            0.0          0.0              0.0            0.0   \n",
       "9931            0.0          0.0              0.0            0.0   \n",
       "1360            0.0          0.0              0.0            0.0   \n",
       "9781            0.0          0.0              0.0            0.0   \n",
       "10947           0.0          0.0              0.0            0.0   \n",
       "...             ...          ...              ...            ...   \n",
       "11284           0.0          0.0              0.0            0.0   \n",
       "5191            0.0          0.0              0.0            0.0   \n",
       "5390            0.0          0.0              0.0            0.0   \n",
       "860             0.0          0.0              0.0            0.0   \n",
       "7270            0.0          0.0              0.0            0.0   \n",
       "\n",
       "       non-rx_diet_pills  ...  total_fat  sat_fat  mono_fat  poly_fat  \\\n",
       "6346                 0.0  ...     139.11   37.220    42.781    47.864   \n",
       "9931                 0.0  ...      57.57   15.689    17.983    19.815   \n",
       "1360                 0.0  ...      42.22   10.057    15.872    12.014   \n",
       "9781                 0.0  ...      53.23   17.054    18.060    14.377   \n",
       "10947                0.0  ...      71.27   29.539    23.085    10.150   \n",
       "...                  ...  ...        ...      ...       ...       ...   \n",
       "11284                0.0  ...     126.48   41.930    52.533    22.061   \n",
       "5191                 0.0  ...      53.38   14.739    18.209    15.610   \n",
       "5390                 0.0  ...      79.92   30.904    27.643    13.785   \n",
       "860                  0.0  ...     155.93   45.702    50.069    51.416   \n",
       "7270                 0.0  ...     106.27   44.241    39.739    13.894   \n",
       "\n",
       "       cholesterol  vig_work_days  mod_work_days  walk_bike_days  \\\n",
       "6346         349.0            0.0            4.0             0.0   \n",
       "9931         257.0            0.0            5.0             0.0   \n",
       "1360         274.0            0.0            2.0             3.0   \n",
       "9781          99.0            0.0            0.0             0.0   \n",
       "10947        383.0            3.0            0.0             7.0   \n",
       "...            ...            ...            ...             ...   \n",
       "11284        477.0            0.0            0.0             0.0   \n",
       "5191         415.0            0.0            0.0             3.0   \n",
       "5390         373.0            0.0            0.0             0.0   \n",
       "860          641.0            0.0            0.0             0.0   \n",
       "7270         335.0            5.0            5.0             0.0   \n",
       "\n",
       "       vig_rec_days  mod_rec_days  \n",
       "6346            0.0           0.0  \n",
       "9931            0.0           3.0  \n",
       "1360            4.0           0.0  \n",
       "9781            0.0           0.0  \n",
       "10947           0.0           5.0  \n",
       "...             ...           ...  \n",
       "11284           2.0           1.0  \n",
       "5191            3.0           1.0  \n",
       "5390            0.0           0.0  \n",
       "860             0.0           3.0  \n",
       "7270            0.0           0.0  \n",
       "\n",
       "[9124 rows x 48 columns]"
      ]
     },
     "execution_count": 9,
     "metadata": {},
     "output_type": "execute_result"
    }
   ],
   "source": [
    "X_train"
   ]
  },
  {
   "cell_type": "markdown",
   "metadata": {},
   "source": [
    "## Oversampling"
   ]
  },
  {
   "cell_type": "code",
   "execution_count": 10,
   "metadata": {},
   "outputs": [],
   "source": [
    "import imblearn.over_sampling\n",
    "\n",
    "# setup for the ratio argument of RandomOverSampler initialization\n",
    "Obese = np.sum(y_train == 'Obese')\n",
    "Average = np.sum(y_train == 'Average')\n",
    "Fitness = np.sum(y_train == 'Fitness')\n",
    "Athlete = np.sum(y_train == 'Athlete')\n",
    "ratio = {'Obese': Obese, 'Average': Average*2, 'Fitness': Fitness*5, 'Athlete': Athlete*10} \n"
   ]
  },
  {
   "cell_type": "code",
   "execution_count": 11,
   "metadata": {},
   "outputs": [],
   "source": [
    "#initialize random sampler for later use\n",
    "ROS = imblearn.over_sampling.RandomOverSampler(sampling_strategy = 'auto', random_state=42) \n",
    "SMOTE = imblearn.over_sampling.SMOTE(sampling_strategy = 'auto', random_state=42) \n",
    "ADASYN = imblearn.over_sampling.ADASYN(sampling_strategy = 'auto', random_state=42) \n",
    "# X_tr_rs, y_tr_rs = ROS.fit_resample(df_train,y_train)"
   ]
  },
  {
   "cell_type": "markdown",
   "metadata": {},
   "source": [
    "## Functions (Model Selection Pipeline)\n",
    "Things to address in pipeline:\n",
    "\n",
    "Class Imbalance (sampling metrics)\\\n",
    "Kfold cross validation (small dataset) \\\n",
    "Modeling (parameter tuning, class weights for those it applies to) \\\n",
    "Metrics selected above (F1) \\\n",
    "ROC Curve"
   ]
  },
  {
   "cell_type": "markdown",
   "metadata": {},
   "source": [
    "# Modeling"
   ]
  },
  {
   "cell_type": "code",
   "execution_count": 12,
   "metadata": {},
   "outputs": [],
   "source": [
    "from sklearn.model_selection import cross_validate\n",
    "from sklearn.model_selection import GridSearchCV\n",
    "from sklearn.linear_model import LogisticRegression\n",
    "from sklearn.tree import DecisionTreeClassifier\n",
    "from sklearn.neighbors import KNeighborsClassifier\n",
    "from sklearn.ensemble import RandomForestClassifier\n",
    "from sklearn.ensemble import RandomForestClassifier\n",
    "from sklearn.naive_bayes import GaussianNB\n",
    "from sklearn.naive_bayes import BernoulliNB\n",
    "from sklearn import metrics\n",
    "from sklearn.metrics import accuracy_score\n",
    "from sklearn.metrics import f1_score\n",
    "from sklearn.dummy import DummyClassifier\n",
    "from operator import itemgetter\n",
    "from sklearn import tree\n",
    "from sklearn.utils import check_random_state\n",
    "import numpy as np\n",
    "from sklearn.model_selection import ParameterGrid\n",
    "from sklearn.model_selection import StratifiedKFold\n",
    "import xgboost as xgb\n",
    "from Sampling_CHAMP import SamplingGridSearchCV\n",
    "from sklearn.preprocessing import LabelBinarizer\n",
    "from sklearn.metrics import classification_report\n",
    "from sklearn.preprocessing import Binarizer"
   ]
  },
  {
   "cell_type": "code",
   "execution_count": 13,
   "metadata": {},
   "outputs": [],
   "source": [
    "dum = DummyClassifier(strategy='stratified')\n",
    "dum_dum = dum.fit(X_train,y_train) "
   ]
  },
  {
   "cell_type": "code",
   "execution_count": 14,
   "metadata": {},
   "outputs": [
    {
     "data": {
      "text/plain": [
       "array([[0., 0., 1.],\n",
       "       [0., 0., 1.],\n",
       "       [1., 0., 0.],\n",
       "       ...,\n",
       "       [0., 0., 1.],\n",
       "       [0., 0., 1.],\n",
       "       [0., 0., 1.]])"
      ]
     },
     "execution_count": 14,
     "metadata": {},
     "output_type": "execute_result"
    }
   ],
   "source": [
    "dum_dum.predict_proba(X_test)"
   ]
  },
  {
   "cell_type": "code",
   "execution_count": 15,
   "metadata": {},
   "outputs": [
    {
     "data": {
      "text/plain": [
       "0.33102493867566024"
      ]
     },
     "execution_count": 15,
     "metadata": {},
     "output_type": "execute_result"
    }
   ],
   "source": [
    "metrics.precision_score(y_train, dum_dum.predict(X_train), average = 'macro', zero_division=0)\n",
    "#note that micro will simply calculate true positives / (TP+FP), in multiclass this equals TP/all guesses = 74%\n",
    "#macro will calculate TP/(TP+FP) for each class, then average across. In naive case, this is 74%*0.25 = 0.185 because obese is one of 4 classes \n",
    "#weighted this is 74%* 74% (precision for obese*obese percentage) + 0%*19% (percentage average) + 0*5%(percent fit) +0*2% (percent athlete) because obese is weighted"
   ]
  },
  {
   "cell_type": "code",
   "execution_count": 16,
   "metadata": {},
   "outputs": [],
   "source": [
    "import graphviz"
   ]
  },
  {
   "cell_type": "code",
   "execution_count": 17,
   "metadata": {},
   "outputs": [
    {
     "data": {
      "text/plain": [
       "0.3309528277012406"
      ]
     },
     "execution_count": 17,
     "metadata": {},
     "output_type": "execute_result"
    }
   ],
   "source": [
    "f1_score(y_train, dum_dum.predict(X_train), average = 'macro', zero_division=0)"
   ]
  },
  {
   "cell_type": "code",
   "execution_count": 18,
   "metadata": {},
   "outputs": [],
   "source": [
    "train_class = classification_report(y_train, dum_dum.predict(X_train), target_names = ['Average','Fitness','Obese'], output_dict = True, zero_division=0)"
   ]
  },
  {
   "cell_type": "code",
   "execution_count": 19,
   "metadata": {},
   "outputs": [
    {
     "data": {
      "text/plain": [
       "{'Average': {'precision': 0.21338250790305585,\n",
       "  'recall': 0.21148825065274152,\n",
       "  'f1-score': 0.21243115656963021,\n",
       "  'support': 1915},\n",
       " 'Fitness': {'precision': 0.05762081784386617,\n",
       "  'recall': 0.056776556776556776,\n",
       "  'f1-score': 0.05719557195571956,\n",
       "  'support': 546},\n",
       " 'Obese': {'precision': 0.7307117224880383,\n",
       "  'recall': 0.7334533993696533,\n",
       "  'f1-score': 0.7320799940079395,\n",
       "  'support': 6663},\n",
       " 'accuracy': 0.5834064007014468,\n",
       " 'macro avg': {'precision': 0.3339050160783201,\n",
       "  'recall': 0.33390606893298386,\n",
       "  'f1-score': 0.3339022408444297,\n",
       "  'support': 9124},\n",
       " 'weighted avg': {'precision': 0.5818523318845793,\n",
       "  'recall': 0.5834064007014468,\n",
       "  'f1-score': 0.5826264190260375,\n",
       "  'support': 9124}}"
      ]
     },
     "execution_count": 19,
     "metadata": {},
     "output_type": "execute_result"
    }
   ],
   "source": [
    "train_class"
   ]
  },
  {
   "cell_type": "code",
   "execution_count": 20,
   "metadata": {},
   "outputs": [
    {
     "data": {
      "text/plain": [
       "Obese      6663\n",
       "Average    1915\n",
       "Fitness     546\n",
       "Name: category, dtype: int64"
      ]
     },
     "execution_count": 20,
     "metadata": {},
     "output_type": "execute_result"
    }
   ],
   "source": [
    "y_train.value_counts()"
   ]
  },
  {
   "cell_type": "code",
   "execution_count": 21,
   "metadata": {},
   "outputs": [
    {
     "data": {
      "text/plain": [
       "9124"
      ]
     },
     "execution_count": 21,
     "metadata": {},
     "output_type": "execute_result"
    }
   ],
   "source": [
    "y_train.count()"
   ]
  },
  {
   "cell_type": "code",
   "execution_count": 22,
   "metadata": {},
   "outputs": [
    {
     "data": {
      "text/plain": [
       "array([[ 30. ,   0. ,  15. ,   0. ],\n",
       "       [  0. ,   1. ,  -1. ,   0. ],\n",
       "       [  2.5,   0. ,   5. ,   0. ],\n",
       "       [  0. ,   0. , -50. ,   0.5]])"
      ]
     },
     "execution_count": 22,
     "metadata": {},
     "output_type": "execute_result"
    }
   ],
   "source": [
    "np.array([[30,0,15,0],[0,1,-1,0],[2.5,0,5,0],[0,.0,-50,.5]])"
   ]
  },
  {
   "cell_type": "code",
   "execution_count": null,
   "metadata": {},
   "outputs": [],
   "source": []
  },
  {
   "cell_type": "code",
   "execution_count": null,
   "metadata": {},
   "outputs": [],
   "source": []
  },
  {
   "cell_type": "code",
   "execution_count": 23,
   "metadata": {},
   "outputs": [],
   "source": [
    "from datetime import datetime"
   ]
  },
  {
   "cell_type": "code",
   "execution_count": null,
   "metadata": {},
   "outputs": [],
   "source": []
  },
  {
   "cell_type": "code",
   "execution_count": 24,
   "metadata": {},
   "outputs": [
    {
     "data": {
      "text/plain": [
       "Index(['ate_less', 'low_cal_foods', 'ate_less_fat', 'exercise', 'skip_meals',\n",
       "       ''diet'_foods', 'liquid_diet', 'wt_loss_program', 'rx_diet_pills',\n",
       "       'non-rx_diet_pills', 'lax_vomit', 'water', 'special_diet_wh',\n",
       "       'low_carb_wh', 'smoke', 'fruit_veg_salad', 'change_eat_habits',\n",
       "       'less_sugar', 'less_junk_fast', 'special_diet_dr', 'low_cal', 'low_fat',\n",
       "       'low_salt', 'low_sugar', 'low_fiber', 'high_fiber', 'diabetic_diet',\n",
       "       'bulking', 'low_carb_dr', 'high_protein', 'gluten_free', 'renal_kidney',\n",
       "       'other_diet', 'kcal', 'protein', 'carbs', 'sugar', 'fiber', 'total_fat',\n",
       "       'sat_fat', 'mono_fat', 'poly_fat', 'cholesterol', 'vig_work_days',\n",
       "       'mod_work_days', 'walk_bike_days', 'vig_rec_days', 'mod_rec_days'],\n",
       "      dtype='object')"
      ]
     },
     "execution_count": 24,
     "metadata": {},
     "output_type": "execute_result"
    }
   ],
   "source": [
    "X_train.columns"
   ]
  },
  {
   "cell_type": "code",
   "execution_count": 25,
   "metadata": {},
   "outputs": [],
   "source": [
    "features_wh = ['try_to_lose', 'ate_less', 'low_cal_foods', 'ate_less_fat', 'exercise',\n",
    "       'skip_meals', \"'diet'_foods\", 'liquid_diet', 'wt_loss_program',\n",
    "       'rx_diet_pills', 'non-rx_diet_pills', 'lax_vomit', 'water',\n",
    "       'special_diet_wh', 'low_carb_wh', 'smoke', 'fruit_veg_salad',\n",
    "       'change_eat_habits', 'less_sugar', 'less_junk_fast',]\n",
    "features_dr = ['special_diet_dr',\n",
    "       'low_cal', 'low_fat', 'low_salt', 'low_sugar', 'low_fiber',\n",
    "       'high_fiber', 'diabetic_diet', 'bulking', 'low_carb_dr', 'high_protein',\n",
    "       'gluten_free', 'renal_kidney', 'other_diet']\n",
    "features_paq = ['vig_work_days',\n",
    "       'mod_work_days', 'walk_bike_days', 'vig_rec_days', 'mod_rec_days']\n",
    "features_1 = ['exercise','water','ate_less','special_diet_dr','bulking','low_cal','high_protein',\n",
    "              'low_carb_dr', 'vig_work_days','mod_work_days', 'walk_bike_days', 'vig_rec_days', 'mod_rec_days']\n",
    "features_diet = ['try_to_lose','water','ate_less','special_diet_dr','bulking','low_cal','high_protein',\n",
    "              'low_carb_dr']\n",
    "features_exercise = ['exercise','vig_work_days','mod_work_days', 'walk_bike_days', 'vig_rec_days', 'mod_rec_days']"
   ]
  },
  {
   "cell_type": "markdown",
   "metadata": {},
   "source": [
    "### Run block with oversampling, features_1"
   ]
  },
  {
   "cell_type": "code",
   "execution_count": 26,
   "metadata": {},
   "outputs": [
    {
     "name": "stdout",
     "output_type": "stream",
     "text": [
      "Start Time = 13:41:11\n",
      "DTC Done = 13:41:27\n"
     ]
    }
   ],
   "source": [
    "X_train_1 = X_train[features_1]\n",
    "binarizer = Binarizer()\n",
    "X_train_1_bin = binarizer.transform(X_train_1)\n",
    "\n",
    "print(\"Start Time =\", datetime.now().strftime(\"%H:%M:%S\"))\n",
    "\n",
    "DTC_param_grid = {'max_depth':range(5,10), 'class_weight':[None,'balanced',{'Average':.3, 'Fitness':.6, 'Obese':.1}]}\n",
    "DTC, DTC_score, DTC_params, DTC_scores_df, DTC_index, DTC_val_pred, DTC_val_true, DTC_val_pred_proba, DTC_train_scores, DTC_val_scores = \\\n",
    "SamplingGridSearchCV(ROS, DecisionTreeClassifier(), X_train_1, y_train, DTC_param_grid, folds=5)\n",
    "print(\"DTC Done =\", datetime.now().strftime(\"%H:%M:%S\"))\n"
   ]
  },
  {
   "cell_type": "code",
   "execution_count": 27,
   "metadata": {},
   "outputs": [
    {
     "data": {
      "text/plain": [
       "(DecisionTreeClassifier(class_weight='balanced', max_depth=6),\n",
       " 0.24942120111805952,\n",
       " 6)"
      ]
     },
     "execution_count": 27,
     "metadata": {},
     "output_type": "execute_result"
    }
   ],
   "source": [
    "DTC, DTC_score, DTC_index"
   ]
  },
  {
   "cell_type": "code",
   "execution_count": 28,
   "metadata": {},
   "outputs": [
    {
     "data": {
      "text/html": [
       "<div>\n",
       "<style scoped>\n",
       "    .dataframe tbody tr th:only-of-type {\n",
       "        vertical-align: middle;\n",
       "    }\n",
       "\n",
       "    .dataframe tbody tr th {\n",
       "        vertical-align: top;\n",
       "    }\n",
       "\n",
       "    .dataframe thead th {\n",
       "        text-align: right;\n",
       "    }\n",
       "</style>\n",
       "<table border=\"1\" class=\"dataframe\">\n",
       "  <thead>\n",
       "    <tr style=\"text-align: right;\">\n",
       "      <th></th>\n",
       "      <th>0</th>\n",
       "      <th>1</th>\n",
       "      <th>2</th>\n",
       "      <th>3</th>\n",
       "      <th>4</th>\n",
       "      <th>5</th>\n",
       "      <th>6</th>\n",
       "      <th>7</th>\n",
       "      <th>8</th>\n",
       "      <th>9</th>\n",
       "      <th>10</th>\n",
       "      <th>11</th>\n",
       "      <th>12</th>\n",
       "      <th>13</th>\n",
       "      <th>14</th>\n",
       "    </tr>\n",
       "  </thead>\n",
       "  <tbody>\n",
       "    <tr>\n",
       "      <th>parameters</th>\n",
       "      <td>{'class_weight': None, 'max_depth': 5}</td>\n",
       "      <td>{'class_weight': None, 'max_depth': 6}</td>\n",
       "      <td>{'class_weight': None, 'max_depth': 7}</td>\n",
       "      <td>{'class_weight': None, 'max_depth': 8}</td>\n",
       "      <td>{'class_weight': None, 'max_depth': 9}</td>\n",
       "      <td>{'class_weight': 'balanced', 'max_depth': 5}</td>\n",
       "      <td>{'class_weight': 'balanced', 'max_depth': 6}</td>\n",
       "      <td>{'class_weight': 'balanced', 'max_depth': 7}</td>\n",
       "      <td>{'class_weight': 'balanced', 'max_depth': 8}</td>\n",
       "      <td>{'class_weight': 'balanced', 'max_depth': 9}</td>\n",
       "      <td>{'class_weight': {'Average': 0.3, 'Fitness': 0...</td>\n",
       "      <td>{'class_weight': {'Average': 0.3, 'Fitness': 0...</td>\n",
       "      <td>{'class_weight': {'Average': 0.3, 'Fitness': 0...</td>\n",
       "      <td>{'class_weight': {'Average': 0.3, 'Fitness': 0...</td>\n",
       "      <td>{'class_weight': {'Average': 0.3, 'Fitness': 0...</td>\n",
       "    </tr>\n",
       "    <tr>\n",
       "      <th>train</th>\n",
       "      <td>0.0330432</td>\n",
       "      <td>0.0513718</td>\n",
       "      <td>0.0709399</td>\n",
       "      <td>0.114525</td>\n",
       "      <td>0.173037</td>\n",
       "      <td>0.254374</td>\n",
       "      <td>0.285283</td>\n",
       "      <td>0.266421</td>\n",
       "      <td>0.302127</td>\n",
       "      <td>0.299871</td>\n",
       "      <td>0.148323</td>\n",
       "      <td>0.255421</td>\n",
       "      <td>0.290131</td>\n",
       "      <td>0.318876</td>\n",
       "      <td>0.345534</td>\n",
       "    </tr>\n",
       "    <tr>\n",
       "      <th>val</th>\n",
       "      <td>0.0107792</td>\n",
       "      <td>0.0249385</td>\n",
       "      <td>0.0343658</td>\n",
       "      <td>0.0428782</td>\n",
       "      <td>0.0532778</td>\n",
       "      <td>0.223456</td>\n",
       "      <td>0.249421</td>\n",
       "      <td>0.21747</td>\n",
       "      <td>0.224281</td>\n",
       "      <td>0.204543</td>\n",
       "      <td>0.0984435</td>\n",
       "      <td>0.209015</td>\n",
       "      <td>0.192787</td>\n",
       "      <td>0.177508</td>\n",
       "      <td>0.185609</td>\n",
       "    </tr>\n",
       "  </tbody>\n",
       "</table>\n",
       "</div>"
      ],
      "text/plain": [
       "                                                 0  \\\n",
       "parameters  {'class_weight': None, 'max_depth': 5}   \n",
       "train                                    0.0330432   \n",
       "val                                      0.0107792   \n",
       "\n",
       "                                                 1  \\\n",
       "parameters  {'class_weight': None, 'max_depth': 6}   \n",
       "train                                    0.0513718   \n",
       "val                                      0.0249385   \n",
       "\n",
       "                                                 2  \\\n",
       "parameters  {'class_weight': None, 'max_depth': 7}   \n",
       "train                                    0.0709399   \n",
       "val                                      0.0343658   \n",
       "\n",
       "                                                 3  \\\n",
       "parameters  {'class_weight': None, 'max_depth': 8}   \n",
       "train                                     0.114525   \n",
       "val                                      0.0428782   \n",
       "\n",
       "                                                 4  \\\n",
       "parameters  {'class_weight': None, 'max_depth': 9}   \n",
       "train                                     0.173037   \n",
       "val                                      0.0532778   \n",
       "\n",
       "                                                       5  \\\n",
       "parameters  {'class_weight': 'balanced', 'max_depth': 5}   \n",
       "train                                           0.254374   \n",
       "val                                             0.223456   \n",
       "\n",
       "                                                       6  \\\n",
       "parameters  {'class_weight': 'balanced', 'max_depth': 6}   \n",
       "train                                           0.285283   \n",
       "val                                             0.249421   \n",
       "\n",
       "                                                       7  \\\n",
       "parameters  {'class_weight': 'balanced', 'max_depth': 7}   \n",
       "train                                           0.266421   \n",
       "val                                              0.21747   \n",
       "\n",
       "                                                       8  \\\n",
       "parameters  {'class_weight': 'balanced', 'max_depth': 8}   \n",
       "train                                           0.302127   \n",
       "val                                             0.224281   \n",
       "\n",
       "                                                       9  \\\n",
       "parameters  {'class_weight': 'balanced', 'max_depth': 9}   \n",
       "train                                           0.299871   \n",
       "val                                             0.204543   \n",
       "\n",
       "                                                           10  \\\n",
       "parameters  {'class_weight': {'Average': 0.3, 'Fitness': 0...   \n",
       "train                                                0.148323   \n",
       "val                                                 0.0984435   \n",
       "\n",
       "                                                           11  \\\n",
       "parameters  {'class_weight': {'Average': 0.3, 'Fitness': 0...   \n",
       "train                                                0.255421   \n",
       "val                                                  0.209015   \n",
       "\n",
       "                                                           12  \\\n",
       "parameters  {'class_weight': {'Average': 0.3, 'Fitness': 0...   \n",
       "train                                                0.290131   \n",
       "val                                                  0.192787   \n",
       "\n",
       "                                                           13  \\\n",
       "parameters  {'class_weight': {'Average': 0.3, 'Fitness': 0...   \n",
       "train                                                0.318876   \n",
       "val                                                  0.177508   \n",
       "\n",
       "                                                           14  \n",
       "parameters  {'class_weight': {'Average': 0.3, 'Fitness': 0...  \n",
       "train                                                0.345534  \n",
       "val                                                  0.185609  "
      ]
     },
     "execution_count": 28,
     "metadata": {},
     "output_type": "execute_result"
    }
   ],
   "source": [
    "DTC_scores_df"
   ]
  },
  {
   "cell_type": "code",
   "execution_count": 29,
   "metadata": {},
   "outputs": [
    {
     "data": {
      "text/plain": [
       "array([[1105,  122,  688],\n",
       "       [ 282,  151,  113],\n",
       "       [1494,  232, 4937]])"
      ]
     },
     "execution_count": 29,
     "metadata": {},
     "output_type": "execute_result"
    }
   ],
   "source": [
    "metrics.confusion_matrix(y_train,DTC.predict(X_train[features_1]))"
   ]
  },
  {
   "cell_type": "code",
   "execution_count": 30,
   "metadata": {
    "scrolled": true
   },
   "outputs": [
    {
     "data": {
      "text/plain": [
       "array([[ 207,   50,  195],\n",
       "       [  75,   15,   34],\n",
       "       [ 385,   88, 1233]])"
      ]
     },
     "execution_count": 30,
     "metadata": {},
     "output_type": "execute_result"
    }
   ],
   "source": [
    "metrics.confusion_matrix(y_test,DTC.predict(X_test[features_1]))"
   ]
  },
  {
   "cell_type": "code",
   "execution_count": 31,
   "metadata": {},
   "outputs": [
    {
     "data": {
      "text/plain": [
       "array([0.1277022 , 0.04616303, 0.19609145, 0.02533424, 0.01305472,\n",
       "       0.01753924, 0.0101138 , 0.00742365, 0.07934662, 0.08285122,\n",
       "       0.08871168, 0.22387882, 0.08178933])"
      ]
     },
     "execution_count": 31,
     "metadata": {},
     "output_type": "execute_result"
    }
   ],
   "source": [
    "DTC.feature_importances_"
   ]
  },
  {
   "cell_type": "code",
   "execution_count": null,
   "metadata": {},
   "outputs": [],
   "source": []
  },
  {
   "cell_type": "code",
   "execution_count": 32,
   "metadata": {},
   "outputs": [],
   "source": [
    "### Run block with oversampling, all features"
   ]
  },
  {
   "cell_type": "code",
   "execution_count": 33,
   "metadata": {
    "scrolled": true
   },
   "outputs": [
    {
     "name": "stdout",
     "output_type": "stream",
     "text": [
      "Start Time = 13:41:27\n",
      "DTC Done = 13:41:43\n"
     ]
    }
   ],
   "source": [
    "X_train = X_train\n",
    "binarizer = Binarizer()\n",
    "\n",
    "print(\"Start Time =\", datetime.now().strftime(\"%H:%M:%S\"))\n",
    "\n",
    "DTC_param_grid = {'max_depth':range(5,10), 'class_weight':[None,'balanced',{'Average':.3, 'Fitness':.6, 'Obese':.1}]}\n",
    "DTC, DTC_score, DTC_params, DTC_scores_df, DTC_index, DTC_val_pred, DTC_val_true, DTC_val_pred_proba, DTC_train_scores, DTC_val_scores = \\\n",
    "SamplingGridSearchCV(ROS, DecisionTreeClassifier(), X_train_1, y_train, DTC_param_grid, folds=5)\n",
    "print(\"DTC Done =\", datetime.now().strftime(\"%H:%M:%S\"))\n"
   ]
  },
  {
   "cell_type": "code",
   "execution_count": 34,
   "metadata": {},
   "outputs": [
    {
     "data": {
      "text/plain": [
       "(DecisionTreeClassifier(class_weight='balanced', max_depth=6),\n",
       " 0.24953939149211019,\n",
       " 6)"
      ]
     },
     "execution_count": 34,
     "metadata": {},
     "output_type": "execute_result"
    }
   ],
   "source": [
    "DTC, DTC_score, DTC_index"
   ]
  },
  {
   "cell_type": "code",
   "execution_count": 35,
   "metadata": {},
   "outputs": [],
   "source": [
    "from sklearn.preprocessing import StandardScaler"
   ]
  },
  {
   "cell_type": "code",
   "execution_count": 36,
   "metadata": {},
   "outputs": [],
   "source": [
    "scaler = StandardScaler()"
   ]
  },
  {
   "cell_type": "code",
   "execution_count": 37,
   "metadata": {},
   "outputs": [],
   "source": [
    "X_train_standard = scaler.fit_transform(X_train)"
   ]
  },
  {
   "cell_type": "code",
   "execution_count": 38,
   "metadata": {},
   "outputs": [],
   "source": [
    "X_test_standard = scaler.transform(X_test)"
   ]
  },
  {
   "cell_type": "code",
   "execution_count": 39,
   "metadata": {},
   "outputs": [
    {
     "name": "stderr",
     "output_type": "stream",
     "text": [
      "/Users/allen/opt/anaconda3/envs/metis/lib/python3.8/site-packages/sklearn/linear_model/_logistic.py:1353: UserWarning: 'n_jobs' > 1 does not have any effect when 'solver' is set to 'liblinear'. Got 'n_jobs' = 8.\n",
      "  warnings.warn(\"'n_jobs' > 1 does not have any effect when\"\n",
      "/Users/allen/opt/anaconda3/envs/metis/lib/python3.8/site-packages/sklearn/linear_model/_sag.py:329: ConvergenceWarning: The max_iter was reached which means the coef_ did not converge\n",
      "  warnings.warn(\"The max_iter was reached which means \"\n",
      "/Users/allen/opt/anaconda3/envs/metis/lib/python3.8/site-packages/sklearn/linear_model/_sag.py:329: ConvergenceWarning: The max_iter was reached which means the coef_ did not converge\n",
      "  warnings.warn(\"The max_iter was reached which means \"\n",
      "/Users/allen/opt/anaconda3/envs/metis/lib/python3.8/site-packages/sklearn/linear_model/_logistic.py:1353: UserWarning: 'n_jobs' > 1 does not have any effect when 'solver' is set to 'liblinear'. Got 'n_jobs' = 8.\n",
      "  warnings.warn(\"'n_jobs' > 1 does not have any effect when\"\n",
      "/Users/allen/opt/anaconda3/envs/metis/lib/python3.8/site-packages/sklearn/linear_model/_sag.py:329: ConvergenceWarning: The max_iter was reached which means the coef_ did not converge\n",
      "  warnings.warn(\"The max_iter was reached which means \"\n",
      "/Users/allen/opt/anaconda3/envs/metis/lib/python3.8/site-packages/sklearn/linear_model/_sag.py:329: ConvergenceWarning: The max_iter was reached which means the coef_ did not converge\n",
      "  warnings.warn(\"The max_iter was reached which means \"\n",
      "/Users/allen/opt/anaconda3/envs/metis/lib/python3.8/site-packages/sklearn/linear_model/_logistic.py:1353: UserWarning: 'n_jobs' > 1 does not have any effect when 'solver' is set to 'liblinear'. Got 'n_jobs' = 8.\n",
      "  warnings.warn(\"'n_jobs' > 1 does not have any effect when\"\n",
      "/Users/allen/opt/anaconda3/envs/metis/lib/python3.8/site-packages/sklearn/linear_model/_sag.py:329: ConvergenceWarning: The max_iter was reached which means the coef_ did not converge\n",
      "  warnings.warn(\"The max_iter was reached which means \"\n",
      "/Users/allen/opt/anaconda3/envs/metis/lib/python3.8/site-packages/sklearn/linear_model/_sag.py:329: ConvergenceWarning: The max_iter was reached which means the coef_ did not converge\n",
      "  warnings.warn(\"The max_iter was reached which means \"\n",
      "/Users/allen/opt/anaconda3/envs/metis/lib/python3.8/site-packages/sklearn/linear_model/_logistic.py:1353: UserWarning: 'n_jobs' > 1 does not have any effect when 'solver' is set to 'liblinear'. Got 'n_jobs' = 8.\n",
      "  warnings.warn(\"'n_jobs' > 1 does not have any effect when\"\n",
      "/Users/allen/opt/anaconda3/envs/metis/lib/python3.8/site-packages/sklearn/linear_model/_sag.py:329: ConvergenceWarning: The max_iter was reached which means the coef_ did not converge\n",
      "  warnings.warn(\"The max_iter was reached which means \"\n",
      "/Users/allen/opt/anaconda3/envs/metis/lib/python3.8/site-packages/sklearn/linear_model/_sag.py:329: ConvergenceWarning: The max_iter was reached which means the coef_ did not converge\n",
      "  warnings.warn(\"The max_iter was reached which means \"\n",
      "/Users/allen/opt/anaconda3/envs/metis/lib/python3.8/site-packages/sklearn/linear_model/_logistic.py:1353: UserWarning: 'n_jobs' > 1 does not have any effect when 'solver' is set to 'liblinear'. Got 'n_jobs' = 8.\n",
      "  warnings.warn(\"'n_jobs' > 1 does not have any effect when\"\n",
      "/Users/allen/opt/anaconda3/envs/metis/lib/python3.8/site-packages/sklearn/linear_model/_sag.py:329: ConvergenceWarning: The max_iter was reached which means the coef_ did not converge\n",
      "  warnings.warn(\"The max_iter was reached which means \"\n",
      "/Users/allen/opt/anaconda3/envs/metis/lib/python3.8/site-packages/sklearn/linear_model/_sag.py:329: ConvergenceWarning: The max_iter was reached which means the coef_ did not converge\n",
      "  warnings.warn(\"The max_iter was reached which means \"\n",
      "/Users/allen/opt/anaconda3/envs/metis/lib/python3.8/site-packages/sklearn/linear_model/_logistic.py:1353: UserWarning: 'n_jobs' > 1 does not have any effect when 'solver' is set to 'liblinear'. Got 'n_jobs' = 8.\n",
      "  warnings.warn(\"'n_jobs' > 1 does not have any effect when\"\n",
      "/Users/allen/opt/anaconda3/envs/metis/lib/python3.8/site-packages/sklearn/linear_model/_sag.py:329: ConvergenceWarning: The max_iter was reached which means the coef_ did not converge\n",
      "  warnings.warn(\"The max_iter was reached which means \"\n",
      "/Users/allen/opt/anaconda3/envs/metis/lib/python3.8/site-packages/sklearn/linear_model/_sag.py:329: ConvergenceWarning: The max_iter was reached which means the coef_ did not converge\n",
      "  warnings.warn(\"The max_iter was reached which means \"\n",
      "/Users/allen/opt/anaconda3/envs/metis/lib/python3.8/site-packages/sklearn/linear_model/_logistic.py:1353: UserWarning: 'n_jobs' > 1 does not have any effect when 'solver' is set to 'liblinear'. Got 'n_jobs' = 8.\n",
      "  warnings.warn(\"'n_jobs' > 1 does not have any effect when\"\n",
      "/Users/allen/opt/anaconda3/envs/metis/lib/python3.8/site-packages/sklearn/linear_model/_sag.py:329: ConvergenceWarning: The max_iter was reached which means the coef_ did not converge\n",
      "  warnings.warn(\"The max_iter was reached which means \"\n",
      "/Users/allen/opt/anaconda3/envs/metis/lib/python3.8/site-packages/sklearn/linear_model/_sag.py:329: ConvergenceWarning: The max_iter was reached which means the coef_ did not converge\n",
      "  warnings.warn(\"The max_iter was reached which means \"\n",
      "/Users/allen/opt/anaconda3/envs/metis/lib/python3.8/site-packages/sklearn/linear_model/_logistic.py:1353: UserWarning: 'n_jobs' > 1 does not have any effect when 'solver' is set to 'liblinear'. Got 'n_jobs' = 8.\n",
      "  warnings.warn(\"'n_jobs' > 1 does not have any effect when\"\n",
      "/Users/allen/opt/anaconda3/envs/metis/lib/python3.8/site-packages/sklearn/linear_model/_sag.py:329: ConvergenceWarning: The max_iter was reached which means the coef_ did not converge\n",
      "  warnings.warn(\"The max_iter was reached which means \"\n",
      "/Users/allen/opt/anaconda3/envs/metis/lib/python3.8/site-packages/sklearn/linear_model/_sag.py:329: ConvergenceWarning: The max_iter was reached which means the coef_ did not converge\n",
      "  warnings.warn(\"The max_iter was reached which means \"\n",
      "/Users/allen/opt/anaconda3/envs/metis/lib/python3.8/site-packages/sklearn/linear_model/_logistic.py:1353: UserWarning: 'n_jobs' > 1 does not have any effect when 'solver' is set to 'liblinear'. Got 'n_jobs' = 8.\n",
      "  warnings.warn(\"'n_jobs' > 1 does not have any effect when\"\n",
      "/Users/allen/opt/anaconda3/envs/metis/lib/python3.8/site-packages/sklearn/linear_model/_sag.py:329: ConvergenceWarning: The max_iter was reached which means the coef_ did not converge\n",
      "  warnings.warn(\"The max_iter was reached which means \"\n",
      "/Users/allen/opt/anaconda3/envs/metis/lib/python3.8/site-packages/sklearn/linear_model/_sag.py:329: ConvergenceWarning: The max_iter was reached which means the coef_ did not converge\n",
      "  warnings.warn(\"The max_iter was reached which means \"\n",
      "/Users/allen/opt/anaconda3/envs/metis/lib/python3.8/site-packages/sklearn/linear_model/_logistic.py:1353: UserWarning: 'n_jobs' > 1 does not have any effect when 'solver' is set to 'liblinear'. Got 'n_jobs' = 8.\n",
      "  warnings.warn(\"'n_jobs' > 1 does not have any effect when\"\n",
      "/Users/allen/opt/anaconda3/envs/metis/lib/python3.8/site-packages/sklearn/linear_model/_sag.py:329: ConvergenceWarning: The max_iter was reached which means the coef_ did not converge\n",
      "  warnings.warn(\"The max_iter was reached which means \"\n",
      "/Users/allen/opt/anaconda3/envs/metis/lib/python3.8/site-packages/sklearn/linear_model/_sag.py:329: ConvergenceWarning: The max_iter was reached which means the coef_ did not converge\n",
      "  warnings.warn(\"The max_iter was reached which means \"\n",
      "/Users/allen/opt/anaconda3/envs/metis/lib/python3.8/site-packages/sklearn/linear_model/_logistic.py:1353: UserWarning: 'n_jobs' > 1 does not have any effect when 'solver' is set to 'liblinear'. Got 'n_jobs' = 8.\n",
      "  warnings.warn(\"'n_jobs' > 1 does not have any effect when\"\n",
      "/Users/allen/opt/anaconda3/envs/metis/lib/python3.8/site-packages/sklearn/linear_model/_sag.py:329: ConvergenceWarning: The max_iter was reached which means the coef_ did not converge\n",
      "  warnings.warn(\"The max_iter was reached which means \"\n",
      "/Users/allen/opt/anaconda3/envs/metis/lib/python3.8/site-packages/sklearn/linear_model/_sag.py:329: ConvergenceWarning: The max_iter was reached which means the coef_ did not converge\n",
      "  warnings.warn(\"The max_iter was reached which means \"\n"
     ]
    },
    {
     "name": "stderr",
     "output_type": "stream",
     "text": [
      "/Users/allen/opt/anaconda3/envs/metis/lib/python3.8/site-packages/sklearn/linear_model/_logistic.py:1353: UserWarning: 'n_jobs' > 1 does not have any effect when 'solver' is set to 'liblinear'. Got 'n_jobs' = 8.\n",
      "  warnings.warn(\"'n_jobs' > 1 does not have any effect when\"\n",
      "/Users/allen/opt/anaconda3/envs/metis/lib/python3.8/site-packages/sklearn/linear_model/_sag.py:329: ConvergenceWarning: The max_iter was reached which means the coef_ did not converge\n",
      "  warnings.warn(\"The max_iter was reached which means \"\n",
      "/Users/allen/opt/anaconda3/envs/metis/lib/python3.8/site-packages/sklearn/linear_model/_sag.py:329: ConvergenceWarning: The max_iter was reached which means the coef_ did not converge\n",
      "  warnings.warn(\"The max_iter was reached which means \"\n",
      "/Users/allen/opt/anaconda3/envs/metis/lib/python3.8/site-packages/sklearn/linear_model/_logistic.py:1353: UserWarning: 'n_jobs' > 1 does not have any effect when 'solver' is set to 'liblinear'. Got 'n_jobs' = 8.\n",
      "  warnings.warn(\"'n_jobs' > 1 does not have any effect when\"\n",
      "/Users/allen/opt/anaconda3/envs/metis/lib/python3.8/site-packages/sklearn/linear_model/_sag.py:329: ConvergenceWarning: The max_iter was reached which means the coef_ did not converge\n",
      "  warnings.warn(\"The max_iter was reached which means \"\n",
      "/Users/allen/opt/anaconda3/envs/metis/lib/python3.8/site-packages/sklearn/linear_model/_sag.py:329: ConvergenceWarning: The max_iter was reached which means the coef_ did not converge\n",
      "  warnings.warn(\"The max_iter was reached which means \"\n",
      "/Users/allen/opt/anaconda3/envs/metis/lib/python3.8/site-packages/sklearn/linear_model/_logistic.py:1353: UserWarning: 'n_jobs' > 1 does not have any effect when 'solver' is set to 'liblinear'. Got 'n_jobs' = 8.\n",
      "  warnings.warn(\"'n_jobs' > 1 does not have any effect when\"\n",
      "/Users/allen/opt/anaconda3/envs/metis/lib/python3.8/site-packages/sklearn/linear_model/_sag.py:329: ConvergenceWarning: The max_iter was reached which means the coef_ did not converge\n",
      "  warnings.warn(\"The max_iter was reached which means \"\n",
      "/Users/allen/opt/anaconda3/envs/metis/lib/python3.8/site-packages/sklearn/linear_model/_sag.py:329: ConvergenceWarning: The max_iter was reached which means the coef_ did not converge\n",
      "  warnings.warn(\"The max_iter was reached which means \"\n",
      "/Users/allen/opt/anaconda3/envs/metis/lib/python3.8/site-packages/sklearn/linear_model/_logistic.py:1353: UserWarning: 'n_jobs' > 1 does not have any effect when 'solver' is set to 'liblinear'. Got 'n_jobs' = 8.\n",
      "  warnings.warn(\"'n_jobs' > 1 does not have any effect when\"\n",
      "/Users/allen/opt/anaconda3/envs/metis/lib/python3.8/site-packages/sklearn/linear_model/_sag.py:329: ConvergenceWarning: The max_iter was reached which means the coef_ did not converge\n",
      "  warnings.warn(\"The max_iter was reached which means \"\n",
      "/Users/allen/opt/anaconda3/envs/metis/lib/python3.8/site-packages/sklearn/linear_model/_sag.py:329: ConvergenceWarning: The max_iter was reached which means the coef_ did not converge\n",
      "  warnings.warn(\"The max_iter was reached which means \"\n"
     ]
    },
    {
     "name": "stdout",
     "output_type": "stream",
     "text": [
      "LR done = 13:43:42\n"
     ]
    }
   ],
   "source": [
    "LR_param_grid = {'class_weight':[None,'balanced',{'Average':.3, 'Fitness':.6, 'Obese':.1}],'solver':['lbfgs', 'liblinear','sag','saga']}\n",
    "\n",
    "LR = LogisticRegression()\n",
    "LR = LR.set_params(max_iter=300, n_jobs=-1)\n",
    "\n",
    "\n",
    "LR, LR_score, LR_params, LR_scores_df, LR_index, LR_val_pred, LR_val_true, LR_val_pred_proba, LR_train_scores, LR_val_scores = \\\n",
    "SamplingGridSearchCV(ROS, LR, X_train_standard, y_train, LR_param_grid, folds=5)\n",
    "print(\"LR done =\", datetime.now().strftime(\"%H:%M:%S\"))"
   ]
  },
  {
   "cell_type": "code",
   "execution_count": 40,
   "metadata": {},
   "outputs": [
    {
     "data": {
      "text/plain": [
       "(LogisticRegression(class_weight='balanced', max_iter=300, n_jobs=-1,\n",
       "                    solver='liblinear'),\n",
       " 0.2928639911631483,\n",
       " {'class_weight': 'balanced', 'solver': 'liblinear'})"
      ]
     },
     "execution_count": 40,
     "metadata": {},
     "output_type": "execute_result"
    }
   ],
   "source": [
    "LR, LR_score, LR_params"
   ]
  },
  {
   "cell_type": "code",
   "execution_count": 41,
   "metadata": {
    "scrolled": true
   },
   "outputs": [
    {
     "data": {
      "text/html": [
       "<div>\n",
       "<style scoped>\n",
       "    .dataframe tbody tr th:only-of-type {\n",
       "        vertical-align: middle;\n",
       "    }\n",
       "\n",
       "    .dataframe tbody tr th {\n",
       "        vertical-align: top;\n",
       "    }\n",
       "\n",
       "    .dataframe thead th {\n",
       "        text-align: right;\n",
       "    }\n",
       "</style>\n",
       "<table border=\"1\" class=\"dataframe\">\n",
       "  <thead>\n",
       "    <tr style=\"text-align: right;\">\n",
       "      <th></th>\n",
       "      <th>0</th>\n",
       "      <th>1</th>\n",
       "      <th>2</th>\n",
       "      <th>3</th>\n",
       "      <th>4</th>\n",
       "      <th>5</th>\n",
       "      <th>6</th>\n",
       "      <th>7</th>\n",
       "      <th>8</th>\n",
       "      <th>9</th>\n",
       "      <th>10</th>\n",
       "      <th>11</th>\n",
       "    </tr>\n",
       "  </thead>\n",
       "  <tbody>\n",
       "    <tr>\n",
       "      <th>parameters</th>\n",
       "      <td>{'class_weight': None, 'solver': 'lbfgs'}</td>\n",
       "      <td>{'class_weight': None, 'solver': 'liblinear'}</td>\n",
       "      <td>{'class_weight': None, 'solver': 'sag'}</td>\n",
       "      <td>{'class_weight': None, 'solver': 'saga'}</td>\n",
       "      <td>{'class_weight': 'balanced', 'solver': 'lbfgs'}</td>\n",
       "      <td>{'class_weight': 'balanced', 'solver': 'liblin...</td>\n",
       "      <td>{'class_weight': 'balanced', 'solver': 'sag'}</td>\n",
       "      <td>{'class_weight': 'balanced', 'solver': 'saga'}</td>\n",
       "      <td>{'class_weight': {'Average': 0.3, 'Fitness': 0...</td>\n",
       "      <td>{'class_weight': {'Average': 0.3, 'Fitness': 0...</td>\n",
       "      <td>{'class_weight': {'Average': 0.3, 'Fitness': 0...</td>\n",
       "      <td>{'class_weight': {'Average': 0.3, 'Fitness': 0...</td>\n",
       "    </tr>\n",
       "    <tr>\n",
       "      <th>train</th>\n",
       "      <td>0.114945</td>\n",
       "      <td>0.0785028</td>\n",
       "      <td>0.111072</td>\n",
       "      <td>0.110403</td>\n",
       "      <td>0.274054</td>\n",
       "      <td>0.309834</td>\n",
       "      <td>0.274174</td>\n",
       "      <td>0.273891</td>\n",
       "      <td>0.2919</td>\n",
       "      <td>0.193131</td>\n",
       "      <td>0.28973</td>\n",
       "      <td>0.285826</td>\n",
       "    </tr>\n",
       "    <tr>\n",
       "      <th>val</th>\n",
       "      <td>0.101301</td>\n",
       "      <td>0.064699</td>\n",
       "      <td>0.103997</td>\n",
       "      <td>0.104109</td>\n",
       "      <td>0.259757</td>\n",
       "      <td>0.292864</td>\n",
       "      <td>0.257621</td>\n",
       "      <td>0.256156</td>\n",
       "      <td>0.264432</td>\n",
       "      <td>0.174885</td>\n",
       "      <td>0.26422</td>\n",
       "      <td>0.264064</td>\n",
       "    </tr>\n",
       "  </tbody>\n",
       "</table>\n",
       "</div>"
      ],
      "text/plain": [
       "                                                    0  \\\n",
       "parameters  {'class_weight': None, 'solver': 'lbfgs'}   \n",
       "train                                        0.114945   \n",
       "val                                          0.101301   \n",
       "\n",
       "                                                        1  \\\n",
       "parameters  {'class_weight': None, 'solver': 'liblinear'}   \n",
       "train                                           0.0785028   \n",
       "val                                              0.064699   \n",
       "\n",
       "                                                  2  \\\n",
       "parameters  {'class_weight': None, 'solver': 'sag'}   \n",
       "train                                      0.111072   \n",
       "val                                        0.103997   \n",
       "\n",
       "                                                   3  \\\n",
       "parameters  {'class_weight': None, 'solver': 'saga'}   \n",
       "train                                       0.110403   \n",
       "val                                         0.104109   \n",
       "\n",
       "                                                          4  \\\n",
       "parameters  {'class_weight': 'balanced', 'solver': 'lbfgs'}   \n",
       "train                                              0.274054   \n",
       "val                                                0.259757   \n",
       "\n",
       "                                                            5  \\\n",
       "parameters  {'class_weight': 'balanced', 'solver': 'liblin...   \n",
       "train                                                0.309834   \n",
       "val                                                  0.292864   \n",
       "\n",
       "                                                        6  \\\n",
       "parameters  {'class_weight': 'balanced', 'solver': 'sag'}   \n",
       "train                                            0.274174   \n",
       "val                                              0.257621   \n",
       "\n",
       "                                                         7  \\\n",
       "parameters  {'class_weight': 'balanced', 'solver': 'saga'}   \n",
       "train                                             0.273891   \n",
       "val                                               0.256156   \n",
       "\n",
       "                                                            8  \\\n",
       "parameters  {'class_weight': {'Average': 0.3, 'Fitness': 0...   \n",
       "train                                                  0.2919   \n",
       "val                                                  0.264432   \n",
       "\n",
       "                                                            9  \\\n",
       "parameters  {'class_weight': {'Average': 0.3, 'Fitness': 0...   \n",
       "train                                                0.193131   \n",
       "val                                                  0.174885   \n",
       "\n",
       "                                                           10  \\\n",
       "parameters  {'class_weight': {'Average': 0.3, 'Fitness': 0...   \n",
       "train                                                 0.28973   \n",
       "val                                                   0.26422   \n",
       "\n",
       "                                                           11  \n",
       "parameters  {'class_weight': {'Average': 0.3, 'Fitness': 0...  \n",
       "train                                                0.285826  \n",
       "val                                                  0.264064  "
      ]
     },
     "execution_count": 41,
     "metadata": {},
     "output_type": "execute_result"
    }
   ],
   "source": [
    "LR_scores_df"
   ]
  },
  {
   "cell_type": "code",
   "execution_count": 42,
   "metadata": {},
   "outputs": [
    {
     "data": {
      "image/png": "[encoded data removed]",
      "text/plain": [
       "<Figure size 1080x576 with 2 Axes>"
      ]
     },
     "metadata": {},
     "output_type": "display_data"
    }
   ],
   "source": [
    "fig, ax = plt.subplots(figsize=(15,8))\n",
    "x= sns.heatmap(LR.coef_.transpose(),yticklabels=X_train.columns,xticklabels=['Average','Fitness','Obese'])\n",
    "x.set_xlabel(\"Fitness Level\")\n",
    "x.set_ylabel(\"Lifestyle\",fontsize=12);"
   ]
  },
  {
   "cell_type": "markdown",
   "metadata": {},
   "source": [
    "## Final Model"
   ]
  },
  {
   "cell_type": "code",
   "execution_count": 43,
   "metadata": {},
   "outputs": [],
   "source": [
    "LR = LogisticRegression(max_iter=1000,class_weight='balanced',solver='liblinear')\n",
    "Champ_model = LR.fit(X_train_standard,y_train)"
   ]
  },
  {
   "cell_type": "code",
   "execution_count": 44,
   "metadata": {},
   "outputs": [
    {
     "data": {
      "text/plain": [
       "LogisticRegression(class_weight='balanced', max_iter=1000, solver='liblinear')"
      ]
     },
     "execution_count": 44,
     "metadata": {},
     "output_type": "execute_result"
    }
   ],
   "source": [
    "Champ_model"
   ]
  },
  {
   "cell_type": "code",
   "execution_count": 45,
   "metadata": {
    "scrolled": true
   },
   "outputs": [],
   "source": [
    "conf_matrix = pd.DataFrame(metrics.confusion_matrix(y_test,Champ_model.predict(X_test_standard)))"
   ]
  },
  {
   "cell_type": "code",
   "execution_count": 46,
   "metadata": {},
   "outputs": [],
   "source": [
    "cat_dict = {0:'Average',1:'Fitness',2:'Obese'}\n",
    "conf_matrix = conf_matrix.rename(columns=cat_dict,index=cat_dict)"
   ]
  },
  {
   "cell_type": "code",
   "execution_count": 47,
   "metadata": {},
   "outputs": [],
   "source": [
    "order = ['Obese','Average','Fitness']\n",
    "conf_matrix = conf_matrix.reindex(index = order, columns=order)"
   ]
  },
  {
   "cell_type": "code",
   "execution_count": 48,
   "metadata": {},
   "outputs": [
    {
     "data": {
      "text/html": [
       "<div>\n",
       "<style scoped>\n",
       "    .dataframe tbody tr th:only-of-type {\n",
       "        vertical-align: middle;\n",
       "    }\n",
       "\n",
       "    .dataframe tbody tr th {\n",
       "        vertical-align: top;\n",
       "    }\n",
       "\n",
       "    .dataframe thead th {\n",
       "        text-align: right;\n",
       "    }\n",
       "</style>\n",
       "<table border=\"1\" class=\"dataframe\">\n",
       "  <thead>\n",
       "    <tr style=\"text-align: right;\">\n",
       "      <th></th>\n",
       "      <th>Obese</th>\n",
       "      <th>Average</th>\n",
       "      <th>Fitness</th>\n",
       "    </tr>\n",
       "  </thead>\n",
       "  <tbody>\n",
       "    <tr>\n",
       "      <th>Obese</th>\n",
       "      <td>1502</td>\n",
       "      <td>138</td>\n",
       "      <td>66</td>\n",
       "    </tr>\n",
       "    <tr>\n",
       "      <th>Average</th>\n",
       "      <td>275</td>\n",
       "      <td>108</td>\n",
       "      <td>69</td>\n",
       "    </tr>\n",
       "    <tr>\n",
       "      <th>Fitness</th>\n",
       "      <td>55</td>\n",
       "      <td>33</td>\n",
       "      <td>36</td>\n",
       "    </tr>\n",
       "  </tbody>\n",
       "</table>\n",
       "</div>"
      ],
      "text/plain": [
       "         Obese  Average  Fitness\n",
       "Obese     1502      138       66\n",
       "Average    275      108       69\n",
       "Fitness     55       33       36"
      ]
     },
     "execution_count": 48,
     "metadata": {},
     "output_type": "execute_result"
    }
   ],
   "source": [
    "conf_matrix"
   ]
  },
  {
   "cell_type": "code",
   "execution_count": 49,
   "metadata": {},
   "outputs": [
    {
     "data": {
      "text/plain": [
       "{'Average': {'precision': 0.3870967741935484,\n",
       "  'recall': 0.23893805309734514,\n",
       "  'f1-score': 0.2954856361149111,\n",
       "  'support': 452},\n",
       " 'Fitness': {'precision': 0.21052631578947367,\n",
       "  'recall': 0.2903225806451613,\n",
       "  'f1-score': 0.24406779661016953,\n",
       "  'support': 124},\n",
       " 'Obese': {'precision': 0.8198689956331878,\n",
       "  'recall': 0.88042203985932,\n",
       "  'f1-score': 0.8490672696438666,\n",
       "  'support': 1706},\n",
       " 'accuracy': 0.7212971078001753,\n",
       " 'macro avg': {'precision': 0.47249736187207,\n",
       "  'recall': 0.46989422453394214,\n",
       "  'f1-score': 0.46287356745631575,\n",
       "  'support': 2282},\n",
       " 'weighted avg': {'precision': 0.7010383486606473,\n",
       "  'recall': 0.7212971078001753,\n",
       "  'f1-score': 0.706543679367238,\n",
       "  'support': 2282}}"
      ]
     },
     "execution_count": 49,
     "metadata": {},
     "output_type": "execute_result"
    }
   ],
   "source": [
    "classification_report(y_test, Champ_model.predict(X_test_standard), target_names = ['Average','Fitness','Obese'], output_dict = True, zero_division=0)"
   ]
  },
  {
   "cell_type": "code",
   "execution_count": 50,
   "metadata": {},
   "outputs": [],
   "source": [
    "coef_df = pd.DataFrame(Champ_model.coef_)\n",
    "coef_df = coef_df.transpose()\n",
    "coef_df = pd.concat([pd.Series(X_train.columns),coef_df],axis =1, ignore_index=True,sort=False)\n",
    "coef_df = coef_df.rename(columns={0:\"Lifestyle\",1:'Average',2:'Fitness',3:'Obese'})\n",
    "coef_df = coef_df.set_index('Lifestyle')"
   ]
  },
  {
   "cell_type": "code",
   "execution_count": 51,
   "metadata": {},
   "outputs": [
    {
     "data": {
      "text/plain": [
       "array([-1.07185922, -1.87676644,  0.47288693])"
      ]
     },
     "execution_count": 51,
     "metadata": {},
     "output_type": "execute_result"
    }
   ],
   "source": [
    "Champ_model.intercept_"
   ]
  },
  {
   "cell_type": "code",
   "execution_count": 52,
   "metadata": {},
   "outputs": [],
   "source": [
    "coef_df = coef_df[['Obese','Average','Fitness']]"
   ]
  },
  {
   "cell_type": "code",
   "execution_count": 53,
   "metadata": {},
   "outputs": [
    {
     "data": {
      "text/html": [
       "<div>\n",
       "<style scoped>\n",
       "    .dataframe tbody tr th:only-of-type {\n",
       "        vertical-align: middle;\n",
       "    }\n",
       "\n",
       "    .dataframe tbody tr th {\n",
       "        vertical-align: top;\n",
       "    }\n",
       "\n",
       "    .dataframe thead th {\n",
       "        text-align: right;\n",
       "    }\n",
       "</style>\n",
       "<table border=\"1\" class=\"dataframe\">\n",
       "  <thead>\n",
       "    <tr style=\"text-align: right;\">\n",
       "      <th></th>\n",
       "      <th>Obese</th>\n",
       "      <th>Average</th>\n",
       "      <th>Fitness</th>\n",
       "    </tr>\n",
       "    <tr>\n",
       "      <th>Lifestyle</th>\n",
       "      <th></th>\n",
       "      <th></th>\n",
       "      <th></th>\n",
       "    </tr>\n",
       "  </thead>\n",
       "  <tbody>\n",
       "    <tr>\n",
       "      <th>total_fat</th>\n",
       "      <td>1.611571</td>\n",
       "      <td>-1.260094</td>\n",
       "      <td>-2.596882</td>\n",
       "    </tr>\n",
       "    <tr>\n",
       "      <th>rx_diet_pills</th>\n",
       "      <td>0.098430</td>\n",
       "      <td>-0.073993</td>\n",
       "      <td>-0.573147</td>\n",
       "    </tr>\n",
       "    <tr>\n",
       "      <th>exercise</th>\n",
       "      <td>0.372323</td>\n",
       "      <td>-0.251639</td>\n",
       "      <td>-0.506196</td>\n",
       "    </tr>\n",
       "    <tr>\n",
       "      <th>special_diet_dr</th>\n",
       "      <td>0.127531</td>\n",
       "      <td>-0.058877</td>\n",
       "      <td>-0.380471</td>\n",
       "    </tr>\n",
       "    <tr>\n",
       "      <th>ate_less</th>\n",
       "      <td>0.275719</td>\n",
       "      <td>-0.231858</td>\n",
       "      <td>-0.366320</td>\n",
       "    </tr>\n",
       "    <tr>\n",
       "      <th>smoke</th>\n",
       "      <td>-0.007469</td>\n",
       "      <td>0.018428</td>\n",
       "      <td>-0.355948</td>\n",
       "    </tr>\n",
       "    <tr>\n",
       "      <th>fiber</th>\n",
       "      <td>0.075952</td>\n",
       "      <td>0.012158</td>\n",
       "      <td>-0.282907</td>\n",
       "    </tr>\n",
       "    <tr>\n",
       "      <th>wt_loss_program</th>\n",
       "      <td>0.120529</td>\n",
       "      <td>-0.106998</td>\n",
       "      <td>-0.193332</td>\n",
       "    </tr>\n",
       "    <tr>\n",
       "      <th>high_fiber</th>\n",
       "      <td>0.020691</td>\n",
       "      <td>-0.005363</td>\n",
       "      <td>-0.182893</td>\n",
       "    </tr>\n",
       "    <tr>\n",
       "      <th>water</th>\n",
       "      <td>0.127289</td>\n",
       "      <td>-0.097283</td>\n",
       "      <td>-0.153447</td>\n",
       "    </tr>\n",
       "    <tr>\n",
       "      <th>cholesterol</th>\n",
       "      <td>0.072245</td>\n",
       "      <td>-0.027311</td>\n",
       "      <td>-0.147494</td>\n",
       "    </tr>\n",
       "    <tr>\n",
       "      <th>skip_meals</th>\n",
       "      <td>0.100926</td>\n",
       "      <td>-0.086651</td>\n",
       "      <td>-0.132890</td>\n",
       "    </tr>\n",
       "    <tr>\n",
       "      <th>other_diet</th>\n",
       "      <td>-0.030142</td>\n",
       "      <td>0.036551</td>\n",
       "      <td>-0.110898</td>\n",
       "    </tr>\n",
       "    <tr>\n",
       "      <th>low_carb_wh</th>\n",
       "      <td>-0.013853</td>\n",
       "      <td>0.035348</td>\n",
       "      <td>-0.102303</td>\n",
       "    </tr>\n",
       "    <tr>\n",
       "      <th>change_eat_habits</th>\n",
       "      <td>0.056524</td>\n",
       "      <td>-0.045417</td>\n",
       "      <td>-0.100810</td>\n",
       "    </tr>\n",
       "    <tr>\n",
       "      <th>fruit_veg_salad</th>\n",
       "      <td>0.074871</td>\n",
       "      <td>-0.053660</td>\n",
       "      <td>-0.087384</td>\n",
       "    </tr>\n",
       "    <tr>\n",
       "      <th>non-rx_diet_pills</th>\n",
       "      <td>0.010049</td>\n",
       "      <td>-0.000438</td>\n",
       "      <td>-0.070638</td>\n",
       "    </tr>\n",
       "    <tr>\n",
       "      <th>diabetic_diet</th>\n",
       "      <td>-0.008028</td>\n",
       "      <td>0.002417</td>\n",
       "      <td>-0.061955</td>\n",
       "    </tr>\n",
       "    <tr>\n",
       "      <th>low_fiber</th>\n",
       "      <td>0.069908</td>\n",
       "      <td>-0.067221</td>\n",
       "      <td>-0.057624</td>\n",
       "    </tr>\n",
       "    <tr>\n",
       "      <th>sugar</th>\n",
       "      <td>0.010078</td>\n",
       "      <td>-0.005326</td>\n",
       "      <td>-0.056219</td>\n",
       "    </tr>\n",
       "    <tr>\n",
       "      <th>mod_work_days</th>\n",
       "      <td>0.021640</td>\n",
       "      <td>-0.005079</td>\n",
       "      <td>-0.045649</td>\n",
       "    </tr>\n",
       "    <tr>\n",
       "      <th>less_junk_fast</th>\n",
       "      <td>-0.005850</td>\n",
       "      <td>0.020304</td>\n",
       "      <td>-0.029918</td>\n",
       "    </tr>\n",
       "    <tr>\n",
       "      <th>low_cal</th>\n",
       "      <td>0.118500</td>\n",
       "      <td>-0.125992</td>\n",
       "      <td>-0.027429</td>\n",
       "    </tr>\n",
       "    <tr>\n",
       "      <th>low_cal_foods</th>\n",
       "      <td>-0.037282</td>\n",
       "      <td>0.033616</td>\n",
       "      <td>-0.000700</td>\n",
       "    </tr>\n",
       "    <tr>\n",
       "      <th>low_fat</th>\n",
       "      <td>0.032491</td>\n",
       "      <td>-0.040607</td>\n",
       "      <td>0.009159</td>\n",
       "    </tr>\n",
       "    <tr>\n",
       "      <th>'diet'_foods</th>\n",
       "      <td>0.061782</td>\n",
       "      <td>-0.071127</td>\n",
       "      <td>0.013815</td>\n",
       "    </tr>\n",
       "    <tr>\n",
       "      <th>mod_rec_days</th>\n",
       "      <td>-0.037477</td>\n",
       "      <td>0.024992</td>\n",
       "      <td>0.014483</td>\n",
       "    </tr>\n",
       "    <tr>\n",
       "      <th>special_diet_wh</th>\n",
       "      <td>-0.008169</td>\n",
       "      <td>0.003809</td>\n",
       "      <td>0.024291</td>\n",
       "    </tr>\n",
       "    <tr>\n",
       "      <th>ate_less_fat</th>\n",
       "      <td>0.042595</td>\n",
       "      <td>-0.046029</td>\n",
       "      <td>0.030368</td>\n",
       "    </tr>\n",
       "    <tr>\n",
       "      <th>less_sugar</th>\n",
       "      <td>0.027449</td>\n",
       "      <td>-0.035747</td>\n",
       "      <td>0.033198</td>\n",
       "    </tr>\n",
       "    <tr>\n",
       "      <th>gluten_free</th>\n",
       "      <td>-0.058634</td>\n",
       "      <td>0.049515</td>\n",
       "      <td>0.040914</td>\n",
       "    </tr>\n",
       "    <tr>\n",
       "      <th>lax_vomit</th>\n",
       "      <td>0.079893</td>\n",
       "      <td>-0.126966</td>\n",
       "      <td>0.059997</td>\n",
       "    </tr>\n",
       "    <tr>\n",
       "      <th>renal_kidney</th>\n",
       "      <td>0.007830</td>\n",
       "      <td>-0.162408</td>\n",
       "      <td>0.066966</td>\n",
       "    </tr>\n",
       "    <tr>\n",
       "      <th>kcal</th>\n",
       "      <td>-0.589174</td>\n",
       "      <td>0.561937</td>\n",
       "      <td>0.071022</td>\n",
       "    </tr>\n",
       "    <tr>\n",
       "      <th>low_carb_dr</th>\n",
       "      <td>0.037588</td>\n",
       "      <td>-0.057052</td>\n",
       "      <td>0.083674</td>\n",
       "    </tr>\n",
       "    <tr>\n",
       "      <th>low_sugar</th>\n",
       "      <td>-0.038614</td>\n",
       "      <td>0.020321</td>\n",
       "      <td>0.105606</td>\n",
       "    </tr>\n",
       "    <tr>\n",
       "      <th>low_salt</th>\n",
       "      <td>-0.003250</td>\n",
       "      <td>-0.023118</td>\n",
       "      <td>0.116620</td>\n",
       "    </tr>\n",
       "    <tr>\n",
       "      <th>liquid_diet</th>\n",
       "      <td>0.036946</td>\n",
       "      <td>-0.074668</td>\n",
       "      <td>0.144976</td>\n",
       "    </tr>\n",
       "    <tr>\n",
       "      <th>high_protein</th>\n",
       "      <td>-0.037903</td>\n",
       "      <td>-0.005858</td>\n",
       "      <td>0.155646</td>\n",
       "    </tr>\n",
       "    <tr>\n",
       "      <th>vig_work_days</th>\n",
       "      <td>-0.130576</td>\n",
       "      <td>0.076980</td>\n",
       "      <td>0.175565</td>\n",
       "    </tr>\n",
       "    <tr>\n",
       "      <th>bulking</th>\n",
       "      <td>-0.165868</td>\n",
       "      <td>-0.017842</td>\n",
       "      <td>0.196523</td>\n",
       "    </tr>\n",
       "    <tr>\n",
       "      <th>walk_bike_days</th>\n",
       "      <td>-0.162134</td>\n",
       "      <td>0.102742</td>\n",
       "      <td>0.218055</td>\n",
       "    </tr>\n",
       "    <tr>\n",
       "      <th>protein</th>\n",
       "      <td>-0.208003</td>\n",
       "      <td>0.153103</td>\n",
       "      <td>0.220269</td>\n",
       "    </tr>\n",
       "    <tr>\n",
       "      <th>carbs</th>\n",
       "      <td>0.165127</td>\n",
       "      <td>-0.298510</td>\n",
       "      <td>0.383781</td>\n",
       "    </tr>\n",
       "    <tr>\n",
       "      <th>vig_rec_days</th>\n",
       "      <td>-0.648073</td>\n",
       "      <td>0.439516</td>\n",
       "      <td>0.605633</td>\n",
       "    </tr>\n",
       "    <tr>\n",
       "      <th>poly_fat</th>\n",
       "      <td>-0.443482</td>\n",
       "      <td>0.356567</td>\n",
       "      <td>0.708734</td>\n",
       "    </tr>\n",
       "    <tr>\n",
       "      <th>sat_fat</th>\n",
       "      <td>-0.425198</td>\n",
       "      <td>0.261446</td>\n",
       "      <td>1.047432</td>\n",
       "    </tr>\n",
       "    <tr>\n",
       "      <th>mono_fat</th>\n",
       "      <td>-0.595848</td>\n",
       "      <td>0.461422</td>\n",
       "      <td>1.088846</td>\n",
       "    </tr>\n",
       "  </tbody>\n",
       "</table>\n",
       "</div>"
      ],
      "text/plain": [
       "                      Obese   Average   Fitness\n",
       "Lifestyle                                      \n",
       "total_fat          1.611571 -1.260094 -2.596882\n",
       "rx_diet_pills      0.098430 -0.073993 -0.573147\n",
       "exercise           0.372323 -0.251639 -0.506196\n",
       "special_diet_dr    0.127531 -0.058877 -0.380471\n",
       "ate_less           0.275719 -0.231858 -0.366320\n",
       "smoke             -0.007469  0.018428 -0.355948\n",
       "fiber              0.075952  0.012158 -0.282907\n",
       "wt_loss_program    0.120529 -0.106998 -0.193332\n",
       "high_fiber         0.020691 -0.005363 -0.182893\n",
       "water              0.127289 -0.097283 -0.153447\n",
       "cholesterol        0.072245 -0.027311 -0.147494\n",
       "skip_meals         0.100926 -0.086651 -0.132890\n",
       "other_diet        -0.030142  0.036551 -0.110898\n",
       "low_carb_wh       -0.013853  0.035348 -0.102303\n",
       "change_eat_habits  0.056524 -0.045417 -0.100810\n",
       "fruit_veg_salad    0.074871 -0.053660 -0.087384\n",
       "non-rx_diet_pills  0.010049 -0.000438 -0.070638\n",
       "diabetic_diet     -0.008028  0.002417 -0.061955\n",
       "low_fiber          0.069908 -0.067221 -0.057624\n",
       "sugar              0.010078 -0.005326 -0.056219\n",
       "mod_work_days      0.021640 -0.005079 -0.045649\n",
       "less_junk_fast    -0.005850  0.020304 -0.029918\n",
       "low_cal            0.118500 -0.125992 -0.027429\n",
       "low_cal_foods     -0.037282  0.033616 -0.000700\n",
       "low_fat            0.032491 -0.040607  0.009159\n",
       "'diet'_foods       0.061782 -0.071127  0.013815\n",
       "mod_rec_days      -0.037477  0.024992  0.014483\n",
       "special_diet_wh   -0.008169  0.003809  0.024291\n",
       "ate_less_fat       0.042595 -0.046029  0.030368\n",
       "less_sugar         0.027449 -0.035747  0.033198\n",
       "gluten_free       -0.058634  0.049515  0.040914\n",
       "lax_vomit          0.079893 -0.126966  0.059997\n",
       "renal_kidney       0.007830 -0.162408  0.066966\n",
       "kcal              -0.589174  0.561937  0.071022\n",
       "low_carb_dr        0.037588 -0.057052  0.083674\n",
       "low_sugar         -0.038614  0.020321  0.105606\n",
       "low_salt          -0.003250 -0.023118  0.116620\n",
       "liquid_diet        0.036946 -0.074668  0.144976\n",
       "high_protein      -0.037903 -0.005858  0.155646\n",
       "vig_work_days     -0.130576  0.076980  0.175565\n",
       "bulking           -0.165868 -0.017842  0.196523\n",
       "walk_bike_days    -0.162134  0.102742  0.218055\n",
       "protein           -0.208003  0.153103  0.220269\n",
       "carbs              0.165127 -0.298510  0.383781\n",
       "vig_rec_days      -0.648073  0.439516  0.605633\n",
       "poly_fat          -0.443482  0.356567  0.708734\n",
       "sat_fat           -0.425198  0.261446  1.047432\n",
       "mono_fat          -0.595848  0.461422  1.088846"
      ]
     },
     "execution_count": 53,
     "metadata": {},
     "output_type": "execute_result"
    }
   ],
   "source": [
    "coef_df.sort_values('Fitness')"
   ]
  },
  {
   "cell_type": "code",
   "execution_count": 54,
   "metadata": {},
   "outputs": [
    {
     "data": {
      "text/html": [
       "<div>\n",
       "<style scoped>\n",
       "    .dataframe tbody tr th:only-of-type {\n",
       "        vertical-align: middle;\n",
       "    }\n",
       "\n",
       "    .dataframe tbody tr th {\n",
       "        vertical-align: top;\n",
       "    }\n",
       "\n",
       "    .dataframe thead th {\n",
       "        text-align: right;\n",
       "    }\n",
       "</style>\n",
       "<table border=\"1\" class=\"dataframe\">\n",
       "  <thead>\n",
       "    <tr style=\"text-align: right;\">\n",
       "      <th></th>\n",
       "      <th>Obese</th>\n",
       "      <th>Average</th>\n",
       "      <th>Fitness</th>\n",
       "    </tr>\n",
       "    <tr>\n",
       "      <th>Lifestyle</th>\n",
       "      <th></th>\n",
       "      <th></th>\n",
       "      <th></th>\n",
       "    </tr>\n",
       "  </thead>\n",
       "  <tbody>\n",
       "    <tr>\n",
       "      <th>ate_less</th>\n",
       "      <td>0.275719</td>\n",
       "      <td>-0.231858</td>\n",
       "      <td>-0.366320</td>\n",
       "    </tr>\n",
       "    <tr>\n",
       "      <th>low_cal_foods</th>\n",
       "      <td>-0.037282</td>\n",
       "      <td>0.033616</td>\n",
       "      <td>-0.000700</td>\n",
       "    </tr>\n",
       "    <tr>\n",
       "      <th>ate_less_fat</th>\n",
       "      <td>0.042595</td>\n",
       "      <td>-0.046029</td>\n",
       "      <td>0.030368</td>\n",
       "    </tr>\n",
       "    <tr>\n",
       "      <th>exercise</th>\n",
       "      <td>0.372323</td>\n",
       "      <td>-0.251639</td>\n",
       "      <td>-0.506196</td>\n",
       "    </tr>\n",
       "    <tr>\n",
       "      <th>skip_meals</th>\n",
       "      <td>0.100926</td>\n",
       "      <td>-0.086651</td>\n",
       "      <td>-0.132890</td>\n",
       "    </tr>\n",
       "    <tr>\n",
       "      <th>'diet'_foods</th>\n",
       "      <td>0.061782</td>\n",
       "      <td>-0.071127</td>\n",
       "      <td>0.013815</td>\n",
       "    </tr>\n",
       "    <tr>\n",
       "      <th>liquid_diet</th>\n",
       "      <td>0.036946</td>\n",
       "      <td>-0.074668</td>\n",
       "      <td>0.144976</td>\n",
       "    </tr>\n",
       "    <tr>\n",
       "      <th>wt_loss_program</th>\n",
       "      <td>0.120529</td>\n",
       "      <td>-0.106998</td>\n",
       "      <td>-0.193332</td>\n",
       "    </tr>\n",
       "    <tr>\n",
       "      <th>rx_diet_pills</th>\n",
       "      <td>0.098430</td>\n",
       "      <td>-0.073993</td>\n",
       "      <td>-0.573147</td>\n",
       "    </tr>\n",
       "    <tr>\n",
       "      <th>non-rx_diet_pills</th>\n",
       "      <td>0.010049</td>\n",
       "      <td>-0.000438</td>\n",
       "      <td>-0.070638</td>\n",
       "    </tr>\n",
       "    <tr>\n",
       "      <th>lax_vomit</th>\n",
       "      <td>0.079893</td>\n",
       "      <td>-0.126966</td>\n",
       "      <td>0.059997</td>\n",
       "    </tr>\n",
       "    <tr>\n",
       "      <th>water</th>\n",
       "      <td>0.127289</td>\n",
       "      <td>-0.097283</td>\n",
       "      <td>-0.153447</td>\n",
       "    </tr>\n",
       "    <tr>\n",
       "      <th>special_diet_wh</th>\n",
       "      <td>-0.008169</td>\n",
       "      <td>0.003809</td>\n",
       "      <td>0.024291</td>\n",
       "    </tr>\n",
       "    <tr>\n",
       "      <th>low_carb_wh</th>\n",
       "      <td>-0.013853</td>\n",
       "      <td>0.035348</td>\n",
       "      <td>-0.102303</td>\n",
       "    </tr>\n",
       "    <tr>\n",
       "      <th>smoke</th>\n",
       "      <td>-0.007469</td>\n",
       "      <td>0.018428</td>\n",
       "      <td>-0.355948</td>\n",
       "    </tr>\n",
       "    <tr>\n",
       "      <th>fruit_veg_salad</th>\n",
       "      <td>0.074871</td>\n",
       "      <td>-0.053660</td>\n",
       "      <td>-0.087384</td>\n",
       "    </tr>\n",
       "    <tr>\n",
       "      <th>change_eat_habits</th>\n",
       "      <td>0.056524</td>\n",
       "      <td>-0.045417</td>\n",
       "      <td>-0.100810</td>\n",
       "    </tr>\n",
       "    <tr>\n",
       "      <th>less_sugar</th>\n",
       "      <td>0.027449</td>\n",
       "      <td>-0.035747</td>\n",
       "      <td>0.033198</td>\n",
       "    </tr>\n",
       "    <tr>\n",
       "      <th>less_junk_fast</th>\n",
       "      <td>-0.005850</td>\n",
       "      <td>0.020304</td>\n",
       "      <td>-0.029918</td>\n",
       "    </tr>\n",
       "    <tr>\n",
       "      <th>special_diet_dr</th>\n",
       "      <td>0.127531</td>\n",
       "      <td>-0.058877</td>\n",
       "      <td>-0.380471</td>\n",
       "    </tr>\n",
       "    <tr>\n",
       "      <th>low_cal</th>\n",
       "      <td>0.118500</td>\n",
       "      <td>-0.125992</td>\n",
       "      <td>-0.027429</td>\n",
       "    </tr>\n",
       "    <tr>\n",
       "      <th>low_fat</th>\n",
       "      <td>0.032491</td>\n",
       "      <td>-0.040607</td>\n",
       "      <td>0.009159</td>\n",
       "    </tr>\n",
       "    <tr>\n",
       "      <th>low_salt</th>\n",
       "      <td>-0.003250</td>\n",
       "      <td>-0.023118</td>\n",
       "      <td>0.116620</td>\n",
       "    </tr>\n",
       "    <tr>\n",
       "      <th>low_sugar</th>\n",
       "      <td>-0.038614</td>\n",
       "      <td>0.020321</td>\n",
       "      <td>0.105606</td>\n",
       "    </tr>\n",
       "    <tr>\n",
       "      <th>low_fiber</th>\n",
       "      <td>0.069908</td>\n",
       "      <td>-0.067221</td>\n",
       "      <td>-0.057624</td>\n",
       "    </tr>\n",
       "    <tr>\n",
       "      <th>high_fiber</th>\n",
       "      <td>0.020691</td>\n",
       "      <td>-0.005363</td>\n",
       "      <td>-0.182893</td>\n",
       "    </tr>\n",
       "    <tr>\n",
       "      <th>diabetic_diet</th>\n",
       "      <td>-0.008028</td>\n",
       "      <td>0.002417</td>\n",
       "      <td>-0.061955</td>\n",
       "    </tr>\n",
       "    <tr>\n",
       "      <th>bulking</th>\n",
       "      <td>-0.165868</td>\n",
       "      <td>-0.017842</td>\n",
       "      <td>0.196523</td>\n",
       "    </tr>\n",
       "    <tr>\n",
       "      <th>low_carb_dr</th>\n",
       "      <td>0.037588</td>\n",
       "      <td>-0.057052</td>\n",
       "      <td>0.083674</td>\n",
       "    </tr>\n",
       "    <tr>\n",
       "      <th>high_protein</th>\n",
       "      <td>-0.037903</td>\n",
       "      <td>-0.005858</td>\n",
       "      <td>0.155646</td>\n",
       "    </tr>\n",
       "    <tr>\n",
       "      <th>gluten_free</th>\n",
       "      <td>-0.058634</td>\n",
       "      <td>0.049515</td>\n",
       "      <td>0.040914</td>\n",
       "    </tr>\n",
       "    <tr>\n",
       "      <th>renal_kidney</th>\n",
       "      <td>0.007830</td>\n",
       "      <td>-0.162408</td>\n",
       "      <td>0.066966</td>\n",
       "    </tr>\n",
       "    <tr>\n",
       "      <th>other_diet</th>\n",
       "      <td>-0.030142</td>\n",
       "      <td>0.036551</td>\n",
       "      <td>-0.110898</td>\n",
       "    </tr>\n",
       "    <tr>\n",
       "      <th>kcal</th>\n",
       "      <td>-0.589174</td>\n",
       "      <td>0.561937</td>\n",
       "      <td>0.071022</td>\n",
       "    </tr>\n",
       "    <tr>\n",
       "      <th>protein</th>\n",
       "      <td>-0.208003</td>\n",
       "      <td>0.153103</td>\n",
       "      <td>0.220269</td>\n",
       "    </tr>\n",
       "    <tr>\n",
       "      <th>carbs</th>\n",
       "      <td>0.165127</td>\n",
       "      <td>-0.298510</td>\n",
       "      <td>0.383781</td>\n",
       "    </tr>\n",
       "    <tr>\n",
       "      <th>sugar</th>\n",
       "      <td>0.010078</td>\n",
       "      <td>-0.005326</td>\n",
       "      <td>-0.056219</td>\n",
       "    </tr>\n",
       "    <tr>\n",
       "      <th>fiber</th>\n",
       "      <td>0.075952</td>\n",
       "      <td>0.012158</td>\n",
       "      <td>-0.282907</td>\n",
       "    </tr>\n",
       "    <tr>\n",
       "      <th>total_fat</th>\n",
       "      <td>1.611571</td>\n",
       "      <td>-1.260094</td>\n",
       "      <td>-2.596882</td>\n",
       "    </tr>\n",
       "    <tr>\n",
       "      <th>sat_fat</th>\n",
       "      <td>-0.425198</td>\n",
       "      <td>0.261446</td>\n",
       "      <td>1.047432</td>\n",
       "    </tr>\n",
       "    <tr>\n",
       "      <th>mono_fat</th>\n",
       "      <td>-0.595848</td>\n",
       "      <td>0.461422</td>\n",
       "      <td>1.088846</td>\n",
       "    </tr>\n",
       "    <tr>\n",
       "      <th>poly_fat</th>\n",
       "      <td>-0.443482</td>\n",
       "      <td>0.356567</td>\n",
       "      <td>0.708734</td>\n",
       "    </tr>\n",
       "    <tr>\n",
       "      <th>cholesterol</th>\n",
       "      <td>0.072245</td>\n",
       "      <td>-0.027311</td>\n",
       "      <td>-0.147494</td>\n",
       "    </tr>\n",
       "    <tr>\n",
       "      <th>vig_work_days</th>\n",
       "      <td>-0.130576</td>\n",
       "      <td>0.076980</td>\n",
       "      <td>0.175565</td>\n",
       "    </tr>\n",
       "    <tr>\n",
       "      <th>mod_work_days</th>\n",
       "      <td>0.021640</td>\n",
       "      <td>-0.005079</td>\n",
       "      <td>-0.045649</td>\n",
       "    </tr>\n",
       "    <tr>\n",
       "      <th>walk_bike_days</th>\n",
       "      <td>-0.162134</td>\n",
       "      <td>0.102742</td>\n",
       "      <td>0.218055</td>\n",
       "    </tr>\n",
       "    <tr>\n",
       "      <th>vig_rec_days</th>\n",
       "      <td>-0.648073</td>\n",
       "      <td>0.439516</td>\n",
       "      <td>0.605633</td>\n",
       "    </tr>\n",
       "    <tr>\n",
       "      <th>mod_rec_days</th>\n",
       "      <td>-0.037477</td>\n",
       "      <td>0.024992</td>\n",
       "      <td>0.014483</td>\n",
       "    </tr>\n",
       "  </tbody>\n",
       "</table>\n",
       "</div>"
      ],
      "text/plain": [
       "                      Obese   Average   Fitness\n",
       "Lifestyle                                      \n",
       "ate_less           0.275719 -0.231858 -0.366320\n",
       "low_cal_foods     -0.037282  0.033616 -0.000700\n",
       "ate_less_fat       0.042595 -0.046029  0.030368\n",
       "exercise           0.372323 -0.251639 -0.506196\n",
       "skip_meals         0.100926 -0.086651 -0.132890\n",
       "'diet'_foods       0.061782 -0.071127  0.013815\n",
       "liquid_diet        0.036946 -0.074668  0.144976\n",
       "wt_loss_program    0.120529 -0.106998 -0.193332\n",
       "rx_diet_pills      0.098430 -0.073993 -0.573147\n",
       "non-rx_diet_pills  0.010049 -0.000438 -0.070638\n",
       "lax_vomit          0.079893 -0.126966  0.059997\n",
       "water              0.127289 -0.097283 -0.153447\n",
       "special_diet_wh   -0.008169  0.003809  0.024291\n",
       "low_carb_wh       -0.013853  0.035348 -0.102303\n",
       "smoke             -0.007469  0.018428 -0.355948\n",
       "fruit_veg_salad    0.074871 -0.053660 -0.087384\n",
       "change_eat_habits  0.056524 -0.045417 -0.100810\n",
       "less_sugar         0.027449 -0.035747  0.033198\n",
       "less_junk_fast    -0.005850  0.020304 -0.029918\n",
       "special_diet_dr    0.127531 -0.058877 -0.380471\n",
       "low_cal            0.118500 -0.125992 -0.027429\n",
       "low_fat            0.032491 -0.040607  0.009159\n",
       "low_salt          -0.003250 -0.023118  0.116620\n",
       "low_sugar         -0.038614  0.020321  0.105606\n",
       "low_fiber          0.069908 -0.067221 -0.057624\n",
       "high_fiber         0.020691 -0.005363 -0.182893\n",
       "diabetic_diet     -0.008028  0.002417 -0.061955\n",
       "bulking           -0.165868 -0.017842  0.196523\n",
       "low_carb_dr        0.037588 -0.057052  0.083674\n",
       "high_protein      -0.037903 -0.005858  0.155646\n",
       "gluten_free       -0.058634  0.049515  0.040914\n",
       "renal_kidney       0.007830 -0.162408  0.066966\n",
       "other_diet        -0.030142  0.036551 -0.110898\n",
       "kcal              -0.589174  0.561937  0.071022\n",
       "protein           -0.208003  0.153103  0.220269\n",
       "carbs              0.165127 -0.298510  0.383781\n",
       "sugar              0.010078 -0.005326 -0.056219\n",
       "fiber              0.075952  0.012158 -0.282907\n",
       "total_fat          1.611571 -1.260094 -2.596882\n",
       "sat_fat           -0.425198  0.261446  1.047432\n",
       "mono_fat          -0.595848  0.461422  1.088846\n",
       "poly_fat          -0.443482  0.356567  0.708734\n",
       "cholesterol        0.072245 -0.027311 -0.147494\n",
       "vig_work_days     -0.130576  0.076980  0.175565\n",
       "mod_work_days      0.021640 -0.005079 -0.045649\n",
       "walk_bike_days    -0.162134  0.102742  0.218055\n",
       "vig_rec_days      -0.648073  0.439516  0.605633\n",
       "mod_rec_days      -0.037477  0.024992  0.014483"
      ]
     },
     "execution_count": 54,
     "metadata": {},
     "output_type": "execute_result"
    }
   ],
   "source": [
    "coef_df"
   ]
  },
  {
   "cell_type": "code",
   "execution_count": 55,
   "metadata": {},
   "outputs": [
    {
     "data": {
      "image/png": "[encoded data removed]",
      "text/plain": [
       "<Figure size 720x1080 with 2 Axes>"
      ]
     },
     "metadata": {},
     "output_type": "display_data"
    }
   ],
   "source": [
    "fig, ax = plt.subplots(figsize=(10,15))\n",
    "x= sns.heatmap(coef_df)\n",
    "x.set_xlabel(\"Fitness Level\")\n",
    "x.set_ylabel(\"Lifestyle\",fontsize=8);"
   ]
  },
  {
   "cell_type": "code",
   "execution_count": 56,
   "metadata": {},
   "outputs": [
    {
     "data": {
      "text/plain": [
       "array([[-2.31858380e-01,  3.36162764e-02, -4.60286708e-02,\n",
       "        -2.51639061e-01, -8.66506532e-02, -7.11272607e-02,\n",
       "        -7.46676029e-02, -1.06998293e-01, -7.39926702e-02,\n",
       "        -4.38306114e-04, -1.26966183e-01, -9.72826747e-02,\n",
       "         3.80851005e-03,  3.53482208e-02,  1.84282545e-02,\n",
       "        -5.36600470e-02, -4.54165661e-02, -3.57472351e-02,\n",
       "         2.03040161e-02, -5.88766898e-02, -1.25991637e-01,\n",
       "        -4.06071383e-02, -2.31176735e-02,  2.03207823e-02,\n",
       "        -6.72209121e-02, -5.36326509e-03,  2.41672154e-03,\n",
       "        -1.78424347e-02, -5.70516865e-02, -5.85821553e-03,\n",
       "         4.95152777e-02, -1.62408116e-01,  3.65511797e-02,\n",
       "         5.61937267e-01,  1.53103129e-01, -2.98509777e-01,\n",
       "        -5.32607735e-03,  1.21580998e-02, -1.26009449e+00,\n",
       "         2.61446418e-01,  4.61421948e-01,  3.56567152e-01,\n",
       "        -2.73114848e-02,  7.69804677e-02, -5.07926485e-03,\n",
       "         1.02742017e-01,  4.39515670e-01,  2.49915287e-02],\n",
       "       [-3.66320329e-01, -7.00464835e-04,  3.03684691e-02,\n",
       "        -5.06196432e-01, -1.32890003e-01,  1.38149796e-02,\n",
       "         1.44975722e-01, -1.93331543e-01, -5.73147433e-01,\n",
       "        -7.06380558e-02,  5.99965188e-02, -1.53447214e-01,\n",
       "         2.42914903e-02, -1.02302899e-01, -3.55948194e-01,\n",
       "        -8.73843484e-02, -1.00809831e-01,  3.31978088e-02,\n",
       "        -2.99182355e-02, -3.80470605e-01, -2.74289981e-02,\n",
       "         9.15884936e-03,  1.16620169e-01,  1.05605931e-01,\n",
       "        -5.76241476e-02, -1.82892779e-01, -6.19546596e-02,\n",
       "         1.96523225e-01,  8.36738816e-02,  1.55645821e-01,\n",
       "         4.09137068e-02,  6.69658456e-02, -1.10897752e-01,\n",
       "         7.10221754e-02,  2.20269423e-01,  3.83781123e-01,\n",
       "        -5.62189996e-02, -2.82906846e-01, -2.59688179e+00,\n",
       "         1.04743211e+00,  1.08884555e+00,  7.08734237e-01,\n",
       "        -1.47494130e-01,  1.75564658e-01, -4.56492029e-02,\n",
       "         2.18055373e-01,  6.05633446e-01,  1.44832282e-02],\n",
       "       [ 2.75719035e-01, -3.72818982e-02,  4.25953040e-02,\n",
       "         3.72322916e-01,  1.00925804e-01,  6.17824520e-02,\n",
       "         3.69458524e-02,  1.20529138e-01,  9.84299536e-02,\n",
       "         1.00485503e-02,  7.98931291e-02,  1.27289032e-01,\n",
       "        -8.16855480e-03, -1.38532462e-02, -7.46878416e-03,\n",
       "         7.48714372e-02,  5.65239186e-02,  2.74490045e-02,\n",
       "        -5.84973018e-03,  1.27530937e-01,  1.18499794e-01,\n",
       "         3.24907564e-02, -3.24988102e-03, -3.86143166e-02,\n",
       "         6.99083928e-02,  2.06906284e-02, -8.02802753e-03,\n",
       "        -1.65868041e-01,  3.75878024e-02, -3.79027261e-02,\n",
       "        -5.86335173e-02,  7.82979076e-03, -3.01420248e-02,\n",
       "        -5.89173933e-01, -2.08002889e-01,  1.65127272e-01,\n",
       "         1.00776290e-02,  7.59521610e-02,  1.61157116e+00,\n",
       "        -4.25198054e-01, -5.95848356e-01, -4.43481565e-01,\n",
       "         7.22451798e-02, -1.30575544e-01,  2.16398283e-02,\n",
       "        -1.62133914e-01, -6.48073405e-01, -3.74774841e-02]])"
      ]
     },
     "execution_count": 56,
     "metadata": {},
     "output_type": "execute_result"
    }
   ],
   "source": [
    "Champ_model.coef_"
   ]
  },
  {
   "cell_type": "code",
   "execution_count": 57,
   "metadata": {},
   "outputs": [],
   "source": [
    "from sklearn.metrics import precision_recall_curve\n",
    "from sklearn.metrics import average_precision_score\n",
    "from sklearn.metrics import auc"
   ]
  },
  {
   "cell_type": "code",
   "execution_count": 58,
   "metadata": {},
   "outputs": [
    {
     "data": {
      "text/plain": [
       "LabelBinarizer()"
      ]
     },
     "execution_count": 58,
     "metadata": {},
     "output_type": "execute_result"
    }
   ],
   "source": [
    "lb = LabelBinarizer()\n",
    "lb.fit(['Average','Fitness','Obese'])"
   ]
  },
  {
   "cell_type": "code",
   "execution_count": 59,
   "metadata": {},
   "outputs": [],
   "source": [
    "LR_train_bin = lb.transform(y_train)"
   ]
  },
  {
   "cell_type": "code",
   "execution_count": 60,
   "metadata": {},
   "outputs": [
    {
     "data": {
      "text/plain": [
       "(9124, 3)"
      ]
     },
     "execution_count": 60,
     "metadata": {},
     "output_type": "execute_result"
    }
   ],
   "source": [
    "LR_train_bin.shape"
   ]
  },
  {
   "cell_type": "code",
   "execution_count": 61,
   "metadata": {},
   "outputs": [
    {
     "ename": "NameError",
     "evalue": "name 'a' is not defined",
     "output_type": "error",
     "traceback": [
      "\u001b[0;31m---------------------------------------------------------------------------\u001b[0m",
      "\u001b[0;31mNameError\u001b[0m                                 Traceback (most recent call last)",
      "\u001b[0;32m<ipython-input-61-d10d45d55e7a>\u001b[0m in \u001b[0;36m<module>\u001b[0;34m\u001b[0m\n\u001b[1;32m      3\u001b[0m \u001b[0maverage_precision\u001b[0m \u001b[0;34m=\u001b[0m \u001b[0mdict\u001b[0m\u001b[0;34m(\u001b[0m\u001b[0;34m)\u001b[0m\u001b[0;34m\u001b[0m\u001b[0;34m\u001b[0m\u001b[0m\n\u001b[1;32m      4\u001b[0m \u001b[0;32mfor\u001b[0m \u001b[0mi\u001b[0m \u001b[0;32min\u001b[0m \u001b[0mrange\u001b[0m\u001b[0;34m(\u001b[0m\u001b[0;36m4\u001b[0m\u001b[0;34m)\u001b[0m\u001b[0;34m:\u001b[0m\u001b[0;34m\u001b[0m\u001b[0;34m\u001b[0m\u001b[0m\n\u001b[0;32m----> 5\u001b[0;31m     \u001b[0mprecision\u001b[0m\u001b[0;34m[\u001b[0m\u001b[0mi\u001b[0m\u001b[0;34m]\u001b[0m\u001b[0;34m,\u001b[0m \u001b[0mrecall\u001b[0m\u001b[0;34m[\u001b[0m\u001b[0mi\u001b[0m\u001b[0;34m]\u001b[0m\u001b[0;34m,\u001b[0m \u001b[0m_\u001b[0m\u001b[0;34m=\u001b[0m \u001b[0mmetrics\u001b[0m\u001b[0;34m.\u001b[0m\u001b[0mprecision_recall_curve\u001b[0m\u001b[0;34m(\u001b[0m\u001b[0ma\u001b[0m\u001b[0;34m[\u001b[0m\u001b[0;34m:\u001b[0m\u001b[0;34m,\u001b[0m\u001b[0mi\u001b[0m\u001b[0;34m]\u001b[0m\u001b[0;34m,\u001b[0m\u001b[0mproba\u001b[0m\u001b[0;34m[\u001b[0m\u001b[0;34m:\u001b[0m\u001b[0;34m,\u001b[0m\u001b[0mi\u001b[0m\u001b[0;34m]\u001b[0m\u001b[0;34m)\u001b[0m\u001b[0;34m\u001b[0m\u001b[0;34m\u001b[0m\u001b[0m\n\u001b[0m\u001b[1;32m      6\u001b[0m     \u001b[0maverage_precision\u001b[0m\u001b[0;34m[\u001b[0m\u001b[0mi\u001b[0m\u001b[0;34m]\u001b[0m \u001b[0;34m=\u001b[0m \u001b[0maverage_precision_score\u001b[0m\u001b[0;34m(\u001b[0m\u001b[0mLR_val_bin\u001b[0m\u001b[0;34m[\u001b[0m\u001b[0;34m:\u001b[0m\u001b[0;34m,\u001b[0m \u001b[0mi\u001b[0m\u001b[0;34m]\u001b[0m\u001b[0;34m,\u001b[0m \u001b[0mproba\u001b[0m\u001b[0;34m[\u001b[0m\u001b[0;34m:\u001b[0m\u001b[0;34m,\u001b[0m \u001b[0mi\u001b[0m\u001b[0;34m]\u001b[0m\u001b[0;34m)\u001b[0m\u001b[0;34m\u001b[0m\u001b[0;34m\u001b[0m\u001b[0m\n\u001b[1;32m      7\u001b[0m \u001b[0;34m\u001b[0m\u001b[0m\n",
      "\u001b[0;31mNameError\u001b[0m: name 'a' is not defined"
     ]
    }
   ],
   "source": [
    "precision = dict()\n",
    "recall = dict()\n",
    "average_precision = dict()\n",
    "for i in range(4):\n",
    "    precision[i], recall[i], _= metrics.precision_recall_curve(a[:,i],proba[:,i])\n",
    "    average_precision[i] = average_precision_score(LR_val_bin[:, i], proba[:, i])\n",
    "\n",
    "# A \"micro-average\": quantifying score on all classes jointly\n",
    "precision[\"micro\"], recall[\"micro\"], _ = precision_recall_curve(LR_val_bin.ravel(),\n",
    "    proba.ravel())\n",
    "average_precision[\"micro\"] = average_precision_score(LR_val_bin, proba,\n",
    "                                                     average=\"micro\")\n",
    "print('Average precision score, micro-averaged over all classes: {0:0.2f}'\n",
    "      .format(average_precision[\"micro\"]))"
   ]
  },
  {
   "cell_type": "code",
   "execution_count": null,
   "metadata": {},
   "outputs": [],
   "source": []
  },
  {
   "cell_type": "code",
   "execution_count": null,
   "metadata": {},
   "outputs": [],
   "source": []
  },
  {
   "cell_type": "code",
   "execution_count": null,
   "metadata": {},
   "outputs": [],
   "source": []
  },
  {
   "cell_type": "code",
   "execution_count": null,
   "metadata": {},
   "outputs": [],
   "source": []
  },
  {
   "cell_type": "markdown",
   "metadata": {},
   "source": [
    "## Models run on \"facts\"\n",
    "\n",
    "These use fewer features, sticking to just the \"facts\" such as nutrition intake, not including weight loss and diet survey responses that can be more biased"
   ]
  },
  {
   "cell_type": "code",
   "execution_count": null,
   "metadata": {},
   "outputs": [],
   "source": [
    "facts = ['kcal', 'protein', 'carbs',\n",
    "       'sugar', 'fiber', 'total_fat', 'sat_fat', 'mono_fat', 'poly_fat',\n",
    "       'cholesterol', 'vig_work_days', 'mod_work_days', 'walk_bike_days',\n",
    "       'vig_rec_days', 'mod_rec_days']"
   ]
  },
  {
   "cell_type": "code",
   "execution_count": null,
   "metadata": {},
   "outputs": [],
   "source": [
    "X_train_facts = X_train[facts]\n",
    "print(\"Start Time =\", datetime.now().strftime(\"%H:%M:%S\"))\n",
    "\n",
    "DTC_param_grid = {'max_depth':range(5,10), 'class_weight':[None,'balanced',{'Average':.3, 'Fitness':.6, 'Obese':.1}]}\n",
    "DTC_facts, DTC_score_facts, DTC_params_facts, DTC_scores_df_facts, DTC_index_facts, DTC_val_pred_facts, DTC_val_true_facts, DTC_val_pred_proba_facts, DTC_train_scores_facts, DTC_val_scores_facts = \\\n",
    "SamplingGridSearchCV(ROS, DecisionTreeClassifier(), X_train_facts, y_train, DTC_param_grid, folds=5)\n",
    "print(\"DTC Done =\", datetime.now().strftime(\"%H:%M:%S\"))\n"
   ]
  },
  {
   "cell_type": "code",
   "execution_count": null,
   "metadata": {},
   "outputs": [],
   "source": [
    "DTC, DTC_score, DTC_params"
   ]
  },
  {
   "cell_type": "code",
   "execution_count": null,
   "metadata": {},
   "outputs": [],
   "source": [
    "X_train_standard_facts = scaler.fit_transform(X_train[facts])\n",
    "X_test_standard_facts = scaler.transform(X_test[facts])\n",
    "\n",
    "LR_param_grid = {'class_weight':[None,'balanced',{'Average':.3, 'Fitness':.6, 'Obese':.1}],'solver':['lbfgs', 'liblinear','sag','saga']}\n",
    "\n",
    "LR = LogisticRegression()\n",
    "LR = LR.set_params(max_iter=300, n_jobs=-1)\n",
    "\n",
    "\n",
    "LR_facts, LR_score_facts, LR_params_facts, LR_scores_df_facts, LR_index_facts, LR_val_pred_facts, LR_val_true_facts, LR_val_pred_proba_facts, LR_train_scores_facts, LR_val_scores_facts = \\\n",
    "SamplingGridSearchCV(ROS, LR, X_train_standard_facts, y_train, LR_param_grid, folds=5)\n",
    "print(\"LR done =\", datetime.now().strftime(\"%H:%M:%S\"))"
   ]
  },
  {
   "cell_type": "code",
   "execution_count": null,
   "metadata": {
    "scrolled": true
   },
   "outputs": [],
   "source": [
    "LR, LR_score, LR_params"
   ]
  },
  {
   "cell_type": "code",
   "execution_count": 65,
   "metadata": {},
   "outputs": [
    {
     "name": "stderr",
     "output_type": "stream",
     "text": [
      "<ipython-input-65-1ed9ba6de89a>:1: FutureWarning: Indexing with multiple keys (implicitly converted to a tuple of keys) will be deprecated, use a list instead.\n",
      "  df.groupby(['category'])['carbs','protein','total_fat'].agg(np.mean)\n"
     ]
    },
    {
     "data": {
      "text/html": [
       "<div>\n",
       "<style scoped>\n",
       "    .dataframe tbody tr th:only-of-type {\n",
       "        vertical-align: middle;\n",
       "    }\n",
       "\n",
       "    .dataframe tbody tr th {\n",
       "        vertical-align: top;\n",
       "    }\n",
       "\n",
       "    .dataframe thead th {\n",
       "        text-align: right;\n",
       "    }\n",
       "</style>\n",
       "<table border=\"1\" class=\"dataframe\">\n",
       "  <thead>\n",
       "    <tr style=\"text-align: right;\">\n",
       "      <th></th>\n",
       "      <th>carbs</th>\n",
       "      <th>protein</th>\n",
       "      <th>total_fat</th>\n",
       "    </tr>\n",
       "    <tr>\n",
       "      <th>category</th>\n",
       "      <th></th>\n",
       "      <th></th>\n",
       "      <th></th>\n",
       "    </tr>\n",
       "  </thead>\n",
       "  <tbody>\n",
       "    <tr>\n",
       "      <th>Average</th>\n",
       "      <td>287.353875</td>\n",
       "      <td>97.358182</td>\n",
       "      <td>93.510276</td>\n",
       "    </tr>\n",
       "    <tr>\n",
       "      <th>Fitness</th>\n",
       "      <td>330.811163</td>\n",
       "      <td>104.521438</td>\n",
       "      <td>102.976880</td>\n",
       "    </tr>\n",
       "    <tr>\n",
       "      <th>Obese</th>\n",
       "      <td>255.304759</td>\n",
       "      <td>80.988536</td>\n",
       "      <td>82.114626</td>\n",
       "    </tr>\n",
       "  </tbody>\n",
       "</table>\n",
       "</div>"
      ],
      "text/plain": [
       "               carbs     protein   total_fat\n",
       "category                                    \n",
       "Average   287.353875   97.358182   93.510276\n",
       "Fitness   330.811163  104.521438  102.976880\n",
       "Obese     255.304759   80.988536   82.114626"
      ]
     },
     "execution_count": 65,
     "metadata": {},
     "output_type": "execute_result"
    }
   ],
   "source": [
    "df.groupby(['category'])['carbs','protein','total_fat'].agg(np.mean)"
   ]
  }
 ],
 "metadata": {
  "kernelspec": {
   "display_name": "Python [conda env:metis] *",
   "language": "python",
   "name": "conda-env-metis-py"
  },
  "language_info": {
   "codemirror_mode": {
    "name": "ipython",
    "version": 3
   },
   "file_extension": ".py",
   "mimetype": "text/x-python",
   "name": "python",
   "nbconvert_exporter": "python",
   "pygments_lexer": "ipython3",
   "version": "3.8.3"
  }
 },
 "nbformat": 4,
 "nbformat_minor": 4
}
