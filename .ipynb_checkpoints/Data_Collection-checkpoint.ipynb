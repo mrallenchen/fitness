{
 "cells": [
  {
   "cell_type": "code",
   "execution_count": 1,
   "metadata": {},
   "outputs": [],
   "source": [
    "# Get pandas and postgres to work together\n",
    "import psycopg2 as pg\n",
    "import pandas as pd\n",
    "\n",
    "# We are also going to do some basic viz\n",
    "import seaborn as sns\n",
    "import matplotlib.pyplot as plt\n",
    "%matplotlib inline\n"
   ]
  },
  {
   "cell_type": "code",
   "execution_count": 2,
   "metadata": {},
   "outputs": [],
   "source": [
    "sns.set_context('notebook')\n",
    "sns.set_style('whitegrid')"
   ]
  },
  {
   "cell_type": "code",
   "execution_count": 3,
   "metadata": {},
   "outputs": [],
   "source": [
    "# Postgres info to connect\n",
    "connection_args = {\n",
    "    'host': 'localhost',  # We are connecting to our _local_ version of psql\n",
    "    'dbname': 'fitness',    # DB that we are connecting to\n",
    "    'port': 5432          # port we opened on AWS\n",
    "}\n",
    "\n",
    "connection = pg.connect(**connection_args)  # What is that \"**\" there??"
   ]
  },
  {
   "cell_type": "markdown",
   "metadata": {},
   "source": [
    "### Alternative approach\n",
    "Get this directly into pandas by using the xport package\n",
    "1) pull in through xport (first install the xport package) \n",
    "2) then use the below package and it will come out as a pandas dataframe as shown below\n",
    "\n",
    "Note that this approach was not used, and instead using a SQL database for practice with SQL"
   ]
  },
  {
   "cell_type": "code",
   "execution_count": 6,
   "metadata": {},
   "outputs": [],
   "source": [
    "import xport.v56"
   ]
  },
  {
   "cell_type": "code",
   "execution_count": 7,
   "metadata": {},
   "outputs": [],
   "source": [
    "with open('Data/BMX_J.xpt', 'rb') as f:\n",
    "    library = xport.v56.load(f)"
   ]
  },
  {
   "cell_type": "code",
   "execution_count": 183,
   "metadata": {},
   "outputs": [
    {
     "data": {
      "text/html": [
       "<div>\n",
       "<style scoped>\n",
       "    .dataframe tbody tr th:only-of-type {\n",
       "        vertical-align: middle;\n",
       "    }\n",
       "\n",
       "    .dataframe tbody tr th {\n",
       "        vertical-align: top;\n",
       "    }\n",
       "\n",
       "    .dataframe thead th {\n",
       "        text-align: right;\n",
       "    }\n",
       "</style>\n",
       "<table border=\"1\" class=\"dataframe\">\n",
       "  <thead>\n",
       "    <tr style=\"text-align: right;\">\n",
       "      <th></th>\n",
       "      <th>SEQN</th>\n",
       "      <th>BMDSTATS</th>\n",
       "      <th>BMXWT</th>\n",
       "      <th>BMIWT</th>\n",
       "      <th>BMXRECUM</th>\n",
       "      <th>BMIRECUM</th>\n",
       "      <th>BMXHEAD</th>\n",
       "      <th>BMIHEAD</th>\n",
       "      <th>BMXHT</th>\n",
       "      <th>BMIHT</th>\n",
       "      <th>...</th>\n",
       "      <th>BMXLEG</th>\n",
       "      <th>BMILEG</th>\n",
       "      <th>BMXARML</th>\n",
       "      <th>BMIARML</th>\n",
       "      <th>BMXARMC</th>\n",
       "      <th>BMIARMC</th>\n",
       "      <th>BMXWAIST</th>\n",
       "      <th>BMIWAIST</th>\n",
       "      <th>BMXHIP</th>\n",
       "      <th>BMIHIP</th>\n",
       "    </tr>\n",
       "  </thead>\n",
       "  <tbody>\n",
       "    <tr>\n",
       "      <th>0</th>\n",
       "      <td>93703.0</td>\n",
       "      <td>1.0</td>\n",
       "      <td>13.7</td>\n",
       "      <td>3.0</td>\n",
       "      <td>89.6</td>\n",
       "      <td>NaN</td>\n",
       "      <td>NaN</td>\n",
       "      <td>NaN</td>\n",
       "      <td>88.6</td>\n",
       "      <td>NaN</td>\n",
       "      <td>...</td>\n",
       "      <td>NaN</td>\n",
       "      <td>NaN</td>\n",
       "      <td>18.0</td>\n",
       "      <td>NaN</td>\n",
       "      <td>16.2</td>\n",
       "      <td>NaN</td>\n",
       "      <td>48.2</td>\n",
       "      <td>NaN</td>\n",
       "      <td>NaN</td>\n",
       "      <td>NaN</td>\n",
       "    </tr>\n",
       "    <tr>\n",
       "      <th>1</th>\n",
       "      <td>93704.0</td>\n",
       "      <td>1.0</td>\n",
       "      <td>13.9</td>\n",
       "      <td>NaN</td>\n",
       "      <td>95.0</td>\n",
       "      <td>NaN</td>\n",
       "      <td>NaN</td>\n",
       "      <td>NaN</td>\n",
       "      <td>94.2</td>\n",
       "      <td>NaN</td>\n",
       "      <td>...</td>\n",
       "      <td>NaN</td>\n",
       "      <td>NaN</td>\n",
       "      <td>18.6</td>\n",
       "      <td>NaN</td>\n",
       "      <td>15.2</td>\n",
       "      <td>NaN</td>\n",
       "      <td>50.0</td>\n",
       "      <td>NaN</td>\n",
       "      <td>NaN</td>\n",
       "      <td>NaN</td>\n",
       "    </tr>\n",
       "    <tr>\n",
       "      <th>2</th>\n",
       "      <td>93705.0</td>\n",
       "      <td>1.0</td>\n",
       "      <td>79.5</td>\n",
       "      <td>NaN</td>\n",
       "      <td>NaN</td>\n",
       "      <td>NaN</td>\n",
       "      <td>NaN</td>\n",
       "      <td>NaN</td>\n",
       "      <td>158.3</td>\n",
       "      <td>NaN</td>\n",
       "      <td>...</td>\n",
       "      <td>37.0</td>\n",
       "      <td>NaN</td>\n",
       "      <td>36.0</td>\n",
       "      <td>NaN</td>\n",
       "      <td>32.0</td>\n",
       "      <td>NaN</td>\n",
       "      <td>101.8</td>\n",
       "      <td>NaN</td>\n",
       "      <td>110.0</td>\n",
       "      <td>NaN</td>\n",
       "    </tr>\n",
       "    <tr>\n",
       "      <th>3</th>\n",
       "      <td>93706.0</td>\n",
       "      <td>1.0</td>\n",
       "      <td>66.3</td>\n",
       "      <td>NaN</td>\n",
       "      <td>NaN</td>\n",
       "      <td>NaN</td>\n",
       "      <td>NaN</td>\n",
       "      <td>NaN</td>\n",
       "      <td>175.7</td>\n",
       "      <td>NaN</td>\n",
       "      <td>...</td>\n",
       "      <td>46.6</td>\n",
       "      <td>NaN</td>\n",
       "      <td>38.8</td>\n",
       "      <td>NaN</td>\n",
       "      <td>27.0</td>\n",
       "      <td>NaN</td>\n",
       "      <td>79.3</td>\n",
       "      <td>NaN</td>\n",
       "      <td>94.4</td>\n",
       "      <td>NaN</td>\n",
       "    </tr>\n",
       "    <tr>\n",
       "      <th>4</th>\n",
       "      <td>93707.0</td>\n",
       "      <td>1.0</td>\n",
       "      <td>45.4</td>\n",
       "      <td>NaN</td>\n",
       "      <td>NaN</td>\n",
       "      <td>NaN</td>\n",
       "      <td>NaN</td>\n",
       "      <td>NaN</td>\n",
       "      <td>158.4</td>\n",
       "      <td>NaN</td>\n",
       "      <td>...</td>\n",
       "      <td>38.1</td>\n",
       "      <td>NaN</td>\n",
       "      <td>33.8</td>\n",
       "      <td>NaN</td>\n",
       "      <td>21.5</td>\n",
       "      <td>NaN</td>\n",
       "      <td>64.1</td>\n",
       "      <td>NaN</td>\n",
       "      <td>83.0</td>\n",
       "      <td>NaN</td>\n",
       "    </tr>\n",
       "    <tr>\n",
       "      <th>...</th>\n",
       "      <td>...</td>\n",
       "      <td>...</td>\n",
       "      <td>...</td>\n",
       "      <td>...</td>\n",
       "      <td>...</td>\n",
       "      <td>...</td>\n",
       "      <td>...</td>\n",
       "      <td>...</td>\n",
       "      <td>...</td>\n",
       "      <td>...</td>\n",
       "      <td>...</td>\n",
       "      <td>...</td>\n",
       "      <td>...</td>\n",
       "      <td>...</td>\n",
       "      <td>...</td>\n",
       "      <td>...</td>\n",
       "      <td>...</td>\n",
       "      <td>...</td>\n",
       "      <td>...</td>\n",
       "      <td>...</td>\n",
       "      <td>...</td>\n",
       "    </tr>\n",
       "    <tr>\n",
       "      <th>8699</th>\n",
       "      <td>102952.0</td>\n",
       "      <td>1.0</td>\n",
       "      <td>49.0</td>\n",
       "      <td>NaN</td>\n",
       "      <td>NaN</td>\n",
       "      <td>NaN</td>\n",
       "      <td>NaN</td>\n",
       "      <td>NaN</td>\n",
       "      <td>156.5</td>\n",
       "      <td>NaN</td>\n",
       "      <td>...</td>\n",
       "      <td>34.4</td>\n",
       "      <td>NaN</td>\n",
       "      <td>32.6</td>\n",
       "      <td>NaN</td>\n",
       "      <td>25.1</td>\n",
       "      <td>NaN</td>\n",
       "      <td>82.2</td>\n",
       "      <td>NaN</td>\n",
       "      <td>87.3</td>\n",
       "      <td>NaN</td>\n",
       "    </tr>\n",
       "    <tr>\n",
       "      <th>8700</th>\n",
       "      <td>102953.0</td>\n",
       "      <td>1.0</td>\n",
       "      <td>97.4</td>\n",
       "      <td>NaN</td>\n",
       "      <td>NaN</td>\n",
       "      <td>NaN</td>\n",
       "      <td>NaN</td>\n",
       "      <td>NaN</td>\n",
       "      <td>164.9</td>\n",
       "      <td>NaN</td>\n",
       "      <td>...</td>\n",
       "      <td>38.2</td>\n",
       "      <td>NaN</td>\n",
       "      <td>36.6</td>\n",
       "      <td>NaN</td>\n",
       "      <td>40.6</td>\n",
       "      <td>NaN</td>\n",
       "      <td>114.8</td>\n",
       "      <td>NaN</td>\n",
       "      <td>112.8</td>\n",
       "      <td>NaN</td>\n",
       "    </tr>\n",
       "    <tr>\n",
       "      <th>8701</th>\n",
       "      <td>102954.0</td>\n",
       "      <td>1.0</td>\n",
       "      <td>69.1</td>\n",
       "      <td>NaN</td>\n",
       "      <td>NaN</td>\n",
       "      <td>NaN</td>\n",
       "      <td>NaN</td>\n",
       "      <td>NaN</td>\n",
       "      <td>162.6</td>\n",
       "      <td>NaN</td>\n",
       "      <td>...</td>\n",
       "      <td>39.2</td>\n",
       "      <td>NaN</td>\n",
       "      <td>35.2</td>\n",
       "      <td>NaN</td>\n",
       "      <td>26.8</td>\n",
       "      <td>NaN</td>\n",
       "      <td>86.4</td>\n",
       "      <td>NaN</td>\n",
       "      <td>102.7</td>\n",
       "      <td>NaN</td>\n",
       "    </tr>\n",
       "    <tr>\n",
       "      <th>8702</th>\n",
       "      <td>102955.0</td>\n",
       "      <td>1.0</td>\n",
       "      <td>111.9</td>\n",
       "      <td>NaN</td>\n",
       "      <td>NaN</td>\n",
       "      <td>NaN</td>\n",
       "      <td>NaN</td>\n",
       "      <td>NaN</td>\n",
       "      <td>156.6</td>\n",
       "      <td>NaN</td>\n",
       "      <td>...</td>\n",
       "      <td>39.2</td>\n",
       "      <td>NaN</td>\n",
       "      <td>35.0</td>\n",
       "      <td>NaN</td>\n",
       "      <td>44.5</td>\n",
       "      <td>NaN</td>\n",
       "      <td>113.5</td>\n",
       "      <td>NaN</td>\n",
       "      <td>128.3</td>\n",
       "      <td>NaN</td>\n",
       "    </tr>\n",
       "    <tr>\n",
       "      <th>8703</th>\n",
       "      <td>102956.0</td>\n",
       "      <td>1.0</td>\n",
       "      <td>111.5</td>\n",
       "      <td>NaN</td>\n",
       "      <td>NaN</td>\n",
       "      <td>NaN</td>\n",
       "      <td>NaN</td>\n",
       "      <td>NaN</td>\n",
       "      <td>175.8</td>\n",
       "      <td>NaN</td>\n",
       "      <td>...</td>\n",
       "      <td>42.5</td>\n",
       "      <td>NaN</td>\n",
       "      <td>38.0</td>\n",
       "      <td>NaN</td>\n",
       "      <td>40.0</td>\n",
       "      <td>NaN</td>\n",
       "      <td>122.0</td>\n",
       "      <td>NaN</td>\n",
       "      <td>110.0</td>\n",
       "      <td>NaN</td>\n",
       "    </tr>\n",
       "  </tbody>\n",
       "</table>\n",
       "<p>8704 rows × 21 columns</p>\n",
       "</div>"
      ],
      "text/plain": [
       "Member BMX_J\n",
       "    Variable     Type  Length Format Informat  \\\n",
       "#                                               \n",
       "1       SEQN  Numeric       8                   \n",
       "2   BMDSTATS  Numeric       8                   \n",
       "3      BMXWT  Numeric       8                   \n",
       "4      BMIWT  Numeric       8                   \n",
       "5   BMXRECUM  Numeric       8                   \n",
       "6   BMIRECUM  Numeric       8                   \n",
       "7    BMXHEAD  Numeric       8                   \n",
       "8    BMIHEAD  Numeric       8                   \n",
       "9      BMXHT  Numeric       8                   \n",
       "10     BMIHT  Numeric       8                   \n",
       "11    BMXBMI  Numeric       8                   \n",
       "12    BMXLEG  Numeric       8                   \n",
       "13    BMILEG  Numeric       8                   \n",
       "14   BMXARML  Numeric       8                   \n",
       "15   BMIARML  Numeric       8                   \n",
       "16   BMXARMC  Numeric       8                   \n",
       "17   BMIARMC  Numeric       8                   \n",
       "18  BMXWAIST  Numeric       8                   \n",
       "19  BMIWAIST  Numeric       8                   \n",
       "20    BMXHIP  Numeric       8                   \n",
       "21    BMIHIP  Numeric       8                   \n",
       "\n",
       "                                  Label  Position  \n",
       "#                                                  \n",
       "1            Respondent sequence number         0  \n",
       "2   Body Measures Component Status Code        16  \n",
       "3                           Weight (kg)        24  \n",
       "4                        Weight Comment        32  \n",
       "5                 Recumbent Length (cm)        40  \n",
       "6              Recumbent Length Comment        48  \n",
       "7               Head Circumference (cm)        56  \n",
       "8            Head Circumference Comment        64  \n",
       "9                  Standing Height (cm)        72  \n",
       "10              Standing Height Comment        80  \n",
       "11            Body Mass Index (kg/m**2)        88  \n",
       "12                Upper Leg Length (cm)        96  \n",
       "13             Upper Leg Length Comment       104  \n",
       "14                Upper Arm Length (cm)       112  \n",
       "15             Upper Arm Length Comment       120  \n",
       "16               Arm Circumference (cm)       128  \n",
       "17            Arm Circumference Comment       136  \n",
       "18             Waist Circumference (cm)       144  \n",
       "19          Waist Circumference Comment       152  \n",
       "20               Hip Circumference (cm)       160  \n",
       "21            Hip Circumference Comment       168  \n",
       "\n",
       "          SEQN  BMDSTATS  BMXWT  BMIWT  BMXRECUM  BMIRECUM  BMXHEAD  BMIHEAD  \\\n",
       "0      93703.0       1.0   13.7    3.0      89.6       NaN      NaN      NaN   \n",
       "1      93704.0       1.0   13.9    NaN      95.0       NaN      NaN      NaN   \n",
       "2      93705.0       1.0   79.5    NaN       NaN       NaN      NaN      NaN   \n",
       "3      93706.0       1.0   66.3    NaN       NaN       NaN      NaN      NaN   \n",
       "4      93707.0       1.0   45.4    NaN       NaN       NaN      NaN      NaN   \n",
       "...        ...       ...    ...    ...       ...       ...      ...      ...   \n",
       "8699  102952.0       1.0   49.0    NaN       NaN       NaN      NaN      NaN   \n",
       "8700  102953.0       1.0   97.4    NaN       NaN       NaN      NaN      NaN   \n",
       "8701  102954.0       1.0   69.1    NaN       NaN       NaN      NaN      NaN   \n",
       "8702  102955.0       1.0  111.9    NaN       NaN       NaN      NaN      NaN   \n",
       "8703  102956.0       1.0  111.5    NaN       NaN       NaN      NaN      NaN   \n",
       "\n",
       "      BMXHT  BMIHT  ...  BMXLEG  BMILEG  BMXARML  BMIARML  BMXARMC  BMIARMC  \\\n",
       "0      88.6    NaN  ...     NaN     NaN     18.0      NaN     16.2      NaN   \n",
       "1      94.2    NaN  ...     NaN     NaN     18.6      NaN     15.2      NaN   \n",
       "2     158.3    NaN  ...    37.0     NaN     36.0      NaN     32.0      NaN   \n",
       "3     175.7    NaN  ...    46.6     NaN     38.8      NaN     27.0      NaN   \n",
       "4     158.4    NaN  ...    38.1     NaN     33.8      NaN     21.5      NaN   \n",
       "...     ...    ...  ...     ...     ...      ...      ...      ...      ...   \n",
       "8699  156.5    NaN  ...    34.4     NaN     32.6      NaN     25.1      NaN   \n",
       "8700  164.9    NaN  ...    38.2     NaN     36.6      NaN     40.6      NaN   \n",
       "8701  162.6    NaN  ...    39.2     NaN     35.2      NaN     26.8      NaN   \n",
       "8702  156.6    NaN  ...    39.2     NaN     35.0      NaN     44.5      NaN   \n",
       "8703  175.8    NaN  ...    42.5     NaN     38.0      NaN     40.0      NaN   \n",
       "\n",
       "      BMXWAIST  BMIWAIST  BMXHIP  BMIHIP  \n",
       "0         48.2       NaN     NaN     NaN  \n",
       "1         50.0       NaN     NaN     NaN  \n",
       "2        101.8       NaN   110.0     NaN  \n",
       "3         79.3       NaN    94.4     NaN  \n",
       "4         64.1       NaN    83.0     NaN  \n",
       "...        ...       ...     ...     ...  \n",
       "8699      82.2       NaN    87.3     NaN  \n",
       "8700     114.8       NaN   112.8     NaN  \n",
       "8701      86.4       NaN   102.7     NaN  \n",
       "8702     113.5       NaN   128.3     NaN  \n",
       "8703     122.0       NaN   110.0     NaN  \n",
       "\n",
       "[8704 rows x 21 columns]\n",
       "name: BMX_J, created: 2019-11-04 13:23:39, modified: 2019-11-04 13:23:39, sas_os: W32_8PRO, sas_version: 9.4"
      ]
     },
     "execution_count": 183,
     "metadata": {},
     "output_type": "execute_result"
    }
   ],
   "source": [
    "library['BMX_J']"
   ]
  },
  {
   "cell_type": "code",
   "execution_count": null,
   "metadata": {},
   "outputs": [],
   "source": [
    "import requests\n",
    "url = \n",
    "r= requests.get(url, allow_redirect=True)\n",
    "open('file.xpt','wb').write(r.content)\n",
    "\n"
   ]
  },
  {
   "cell_type": "markdown",
   "metadata": {},
   "source": [
    "## EDA"
   ]
  },
  {
   "cell_type": "code",
   "execution_count": 9,
   "metadata": {},
   "outputs": [],
   "source": [
    "query = '''\n",
    "SELECT DISTINCT dxx.seqn, \n",
    "\tCASE demo.riagendr WHEN '1.0' THEN 'M' WHEN '2.0' THEN 'F' ELSE demo.riagendr END, \n",
    "\tdemo.ridageyr, dxx.dxdtopf, paq.paq610, paq.paq625, paq.paq640, paq.paq655, paq.paq670, fat.category\n",
    "FROM dxx\n",
    "LEFT JOIN demo\n",
    "\tON dxx.seqn = demo.seqn\n",
    "LEFT JOIN paq\n",
    "\tON dxx.seqn = paq.seqn\n",
    "JOIN fat\n",
    "\tON demo.riagendr = fat.gender AND dxdtopf >= fat.low AND dxdtopf < fat.high\n",
    "WHERE demo.ridageyr >= 18\n",
    "ORDER BY dxx.seqn\n",
    "'''\n",
    "\n",
    "df = pd.read_sql(query, connection)\n"
   ]
  },
  {
   "cell_type": "code",
   "execution_count": 10,
   "metadata": {},
   "outputs": [
    {
     "data": {
      "text/plain": [
       "2452"
      ]
     },
     "execution_count": 10,
     "metadata": {},
     "output_type": "execute_result"
    }
   ],
   "source": [
    "len(df)"
   ]
  },
  {
   "cell_type": "code",
   "execution_count": 11,
   "metadata": {},
   "outputs": [
    {
     "data": {
      "text/html": [
       "<div>\n",
       "<style scoped>\n",
       "    .dataframe tbody tr th:only-of-type {\n",
       "        vertical-align: middle;\n",
       "    }\n",
       "\n",
       "    .dataframe tbody tr th {\n",
       "        vertical-align: top;\n",
       "    }\n",
       "\n",
       "    .dataframe thead th {\n",
       "        text-align: right;\n",
       "    }\n",
       "</style>\n",
       "<table border=\"1\" class=\"dataframe\">\n",
       "  <thead>\n",
       "    <tr style=\"text-align: right;\">\n",
       "      <th></th>\n",
       "      <th>seqn</th>\n",
       "      <th>riagendr</th>\n",
       "      <th>ridageyr</th>\n",
       "      <th>dxdtopf</th>\n",
       "      <th>paq610</th>\n",
       "      <th>paq625</th>\n",
       "      <th>paq640</th>\n",
       "      <th>paq655</th>\n",
       "      <th>paq670</th>\n",
       "      <th>category</th>\n",
       "    </tr>\n",
       "  </thead>\n",
       "  <tbody>\n",
       "    <tr>\n",
       "      <th>0</th>\n",
       "      <td>93706.0</td>\n",
       "      <td>M</td>\n",
       "      <td>18.0</td>\n",
       "      <td>22.7</td>\n",
       "      <td>NaN</td>\n",
       "      <td>NaN</td>\n",
       "      <td>5.0</td>\n",
       "      <td>NaN</td>\n",
       "      <td>2.0</td>\n",
       "      <td>Average</td>\n",
       "    </tr>\n",
       "    <tr>\n",
       "      <th>1</th>\n",
       "      <td>93711.0</td>\n",
       "      <td>M</td>\n",
       "      <td>56.0</td>\n",
       "      <td>22.8</td>\n",
       "      <td>NaN</td>\n",
       "      <td>NaN</td>\n",
       "      <td>5.0</td>\n",
       "      <td>4.0</td>\n",
       "      <td>2.0</td>\n",
       "      <td>Average</td>\n",
       "    </tr>\n",
       "    <tr>\n",
       "      <th>2</th>\n",
       "      <td>93712.0</td>\n",
       "      <td>M</td>\n",
       "      <td>18.0</td>\n",
       "      <td>16.7</td>\n",
       "      <td>6.0</td>\n",
       "      <td>6.0</td>\n",
       "      <td>NaN</td>\n",
       "      <td>4.0</td>\n",
       "      <td>3.0</td>\n",
       "      <td>Fitness</td>\n",
       "    </tr>\n",
       "    <tr>\n",
       "      <th>3</th>\n",
       "      <td>93714.0</td>\n",
       "      <td>F</td>\n",
       "      <td>54.0</td>\n",
       "      <td>42.1</td>\n",
       "      <td>NaN</td>\n",
       "      <td>NaN</td>\n",
       "      <td>NaN</td>\n",
       "      <td>NaN</td>\n",
       "      <td>NaN</td>\n",
       "      <td>Obese</td>\n",
       "    </tr>\n",
       "    <tr>\n",
       "      <th>4</th>\n",
       "      <td>93717.0</td>\n",
       "      <td>M</td>\n",
       "      <td>22.0</td>\n",
       "      <td>20.4</td>\n",
       "      <td>NaN</td>\n",
       "      <td>NaN</td>\n",
       "      <td>7.0</td>\n",
       "      <td>NaN</td>\n",
       "      <td>NaN</td>\n",
       "      <td>Average</td>\n",
       "    </tr>\n",
       "    <tr>\n",
       "      <th>...</th>\n",
       "      <td>...</td>\n",
       "      <td>...</td>\n",
       "      <td>...</td>\n",
       "      <td>...</td>\n",
       "      <td>...</td>\n",
       "      <td>...</td>\n",
       "      <td>...</td>\n",
       "      <td>...</td>\n",
       "      <td>...</td>\n",
       "      <td>...</td>\n",
       "    </tr>\n",
       "    <tr>\n",
       "      <th>2447</th>\n",
       "      <td>102935.0</td>\n",
       "      <td>F</td>\n",
       "      <td>27.0</td>\n",
       "      <td>33.7</td>\n",
       "      <td>3.0</td>\n",
       "      <td>NaN</td>\n",
       "      <td>4.0</td>\n",
       "      <td>1.0</td>\n",
       "      <td>1.0</td>\n",
       "      <td>Obese</td>\n",
       "    </tr>\n",
       "    <tr>\n",
       "      <th>2448</th>\n",
       "      <td>102944.0</td>\n",
       "      <td>M</td>\n",
       "      <td>55.0</td>\n",
       "      <td>33.4</td>\n",
       "      <td>NaN</td>\n",
       "      <td>5.0</td>\n",
       "      <td>NaN</td>\n",
       "      <td>NaN</td>\n",
       "      <td>NaN</td>\n",
       "      <td>Obese</td>\n",
       "    </tr>\n",
       "    <tr>\n",
       "      <th>2449</th>\n",
       "      <td>102948.0</td>\n",
       "      <td>F</td>\n",
       "      <td>31.0</td>\n",
       "      <td>27.7</td>\n",
       "      <td>NaN</td>\n",
       "      <td>NaN</td>\n",
       "      <td>NaN</td>\n",
       "      <td>5.0</td>\n",
       "      <td>NaN</td>\n",
       "      <td>Average</td>\n",
       "    </tr>\n",
       "    <tr>\n",
       "      <th>2450</th>\n",
       "      <td>102949.0</td>\n",
       "      <td>M</td>\n",
       "      <td>33.0</td>\n",
       "      <td>15.5</td>\n",
       "      <td>3.0</td>\n",
       "      <td>7.0</td>\n",
       "      <td>7.0</td>\n",
       "      <td>NaN</td>\n",
       "      <td>NaN</td>\n",
       "      <td>Fitness</td>\n",
       "    </tr>\n",
       "    <tr>\n",
       "      <th>2451</th>\n",
       "      <td>102954.0</td>\n",
       "      <td>F</td>\n",
       "      <td>41.0</td>\n",
       "      <td>35.4</td>\n",
       "      <td>NaN</td>\n",
       "      <td>NaN</td>\n",
       "      <td>NaN</td>\n",
       "      <td>NaN</td>\n",
       "      <td>2.0</td>\n",
       "      <td>Obese</td>\n",
       "    </tr>\n",
       "  </tbody>\n",
       "</table>\n",
       "<p>2452 rows × 10 columns</p>\n",
       "</div>"
      ],
      "text/plain": [
       "          seqn riagendr  ridageyr  dxdtopf  paq610  paq625  paq640  paq655  \\\n",
       "0      93706.0        M      18.0     22.7     NaN     NaN     5.0     NaN   \n",
       "1      93711.0        M      56.0     22.8     NaN     NaN     5.0     4.0   \n",
       "2      93712.0        M      18.0     16.7     6.0     6.0     NaN     4.0   \n",
       "3      93714.0        F      54.0     42.1     NaN     NaN     NaN     NaN   \n",
       "4      93717.0        M      22.0     20.4     NaN     NaN     7.0     NaN   \n",
       "...        ...      ...       ...      ...     ...     ...     ...     ...   \n",
       "2447  102935.0        F      27.0     33.7     3.0     NaN     4.0     1.0   \n",
       "2448  102944.0        M      55.0     33.4     NaN     5.0     NaN     NaN   \n",
       "2449  102948.0        F      31.0     27.7     NaN     NaN     NaN     5.0   \n",
       "2450  102949.0        M      33.0     15.5     3.0     7.0     7.0     NaN   \n",
       "2451  102954.0        F      41.0     35.4     NaN     NaN     NaN     NaN   \n",
       "\n",
       "      paq670 category  \n",
       "0        2.0  Average  \n",
       "1        2.0  Average  \n",
       "2        3.0  Fitness  \n",
       "3        NaN    Obese  \n",
       "4        NaN  Average  \n",
       "...      ...      ...  \n",
       "2447     1.0    Obese  \n",
       "2448     NaN    Obese  \n",
       "2449     NaN  Average  \n",
       "2450     NaN  Fitness  \n",
       "2451     2.0    Obese  \n",
       "\n",
       "[2452 rows x 10 columns]"
      ]
     },
     "execution_count": 11,
     "metadata": {},
     "output_type": "execute_result"
    }
   ],
   "source": [
    "df"
   ]
  },
  {
   "cell_type": "code",
   "execution_count": 12,
   "metadata": {},
   "outputs": [],
   "source": [
    "colnames = {\n",
    "    \"seqn\": \"id\",\n",
    "    \"riagendr\": \"gender\",\n",
    "    \"ridageyr\": \"age\",\n",
    "    \"dxdtopf\": \"body_fat\",\n",
    "    \"paq610\": \"vig_work_days\",\n",
    "    \"paq625\": \"mod_work_days\",\n",
    "    \"paq640\": \"walk_bike_days\",\n",
    "    \"paq655\": \"vig_rec_days\",\n",
    "    \"paq670\": \"mod_work_days\"\n",
    "}"
   ]
  },
  {
   "cell_type": "code",
   "execution_count": 13,
   "metadata": {},
   "outputs": [],
   "source": [
    "df = df.rename(columns = colnames)"
   ]
  },
  {
   "cell_type": "code",
   "execution_count": 14,
   "metadata": {},
   "outputs": [
    {
     "data": {
      "text/html": [
       "<div>\n",
       "<style scoped>\n",
       "    .dataframe tbody tr th:only-of-type {\n",
       "        vertical-align: middle;\n",
       "    }\n",
       "\n",
       "    .dataframe tbody tr th {\n",
       "        vertical-align: top;\n",
       "    }\n",
       "\n",
       "    .dataframe thead th {\n",
       "        text-align: right;\n",
       "    }\n",
       "</style>\n",
       "<table border=\"1\" class=\"dataframe\">\n",
       "  <thead>\n",
       "    <tr style=\"text-align: right;\">\n",
       "      <th></th>\n",
       "      <th>id</th>\n",
       "      <th>gender</th>\n",
       "      <th>age</th>\n",
       "      <th>body_fat</th>\n",
       "      <th>vig_work_days</th>\n",
       "      <th>mod_work_days</th>\n",
       "      <th>walk_bike_days</th>\n",
       "      <th>vig_rec_days</th>\n",
       "      <th>mod_work_days</th>\n",
       "      <th>category</th>\n",
       "    </tr>\n",
       "  </thead>\n",
       "  <tbody>\n",
       "    <tr>\n",
       "      <th>0</th>\n",
       "      <td>93706.0</td>\n",
       "      <td>M</td>\n",
       "      <td>18.0</td>\n",
       "      <td>22.7</td>\n",
       "      <td>NaN</td>\n",
       "      <td>NaN</td>\n",
       "      <td>5.0</td>\n",
       "      <td>NaN</td>\n",
       "      <td>2.0</td>\n",
       "      <td>Average</td>\n",
       "    </tr>\n",
       "    <tr>\n",
       "      <th>1</th>\n",
       "      <td>93711.0</td>\n",
       "      <td>M</td>\n",
       "      <td>56.0</td>\n",
       "      <td>22.8</td>\n",
       "      <td>NaN</td>\n",
       "      <td>NaN</td>\n",
       "      <td>5.0</td>\n",
       "      <td>4.0</td>\n",
       "      <td>2.0</td>\n",
       "      <td>Average</td>\n",
       "    </tr>\n",
       "    <tr>\n",
       "      <th>2</th>\n",
       "      <td>93712.0</td>\n",
       "      <td>M</td>\n",
       "      <td>18.0</td>\n",
       "      <td>16.7</td>\n",
       "      <td>6.0</td>\n",
       "      <td>6.0</td>\n",
       "      <td>NaN</td>\n",
       "      <td>4.0</td>\n",
       "      <td>3.0</td>\n",
       "      <td>Fitness</td>\n",
       "    </tr>\n",
       "    <tr>\n",
       "      <th>3</th>\n",
       "      <td>93714.0</td>\n",
       "      <td>F</td>\n",
       "      <td>54.0</td>\n",
       "      <td>42.1</td>\n",
       "      <td>NaN</td>\n",
       "      <td>NaN</td>\n",
       "      <td>NaN</td>\n",
       "      <td>NaN</td>\n",
       "      <td>NaN</td>\n",
       "      <td>Obese</td>\n",
       "    </tr>\n",
       "    <tr>\n",
       "      <th>4</th>\n",
       "      <td>93717.0</td>\n",
       "      <td>M</td>\n",
       "      <td>22.0</td>\n",
       "      <td>20.4</td>\n",
       "      <td>NaN</td>\n",
       "      <td>NaN</td>\n",
       "      <td>7.0</td>\n",
       "      <td>NaN</td>\n",
       "      <td>NaN</td>\n",
       "      <td>Average</td>\n",
       "    </tr>\n",
       "    <tr>\n",
       "      <th>...</th>\n",
       "      <td>...</td>\n",
       "      <td>...</td>\n",
       "      <td>...</td>\n",
       "      <td>...</td>\n",
       "      <td>...</td>\n",
       "      <td>...</td>\n",
       "      <td>...</td>\n",
       "      <td>...</td>\n",
       "      <td>...</td>\n",
       "      <td>...</td>\n",
       "    </tr>\n",
       "    <tr>\n",
       "      <th>2447</th>\n",
       "      <td>102935.0</td>\n",
       "      <td>F</td>\n",
       "      <td>27.0</td>\n",
       "      <td>33.7</td>\n",
       "      <td>3.0</td>\n",
       "      <td>NaN</td>\n",
       "      <td>4.0</td>\n",
       "      <td>1.0</td>\n",
       "      <td>1.0</td>\n",
       "      <td>Obese</td>\n",
       "    </tr>\n",
       "    <tr>\n",
       "      <th>2448</th>\n",
       "      <td>102944.0</td>\n",
       "      <td>M</td>\n",
       "      <td>55.0</td>\n",
       "      <td>33.4</td>\n",
       "      <td>NaN</td>\n",
       "      <td>5.0</td>\n",
       "      <td>NaN</td>\n",
       "      <td>NaN</td>\n",
       "      <td>NaN</td>\n",
       "      <td>Obese</td>\n",
       "    </tr>\n",
       "    <tr>\n",
       "      <th>2449</th>\n",
       "      <td>102948.0</td>\n",
       "      <td>F</td>\n",
       "      <td>31.0</td>\n",
       "      <td>27.7</td>\n",
       "      <td>NaN</td>\n",
       "      <td>NaN</td>\n",
       "      <td>NaN</td>\n",
       "      <td>5.0</td>\n",
       "      <td>NaN</td>\n",
       "      <td>Average</td>\n",
       "    </tr>\n",
       "    <tr>\n",
       "      <th>2450</th>\n",
       "      <td>102949.0</td>\n",
       "      <td>M</td>\n",
       "      <td>33.0</td>\n",
       "      <td>15.5</td>\n",
       "      <td>3.0</td>\n",
       "      <td>7.0</td>\n",
       "      <td>7.0</td>\n",
       "      <td>NaN</td>\n",
       "      <td>NaN</td>\n",
       "      <td>Fitness</td>\n",
       "    </tr>\n",
       "    <tr>\n",
       "      <th>2451</th>\n",
       "      <td>102954.0</td>\n",
       "      <td>F</td>\n",
       "      <td>41.0</td>\n",
       "      <td>35.4</td>\n",
       "      <td>NaN</td>\n",
       "      <td>NaN</td>\n",
       "      <td>NaN</td>\n",
       "      <td>NaN</td>\n",
       "      <td>2.0</td>\n",
       "      <td>Obese</td>\n",
       "    </tr>\n",
       "  </tbody>\n",
       "</table>\n",
       "<p>2452 rows × 10 columns</p>\n",
       "</div>"
      ],
      "text/plain": [
       "            id gender   age  body_fat  vig_work_days  mod_work_days  \\\n",
       "0      93706.0      M  18.0      22.7            NaN            NaN   \n",
       "1      93711.0      M  56.0      22.8            NaN            NaN   \n",
       "2      93712.0      M  18.0      16.7            6.0            6.0   \n",
       "3      93714.0      F  54.0      42.1            NaN            NaN   \n",
       "4      93717.0      M  22.0      20.4            NaN            NaN   \n",
       "...        ...    ...   ...       ...            ...            ...   \n",
       "2447  102935.0      F  27.0      33.7            3.0            NaN   \n",
       "2448  102944.0      M  55.0      33.4            NaN            5.0   \n",
       "2449  102948.0      F  31.0      27.7            NaN            NaN   \n",
       "2450  102949.0      M  33.0      15.5            3.0            7.0   \n",
       "2451  102954.0      F  41.0      35.4            NaN            NaN   \n",
       "\n",
       "      walk_bike_days  vig_rec_days  mod_work_days category  \n",
       "0                5.0           NaN            2.0  Average  \n",
       "1                5.0           4.0            2.0  Average  \n",
       "2                NaN           4.0            3.0  Fitness  \n",
       "3                NaN           NaN            NaN    Obese  \n",
       "4                7.0           NaN            NaN  Average  \n",
       "...              ...           ...            ...      ...  \n",
       "2447             4.0           1.0            1.0    Obese  \n",
       "2448             NaN           NaN            NaN    Obese  \n",
       "2449             NaN           5.0            NaN  Average  \n",
       "2450             7.0           NaN            NaN  Fitness  \n",
       "2451             NaN           NaN            2.0    Obese  \n",
       "\n",
       "[2452 rows x 10 columns]"
      ]
     },
     "execution_count": 14,
     "metadata": {},
     "output_type": "execute_result"
    }
   ],
   "source": [
    "df"
   ]
  },
  {
   "cell_type": "code",
   "execution_count": 15,
   "metadata": {},
   "outputs": [
    {
     "data": {
      "text/plain": [
       "id                   0\n",
       "gender               0\n",
       "age                  0\n",
       "body_fat             0\n",
       "vig_work_days     1747\n",
       "mod_work_days     1324\n",
       "walk_bike_days    1749\n",
       "vig_rec_days      1595\n",
       "mod_work_days     1336\n",
       "category             0\n",
       "dtype: int64"
      ]
     },
     "execution_count": 15,
     "metadata": {},
     "output_type": "execute_result"
    }
   ],
   "source": [
    "df.isnull().sum()"
   ]
  },
  {
   "cell_type": "code",
   "execution_count": 16,
   "metadata": {},
   "outputs": [],
   "source": [
    "df = df.fillna(value=0)"
   ]
  },
  {
   "cell_type": "code",
   "execution_count": 18,
   "metadata": {},
   "outputs": [],
   "source": [
    "import sklearn\n",
    "from sklearn.model_selection import train_test_split"
   ]
  },
  {
   "cell_type": "code",
   "execution_count": 354,
   "metadata": {},
   "outputs": [],
   "source": [
    "df_train, df_test = train_test_split(df, test_size=.20, random_state=42)"
   ]
  },
  {
   "cell_type": "code",
   "execution_count": 355,
   "metadata": {},
   "outputs": [
    {
     "data": {
      "text/html": [
       "<div>\n",
       "<style scoped>\n",
       "    .dataframe tbody tr th:only-of-type {\n",
       "        vertical-align: middle;\n",
       "    }\n",
       "\n",
       "    .dataframe tbody tr th {\n",
       "        vertical-align: top;\n",
       "    }\n",
       "\n",
       "    .dataframe thead th {\n",
       "        text-align: right;\n",
       "    }\n",
       "</style>\n",
       "<table border=\"1\" class=\"dataframe\">\n",
       "  <thead>\n",
       "    <tr style=\"text-align: right;\">\n",
       "      <th></th>\n",
       "      <th>id</th>\n",
       "      <th>age</th>\n",
       "      <th>body_fat</th>\n",
       "      <th>vig_work_days</th>\n",
       "      <th>mod_work_days</th>\n",
       "      <th>walk_bike_days</th>\n",
       "      <th>vig_rec_days</th>\n",
       "      <th>mod_work_days</th>\n",
       "    </tr>\n",
       "  </thead>\n",
       "  <tbody>\n",
       "    <tr>\n",
       "      <th>id</th>\n",
       "      <td>1.000000</td>\n",
       "      <td>0.007401</td>\n",
       "      <td>-0.013178</td>\n",
       "      <td>-0.034804</td>\n",
       "      <td>-0.053481</td>\n",
       "      <td>-0.029830</td>\n",
       "      <td>-0.031716</td>\n",
       "      <td>0.031459</td>\n",
       "    </tr>\n",
       "    <tr>\n",
       "      <th>age</th>\n",
       "      <td>0.007401</td>\n",
       "      <td>1.000000</td>\n",
       "      <td>0.186274</td>\n",
       "      <td>-0.074441</td>\n",
       "      <td>-0.060302</td>\n",
       "      <td>-0.075722</td>\n",
       "      <td>-0.252706</td>\n",
       "      <td>-0.058930</td>\n",
       "    </tr>\n",
       "    <tr>\n",
       "      <th>body_fat</th>\n",
       "      <td>-0.013178</td>\n",
       "      <td>0.186274</td>\n",
       "      <td>1.000000</td>\n",
       "      <td>-0.142347</td>\n",
       "      <td>-0.088244</td>\n",
       "      <td>-0.103957</td>\n",
       "      <td>-0.217436</td>\n",
       "      <td>-0.075629</td>\n",
       "    </tr>\n",
       "    <tr>\n",
       "      <th>vig_work_days</th>\n",
       "      <td>-0.034804</td>\n",
       "      <td>-0.074441</td>\n",
       "      <td>-0.142347</td>\n",
       "      <td>1.000000</td>\n",
       "      <td>0.343931</td>\n",
       "      <td>0.057741</td>\n",
       "      <td>0.042872</td>\n",
       "      <td>0.018735</td>\n",
       "    </tr>\n",
       "    <tr>\n",
       "      <th>mod_work_days</th>\n",
       "      <td>-0.053481</td>\n",
       "      <td>-0.060302</td>\n",
       "      <td>-0.088244</td>\n",
       "      <td>0.343931</td>\n",
       "      <td>1.000000</td>\n",
       "      <td>0.033942</td>\n",
       "      <td>0.034417</td>\n",
       "      <td>0.056682</td>\n",
       "    </tr>\n",
       "    <tr>\n",
       "      <th>walk_bike_days</th>\n",
       "      <td>-0.029830</td>\n",
       "      <td>-0.075722</td>\n",
       "      <td>-0.103957</td>\n",
       "      <td>0.057741</td>\n",
       "      <td>0.033942</td>\n",
       "      <td>1.000000</td>\n",
       "      <td>0.015264</td>\n",
       "      <td>0.050300</td>\n",
       "    </tr>\n",
       "    <tr>\n",
       "      <th>vig_rec_days</th>\n",
       "      <td>-0.031716</td>\n",
       "      <td>-0.252706</td>\n",
       "      <td>-0.217436</td>\n",
       "      <td>0.042872</td>\n",
       "      <td>0.034417</td>\n",
       "      <td>0.015264</td>\n",
       "      <td>1.000000</td>\n",
       "      <td>0.235260</td>\n",
       "    </tr>\n",
       "    <tr>\n",
       "      <th>mod_work_days</th>\n",
       "      <td>0.031459</td>\n",
       "      <td>-0.058930</td>\n",
       "      <td>-0.075629</td>\n",
       "      <td>0.018735</td>\n",
       "      <td>0.056682</td>\n",
       "      <td>0.050300</td>\n",
       "      <td>0.235260</td>\n",
       "      <td>1.000000</td>\n",
       "    </tr>\n",
       "  </tbody>\n",
       "</table>\n",
       "</div>"
      ],
      "text/plain": [
       "                      id       age  body_fat  vig_work_days  mod_work_days  \\\n",
       "id              1.000000  0.007401 -0.013178      -0.034804      -0.053481   \n",
       "age             0.007401  1.000000  0.186274      -0.074441      -0.060302   \n",
       "body_fat       -0.013178  0.186274  1.000000      -0.142347      -0.088244   \n",
       "vig_work_days  -0.034804 -0.074441 -0.142347       1.000000       0.343931   \n",
       "mod_work_days  -0.053481 -0.060302 -0.088244       0.343931       1.000000   \n",
       "walk_bike_days -0.029830 -0.075722 -0.103957       0.057741       0.033942   \n",
       "vig_rec_days   -0.031716 -0.252706 -0.217436       0.042872       0.034417   \n",
       "mod_work_days   0.031459 -0.058930 -0.075629       0.018735       0.056682   \n",
       "\n",
       "                walk_bike_days  vig_rec_days  mod_work_days  \n",
       "id                   -0.029830     -0.031716       0.031459  \n",
       "age                  -0.075722     -0.252706      -0.058930  \n",
       "body_fat             -0.103957     -0.217436      -0.075629  \n",
       "vig_work_days         0.057741      0.042872       0.018735  \n",
       "mod_work_days         0.033942      0.034417       0.056682  \n",
       "walk_bike_days        1.000000      0.015264       0.050300  \n",
       "vig_rec_days          0.015264      1.000000       0.235260  \n",
       "mod_work_days         0.050300      0.235260       1.000000  "
      ]
     },
     "execution_count": 355,
     "metadata": {},
     "output_type": "execute_result"
    }
   ],
   "source": [
    "df_train.corr()"
   ]
  },
  {
   "cell_type": "code",
   "execution_count": 356,
   "metadata": {},
   "outputs": [
    {
     "name": "stdout",
     "output_type": "stream",
     "text": [
      "<class 'pandas.core.frame.DataFrame'>\n",
      "Int64Index: 1961 entries, 1436 to 860\n",
      "Data columns (total 10 columns):\n",
      " #   Column          Non-Null Count  Dtype  \n",
      "---  ------          --------------  -----  \n",
      " 0   id              1961 non-null   float64\n",
      " 1   gender          1961 non-null   object \n",
      " 2   age             1961 non-null   float64\n",
      " 3   body_fat        1961 non-null   float64\n",
      " 4   vig_work_days   1961 non-null   float64\n",
      " 5   mod_work_days   1961 non-null   float64\n",
      " 6   walk_bike_days  1961 non-null   float64\n",
      " 7   vig_rec_days    1961 non-null   float64\n",
      " 8   mod_work_days   1961 non-null   float64\n",
      " 9   category        1961 non-null   object \n",
      "dtypes: float64(8), object(2)\n",
      "memory usage: 168.5+ KB\n"
     ]
    }
   ],
   "source": [
    "df_train.info()"
   ]
  },
  {
   "cell_type": "code",
   "execution_count": 357,
   "metadata": {},
   "outputs": [],
   "source": [
    "X_train = df_train.iloc[:,4:9]\n",
    "y_train = df_train['category']\n",
    "X_test = df_test.iloc[:,4:9]\n",
    "y_test = df_test['category']"
   ]
  },
  {
   "cell_type": "code",
   "execution_count": 358,
   "metadata": {},
   "outputs": [
    {
     "data": {
      "text/html": [
       "<div>\n",
       "<style scoped>\n",
       "    .dataframe tbody tr th:only-of-type {\n",
       "        vertical-align: middle;\n",
       "    }\n",
       "\n",
       "    .dataframe tbody tr th {\n",
       "        vertical-align: top;\n",
       "    }\n",
       "\n",
       "    .dataframe thead th {\n",
       "        text-align: right;\n",
       "    }\n",
       "</style>\n",
       "<table border=\"1\" class=\"dataframe\">\n",
       "  <thead>\n",
       "    <tr style=\"text-align: right;\">\n",
       "      <th></th>\n",
       "      <th>vig_work_days</th>\n",
       "      <th>mod_work_days</th>\n",
       "      <th>walk_bike_days</th>\n",
       "      <th>vig_rec_days</th>\n",
       "      <th>mod_work_days</th>\n",
       "    </tr>\n",
       "  </thead>\n",
       "  <tbody>\n",
       "    <tr>\n",
       "      <th>1436</th>\n",
       "      <td>2.0</td>\n",
       "      <td>0.0</td>\n",
       "      <td>0.0</td>\n",
       "      <td>0.0</td>\n",
       "      <td>0.0</td>\n",
       "    </tr>\n",
       "    <tr>\n",
       "      <th>1815</th>\n",
       "      <td>0.0</td>\n",
       "      <td>0.0</td>\n",
       "      <td>0.0</td>\n",
       "      <td>0.0</td>\n",
       "      <td>0.0</td>\n",
       "    </tr>\n",
       "    <tr>\n",
       "      <th>2157</th>\n",
       "      <td>5.0</td>\n",
       "      <td>5.0</td>\n",
       "      <td>0.0</td>\n",
       "      <td>2.0</td>\n",
       "      <td>3.0</td>\n",
       "    </tr>\n",
       "    <tr>\n",
       "      <th>2037</th>\n",
       "      <td>0.0</td>\n",
       "      <td>0.0</td>\n",
       "      <td>0.0</td>\n",
       "      <td>0.0</td>\n",
       "      <td>0.0</td>\n",
       "    </tr>\n",
       "    <tr>\n",
       "      <th>736</th>\n",
       "      <td>0.0</td>\n",
       "      <td>0.0</td>\n",
       "      <td>0.0</td>\n",
       "      <td>0.0</td>\n",
       "      <td>2.0</td>\n",
       "    </tr>\n",
       "  </tbody>\n",
       "</table>\n",
       "</div>"
      ],
      "text/plain": [
       "      vig_work_days  mod_work_days  walk_bike_days  vig_rec_days  \\\n",
       "1436            2.0            0.0             0.0           0.0   \n",
       "1815            0.0            0.0             0.0           0.0   \n",
       "2157            5.0            5.0             0.0           2.0   \n",
       "2037            0.0            0.0             0.0           0.0   \n",
       "736             0.0            0.0             0.0           0.0   \n",
       "\n",
       "      mod_work_days  \n",
       "1436            0.0  \n",
       "1815            0.0  \n",
       "2157            3.0  \n",
       "2037            0.0  \n",
       "736             2.0  "
      ]
     },
     "execution_count": 358,
     "metadata": {},
     "output_type": "execute_result"
    }
   ],
   "source": [
    "X_train.head()"
   ]
  },
  {
   "cell_type": "code",
   "execution_count": 359,
   "metadata": {},
   "outputs": [
    {
     "data": {
      "text/plain": [
       "(array([1453.,    0.,    0.,  379.,    0.,    0.,  105.,    0.,    0.,\n",
       "          24.]),\n",
       " array([0. , 0.3, 0.6, 0.9, 1.2, 1.5, 1.8, 2.1, 2.4, 2.7, 3. ]),\n",
       " <a list of 10 Patch objects>)"
      ]
     },
     "execution_count": 359,
     "metadata": {},
     "output_type": "execute_result"
    },
    {
     "data": {
      "image/png": "[encoded data removed]",
      "text/plain": [
       "<Figure size 432x288 with 1 Axes>"
      ]
     },
     "metadata": {},
     "output_type": "display_data"
    }
   ],
   "source": [
    "plt.hist(y_train)"
   ]
  },
  {
   "cell_type": "code",
   "execution_count": 110,
   "metadata": {},
   "outputs": [
    {
     "data": {
      "text/plain": [
       "1961"
      ]
     },
     "execution_count": 110,
     "metadata": {},
     "output_type": "execute_result"
    }
   ],
   "source": [
    "len(y_train)"
   ]
  },
  {
   "cell_type": "code",
   "execution_count": null,
   "metadata": {},
   "outputs": [],
   "source": [
    "#note that histogram of this indicates that there is an imbalanced problem"
   ]
  },
  {
   "cell_type": "markdown",
   "metadata": {},
   "source": [
    "## Oversampling"
   ]
  },
  {
   "cell_type": "code",
   "execution_count": 360,
   "metadata": {},
   "outputs": [],
   "source": [
    "import imblearn.over_sampling\n",
    "\n",
    "# setup for the ratio argument of RandomOverSampler initialization\n",
    "Obese = np.sum(y_train == 'Obese')\n",
    "Average = np.sum(y_train == 'Average')\n",
    "Fitness = np.sum(y_train == 'Fitness')\n",
    "Athlete = np.sum(y_train == 'Athlete')\n",
    "ratio = {'Obese': Obese, 'Average': Average * 2, 'Fitness': Fitness * 5, 'Athlete': Athlete * 10} \n"
   ]
  },
  {
   "cell_type": "code",
   "execution_count": 361,
   "metadata": {
    "collapsed": true
   },
   "outputs": [
    {
     "ename": "KeyError",
     "evalue": "'Only the Series name can be used for the key in Series dtype mappings.'",
     "output_type": "error",
     "traceback": [
      "\u001b[0;31m---------------------------------------------------------------------------\u001b[0m",
      "\u001b[0;31mKeyError\u001b[0m                                  Traceback (most recent call last)",
      "\u001b[0;32m<ipython-input-361-60c9569564c2>\u001b[0m in \u001b[0;36m<module>\u001b[0;34m\u001b[0m\n\u001b[1;32m      2\u001b[0m \u001b[0mROS\u001b[0m \u001b[0;34m=\u001b[0m \u001b[0mimblearn\u001b[0m\u001b[0;34m.\u001b[0m\u001b[0mover_sampling\u001b[0m\u001b[0;34m.\u001b[0m\u001b[0mRandomOverSampler\u001b[0m\u001b[0;34m(\u001b[0m\u001b[0msampling_strategy\u001b[0m \u001b[0;34m=\u001b[0m \u001b[0mratio\u001b[0m\u001b[0;34m,\u001b[0m \u001b[0mrandom_state\u001b[0m\u001b[0;34m=\u001b[0m\u001b[0;36m42\u001b[0m\u001b[0;34m)\u001b[0m\u001b[0;34m\u001b[0m\u001b[0;34m\u001b[0m\u001b[0m\n\u001b[1;32m      3\u001b[0m \u001b[0;34m\u001b[0m\u001b[0m\n\u001b[0;32m----> 4\u001b[0;31m \u001b[0mX_tr_rs\u001b[0m\u001b[0;34m,\u001b[0m \u001b[0my_tr_rs\u001b[0m \u001b[0;34m=\u001b[0m \u001b[0mROS\u001b[0m\u001b[0;34m.\u001b[0m\u001b[0mfit_resample\u001b[0m\u001b[0;34m(\u001b[0m\u001b[0mdf_train\u001b[0m\u001b[0;34m,\u001b[0m\u001b[0my_train\u001b[0m\u001b[0;34m)\u001b[0m\u001b[0;34m\u001b[0m\u001b[0;34m\u001b[0m\u001b[0m\n\u001b[0m",
      "\u001b[0;32m~/opt/anaconda3/envs/metis/lib/python3.8/site-packages/imblearn/base.py\u001b[0m in \u001b[0;36mfit_resample\u001b[0;34m(self, X, y)\u001b[0m\n\u001b[1;32m     86\u001b[0m               if binarize_y else output[1])\n\u001b[1;32m     87\u001b[0m \u001b[0;34m\u001b[0m\u001b[0m\n\u001b[0;32m---> 88\u001b[0;31m         \u001b[0mX_\u001b[0m\u001b[0;34m,\u001b[0m \u001b[0my_\u001b[0m \u001b[0;34m=\u001b[0m \u001b[0marrays_transformer\u001b[0m\u001b[0;34m.\u001b[0m\u001b[0mtransform\u001b[0m\u001b[0;34m(\u001b[0m\u001b[0moutput\u001b[0m\u001b[0;34m[\u001b[0m\u001b[0;36m0\u001b[0m\u001b[0;34m]\u001b[0m\u001b[0;34m,\u001b[0m \u001b[0my_\u001b[0m\u001b[0;34m)\u001b[0m\u001b[0;34m\u001b[0m\u001b[0;34m\u001b[0m\u001b[0m\n\u001b[0m\u001b[1;32m     89\u001b[0m         \u001b[0;32mreturn\u001b[0m \u001b[0;34m(\u001b[0m\u001b[0mX_\u001b[0m\u001b[0;34m,\u001b[0m \u001b[0my_\u001b[0m\u001b[0;34m)\u001b[0m \u001b[0;32mif\u001b[0m \u001b[0mlen\u001b[0m\u001b[0;34m(\u001b[0m\u001b[0moutput\u001b[0m\u001b[0;34m)\u001b[0m \u001b[0;34m==\u001b[0m \u001b[0;36m2\u001b[0m \u001b[0;32melse\u001b[0m \u001b[0;34m(\u001b[0m\u001b[0mX_\u001b[0m\u001b[0;34m,\u001b[0m \u001b[0my_\u001b[0m\u001b[0;34m,\u001b[0m \u001b[0moutput\u001b[0m\u001b[0;34m[\u001b[0m\u001b[0;36m2\u001b[0m\u001b[0;34m]\u001b[0m\u001b[0;34m)\u001b[0m\u001b[0;34m\u001b[0m\u001b[0;34m\u001b[0m\u001b[0m\n\u001b[1;32m     90\u001b[0m \u001b[0;34m\u001b[0m\u001b[0m\n",
      "\u001b[0;32m~/opt/anaconda3/envs/metis/lib/python3.8/site-packages/imblearn/utils/_validation.py\u001b[0m in \u001b[0;36mtransform\u001b[0;34m(self, X, y)\u001b[0m\n\u001b[1;32m     38\u001b[0m \u001b[0;34m\u001b[0m\u001b[0m\n\u001b[1;32m     39\u001b[0m     \u001b[0;32mdef\u001b[0m \u001b[0mtransform\u001b[0m\u001b[0;34m(\u001b[0m\u001b[0mself\u001b[0m\u001b[0;34m,\u001b[0m \u001b[0mX\u001b[0m\u001b[0;34m,\u001b[0m \u001b[0my\u001b[0m\u001b[0;34m)\u001b[0m\u001b[0;34m:\u001b[0m\u001b[0;34m\u001b[0m\u001b[0;34m\u001b[0m\u001b[0m\n\u001b[0;32m---> 40\u001b[0;31m         \u001b[0mX\u001b[0m \u001b[0;34m=\u001b[0m \u001b[0mself\u001b[0m\u001b[0;34m.\u001b[0m\u001b[0m_transfrom_one\u001b[0m\u001b[0;34m(\u001b[0m\u001b[0mX\u001b[0m\u001b[0;34m,\u001b[0m \u001b[0mself\u001b[0m\u001b[0;34m.\u001b[0m\u001b[0mx_props\u001b[0m\u001b[0;34m)\u001b[0m\u001b[0;34m\u001b[0m\u001b[0;34m\u001b[0m\u001b[0m\n\u001b[0m\u001b[1;32m     41\u001b[0m         \u001b[0my\u001b[0m \u001b[0;34m=\u001b[0m \u001b[0mself\u001b[0m\u001b[0;34m.\u001b[0m\u001b[0m_transfrom_one\u001b[0m\u001b[0;34m(\u001b[0m\u001b[0my\u001b[0m\u001b[0;34m,\u001b[0m \u001b[0mself\u001b[0m\u001b[0;34m.\u001b[0m\u001b[0my_props\u001b[0m\u001b[0;34m)\u001b[0m\u001b[0;34m\u001b[0m\u001b[0;34m\u001b[0m\u001b[0m\n\u001b[1;32m     42\u001b[0m         \u001b[0;32mreturn\u001b[0m \u001b[0mX\u001b[0m\u001b[0;34m,\u001b[0m \u001b[0my\u001b[0m\u001b[0;34m\u001b[0m\u001b[0;34m\u001b[0m\u001b[0m\n",
      "\u001b[0;32m~/opt/anaconda3/envs/metis/lib/python3.8/site-packages/imblearn/utils/_validation.py\u001b[0m in \u001b[0;36m_transfrom_one\u001b[0;34m(self, array, props)\u001b[0m\n\u001b[1;32m     57\u001b[0m             \u001b[0;32mimport\u001b[0m \u001b[0mpandas\u001b[0m \u001b[0;32mas\u001b[0m \u001b[0mpd\u001b[0m\u001b[0;34m\u001b[0m\u001b[0;34m\u001b[0m\u001b[0m\n\u001b[1;32m     58\u001b[0m             \u001b[0mret\u001b[0m \u001b[0;34m=\u001b[0m \u001b[0mpd\u001b[0m\u001b[0;34m.\u001b[0m\u001b[0mDataFrame\u001b[0m\u001b[0;34m(\u001b[0m\u001b[0marray\u001b[0m\u001b[0;34m,\u001b[0m \u001b[0mcolumns\u001b[0m\u001b[0;34m=\u001b[0m\u001b[0mprops\u001b[0m\u001b[0;34m[\u001b[0m\u001b[0;34m\"columns\"\u001b[0m\u001b[0;34m]\u001b[0m\u001b[0;34m)\u001b[0m\u001b[0;34m\u001b[0m\u001b[0;34m\u001b[0m\u001b[0m\n\u001b[0;32m---> 59\u001b[0;31m             \u001b[0mret\u001b[0m \u001b[0;34m=\u001b[0m \u001b[0mret\u001b[0m\u001b[0;34m.\u001b[0m\u001b[0mastype\u001b[0m\u001b[0;34m(\u001b[0m\u001b[0mprops\u001b[0m\u001b[0;34m[\u001b[0m\u001b[0;34m\"dtypes\"\u001b[0m\u001b[0;34m]\u001b[0m\u001b[0;34m)\u001b[0m\u001b[0;34m\u001b[0m\u001b[0;34m\u001b[0m\u001b[0m\n\u001b[0m\u001b[1;32m     60\u001b[0m         \u001b[0;32melif\u001b[0m \u001b[0mtype_\u001b[0m \u001b[0;34m==\u001b[0m \u001b[0;34m\"series\"\u001b[0m\u001b[0;34m:\u001b[0m\u001b[0;34m\u001b[0m\u001b[0;34m\u001b[0m\u001b[0m\n\u001b[1;32m     61\u001b[0m             \u001b[0;32mimport\u001b[0m \u001b[0mpandas\u001b[0m \u001b[0;32mas\u001b[0m \u001b[0mpd\u001b[0m\u001b[0;34m\u001b[0m\u001b[0;34m\u001b[0m\u001b[0m\n",
      "\u001b[0;32m~/opt/anaconda3/envs/metis/lib/python3.8/site-packages/pandas/core/generic.py\u001b[0m in \u001b[0;36mastype\u001b[0;34m(self, dtype, copy, errors)\u001b[0m\n\u001b[1;32m   5681\u001b[0m                 \u001b[0;32mif\u001b[0m \u001b[0mcol_name\u001b[0m \u001b[0;32min\u001b[0m \u001b[0mdtype\u001b[0m\u001b[0;34m:\u001b[0m\u001b[0;34m\u001b[0m\u001b[0;34m\u001b[0m\u001b[0m\n\u001b[1;32m   5682\u001b[0m                     results.append(\n\u001b[0;32m-> 5683\u001b[0;31m                         \u001b[0mcol\u001b[0m\u001b[0;34m.\u001b[0m\u001b[0mastype\u001b[0m\u001b[0;34m(\u001b[0m\u001b[0mdtype\u001b[0m\u001b[0;34m=\u001b[0m\u001b[0mdtype\u001b[0m\u001b[0;34m[\u001b[0m\u001b[0mcol_name\u001b[0m\u001b[0;34m]\u001b[0m\u001b[0;34m,\u001b[0m \u001b[0mcopy\u001b[0m\u001b[0;34m=\u001b[0m\u001b[0mcopy\u001b[0m\u001b[0;34m,\u001b[0m \u001b[0merrors\u001b[0m\u001b[0;34m=\u001b[0m\u001b[0merrors\u001b[0m\u001b[0;34m)\u001b[0m\u001b[0;34m\u001b[0m\u001b[0;34m\u001b[0m\u001b[0m\n\u001b[0m\u001b[1;32m   5684\u001b[0m                     )\n\u001b[1;32m   5685\u001b[0m                 \u001b[0;32melse\u001b[0m\u001b[0;34m:\u001b[0m\u001b[0;34m\u001b[0m\u001b[0;34m\u001b[0m\u001b[0m\n",
      "\u001b[0;32m~/opt/anaconda3/envs/metis/lib/python3.8/site-packages/pandas/core/generic.py\u001b[0m in \u001b[0;36mastype\u001b[0;34m(self, dtype, copy, errors)\u001b[0m\n\u001b[1;32m   5664\u001b[0m             \u001b[0;32mif\u001b[0m \u001b[0mself\u001b[0m\u001b[0;34m.\u001b[0m\u001b[0mndim\u001b[0m \u001b[0;34m==\u001b[0m \u001b[0;36m1\u001b[0m\u001b[0;34m:\u001b[0m  \u001b[0;31m# i.e. Series\u001b[0m\u001b[0;34m\u001b[0m\u001b[0;34m\u001b[0m\u001b[0m\n\u001b[1;32m   5665\u001b[0m                 \u001b[0;32mif\u001b[0m \u001b[0mlen\u001b[0m\u001b[0;34m(\u001b[0m\u001b[0mdtype\u001b[0m\u001b[0;34m)\u001b[0m \u001b[0;34m>\u001b[0m \u001b[0;36m1\u001b[0m \u001b[0;32mor\u001b[0m \u001b[0mself\u001b[0m\u001b[0;34m.\u001b[0m\u001b[0mname\u001b[0m \u001b[0;32mnot\u001b[0m \u001b[0;32min\u001b[0m \u001b[0mdtype\u001b[0m\u001b[0;34m:\u001b[0m\u001b[0;34m\u001b[0m\u001b[0;34m\u001b[0m\u001b[0m\n\u001b[0;32m-> 5666\u001b[0;31m                     raise KeyError(\n\u001b[0m\u001b[1;32m   5667\u001b[0m                         \u001b[0;34m\"Only the Series name can be used for \"\u001b[0m\u001b[0;34m\u001b[0m\u001b[0;34m\u001b[0m\u001b[0m\n\u001b[1;32m   5668\u001b[0m                         \u001b[0;34m\"the key in Series dtype mappings.\"\u001b[0m\u001b[0;34m\u001b[0m\u001b[0;34m\u001b[0m\u001b[0m\n",
      "\u001b[0;31mKeyError\u001b[0m: 'Only the Series name can be used for the key in Series dtype mappings.'"
     ]
    }
   ],
   "source": [
    "#Sample code for consideration for oversampling\n",
    "# randomly oversample positive samples:\n",
    "# ROS = imblearn.over_sampling.RandomOverSampler(sampling_strategy = ratio, random_state=42) \n",
    "    \n",
    "# X_tr_rs, y_tr_rs = ROS.fit_resample(df_train,y_train)"
   ]
  },
  {
   "cell_type": "markdown",
   "metadata": {},
   "source": [
    "# Modeling"
   ]
  },
  {
   "cell_type": "code",
   "execution_count": 504,
   "metadata": {},
   "outputs": [],
   "source": [
    "from sklearn.model_selection import cross_validate\n",
    "from sklearn.model_selection import GridSearchCV\n",
    "from sklearn.linear_model import LogisticRegression\n",
    "from sklearn.tree import DecisionTreeClassifier\n",
    "from sklearn.neighbors import KNeighborsClassifier\n",
    "from sklearn.ensemble import RandomForestClassifier\n",
    "from sklearn.naive_bayes import GaussianNB\n",
    "from sklearn import metrics\n",
    "from sklearn.metrics import accuracy_score\n",
    "from sklearn.dummy import DummyClassifier\n",
    "from sklearn import tree\n",
    "from sklearn.utils import check_random_state\n",
    "import numpy as np"
   ]
  },
  {
   "cell_type": "code",
   "execution_count": 404,
   "metadata": {},
   "outputs": [],
   "source": [
    "dum = DummyClassifier(strategy='prior')\n",
    "dum_dum = dum.fit(X_train,y_train) "
   ]
  },
  {
   "cell_type": "code",
   "execution_count": 405,
   "metadata": {},
   "outputs": [
    {
     "data": {
      "text/plain": [
       "array([[0.01223865, 0.19326874, 0.05354411, 0.7409485 ],\n",
       "       [0.01223865, 0.19326874, 0.05354411, 0.7409485 ],\n",
       "       [0.01223865, 0.19326874, 0.05354411, 0.7409485 ],\n",
       "       ...,\n",
       "       [0.01223865, 0.19326874, 0.05354411, 0.7409485 ],\n",
       "       [0.01223865, 0.19326874, 0.05354411, 0.7409485 ],\n",
       "       [0.01223865, 0.19326874, 0.05354411, 0.7409485 ]])"
      ]
     },
     "execution_count": 405,
     "metadata": {},
     "output_type": "execute_result"
    }
   ],
   "source": [
    "dum_dum.predict_proba(X_test)"
   ]
  },
  {
   "cell_type": "code",
   "execution_count": 171,
   "metadata": {},
   "outputs": [
    {
     "data": {
      "text/plain": [
       "0.1852371239163692"
      ]
     },
     "execution_count": 171,
     "metadata": {},
     "output_type": "execute_result"
    }
   ],
   "source": [
    "metrics.precision_score(y_train, dum_dum.predict(y_train), average = 'macro')\n",
    "#note that micro will simply calculate true positives / (TP+FP), in multiclass this equals TP/all guesses = 74%\n",
    "#macro will calculate TP/(TP+FP) for each class, then average across. In naive case, this is 74%*0.25 = 0.185 because obese is one of 4 classes \n",
    "#weighted this is 74%* 74% (precision for obese*obese percentage) + 0%*19% (percentage average) + 0*5%(percent fit) +0*2% (percent athlete) because obese is weighted"
   ]
  },
  {
   "cell_type": "code",
   "execution_count": 432,
   "metadata": {},
   "outputs": [
    {
     "data": {
      "text/plain": [
       "0.1852371239163692"
      ]
     },
     "execution_count": 432,
     "metadata": {},
     "output_type": "execute_result"
    }
   ],
   "source": [
    "metrics.precision_score(y_train, dum_dum.predict(X_train), average = 'macro', zero_division = 0)"
   ]
  },
  {
   "cell_type": "code",
   "execution_count": 34,
   "metadata": {},
   "outputs": [],
   "source": [
    "import graphviz"
   ]
  },
  {
   "cell_type": "code",
   "execution_count": null,
   "metadata": {},
   "outputs": [],
   "source": [
    "#Process\n",
    "#For each algorithm - Decision Tree, KNeighbors, Logistic Regression, XGBoost -:\n",
    "    \n",
    "#    Find the best parameters for each algorithm"
   ]
  },
  {
   "cell_type": "code",
   "execution_count": 228,
   "metadata": {},
   "outputs": [],
   "source": [
    "from sklearn.metrics import make_scorer"
   ]
  },
  {
   "cell_type": "code",
   "execution_count": 425,
   "metadata": {},
   "outputs": [],
   "source": [
    "my_scorer = make_scorer(metrics.precision_score,average='macro',zero_division=0)"
   ]
  },
  {
   "cell_type": "markdown",
   "metadata": {},
   "source": [
    "### Decision Tree"
   ]
  },
  {
   "cell_type": "code",
   "execution_count": 426,
   "metadata": {},
   "outputs": [],
   "source": [
    "DTC = DecisionTreeClassifier(class_weight= {'Obese':1,'Average':2,'Fitness':5,'Athlete':10})\n",
    "parameters = {'max_depth':range(2,11)}\n",
    "DTC_mod_CV = GridSearchCV(DTC, parameters,scoring=my_scorer)\n",
    "DTC_fitted = DTC_mod_CV.fit(X_train,y_train)"
   ]
  },
  {
   "cell_type": "code",
   "execution_count": 431,
   "metadata": {},
   "outputs": [
    {
     "name": "stdout",
     "output_type": "stream",
     "text": [
      "{'max_depth': 5}\n",
      "0.3182618209613807\n"
     ]
    }
   ],
   "source": [
    "print(DTC_fitted.best_params_)\n",
    "print(DTC_fitted.best_score_)"
   ]
  },
  {
   "cell_type": "code",
   "execution_count": 493,
   "metadata": {},
   "outputs": [
    {
     "data": {
      "text/html": [
       "<div>\n",
       "<style scoped>\n",
       "    .dataframe tbody tr th:only-of-type {\n",
       "        vertical-align: middle;\n",
       "    }\n",
       "\n",
       "    .dataframe tbody tr th {\n",
       "        vertical-align: top;\n",
       "    }\n",
       "\n",
       "    .dataframe thead th {\n",
       "        text-align: right;\n",
       "    }\n",
       "</style>\n",
       "<table border=\"1\" class=\"dataframe\">\n",
       "  <thead>\n",
       "    <tr style=\"text-align: right;\">\n",
       "      <th></th>\n",
       "      <th>Athlete</th>\n",
       "      <th>Fitness</th>\n",
       "      <th>Average</th>\n",
       "      <th>Obese</th>\n",
       "    </tr>\n",
       "  </thead>\n",
       "  <tbody>\n",
       "    <tr>\n",
       "      <th>Athlete</th>\n",
       "      <td>9</td>\n",
       "      <td>2</td>\n",
       "      <td>1</td>\n",
       "      <td>12</td>\n",
       "    </tr>\n",
       "    <tr>\n",
       "      <th>Fitness</th>\n",
       "      <td>4</td>\n",
       "      <td>33</td>\n",
       "      <td>18</td>\n",
       "      <td>50</td>\n",
       "    </tr>\n",
       "    <tr>\n",
       "      <th>Average</th>\n",
       "      <td>12</td>\n",
       "      <td>21</td>\n",
       "      <td>109</td>\n",
       "      <td>237</td>\n",
       "    </tr>\n",
       "    <tr>\n",
       "      <th>Obese</th>\n",
       "      <td>42</td>\n",
       "      <td>68</td>\n",
       "      <td>159</td>\n",
       "      <td>1184</td>\n",
       "    </tr>\n",
       "  </tbody>\n",
       "</table>\n",
       "</div>"
      ],
      "text/plain": [
       "         Athlete  Fitness  Average  Obese\n",
       "Athlete        9        2        1     12\n",
       "Fitness        4       33       18     50\n",
       "Average       12       21      109    237\n",
       "Obese         42       68      159   1184"
      ]
     },
     "execution_count": 493,
     "metadata": {},
     "output_type": "execute_result"
    }
   ],
   "source": [
    "conf = metrics.confusion_matrix(y_train, DTC_fitted.predict(X_train),labels=['Athlete','Fitness','Average','Obese'])\n",
    "conf = pd.DataFrame(conf, columns=['Athlete','Fitness','Average','Obese'], index = ['Athlete','Fitness','Average','Obese'])\n",
    "conf"
   ]
  },
  {
   "cell_type": "code",
   "execution_count": 54,
   "metadata": {},
   "outputs": [],
   "source": [
    "import seaborn as sns"
   ]
  },
  {
   "cell_type": "code",
   "execution_count": 55,
   "metadata": {},
   "outputs": [],
   "source": [
    "import matplotlib.pyplot as plt"
   ]
  },
  {
   "cell_type": "code",
   "execution_count": 53,
   "metadata": {},
   "outputs": [
    {
     "data": {
      "text/html": [
       "<div>\n",
       "<style scoped>\n",
       "    .dataframe tbody tr th:only-of-type {\n",
       "        vertical-align: middle;\n",
       "    }\n",
       "\n",
       "    .dataframe tbody tr th {\n",
       "        vertical-align: top;\n",
       "    }\n",
       "\n",
       "    .dataframe thead th {\n",
       "        text-align: right;\n",
       "    }\n",
       "</style>\n",
       "<table border=\"1\" class=\"dataframe\">\n",
       "  <thead>\n",
       "    <tr style=\"text-align: right;\">\n",
       "      <th></th>\n",
       "      <th>Athlete</th>\n",
       "      <th>Fitness</th>\n",
       "      <th>Average</th>\n",
       "      <th>Obese</th>\n",
       "    </tr>\n",
       "  </thead>\n",
       "  <tbody>\n",
       "    <tr>\n",
       "      <th>Athlete</th>\n",
       "      <td>0</td>\n",
       "      <td>1</td>\n",
       "      <td>0</td>\n",
       "      <td>3</td>\n",
       "    </tr>\n",
       "    <tr>\n",
       "      <th>Fitness</th>\n",
       "      <td>0</td>\n",
       "      <td>1</td>\n",
       "      <td>3</td>\n",
       "      <td>18</td>\n",
       "    </tr>\n",
       "    <tr>\n",
       "      <th>Average</th>\n",
       "      <td>0</td>\n",
       "      <td>0</td>\n",
       "      <td>11</td>\n",
       "      <td>82</td>\n",
       "    </tr>\n",
       "    <tr>\n",
       "      <th>Obese</th>\n",
       "      <td>0</td>\n",
       "      <td>9</td>\n",
       "      <td>26</td>\n",
       "      <td>337</td>\n",
       "    </tr>\n",
       "  </tbody>\n",
       "</table>\n",
       "</div>"
      ],
      "text/plain": [
       "         Athlete  Fitness  Average  Obese\n",
       "Athlete        0        1        0      3\n",
       "Fitness        0        1        3     18\n",
       "Average        0        0       11     82\n",
       "Obese          0        9       26    337"
      ]
     },
     "execution_count": 53,
     "metadata": {},
     "output_type": "execute_result"
    }
   ],
   "source": [
    "test_conf"
   ]
  },
  {
   "cell_type": "code",
   "execution_count": 440,
   "metadata": {},
   "outputs": [
    {
     "data": {
      "text/plain": [
       "<matplotlib.axes._subplots.AxesSubplot at 0x7fb87bdd5ac0>"
      ]
     },
     "execution_count": 440,
     "metadata": {},
     "output_type": "execute_result"
    },
    {
     "data": {
      "image/png": "[encoded data removed]",
      "text/plain": [
       "<Figure size 432x288 with 2 Axes>"
      ]
     },
     "metadata": {},
     "output_type": "display_data"
    }
   ],
   "source": [
    "sns.heatmap(test_conf, annot = True, cmap=\"Reds\")"
   ]
  },
  {
   "cell_type": "code",
   "execution_count": 441,
   "metadata": {},
   "outputs": [],
   "source": [
    "naive_conf = metrics.confusion_matrix(y_test, dum_dum.predict(X_test),labels=['Athlete','Average','Fitness','Obese'])"
   ]
  },
  {
   "cell_type": "code",
   "execution_count": 442,
   "metadata": {},
   "outputs": [
    {
     "data": {
      "text/plain": [
       "array([[  0,   0,   0,   4],\n",
       "       [  0,   0,   0,  93],\n",
       "       [  0,   0,   0,  22],\n",
       "       [  0,   0,   0, 372]])"
      ]
     },
     "execution_count": 442,
     "metadata": {},
     "output_type": "execute_result"
    }
   ],
   "source": [
    "naive_conf"
   ]
  },
  {
   "cell_type": "markdown",
   "metadata": {},
   "source": [
    "### K-nearest Neighbors"
   ]
  },
  {
   "cell_type": "code",
   "execution_count": null,
   "metadata": {},
   "outputs": [],
   "source": []
  },
  {
   "cell_type": "code",
   "execution_count": 445,
   "metadata": {},
   "outputs": [],
   "source": [
    "KNN = KNeighborsClassifier()\n",
    "parameters = {'n_neighbors':range(2,11)}\n",
    "KNN_mod_CV = GridSearchCV(KNN, parameters,scoring=my_scorer)\n",
    "KNN_fitted = KNN_mod_CV.fit(X_train,y_train)"
   ]
  },
  {
   "cell_type": "code",
   "execution_count": 446,
   "metadata": {},
   "outputs": [
    {
     "name": "stdout",
     "output_type": "stream",
     "text": [
      "{'n_neighbors': 7}\n",
      "0.33828455139122654\n"
     ]
    }
   ],
   "source": [
    "print(KNN_fitted.best_params_)\n",
    "print(KNN_fitted.best_score_)"
   ]
  },
  {
   "cell_type": "code",
   "execution_count": 492,
   "metadata": {},
   "outputs": [
    {
     "data": {
      "text/html": [
       "<div>\n",
       "<style scoped>\n",
       "    .dataframe tbody tr th:only-of-type {\n",
       "        vertical-align: middle;\n",
       "    }\n",
       "\n",
       "    .dataframe tbody tr th {\n",
       "        vertical-align: top;\n",
       "    }\n",
       "\n",
       "    .dataframe thead th {\n",
       "        text-align: right;\n",
       "    }\n",
       "</style>\n",
       "<table border=\"1\" class=\"dataframe\">\n",
       "  <thead>\n",
       "    <tr style=\"text-align: right;\">\n",
       "      <th></th>\n",
       "      <th>Athlete</th>\n",
       "      <th>Fitness</th>\n",
       "      <th>Average</th>\n",
       "      <th>Obese</th>\n",
       "    </tr>\n",
       "  </thead>\n",
       "  <tbody>\n",
       "    <tr>\n",
       "      <th>Athlete</th>\n",
       "      <td>0</td>\n",
       "      <td>0</td>\n",
       "      <td>3</td>\n",
       "      <td>21</td>\n",
       "    </tr>\n",
       "    <tr>\n",
       "      <th>Fitness</th>\n",
       "      <td>0</td>\n",
       "      <td>7</td>\n",
       "      <td>21</td>\n",
       "      <td>77</td>\n",
       "    </tr>\n",
       "    <tr>\n",
       "      <th>Average</th>\n",
       "      <td>0</td>\n",
       "      <td>5</td>\n",
       "      <td>83</td>\n",
       "      <td>291</td>\n",
       "    </tr>\n",
       "    <tr>\n",
       "      <th>Obese</th>\n",
       "      <td>0</td>\n",
       "      <td>7</td>\n",
       "      <td>70</td>\n",
       "      <td>1376</td>\n",
       "    </tr>\n",
       "  </tbody>\n",
       "</table>\n",
       "</div>"
      ],
      "text/plain": [
       "         Athlete  Fitness  Average  Obese\n",
       "Athlete        0        0        3     21\n",
       "Fitness        0        7       21     77\n",
       "Average        0        5       83    291\n",
       "Obese          0        7       70   1376"
      ]
     },
     "execution_count": 492,
     "metadata": {},
     "output_type": "execute_result"
    }
   ],
   "source": [
    "conf = metrics.confusion_matrix(y_train, KNN_fitted.predict(X_train),labels=['Athlete','Fitness','Average','Obese'])\n",
    "conf = pd.DataFrame(conf, columns=['Athlete','Fitness','Average','Obese'], index = ['Athlete','Fitness','Average','Obese'])\n",
    "conf"
   ]
  },
  {
   "cell_type": "markdown",
   "metadata": {},
   "source": [
    "### Logistic Regression"
   ]
  },
  {
   "cell_type": "code",
   "execution_count": 468,
   "metadata": {},
   "outputs": [],
   "source": [
    "LR = LogisticRegression(class_weight= {'Obese':1,'Average':2,'Fitness':5,'Athlete':10},solver='liblinear')\n",
    "parameters = {'C':np.arange(.01,1.1,.02)}\n",
    "LR_mod_CV = GridSearchCV(LR, parameters,scoring=my_scorer)\n",
    "LR_fitted = LR_mod_CV.fit(X_train,y_train)"
   ]
  },
  {
   "cell_type": "code",
   "execution_count": 469,
   "metadata": {},
   "outputs": [
    {
     "name": "stdout",
     "output_type": "stream",
     "text": [
      "{'C': 0.049999999999999996}\n",
      "0.2951547367587558\n"
     ]
    }
   ],
   "source": [
    "print(LR_fitted.best_params_)\n",
    "print(LR_fitted.best_score_)"
   ]
  },
  {
   "cell_type": "code",
   "execution_count": 491,
   "metadata": {},
   "outputs": [
    {
     "data": {
      "text/html": [
       "<div>\n",
       "<style scoped>\n",
       "    .dataframe tbody tr th:only-of-type {\n",
       "        vertical-align: middle;\n",
       "    }\n",
       "\n",
       "    .dataframe tbody tr th {\n",
       "        vertical-align: top;\n",
       "    }\n",
       "\n",
       "    .dataframe thead th {\n",
       "        text-align: right;\n",
       "    }\n",
       "</style>\n",
       "<table border=\"1\" class=\"dataframe\">\n",
       "  <thead>\n",
       "    <tr style=\"text-align: right;\">\n",
       "      <th></th>\n",
       "      <th>Athlete</th>\n",
       "      <th>Fitness</th>\n",
       "      <th>Average</th>\n",
       "      <th>Obese</th>\n",
       "    </tr>\n",
       "  </thead>\n",
       "  <tbody>\n",
       "    <tr>\n",
       "      <th>Athlete</th>\n",
       "      <td>1</td>\n",
       "      <td>0</td>\n",
       "      <td>3</td>\n",
       "      <td>20</td>\n",
       "    </tr>\n",
       "    <tr>\n",
       "      <th>Fitness</th>\n",
       "      <td>0</td>\n",
       "      <td>1</td>\n",
       "      <td>8</td>\n",
       "      <td>96</td>\n",
       "    </tr>\n",
       "    <tr>\n",
       "      <th>Average</th>\n",
       "      <td>0</td>\n",
       "      <td>2</td>\n",
       "      <td>22</td>\n",
       "      <td>355</td>\n",
       "    </tr>\n",
       "    <tr>\n",
       "      <th>Obese</th>\n",
       "      <td>0</td>\n",
       "      <td>0</td>\n",
       "      <td>38</td>\n",
       "      <td>1415</td>\n",
       "    </tr>\n",
       "  </tbody>\n",
       "</table>\n",
       "</div>"
      ],
      "text/plain": [
       "         Athlete  Fitness  Average  Obese\n",
       "Athlete        1        0        3     20\n",
       "Fitness        0        1        8     96\n",
       "Average        0        2       22    355\n",
       "Obese          0        0       38   1415"
      ]
     },
     "execution_count": 491,
     "metadata": {},
     "output_type": "execute_result"
    }
   ],
   "source": [
    "conf = metrics.confusion_matrix(y_train, LR_fitted.predict(X_train),labels=['Athlete','Fitness','Average','Obese'])\n",
    "conf = pd.DataFrame(conf, columns=['Athlete','Fitness','Average','Obese'], index = ['Athlete','Fitness','Average','Obese'])\n",
    "conf"
   ]
  },
  {
   "cell_type": "markdown",
   "metadata": {},
   "source": [
    "### Random Forest"
   ]
  },
  {
   "cell_type": "code",
   "execution_count": 500,
   "metadata": {},
   "outputs": [],
   "source": [
    "RF = RandomForestClassifier(class_weight= {'Obese':1,'Average':2,'Fitness':5,'Athlete':10})\n",
    "parameters = {'n_estimators':range(20,100,10),'min_samples_split':[2],'criterion':[\"gini\",\"entropy\"]}\n",
    "RF_mod_CV = GridSearchCV(RF,parameters,scoring=my_scorer)\n",
    "RF_fitted = RF_mod_CV.fit(X_train,y_train)"
   ]
  },
  {
   "cell_type": "code",
   "execution_count": 501,
   "metadata": {},
   "outputs": [
    {
     "name": "stdout",
     "output_type": "stream",
     "text": [
      "{'criterion': 'gini', 'min_samples_split': 2, 'n_estimators': 30}\n",
      "0.2810879117487418\n"
     ]
    }
   ],
   "source": [
    "print(RF_fitted.best_params_)\n",
    "print(RF_fitted.best_score_)"
   ]
  },
  {
   "cell_type": "code",
   "execution_count": 502,
   "metadata": {},
   "outputs": [
    {
     "data": {
      "text/html": [
       "<div>\n",
       "<style scoped>\n",
       "    .dataframe tbody tr th:only-of-type {\n",
       "        vertical-align: middle;\n",
       "    }\n",
       "\n",
       "    .dataframe tbody tr th {\n",
       "        vertical-align: top;\n",
       "    }\n",
       "\n",
       "    .dataframe thead th {\n",
       "        text-align: right;\n",
       "    }\n",
       "</style>\n",
       "<table border=\"1\" class=\"dataframe\">\n",
       "  <thead>\n",
       "    <tr style=\"text-align: right;\">\n",
       "      <th></th>\n",
       "      <th>Athlete</th>\n",
       "      <th>Fitness</th>\n",
       "      <th>Average</th>\n",
       "      <th>Obese</th>\n",
       "    </tr>\n",
       "  </thead>\n",
       "  <tbody>\n",
       "    <tr>\n",
       "      <th>Athlete</th>\n",
       "      <td>15</td>\n",
       "      <td>0</td>\n",
       "      <td>0</td>\n",
       "      <td>9</td>\n",
       "    </tr>\n",
       "    <tr>\n",
       "      <th>Fitness</th>\n",
       "      <td>1</td>\n",
       "      <td>66</td>\n",
       "      <td>2</td>\n",
       "      <td>36</td>\n",
       "    </tr>\n",
       "    <tr>\n",
       "      <th>Average</th>\n",
       "      <td>2</td>\n",
       "      <td>10</td>\n",
       "      <td>217</td>\n",
       "      <td>150</td>\n",
       "    </tr>\n",
       "    <tr>\n",
       "      <th>Obese</th>\n",
       "      <td>12</td>\n",
       "      <td>32</td>\n",
       "      <td>75</td>\n",
       "      <td>1334</td>\n",
       "    </tr>\n",
       "  </tbody>\n",
       "</table>\n",
       "</div>"
      ],
      "text/plain": [
       "         Athlete  Fitness  Average  Obese\n",
       "Athlete       15        0        0      9\n",
       "Fitness        1       66        2     36\n",
       "Average        2       10      217    150\n",
       "Obese         12       32       75   1334"
      ]
     },
     "execution_count": 502,
     "metadata": {},
     "output_type": "execute_result"
    }
   ],
   "source": [
    "conf = metrics.confusion_matrix(y_train, RF_fitted.predict(X_train),labels=['Athlete','Fitness','Average','Obese'])\n",
    "conf = pd.DataFrame(conf, columns=['Athlete','Fitness','Average','Obese'], index = ['Athlete','Fitness','Average','Obese'])\n",
    "conf"
   ]
  },
  {
   "cell_type": "markdown",
   "metadata": {},
   "source": [
    "### Naive Bayes"
   ]
  },
  {
   "cell_type": "code",
   "execution_count": 543,
   "metadata": {},
   "outputs": [],
   "source": [
    "NB = GaussianNB()\n",
    "parameters = {'priors': [None,[0.25,0.25,0.25,0.25],[0.2,0.3,0.2,0.3]]}\n",
    "NB_mod_CV = GridSearchCV(NB,parameters,scoring=my_scorer)\n",
    "NB_fitted = NB_mod_CV.fit(X_train,y_train)"
   ]
  },
  {
   "cell_type": "code",
   "execution_count": 544,
   "metadata": {},
   "outputs": [
    {
     "data": {
      "text/plain": [
       "array([0.2, 0.3, 0.2, 0.3])"
      ]
     },
     "execution_count": 544,
     "metadata": {},
     "output_type": "execute_result"
    }
   ],
   "source": [
    "NB_fitted.best_estimator_.class_prior_"
   ]
  },
  {
   "cell_type": "code",
   "execution_count": 545,
   "metadata": {},
   "outputs": [
    {
     "name": "stdout",
     "output_type": "stream",
     "text": [
      "{'priors': [0.2, 0.3, 0.2, 0.3]}\n",
      "0.2785997784590294\n"
     ]
    }
   ],
   "source": [
    "print(NB_fitted.best_params_)\n",
    "print(NB_fitted.best_score_)"
   ]
  },
  {
   "cell_type": "code",
   "execution_count": 546,
   "metadata": {},
   "outputs": [
    {
     "data": {
      "text/html": [
       "<div>\n",
       "<style scoped>\n",
       "    .dataframe tbody tr th:only-of-type {\n",
       "        vertical-align: middle;\n",
       "    }\n",
       "\n",
       "    .dataframe tbody tr th {\n",
       "        vertical-align: top;\n",
       "    }\n",
       "\n",
       "    .dataframe thead th {\n",
       "        text-align: right;\n",
       "    }\n",
       "</style>\n",
       "<table border=\"1\" class=\"dataframe\">\n",
       "  <thead>\n",
       "    <tr style=\"text-align: right;\">\n",
       "      <th></th>\n",
       "      <th>Athlete</th>\n",
       "      <th>Fitness</th>\n",
       "      <th>Average</th>\n",
       "      <th>Obese</th>\n",
       "    </tr>\n",
       "  </thead>\n",
       "  <tbody>\n",
       "    <tr>\n",
       "      <th>Athlete</th>\n",
       "      <td>3</td>\n",
       "      <td>0</td>\n",
       "      <td>6</td>\n",
       "      <td>15</td>\n",
       "    </tr>\n",
       "    <tr>\n",
       "      <th>Fitness</th>\n",
       "      <td>9</td>\n",
       "      <td>4</td>\n",
       "      <td>30</td>\n",
       "      <td>62</td>\n",
       "    </tr>\n",
       "    <tr>\n",
       "      <th>Average</th>\n",
       "      <td>16</td>\n",
       "      <td>9</td>\n",
       "      <td>95</td>\n",
       "      <td>259</td>\n",
       "    </tr>\n",
       "    <tr>\n",
       "      <th>Obese</th>\n",
       "      <td>38</td>\n",
       "      <td>23</td>\n",
       "      <td>208</td>\n",
       "      <td>1184</td>\n",
       "    </tr>\n",
       "  </tbody>\n",
       "</table>\n",
       "</div>"
      ],
      "text/plain": [
       "         Athlete  Fitness  Average  Obese\n",
       "Athlete        3        0        6     15\n",
       "Fitness        9        4       30     62\n",
       "Average       16        9       95    259\n",
       "Obese         38       23      208   1184"
      ]
     },
     "execution_count": 546,
     "metadata": {},
     "output_type": "execute_result"
    }
   ],
   "source": [
    "conf = metrics.confusion_matrix(y_train, NB_fitted.predict(X_train),labels=['Athlete','Fitness','Average','Obese'])\n",
    "conf = pd.DataFrame(conf, columns=['Athlete','Fitness','Average','Obese'], index = ['Athlete','Fitness','Average','Obese'])\n",
    "conf"
   ]
  },
  {
   "cell_type": "code",
   "execution_count": null,
   "metadata": {},
   "outputs": [],
   "source": []
  },
  {
   "cell_type": "code",
   "execution_count": null,
   "metadata": {},
   "outputs": [],
   "source": []
  },
  {
   "cell_type": "markdown",
   "metadata": {},
   "source": [
    "## Scratch for personal scoring metrics"
   ]
  },
  {
   "cell_type": "code",
   "execution_count": 59,
   "metadata": {},
   "outputs": [],
   "source": [
    "score_points = np.array([[1,0.2,0.8,0],[0.2,1,0.4,0.6],[0.8,0.4,1,.2],[0,.6,.2,1]])"
   ]
  },
  {
   "cell_type": "code",
   "execution_count": 60,
   "metadata": {},
   "outputs": [
    {
     "data": {
      "text/plain": [
       "array([[1. , 0.2, 0.8, 0. ],\n",
       "       [0.2, 1. , 0.4, 0.6],\n",
       "       [0.8, 0.4, 1. , 0.2],\n",
       "       [0. , 0.6, 0.2, 1. ]])"
      ]
     },
     "execution_count": 60,
     "metadata": {},
     "output_type": "execute_result"
    }
   ],
   "source": [
    "score_points"
   ]
  },
  {
   "cell_type": "code",
   "execution_count": 61,
   "metadata": {},
   "outputs": [
    {
     "data": {
      "text/plain": [
       "array([[0.        , 0.22222222, 0.        , 0.77777778],\n",
       "       [0.        , 0.        , 0.        , 1.        ],\n",
       "       [0.01149425, 0.1954023 , 0.03448276, 0.75862069],\n",
       "       ...,\n",
       "       [0.01136364, 0.25      , 0.06818182, 0.67045455],\n",
       "       [0.        , 0.        , 0.        , 1.        ],\n",
       "       [0.        , 0.14673913, 0.03804348, 0.81521739]])"
      ]
     },
     "execution_count": 61,
     "metadata": {},
     "output_type": "execute_result"
    }
   ],
   "source": [
    "DTC_prob"
   ]
  },
  {
   "cell_type": "code",
   "execution_count": 62,
   "metadata": {},
   "outputs": [
    {
     "data": {
      "text/plain": [
       "2114      Obese\n",
       "700       Obese\n",
       "1165    Average\n",
       "2416    Average\n",
       "1626      Obese\n",
       "         ...   \n",
       "1491      Obese\n",
       "192       Obese\n",
       "289       Obese\n",
       "174     Average\n",
       "907       Obese\n",
       "Name: category, Length: 491, dtype: object"
      ]
     },
     "execution_count": 62,
     "metadata": {},
     "output_type": "execute_result"
    }
   ],
   "source": [
    "y_test"
   ]
  },
  {
   "cell_type": "code",
   "execution_count": 63,
   "metadata": {},
   "outputs": [],
   "source": [
    "from sklearn.preprocessing import LabelBinarizer"
   ]
  },
  {
   "cell_type": "code",
   "execution_count": 64,
   "metadata": {},
   "outputs": [
    {
     "data": {
      "text/plain": [
       "LabelBinarizer()"
      ]
     },
     "execution_count": 64,
     "metadata": {},
     "output_type": "execute_result"
    }
   ],
   "source": [
    "lb = LabelBinarizer()\n",
    "lb.fit(['Athlete','Average','Fitness','Obese'])"
   ]
  },
  {
   "cell_type": "code",
   "execution_count": 65,
   "metadata": {},
   "outputs": [
    {
     "data": {
      "text/plain": [
       "array([[0, 0, 0, 1],\n",
       "       [0, 0, 0, 1],\n",
       "       [0, 1, 0, 0],\n",
       "       ...,\n",
       "       [0, 0, 0, 1],\n",
       "       [0, 1, 0, 0],\n",
       "       [0, 0, 0, 1]])"
      ]
     },
     "execution_count": 65,
     "metadata": {},
     "output_type": "execute_result"
    }
   ],
   "source": [
    "y_test_bin = lb.transform(y_test)\n",
    "y_test_bin"
   ]
  },
  {
   "cell_type": "code",
   "execution_count": 66,
   "metadata": {},
   "outputs": [
    {
     "data": {
      "text/plain": [
       "491"
      ]
     },
     "execution_count": 66,
     "metadata": {},
     "output_type": "execute_result"
    }
   ],
   "source": [
    "len(y_test_bin)"
   ]
  },
  {
   "cell_type": "code",
   "execution_count": 67,
   "metadata": {},
   "outputs": [
    {
     "data": {
      "text/plain": [
       "array([0, 0, 0, 1])"
      ]
     },
     "execution_count": 67,
     "metadata": {},
     "output_type": "execute_result"
    }
   ],
   "source": [
    "y_test_bin[0]"
   ]
  },
  {
   "cell_type": "code",
   "execution_count": 68,
   "metadata": {},
   "outputs": [
    {
     "data": {
      "text/plain": [
       "491"
      ]
     },
     "execution_count": 68,
     "metadata": {},
     "output_type": "execute_result"
    }
   ],
   "source": [
    "len(np.matmul(y_test_bin,score_points))"
   ]
  },
  {
   "cell_type": "code",
   "execution_count": 69,
   "metadata": {},
   "outputs": [],
   "source": [
    "interstep = np.matmul(y_test_bin,score_points)"
   ]
  },
  {
   "cell_type": "code",
   "execution_count": 70,
   "metadata": {},
   "outputs": [
    {
     "data": {
      "text/plain": [
       "array([0. , 0.6, 0.2, 1. ])"
      ]
     },
     "execution_count": 70,
     "metadata": {},
     "output_type": "execute_result"
    }
   ],
   "source": [
    "interstep[0]"
   ]
  },
  {
   "cell_type": "code",
   "execution_count": 71,
   "metadata": {},
   "outputs": [
    {
     "data": {
      "text/plain": [
       "array([0.        , 0.22222222, 0.        , 0.77777778])"
      ]
     },
     "execution_count": 71,
     "metadata": {},
     "output_type": "execute_result"
    }
   ],
   "source": [
    "DTC_prob[0]"
   ]
  },
  {
   "cell_type": "code",
   "execution_count": 72,
   "metadata": {},
   "outputs": [],
   "source": [
    "fin = interstep*DTC_prob"
   ]
  },
  {
   "cell_type": "code",
   "execution_count": 73,
   "metadata": {},
   "outputs": [
    {
     "data": {
      "text/plain": [
       "491"
      ]
     },
     "execution_count": 73,
     "metadata": {},
     "output_type": "execute_result"
    }
   ],
   "source": [
    "len(fin)"
   ]
  },
  {
   "cell_type": "code",
   "execution_count": 74,
   "metadata": {},
   "outputs": [],
   "source": [
    "fin_score = fin.sum()/len(fin)"
   ]
  },
  {
   "cell_type": "code",
   "execution_count": 75,
   "metadata": {},
   "outputs": [
    {
     "data": {
      "text/plain": [
       "0.8089475371046769"
      ]
     },
     "execution_count": 75,
     "metadata": {},
     "output_type": "execute_result"
    }
   ],
   "source": [
    "fin_score"
   ]
  }
 ],
 "metadata": {
  "kernelspec": {
   "display_name": "Python [conda env:metis] *",
   "language": "python",
   "name": "conda-env-metis-py"
  },
  "language_info": {
   "codemirror_mode": {
    "name": "ipython",
    "version": 3
   },
   "file_extension": ".py",
   "mimetype": "text/x-python",
   "name": "python",
   "nbconvert_exporter": "python",
   "pygments_lexer": "ipython3",
   "version": "3.8.3"
  }
 },
 "nbformat": 4,
 "nbformat_minor": 4
}
