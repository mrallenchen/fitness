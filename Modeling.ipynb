{
 "cells": [
  {
   "cell_type": "code",
   "execution_count": 1,
   "metadata": {},
   "outputs": [],
   "source": [
    "# Get pandas and postgres to work together\n",
    "import psycopg2 as pg\n",
    "import pandas as pd\n",
    "\n",
    "# We are also going to do some basic viz\n",
    "import seaborn as sns\n",
    "import matplotlib.pyplot as plt\n",
    "%matplotlib inline\n",
    "\n",
    "from imblearn.over_sampling import RandomOverSampler, SMOTE, ADASYN\n",
    "import pickle\n",
    "import numpy as np"
   ]
  },
  {
   "cell_type": "code",
   "execution_count": 2,
   "metadata": {},
   "outputs": [],
   "source": [
    "sns.set_context('notebook')\n",
    "sns.set_style('whitegrid')"
   ]
  },
  {
   "cell_type": "code",
   "execution_count": 3,
   "metadata": {},
   "outputs": [],
   "source": [
    "with open('data/df_all.pickle', 'rb') as f:\n",
    "    df = pickle.load(f)"
   ]
  },
  {
   "cell_type": "markdown",
   "metadata": {},
   "source": [
    "## Split data into train and test"
   ]
  },
  {
   "cell_type": "code",
   "execution_count": 4,
   "metadata": {},
   "outputs": [
    {
     "data": {
      "text/plain": [
       "11826"
      ]
     },
     "execution_count": 4,
     "metadata": {},
     "output_type": "execute_result"
    }
   ],
   "source": [
    "len(df)"
   ]
  },
  {
   "cell_type": "code",
   "execution_count": 5,
   "metadata": {},
   "outputs": [],
   "source": [
    "import sklearn\n",
    "from sklearn.model_selection import train_test_split"
   ]
  },
  {
   "cell_type": "code",
   "execution_count": 6,
   "metadata": {},
   "outputs": [],
   "source": [
    "df_train, df_test = train_test_split(df, test_size=.20, random_state=42)"
   ]
  },
  {
   "cell_type": "code",
   "execution_count": 7,
   "metadata": {},
   "outputs": [],
   "source": [
    "X_train = df_train.iloc[:,6:31]\n",
    "y_train = df_train['category']\n",
    "X_test = df_test.iloc[:,6:31]\n",
    "y_test = df_test['category']"
   ]
  },
  {
   "cell_type": "code",
   "execution_count": 8,
   "metadata": {},
   "outputs": [
    {
     "data": {
      "text/plain": [
       "32"
      ]
     },
     "execution_count": 8,
     "metadata": {},
     "output_type": "execute_result"
    }
   ],
   "source": [
    "len(df.columns)"
   ]
  },
  {
   "cell_type": "code",
   "execution_count": 9,
   "metadata": {},
   "outputs": [
    {
     "data": {
      "text/html": [
       "<div>\n",
       "<style scoped>\n",
       "    .dataframe tbody tr th:only-of-type {\n",
       "        vertical-align: middle;\n",
       "    }\n",
       "\n",
       "    .dataframe tbody tr th {\n",
       "        vertical-align: top;\n",
       "    }\n",
       "\n",
       "    .dataframe thead th {\n",
       "        text-align: right;\n",
       "    }\n",
       "</style>\n",
       "<table border=\"1\" class=\"dataframe\">\n",
       "  <thead>\n",
       "    <tr style=\"text-align: right;\">\n",
       "      <th></th>\n",
       "      <th>ate_less</th>\n",
       "      <th>low_cal_foods</th>\n",
       "      <th>ate_less_fat</th>\n",
       "      <th>exercise</th>\n",
       "      <th>skip_meals</th>\n",
       "      <th>'diet'_foods</th>\n",
       "      <th>liquid_diet</th>\n",
       "      <th>wt_loss_program</th>\n",
       "      <th>rx_diet_pills</th>\n",
       "      <th>non-rx_diet_pills</th>\n",
       "      <th>...</th>\n",
       "      <th>fruit_veg_salad</th>\n",
       "      <th>change_eat_habits</th>\n",
       "      <th>less_sugar</th>\n",
       "      <th>less_junk_fast</th>\n",
       "      <th>surgery</th>\n",
       "      <th>vig_work_days</th>\n",
       "      <th>mod_work_days</th>\n",
       "      <th>walk_bike_days</th>\n",
       "      <th>vig_rec_days</th>\n",
       "      <th>mod_rec_days</th>\n",
       "    </tr>\n",
       "  </thead>\n",
       "  <tbody>\n",
       "    <tr>\n",
       "      <th>1199</th>\n",
       "      <td>0</td>\n",
       "      <td>0</td>\n",
       "      <td>0</td>\n",
       "      <td>0</td>\n",
       "      <td>0</td>\n",
       "      <td>0</td>\n",
       "      <td>0</td>\n",
       "      <td>0</td>\n",
       "      <td>0</td>\n",
       "      <td>0</td>\n",
       "      <td>...</td>\n",
       "      <td>0</td>\n",
       "      <td>0</td>\n",
       "      <td>0</td>\n",
       "      <td>0</td>\n",
       "      <td>0</td>\n",
       "      <td>0.0</td>\n",
       "      <td>0.0</td>\n",
       "      <td>4.0</td>\n",
       "      <td>0.0</td>\n",
       "      <td>2.0</td>\n",
       "    </tr>\n",
       "    <tr>\n",
       "      <th>11480</th>\n",
       "      <td>0</td>\n",
       "      <td>0</td>\n",
       "      <td>0</td>\n",
       "      <td>13.0</td>\n",
       "      <td>0</td>\n",
       "      <td>0</td>\n",
       "      <td>0</td>\n",
       "      <td>0</td>\n",
       "      <td>0</td>\n",
       "      <td>0</td>\n",
       "      <td>...</td>\n",
       "      <td>0</td>\n",
       "      <td>0</td>\n",
       "      <td>0</td>\n",
       "      <td>0</td>\n",
       "      <td>2.0</td>\n",
       "      <td>3.0</td>\n",
       "      <td>7.0</td>\n",
       "      <td>6.0</td>\n",
       "      <td>3.0</td>\n",
       "      <td>4.0</td>\n",
       "    </tr>\n",
       "    <tr>\n",
       "      <th>5595</th>\n",
       "      <td>0</td>\n",
       "      <td>0</td>\n",
       "      <td>0</td>\n",
       "      <td>0</td>\n",
       "      <td>0</td>\n",
       "      <td>0</td>\n",
       "      <td>0</td>\n",
       "      <td>0</td>\n",
       "      <td>0</td>\n",
       "      <td>0</td>\n",
       "      <td>...</td>\n",
       "      <td>0</td>\n",
       "      <td>0</td>\n",
       "      <td>0</td>\n",
       "      <td>0</td>\n",
       "      <td>0</td>\n",
       "      <td>0.0</td>\n",
       "      <td>0.0</td>\n",
       "      <td>0.0</td>\n",
       "      <td>7.0</td>\n",
       "      <td>4.0</td>\n",
       "    </tr>\n",
       "    <tr>\n",
       "      <th>7228</th>\n",
       "      <td>0</td>\n",
       "      <td>0</td>\n",
       "      <td>0</td>\n",
       "      <td>0</td>\n",
       "      <td>0</td>\n",
       "      <td>0</td>\n",
       "      <td>0</td>\n",
       "      <td>0</td>\n",
       "      <td>0</td>\n",
       "      <td>0</td>\n",
       "      <td>...</td>\n",
       "      <td>0</td>\n",
       "      <td>0</td>\n",
       "      <td>0</td>\n",
       "      <td>0</td>\n",
       "      <td>2.0</td>\n",
       "      <td>0.0</td>\n",
       "      <td>4.0</td>\n",
       "      <td>0.0</td>\n",
       "      <td>2.0</td>\n",
       "      <td>0.0</td>\n",
       "    </tr>\n",
       "    <tr>\n",
       "      <th>9252</th>\n",
       "      <td>10.0</td>\n",
       "      <td>11.0</td>\n",
       "      <td>0</td>\n",
       "      <td>13.0</td>\n",
       "      <td>0</td>\n",
       "      <td>0</td>\n",
       "      <td>0</td>\n",
       "      <td>0</td>\n",
       "      <td>0</td>\n",
       "      <td>0</td>\n",
       "      <td>...</td>\n",
       "      <td>0</td>\n",
       "      <td>0</td>\n",
       "      <td>0</td>\n",
       "      <td>46.0</td>\n",
       "      <td>2.0</td>\n",
       "      <td>0.0</td>\n",
       "      <td>3.0</td>\n",
       "      <td>0.0</td>\n",
       "      <td>3.0</td>\n",
       "      <td>0.0</td>\n",
       "    </tr>\n",
       "    <tr>\n",
       "      <th>...</th>\n",
       "      <td>...</td>\n",
       "      <td>...</td>\n",
       "      <td>...</td>\n",
       "      <td>...</td>\n",
       "      <td>...</td>\n",
       "      <td>...</td>\n",
       "      <td>...</td>\n",
       "      <td>...</td>\n",
       "      <td>...</td>\n",
       "      <td>...</td>\n",
       "      <td>...</td>\n",
       "      <td>...</td>\n",
       "      <td>...</td>\n",
       "      <td>...</td>\n",
       "      <td>...</td>\n",
       "      <td>...</td>\n",
       "      <td>...</td>\n",
       "      <td>...</td>\n",
       "      <td>...</td>\n",
       "      <td>...</td>\n",
       "      <td>...</td>\n",
       "    </tr>\n",
       "    <tr>\n",
       "      <th>11284</th>\n",
       "      <td>10.0</td>\n",
       "      <td>0</td>\n",
       "      <td>0</td>\n",
       "      <td>13.0</td>\n",
       "      <td>14.0</td>\n",
       "      <td>0</td>\n",
       "      <td>16.0</td>\n",
       "      <td>0</td>\n",
       "      <td>0</td>\n",
       "      <td>0</td>\n",
       "      <td>...</td>\n",
       "      <td>0</td>\n",
       "      <td>0</td>\n",
       "      <td>0</td>\n",
       "      <td>0</td>\n",
       "      <td>2.0</td>\n",
       "      <td>6.0</td>\n",
       "      <td>0.0</td>\n",
       "      <td>6.0</td>\n",
       "      <td>0.0</td>\n",
       "      <td>0.0</td>\n",
       "    </tr>\n",
       "    <tr>\n",
       "      <th>5191</th>\n",
       "      <td>0</td>\n",
       "      <td>0</td>\n",
       "      <td>0</td>\n",
       "      <td>0</td>\n",
       "      <td>0</td>\n",
       "      <td>0</td>\n",
       "      <td>0</td>\n",
       "      <td>0</td>\n",
       "      <td>0</td>\n",
       "      <td>0</td>\n",
       "      <td>...</td>\n",
       "      <td>0</td>\n",
       "      <td>0</td>\n",
       "      <td>0</td>\n",
       "      <td>0</td>\n",
       "      <td>0</td>\n",
       "      <td>3.0</td>\n",
       "      <td>3.0</td>\n",
       "      <td>0.0</td>\n",
       "      <td>0.0</td>\n",
       "      <td>0.0</td>\n",
       "    </tr>\n",
       "    <tr>\n",
       "      <th>5390</th>\n",
       "      <td>0</td>\n",
       "      <td>0</td>\n",
       "      <td>0</td>\n",
       "      <td>0</td>\n",
       "      <td>0</td>\n",
       "      <td>0</td>\n",
       "      <td>0</td>\n",
       "      <td>0</td>\n",
       "      <td>0</td>\n",
       "      <td>0</td>\n",
       "      <td>...</td>\n",
       "      <td>0</td>\n",
       "      <td>0</td>\n",
       "      <td>0</td>\n",
       "      <td>0</td>\n",
       "      <td>0</td>\n",
       "      <td>0.0</td>\n",
       "      <td>7.0</td>\n",
       "      <td>7.0</td>\n",
       "      <td>0.0</td>\n",
       "      <td>2.0</td>\n",
       "    </tr>\n",
       "    <tr>\n",
       "      <th>860</th>\n",
       "      <td>0</td>\n",
       "      <td>0</td>\n",
       "      <td>0</td>\n",
       "      <td>0</td>\n",
       "      <td>0</td>\n",
       "      <td>0</td>\n",
       "      <td>0</td>\n",
       "      <td>0</td>\n",
       "      <td>0</td>\n",
       "      <td>0</td>\n",
       "      <td>...</td>\n",
       "      <td>0</td>\n",
       "      <td>0</td>\n",
       "      <td>0</td>\n",
       "      <td>0</td>\n",
       "      <td>0</td>\n",
       "      <td>0.0</td>\n",
       "      <td>0.0</td>\n",
       "      <td>2.0</td>\n",
       "      <td>0.0</td>\n",
       "      <td>0.0</td>\n",
       "    </tr>\n",
       "    <tr>\n",
       "      <th>7270</th>\n",
       "      <td>0</td>\n",
       "      <td>0</td>\n",
       "      <td>0</td>\n",
       "      <td>0</td>\n",
       "      <td>0</td>\n",
       "      <td>0</td>\n",
       "      <td>0</td>\n",
       "      <td>0</td>\n",
       "      <td>0</td>\n",
       "      <td>0</td>\n",
       "      <td>...</td>\n",
       "      <td>0</td>\n",
       "      <td>0</td>\n",
       "      <td>0</td>\n",
       "      <td>0</td>\n",
       "      <td>2.0</td>\n",
       "      <td>0.0</td>\n",
       "      <td>0.0</td>\n",
       "      <td>0.0</td>\n",
       "      <td>0.0</td>\n",
       "      <td>0.0</td>\n",
       "    </tr>\n",
       "  </tbody>\n",
       "</table>\n",
       "<p>9460 rows × 25 columns</p>\n",
       "</div>"
      ],
      "text/plain": [
       "      ate_less low_cal_foods ate_less_fat exercise skip_meals 'diet'_foods  \\\n",
       "1199         0             0            0        0          0            0   \n",
       "11480        0             0            0     13.0          0            0   \n",
       "5595         0             0            0        0          0            0   \n",
       "7228         0             0            0        0          0            0   \n",
       "9252      10.0          11.0            0     13.0          0            0   \n",
       "...        ...           ...          ...      ...        ...          ...   \n",
       "11284     10.0             0            0     13.0       14.0            0   \n",
       "5191         0             0            0        0          0            0   \n",
       "5390         0             0            0        0          0            0   \n",
       "860          0             0            0        0          0            0   \n",
       "7270         0             0            0        0          0            0   \n",
       "\n",
       "      liquid_diet wt_loss_program rx_diet_pills non-rx_diet_pills  ...  \\\n",
       "1199            0               0             0                 0  ...   \n",
       "11480           0               0             0                 0  ...   \n",
       "5595            0               0             0                 0  ...   \n",
       "7228            0               0             0                 0  ...   \n",
       "9252            0               0             0                 0  ...   \n",
       "...           ...             ...           ...               ...  ...   \n",
       "11284        16.0               0             0                 0  ...   \n",
       "5191            0               0             0                 0  ...   \n",
       "5390            0               0             0                 0  ...   \n",
       "860             0               0             0                 0  ...   \n",
       "7270            0               0             0                 0  ...   \n",
       "\n",
       "      fruit_veg_salad change_eat_habits less_sugar less_junk_fast surgery  \\\n",
       "1199                0                 0          0              0       0   \n",
       "11480               0                 0          0              0     2.0   \n",
       "5595                0                 0          0              0       0   \n",
       "7228                0                 0          0              0     2.0   \n",
       "9252                0                 0          0           46.0     2.0   \n",
       "...               ...               ...        ...            ...     ...   \n",
       "11284               0                 0          0              0     2.0   \n",
       "5191                0                 0          0              0       0   \n",
       "5390                0                 0          0              0       0   \n",
       "860                 0                 0          0              0       0   \n",
       "7270                0                 0          0              0     2.0   \n",
       "\n",
       "      vig_work_days mod_work_days walk_bike_days vig_rec_days mod_rec_days  \n",
       "1199            0.0           0.0            4.0          0.0          2.0  \n",
       "11480           3.0           7.0            6.0          3.0          4.0  \n",
       "5595            0.0           0.0            0.0          7.0          4.0  \n",
       "7228            0.0           4.0            0.0          2.0          0.0  \n",
       "9252            0.0           3.0            0.0          3.0          0.0  \n",
       "...             ...           ...            ...          ...          ...  \n",
       "11284           6.0           0.0            6.0          0.0          0.0  \n",
       "5191            3.0           3.0            0.0          0.0          0.0  \n",
       "5390            0.0           7.0            7.0          0.0          2.0  \n",
       "860             0.0           0.0            2.0          0.0          0.0  \n",
       "7270            0.0           0.0            0.0          0.0          0.0  \n",
       "\n",
       "[9460 rows x 25 columns]"
      ]
     },
     "execution_count": 9,
     "metadata": {},
     "output_type": "execute_result"
    }
   ],
   "source": [
    "X_train"
   ]
  },
  {
   "cell_type": "markdown",
   "metadata": {},
   "source": [
    "## Oversampling"
   ]
  },
  {
   "cell_type": "code",
   "execution_count": 10,
   "metadata": {},
   "outputs": [],
   "source": [
    "import imblearn.over_sampling\n",
    "\n",
    "# setup for the ratio argument of RandomOverSampler initialization\n",
    "Obese = np.sum(y_train == 'Obese')\n",
    "Average = np.sum(y_train == 'Average')\n",
    "Fitness = np.sum(y_train == 'Fitness')\n",
    "Athlete = np.sum(y_train == 'Athlete')\n",
    "ratio = {'Obese': Obese, 'Average': Average*2, 'Fitness': Fitness*5, 'Athlete': Athlete*10} \n"
   ]
  },
  {
   "cell_type": "code",
   "execution_count": 11,
   "metadata": {},
   "outputs": [],
   "source": [
    "#initialize random sampler for later use\n",
    "ROS = imblearn.over_sampling.RandomOverSampler(sampling_strategy = 'auto', random_state=42) \n",
    "    \n",
    "# X_tr_rs, y_tr_rs = ROS.fit_resample(df_train,y_train)"
   ]
  },
  {
   "cell_type": "markdown",
   "metadata": {},
   "source": [
    "## Scoring"
   ]
  },
  {
   "cell_type": "code",
   "execution_count": null,
   "metadata": {},
   "outputs": [],
   "source": []
  },
  {
   "cell_type": "markdown",
   "metadata": {},
   "source": [
    "## Functions (Model Selection Pipeline)\n",
    "Things to address in pipeline:\n",
    "\n",
    "Class Imbalance (sampling metrics)\\\n",
    "Kfold cross validation (small dataset) \\\n",
    "Modeling (parameter tuning, class weights for those it applies to) \\\n",
    "Metrics selected above (F1) \\\n",
    "ROC Curve"
   ]
  },
  {
   "cell_type": "markdown",
   "metadata": {},
   "source": [
    "# Modeling"
   ]
  },
  {
   "cell_type": "code",
   "execution_count": 12,
   "metadata": {},
   "outputs": [],
   "source": [
    "from sklearn.model_selection import cross_validate\n",
    "from sklearn.model_selection import GridSearchCV\n",
    "from sklearn.linear_model import LogisticRegression\n",
    "from sklearn.tree import DecisionTreeClassifier\n",
    "from sklearn.neighbors import KNeighborsClassifier\n",
    "from sklearn.ensemble import RandomForestClassifier\n",
    "from sklearn.ensemble import RandomForestClassifier\n",
    "from sklearn.naive_bayes import GaussianNB\n",
    "from sklearn import metrics\n",
    "from sklearn.metrics import accuracy_score\n",
    "from sklearn.metrics import f1_score\n",
    "from sklearn.dummy import DummyClassifier\n",
    "from operator import itemgetter\n",
    "from sklearn import tree\n",
    "from sklearn.utils import check_random_state\n",
    "import numpy as np\n",
    "from sklearn.model_selection import ParameterGrid\n",
    "from sklearn.model_selection import StratifiedKFold\n",
    "import xgboost as xgb\n",
    "from Sampling import SamplingGridSearchCV\n",
    "from sklearn.preprocessing import LabelBinarizer"
   ]
  },
  {
   "cell_type": "code",
   "execution_count": 13,
   "metadata": {},
   "outputs": [],
   "source": [
    "dum = DummyClassifier(strategy='prior')\n",
    "dum_dum = dum.fit(X_train,y_train) "
   ]
  },
  {
   "cell_type": "code",
   "execution_count": 14,
   "metadata": {},
   "outputs": [
    {
     "data": {
      "text/plain": [
       "array([[0.00856237, 0.2089852 , 0.05158562, 0.73086681],\n",
       "       [0.00856237, 0.2089852 , 0.05158562, 0.73086681],\n",
       "       [0.00856237, 0.2089852 , 0.05158562, 0.73086681],\n",
       "       ...,\n",
       "       [0.00856237, 0.2089852 , 0.05158562, 0.73086681],\n",
       "       [0.00856237, 0.2089852 , 0.05158562, 0.73086681],\n",
       "       [0.00856237, 0.2089852 , 0.05158562, 0.73086681]])"
      ]
     },
     "execution_count": 14,
     "metadata": {},
     "output_type": "execute_result"
    }
   ],
   "source": [
    "dum_dum.predict_proba(X_test)"
   ]
  },
  {
   "cell_type": "code",
   "execution_count": 15,
   "metadata": {},
   "outputs": [
    {
     "data": {
      "text/plain": [
       "0.1827167019027484"
      ]
     },
     "execution_count": 15,
     "metadata": {},
     "output_type": "execute_result"
    }
   ],
   "source": [
    "metrics.precision_score(y_train, dum_dum.predict(X_train), average = 'macro', zero_division=0)\n",
    "#note that micro will simply calculate true positives / (TP+FP), in multiclass this equals TP/all guesses = 74%\n",
    "#macro will calculate TP/(TP+FP) for each class, then average across. In naive case, this is 74%*0.25 = 0.185 because obese is one of 4 classes \n",
    "#weighted this is 74%* 74% (precision for obese*obese percentage) + 0%*19% (percentage average) + 0*5%(percent fit) +0*2% (percent athlete) because obese is weighted"
   ]
  },
  {
   "cell_type": "code",
   "execution_count": 16,
   "metadata": {},
   "outputs": [],
   "source": [
    "import graphviz"
   ]
  },
  {
   "cell_type": "code",
   "execution_count": 17,
   "metadata": {},
   "outputs": [],
   "source": [
    "from sklearn.metrics import make_scorer"
   ]
  },
  {
   "cell_type": "code",
   "execution_count": 18,
   "metadata": {},
   "outputs": [],
   "source": [
    "my_scorer = make_scorer(f1_score,average='macro',zero_division=0)"
   ]
  },
  {
   "cell_type": "code",
   "execution_count": 19,
   "metadata": {},
   "outputs": [
    {
     "data": {
      "text/plain": [
       "0.21112739709295225"
      ]
     },
     "execution_count": 19,
     "metadata": {},
     "output_type": "execute_result"
    }
   ],
   "source": [
    "y_pred = dum_dum.predict(X_train)\n",
    "my_scorer(dum_dum, X_train, y_train)"
   ]
  },
  {
   "cell_type": "code",
   "execution_count": 20,
   "metadata": {},
   "outputs": [
    {
     "data": {
      "text/plain": [
       "0.21112739709295225"
      ]
     },
     "execution_count": 20,
     "metadata": {},
     "output_type": "execute_result"
    }
   ],
   "source": [
    "f1_score(y_train, dum_dum.predict(X_train), average = 'macro', zero_division=0)"
   ]
  },
  {
   "cell_type": "code",
   "execution_count": 95,
   "metadata": {},
   "outputs": [],
   "source": [
    "train_class = classification_report(y_train, dum_dum.predict(X_train), target_names = ['Athlete','Average','Fitness','Obese'], output_dict = True, zero_division=0)"
   ]
  },
  {
   "cell_type": "code",
   "execution_count": 98,
   "metadata": {},
   "outputs": [
    {
     "data": {
      "text/plain": [
       "{'Athlete': {'precision': 0.0, 'recall': 0.0, 'f1-score': 0.0, 'support': 81},\n",
       " 'Average': {'precision': 0.0,\n",
       "  'recall': 0.0,\n",
       "  'f1-score': 0.0,\n",
       "  'support': 1977},\n",
       " 'Fitness': {'precision': 0.0, 'recall': 0.0, 'f1-score': 0.0, 'support': 488},\n",
       " 'Obese': {'precision': 0.7308668076109937,\n",
       "  'recall': 1.0,\n",
       "  'f1-score': 0.844509588371809,\n",
       "  'support': 6914},\n",
       " 'accuracy': 0.7308668076109937,\n",
       " 'macro avg': {'precision': 0.1827167019027484,\n",
       "  'recall': 0.25,\n",
       "  'f1-score': 0.21112739709295225,\n",
       "  'support': 9460},\n",
       " 'weighted avg': {'precision': 0.5341662904674852,\n",
       "  'recall': 0.7308668076109937,\n",
       "  'f1-score': 0.6172240268501784,\n",
       "  'support': 9460}}"
      ]
     },
     "execution_count": 98,
     "metadata": {},
     "output_type": "execute_result"
    }
   ],
   "source": [
    "train_class"
   ]
  },
  {
   "cell_type": "code",
   "execution_count": 21,
   "metadata": {},
   "outputs": [
    {
     "data": {
      "text/plain": [
       "Obese      6914\n",
       "Average    1977\n",
       "Fitness     488\n",
       "Athlete      81\n",
       "Name: category, dtype: int64"
      ]
     },
     "execution_count": 21,
     "metadata": {},
     "output_type": "execute_result"
    }
   ],
   "source": [
    "y_train.value_counts()"
   ]
  },
  {
   "cell_type": "code",
   "execution_count": 22,
   "metadata": {},
   "outputs": [
    {
     "data": {
      "text/plain": [
       "9460"
      ]
     },
     "execution_count": 22,
     "metadata": {},
     "output_type": "execute_result"
    }
   ],
   "source": [
    "y_train.count()"
   ]
  },
  {
   "cell_type": "code",
   "execution_count": 23,
   "metadata": {},
   "outputs": [
    {
     "data": {
      "text/plain": [
       "array([[ 30. ,   0. ,  15. ,   0. ],\n",
       "       [  0. ,   1. ,  -1. ,   0. ],\n",
       "       [  2.5,   0. ,   5. ,   0. ],\n",
       "       [  0. ,   0. , -50. ,   0.5]])"
      ]
     },
     "execution_count": 23,
     "metadata": {},
     "output_type": "execute_result"
    }
   ],
   "source": [
    "np.array([[30,0,15,0],[0,1,-1,0],[2.5,0,5,0],[0,.0,-50,.5]])"
   ]
  },
  {
   "cell_type": "markdown",
   "metadata": {},
   "source": [
    "#### Decision Tree"
   ]
  },
  {
   "cell_type": "code",
   "execution_count": 24,
   "metadata": {},
   "outputs": [
    {
     "data": {
      "text/plain": [
       "(DecisionTreeClassifier(class_weight={'Athlete': 0.1, 'Average': 0.2,\n",
       "                                      'Fitness': 0.6, 'Obese': 0.1},\n",
       "                        max_depth=6),\n",
       " 0.2319455698554452,\n",
       " 11)"
      ]
     },
     "execution_count": 24,
     "metadata": {},
     "output_type": "execute_result"
    }
   ],
   "source": [
    "DTC_param_grid = {'max_depth':range(5,10), 'class_weight':[None,'balanced',{'Athlete':.1, 'Average':.2, 'Fitness':.6, 'Obese':.1}]}\n",
    "DTC, DTC_score, DTC_params, DTC_scores_df, DTC_index, DTC_val_pred, DTC_val_true, DTC_val_pred_proba, DTC_train_scores, DTC_val_scores = \\\n",
    "SamplingGridSearchCV(ROS, DecisionTreeClassifier(), X_train, y_train, DTC_param_grid, folds=5)\n",
    "DTC, DTC_score, DTC_index"
   ]
  },
  {
   "cell_type": "code",
   "execution_count": 25,
   "metadata": {},
   "outputs": [
    {
     "data": {
      "text/plain": [
       "array([[   0,   14,   31,   36],\n",
       "       [   0,  367,  352, 1258],\n",
       "       [   0,   98,  163,  227],\n",
       "       [   0,  424,  362, 6128]])"
      ]
     },
     "execution_count": 25,
     "metadata": {},
     "output_type": "execute_result"
    }
   ],
   "source": [
    "metrics.confusion_matrix(DTC_val_true[DTC_index],DTC_val_pred[DTC_index])"
   ]
  },
  {
   "cell_type": "code",
   "execution_count": 26,
   "metadata": {},
   "outputs": [
    {
     "data": {
      "text/html": [
       "<div>\n",
       "<style scoped>\n",
       "    .dataframe tbody tr th:only-of-type {\n",
       "        vertical-align: middle;\n",
       "    }\n",
       "\n",
       "    .dataframe tbody tr th {\n",
       "        vertical-align: top;\n",
       "    }\n",
       "\n",
       "    .dataframe thead th {\n",
       "        text-align: right;\n",
       "    }\n",
       "</style>\n",
       "<table border=\"1\" class=\"dataframe\">\n",
       "  <thead>\n",
       "    <tr style=\"text-align: right;\">\n",
       "      <th></th>\n",
       "      <th>0</th>\n",
       "      <th>1</th>\n",
       "      <th>2</th>\n",
       "      <th>3</th>\n",
       "      <th>4</th>\n",
       "      <th>5</th>\n",
       "      <th>6</th>\n",
       "      <th>7</th>\n",
       "      <th>8</th>\n",
       "      <th>9</th>\n",
       "      <th>10</th>\n",
       "      <th>11</th>\n",
       "      <th>12</th>\n",
       "      <th>13</th>\n",
       "      <th>14</th>\n",
       "    </tr>\n",
       "  </thead>\n",
       "  <tbody>\n",
       "    <tr>\n",
       "      <th>parameters</th>\n",
       "      <td>{'class_weight': None, 'max_depth': 5}</td>\n",
       "      <td>{'class_weight': None, 'max_depth': 6}</td>\n",
       "      <td>{'class_weight': None, 'max_depth': 7}</td>\n",
       "      <td>{'class_weight': None, 'max_depth': 8}</td>\n",
       "      <td>{'class_weight': None, 'max_depth': 9}</td>\n",
       "      <td>{'class_weight': 'balanced', 'max_depth': 5}</td>\n",
       "      <td>{'class_weight': 'balanced', 'max_depth': 6}</td>\n",
       "      <td>{'class_weight': 'balanced', 'max_depth': 7}</td>\n",
       "      <td>{'class_weight': 'balanced', 'max_depth': 8}</td>\n",
       "      <td>{'class_weight': 'balanced', 'max_depth': 9}</td>\n",
       "      <td>{'class_weight': {'Athlete': 0.1, 'Average': 0...</td>\n",
       "      <td>{'class_weight': {'Athlete': 0.1, 'Average': 0...</td>\n",
       "      <td>{'class_weight': {'Athlete': 0.1, 'Average': 0...</td>\n",
       "      <td>{'class_weight': {'Athlete': 0.1, 'Average': 0...</td>\n",
       "      <td>{'class_weight': {'Athlete': 0.1, 'Average': 0...</td>\n",
       "    </tr>\n",
       "    <tr>\n",
       "      <th>train</th>\n",
       "      <td>0.00408163</td>\n",
       "      <td>0.0121626</td>\n",
       "      <td>0.086504</td>\n",
       "      <td>0.104692</td>\n",
       "      <td>0.144592</td>\n",
       "      <td>0.161985</td>\n",
       "      <td>0.213304</td>\n",
       "      <td>0.240041</td>\n",
       "      <td>0.239698</td>\n",
       "      <td>0.258758</td>\n",
       "      <td>0.256432</td>\n",
       "      <td>0.280451</td>\n",
       "      <td>0.298799</td>\n",
       "      <td>0.328256</td>\n",
       "      <td>0.348435</td>\n",
       "    </tr>\n",
       "    <tr>\n",
       "      <th>val</th>\n",
       "      <td>0</td>\n",
       "      <td>0</td>\n",
       "      <td>0.0356944</td>\n",
       "      <td>0.0253387</td>\n",
       "      <td>0.0314529</td>\n",
       "      <td>0.1087</td>\n",
       "      <td>0.158449</td>\n",
       "      <td>0.152776</td>\n",
       "      <td>0.170747</td>\n",
       "      <td>0.144057</td>\n",
       "      <td>0.220821</td>\n",
       "      <td>0.231946</td>\n",
       "      <td>0.218583</td>\n",
       "      <td>0.17111</td>\n",
       "      <td>0.17099</td>\n",
       "    </tr>\n",
       "  </tbody>\n",
       "</table>\n",
       "</div>"
      ],
      "text/plain": [
       "                                                 0  \\\n",
       "parameters  {'class_weight': None, 'max_depth': 5}   \n",
       "train                                   0.00408163   \n",
       "val                                              0   \n",
       "\n",
       "                                                 1  \\\n",
       "parameters  {'class_weight': None, 'max_depth': 6}   \n",
       "train                                    0.0121626   \n",
       "val                                              0   \n",
       "\n",
       "                                                 2  \\\n",
       "parameters  {'class_weight': None, 'max_depth': 7}   \n",
       "train                                     0.086504   \n",
       "val                                      0.0356944   \n",
       "\n",
       "                                                 3  \\\n",
       "parameters  {'class_weight': None, 'max_depth': 8}   \n",
       "train                                     0.104692   \n",
       "val                                      0.0253387   \n",
       "\n",
       "                                                 4  \\\n",
       "parameters  {'class_weight': None, 'max_depth': 9}   \n",
       "train                                     0.144592   \n",
       "val                                      0.0314529   \n",
       "\n",
       "                                                       5  \\\n",
       "parameters  {'class_weight': 'balanced', 'max_depth': 5}   \n",
       "train                                           0.161985   \n",
       "val                                               0.1087   \n",
       "\n",
       "                                                       6  \\\n",
       "parameters  {'class_weight': 'balanced', 'max_depth': 6}   \n",
       "train                                           0.213304   \n",
       "val                                             0.158449   \n",
       "\n",
       "                                                       7  \\\n",
       "parameters  {'class_weight': 'balanced', 'max_depth': 7}   \n",
       "train                                           0.240041   \n",
       "val                                             0.152776   \n",
       "\n",
       "                                                       8  \\\n",
       "parameters  {'class_weight': 'balanced', 'max_depth': 8}   \n",
       "train                                           0.239698   \n",
       "val                                             0.170747   \n",
       "\n",
       "                                                       9  \\\n",
       "parameters  {'class_weight': 'balanced', 'max_depth': 9}   \n",
       "train                                           0.258758   \n",
       "val                                             0.144057   \n",
       "\n",
       "                                                           10  \\\n",
       "parameters  {'class_weight': {'Athlete': 0.1, 'Average': 0...   \n",
       "train                                                0.256432   \n",
       "val                                                  0.220821   \n",
       "\n",
       "                                                           11  \\\n",
       "parameters  {'class_weight': {'Athlete': 0.1, 'Average': 0...   \n",
       "train                                                0.280451   \n",
       "val                                                  0.231946   \n",
       "\n",
       "                                                           12  \\\n",
       "parameters  {'class_weight': {'Athlete': 0.1, 'Average': 0...   \n",
       "train                                                0.298799   \n",
       "val                                                  0.218583   \n",
       "\n",
       "                                                           13  \\\n",
       "parameters  {'class_weight': {'Athlete': 0.1, 'Average': 0...   \n",
       "train                                                0.328256   \n",
       "val                                                   0.17111   \n",
       "\n",
       "                                                           14  \n",
       "parameters  {'class_weight': {'Athlete': 0.1, 'Average': 0...  \n",
       "train                                                0.348435  \n",
       "val                                                   0.17099  "
      ]
     },
     "execution_count": 26,
     "metadata": {},
     "output_type": "execute_result"
    }
   ],
   "source": [
    "DTC_scores_df"
   ]
  },
  {
   "cell_type": "code",
   "execution_count": 27,
   "metadata": {},
   "outputs": [
    {
     "data": {
      "text/plain": [
       "15"
      ]
     },
     "execution_count": 27,
     "metadata": {},
     "output_type": "execute_result"
    }
   ],
   "source": [
    "len(DTC_val_pred_proba)"
   ]
  },
  {
   "cell_type": "code",
   "execution_count": 28,
   "metadata": {},
   "outputs": [
    {
     "data": {
      "text/plain": [
       "array([[   0,   14,   31,   36],\n",
       "       [   0,  367,  352, 1258],\n",
       "       [   0,   98,  163,  227],\n",
       "       [   0,  424,  362, 6128]])"
      ]
     },
     "execution_count": 28,
     "metadata": {},
     "output_type": "execute_result"
    }
   ],
   "source": [
    "metrics.confusion_matrix(DTC_val_true[DTC_index],DTC_val_pred[DTC_index])"
   ]
  },
  {
   "cell_type": "code",
   "execution_count": 29,
   "metadata": {},
   "outputs": [
    {
     "data": {
      "text/plain": [
       "Index(['ate_less', 'low_cal_foods', 'ate_less_fat', 'exercise', 'skip_meals',\n",
       "       ''diet'_foods', 'liquid_diet', 'wt_loss_program', 'rx_diet_pills',\n",
       "       'non-rx_diet_pills', 'lax_vomit', 'water', 'wh_special_diet',\n",
       "       'low_carb', 'smoke', 'fruit_veg_salad', 'change_eat_habits',\n",
       "       'less_sugar', 'less_junk_fast', 'surgery', 'vig_work_days',\n",
       "       'mod_work_days', 'walk_bike_days', 'vig_rec_days', 'mod_rec_days'],\n",
       "      dtype='object')"
      ]
     },
     "execution_count": 29,
     "metadata": {},
     "output_type": "execute_result"
    }
   ],
   "source": [
    "X_train.columns"
   ]
  },
  {
   "cell_type": "code",
   "execution_count": 30,
   "metadata": {},
   "outputs": [
    {
     "data": {
      "text/plain": [
       "array([0.19042394, 0.02116452, 0.01570052, 0.11902506, 0.00419834,\n",
       "       0.00083727, 0.00539342, 0.00239418, 0.00098747, 0.0066141 ,\n",
       "       0.00114991, 0.02095513, 0.00984684, 0.01605128, 0.00171171,\n",
       "       0.0071563 , 0.01374268, 0.01183047, 0.0092059 , 0.04109341,\n",
       "       0.07319651, 0.0585332 , 0.07217337, 0.21998677, 0.07662771])"
      ]
     },
     "execution_count": 30,
     "metadata": {},
     "output_type": "execute_result"
    }
   ],
   "source": [
    "DTC.feature_importances_"
   ]
  },
  {
   "cell_type": "code",
   "execution_count": 31,
   "metadata": {},
   "outputs": [
    {
     "data": {
      "text/plain": [
       "[('ate_less', 0.1904239389698098),\n",
       " ('low_cal_foods', 0.021164523608119587),\n",
       " ('ate_less_fat', 0.015700515371443385),\n",
       " ('exercise', 0.11902505881199697),\n",
       " ('skip_meals', 0.004198336214168826),\n",
       " (\"'diet'_foods\", 0.0008372693926825399),\n",
       " ('liquid_diet', 0.005393416308156959),\n",
       " ('wt_loss_program', 0.002394180046933212),\n",
       " ('rx_diet_pills', 0.0009874708549966623),\n",
       " ('non-rx_diet_pills', 0.006614096483468759),\n",
       " ('lax_vomit', 0.0011499123655860297),\n",
       " ('water', 0.020955132212957788),\n",
       " ('wh_special_diet', 0.009846842758494699),\n",
       " ('low_carb', 0.016051284998527156),\n",
       " ('smoke', 0.001711705794162004),\n",
       " ('fruit_veg_salad', 0.007156302119558936),\n",
       " ('change_eat_habits', 0.013742675452190083),\n",
       " ('less_sugar', 0.011830471685190377),\n",
       " ('less_junk_fast', 0.009205897378626423),\n",
       " ('surgery', 0.04109341018498923),\n",
       " ('vig_work_days', 0.07319650883556539),\n",
       " ('mod_work_days', 0.0585331981873196),\n",
       " ('walk_bike_days', 0.07217337078302366),\n",
       " ('vig_rec_days', 0.21998676758479666),\n",
       " ('mod_rec_days', 0.07662771359723544)]"
      ]
     },
     "execution_count": 31,
     "metadata": {},
     "output_type": "execute_result"
    }
   ],
   "source": [
    "list(zip(X_train.columns, DTC.feature_importances_))"
   ]
  },
  {
   "cell_type": "markdown",
   "metadata": {},
   "source": [
    "#### Random Forest"
   ]
  },
  {
   "cell_type": "code",
   "execution_count": 32,
   "metadata": {},
   "outputs": [
    {
     "data": {
      "text/plain": [
       "(RandomForestClassifier(class_weight='balanced', criterion='entropy',\n",
       "                        n_estimators=50),\n",
       " 0.09642359594705516,\n",
       " 6)"
      ]
     },
     "execution_count": 32,
     "metadata": {},
     "output_type": "execute_result"
    }
   ],
   "source": [
    "RFC_param_grid = {'n_estimators':[50,100], 'criterion':['gini','entropy'], 'class_weight':[None,'balanced',{'Athlete':.3, 'Average':.2, 'Fitness':.4, 'Obese':.1}]}\n",
    "\n",
    "RFC, RFC_score, RFC_params, RFC_scores_df, RFC_index, RFC_val_pred, RFC_val_true, RFC_val_pred_proba, RFC_train_scores, RFC_val_scores = \\\n",
    "SamplingGridSearchCV(ROS, RandomForestClassifier(), X_train, y_train, RFC_param_grid, folds=5)\n",
    "RFC, RFC_score, RFC_index\n"
   ]
  },
  {
   "cell_type": "code",
   "execution_count": 33,
   "metadata": {},
   "outputs": [
    {
     "data": {
      "text/html": [
       "<div>\n",
       "<style scoped>\n",
       "    .dataframe tbody tr th:only-of-type {\n",
       "        vertical-align: middle;\n",
       "    }\n",
       "\n",
       "    .dataframe tbody tr th {\n",
       "        vertical-align: top;\n",
       "    }\n",
       "\n",
       "    .dataframe thead th {\n",
       "        text-align: right;\n",
       "    }\n",
       "</style>\n",
       "<table border=\"1\" class=\"dataframe\">\n",
       "  <thead>\n",
       "    <tr style=\"text-align: right;\">\n",
       "      <th></th>\n",
       "      <th>0</th>\n",
       "      <th>1</th>\n",
       "      <th>2</th>\n",
       "      <th>3</th>\n",
       "      <th>4</th>\n",
       "      <th>5</th>\n",
       "      <th>6</th>\n",
       "      <th>7</th>\n",
       "      <th>8</th>\n",
       "      <th>9</th>\n",
       "      <th>10</th>\n",
       "      <th>11</th>\n",
       "    </tr>\n",
       "  </thead>\n",
       "  <tbody>\n",
       "    <tr>\n",
       "      <th>parameters</th>\n",
       "      <td>{'class_weight': None, 'criterion': 'gini', 'n...</td>\n",
       "      <td>{'class_weight': None, 'criterion': 'gini', 'n...</td>\n",
       "      <td>{'class_weight': None, 'criterion': 'entropy',...</td>\n",
       "      <td>{'class_weight': None, 'criterion': 'entropy',...</td>\n",
       "      <td>{'class_weight': 'balanced', 'criterion': 'gin...</td>\n",
       "      <td>{'class_weight': 'balanced', 'criterion': 'gin...</td>\n",
       "      <td>{'class_weight': 'balanced', 'criterion': 'ent...</td>\n",
       "      <td>{'class_weight': 'balanced', 'criterion': 'ent...</td>\n",
       "      <td>{'class_weight': {'Athlete': 0.3, 'Average': 0...</td>\n",
       "      <td>{'class_weight': {'Athlete': 0.3, 'Average': 0...</td>\n",
       "      <td>{'class_weight': {'Athlete': 0.3, 'Average': 0...</td>\n",
       "      <td>{'class_weight': {'Athlete': 0.3, 'Average': 0...</td>\n",
       "    </tr>\n",
       "    <tr>\n",
       "      <th>train</th>\n",
       "      <td>0.677529</td>\n",
       "      <td>0.676426</td>\n",
       "      <td>0.67599</td>\n",
       "      <td>0.674091</td>\n",
       "      <td>0.566396</td>\n",
       "      <td>0.573141</td>\n",
       "      <td>0.560467</td>\n",
       "      <td>0.575085</td>\n",
       "      <td>0.668186</td>\n",
       "      <td>0.669142</td>\n",
       "      <td>0.666089</td>\n",
       "      <td>0.675033</td>\n",
       "    </tr>\n",
       "    <tr>\n",
       "      <th>val</th>\n",
       "      <td>0.0626351</td>\n",
       "      <td>0.0754189</td>\n",
       "      <td>0.0601638</td>\n",
       "      <td>0.0525657</td>\n",
       "      <td>0.0893842</td>\n",
       "      <td>0.0903582</td>\n",
       "      <td>0.0964236</td>\n",
       "      <td>0.0936586</td>\n",
       "      <td>0.0739629</td>\n",
       "      <td>0.073668</td>\n",
       "      <td>0.082043</td>\n",
       "      <td>0.0867376</td>\n",
       "    </tr>\n",
       "  </tbody>\n",
       "</table>\n",
       "</div>"
      ],
      "text/plain": [
       "                                                            0  \\\n",
       "parameters  {'class_weight': None, 'criterion': 'gini', 'n...   \n",
       "train                                                0.677529   \n",
       "val                                                 0.0626351   \n",
       "\n",
       "                                                            1  \\\n",
       "parameters  {'class_weight': None, 'criterion': 'gini', 'n...   \n",
       "train                                                0.676426   \n",
       "val                                                 0.0754189   \n",
       "\n",
       "                                                            2  \\\n",
       "parameters  {'class_weight': None, 'criterion': 'entropy',...   \n",
       "train                                                 0.67599   \n",
       "val                                                 0.0601638   \n",
       "\n",
       "                                                            3  \\\n",
       "parameters  {'class_weight': None, 'criterion': 'entropy',...   \n",
       "train                                                0.674091   \n",
       "val                                                 0.0525657   \n",
       "\n",
       "                                                            4  \\\n",
       "parameters  {'class_weight': 'balanced', 'criterion': 'gin...   \n",
       "train                                                0.566396   \n",
       "val                                                 0.0893842   \n",
       "\n",
       "                                                            5  \\\n",
       "parameters  {'class_weight': 'balanced', 'criterion': 'gin...   \n",
       "train                                                0.573141   \n",
       "val                                                 0.0903582   \n",
       "\n",
       "                                                            6  \\\n",
       "parameters  {'class_weight': 'balanced', 'criterion': 'ent...   \n",
       "train                                                0.560467   \n",
       "val                                                 0.0964236   \n",
       "\n",
       "                                                            7  \\\n",
       "parameters  {'class_weight': 'balanced', 'criterion': 'ent...   \n",
       "train                                                0.575085   \n",
       "val                                                 0.0936586   \n",
       "\n",
       "                                                            8  \\\n",
       "parameters  {'class_weight': {'Athlete': 0.3, 'Average': 0...   \n",
       "train                                                0.668186   \n",
       "val                                                 0.0739629   \n",
       "\n",
       "                                                            9  \\\n",
       "parameters  {'class_weight': {'Athlete': 0.3, 'Average': 0...   \n",
       "train                                                0.669142   \n",
       "val                                                  0.073668   \n",
       "\n",
       "                                                           10  \\\n",
       "parameters  {'class_weight': {'Athlete': 0.3, 'Average': 0...   \n",
       "train                                                0.666089   \n",
       "val                                                  0.082043   \n",
       "\n",
       "                                                           11  \n",
       "parameters  {'class_weight': {'Athlete': 0.3, 'Average': 0...  \n",
       "train                                                0.675033  \n",
       "val                                                 0.0867376  "
      ]
     },
     "execution_count": 33,
     "metadata": {},
     "output_type": "execute_result"
    }
   ],
   "source": [
    "RFC_scores_df"
   ]
  },
  {
   "cell_type": "code",
   "execution_count": 34,
   "metadata": {},
   "outputs": [
    {
     "data": {
      "text/plain": [
       "array([[   9,   22,   14,   36],\n",
       "       [ 134,  607,  234, 1002],\n",
       "       [  43,  172,   56,  217],\n",
       "       [ 353, 1040,  371, 5150]])"
      ]
     },
     "execution_count": 34,
     "metadata": {},
     "output_type": "execute_result"
    }
   ],
   "source": [
    "metrics.confusion_matrix(RFC_val_true[RFC_index],RFC_val_pred[RFC_index])"
   ]
  },
  {
   "cell_type": "code",
   "execution_count": 35,
   "metadata": {},
   "outputs": [
    {
     "name": "stdout",
     "output_type": "stream",
     "text": [
      "0.31087912923467065\n",
      "0.32109447941590485\n",
      "0.3083671456223943\n"
     ]
    }
   ],
   "source": [
    "print(f1_score(y_test, RFC.predict(X_test), average = 'macro', zero_division=0))\n",
    "print(metrics.precision_score(y_test, RFC.predict(X_test), average = 'macro', zero_division=0))\n",
    "print(metrics.recall_score(y_test, RFC.predict(X_test), average = 'macro', zero_division=0))"
   ]
  },
  {
   "cell_type": "markdown",
   "metadata": {},
   "source": [
    "#### Logistic Regression"
   ]
  },
  {
   "cell_type": "code",
   "execution_count": 36,
   "metadata": {},
   "outputs": [
    {
     "name": "stderr",
     "output_type": "stream",
     "text": [
      "/Users/allen/opt/anaconda3/envs/metis/lib/python3.8/site-packages/sklearn/linear_model/_logistic.py:762: ConvergenceWarning: lbfgs failed to converge (status=1):\n",
      "STOP: TOTAL NO. of ITERATIONS REACHED LIMIT.\n",
      "\n",
      "Increase the number of iterations (max_iter) or scale the data as shown in:\n",
      "    https://scikit-learn.org/stable/modules/preprocessing.html\n",
      "Please also refer to the documentation for alternative solver options:\n",
      "    https://scikit-learn.org/stable/modules/linear_model.html#logistic-regression\n",
      "  n_iter_i = _check_optimize_result(\n",
      "/Users/allen/opt/anaconda3/envs/metis/lib/python3.8/site-packages/sklearn/linear_model/_sag.py:329: ConvergenceWarning: The max_iter was reached which means the coef_ did not converge\n",
      "  warnings.warn(\"The max_iter was reached which means \"\n",
      "/Users/allen/opt/anaconda3/envs/metis/lib/python3.8/site-packages/sklearn/linear_model/_sag.py:329: ConvergenceWarning: The max_iter was reached which means the coef_ did not converge\n",
      "  warnings.warn(\"The max_iter was reached which means \"\n",
      "/Users/allen/opt/anaconda3/envs/metis/lib/python3.8/site-packages/sklearn/linear_model/_logistic.py:762: ConvergenceWarning: lbfgs failed to converge (status=1):\n",
      "STOP: TOTAL NO. of ITERATIONS REACHED LIMIT.\n",
      "\n",
      "Increase the number of iterations (max_iter) or scale the data as shown in:\n",
      "    https://scikit-learn.org/stable/modules/preprocessing.html\n",
      "Please also refer to the documentation for alternative solver options:\n",
      "    https://scikit-learn.org/stable/modules/linear_model.html#logistic-regression\n",
      "  n_iter_i = _check_optimize_result(\n",
      "/Users/allen/opt/anaconda3/envs/metis/lib/python3.8/site-packages/sklearn/linear_model/_sag.py:329: ConvergenceWarning: The max_iter was reached which means the coef_ did not converge\n",
      "  warnings.warn(\"The max_iter was reached which means \"\n",
      "/Users/allen/opt/anaconda3/envs/metis/lib/python3.8/site-packages/sklearn/linear_model/_sag.py:329: ConvergenceWarning: The max_iter was reached which means the coef_ did not converge\n",
      "  warnings.warn(\"The max_iter was reached which means \"\n",
      "/Users/allen/opt/anaconda3/envs/metis/lib/python3.8/site-packages/sklearn/linear_model/_logistic.py:762: ConvergenceWarning: lbfgs failed to converge (status=1):\n",
      "STOP: TOTAL NO. of ITERATIONS REACHED LIMIT.\n",
      "\n",
      "Increase the number of iterations (max_iter) or scale the data as shown in:\n",
      "    https://scikit-learn.org/stable/modules/preprocessing.html\n",
      "Please also refer to the documentation for alternative solver options:\n",
      "    https://scikit-learn.org/stable/modules/linear_model.html#logistic-regression\n",
      "  n_iter_i = _check_optimize_result(\n",
      "/Users/allen/opt/anaconda3/envs/metis/lib/python3.8/site-packages/sklearn/linear_model/_sag.py:329: ConvergenceWarning: The max_iter was reached which means the coef_ did not converge\n",
      "  warnings.warn(\"The max_iter was reached which means \"\n",
      "/Users/allen/opt/anaconda3/envs/metis/lib/python3.8/site-packages/sklearn/linear_model/_sag.py:329: ConvergenceWarning: The max_iter was reached which means the coef_ did not converge\n",
      "  warnings.warn(\"The max_iter was reached which means \"\n",
      "/Users/allen/opt/anaconda3/envs/metis/lib/python3.8/site-packages/sklearn/linear_model/_logistic.py:762: ConvergenceWarning: lbfgs failed to converge (status=1):\n",
      "STOP: TOTAL NO. of ITERATIONS REACHED LIMIT.\n",
      "\n",
      "Increase the number of iterations (max_iter) or scale the data as shown in:\n",
      "    https://scikit-learn.org/stable/modules/preprocessing.html\n",
      "Please also refer to the documentation for alternative solver options:\n",
      "    https://scikit-learn.org/stable/modules/linear_model.html#logistic-regression\n",
      "  n_iter_i = _check_optimize_result(\n",
      "/Users/allen/opt/anaconda3/envs/metis/lib/python3.8/site-packages/sklearn/linear_model/_sag.py:329: ConvergenceWarning: The max_iter was reached which means the coef_ did not converge\n",
      "  warnings.warn(\"The max_iter was reached which means \"\n",
      "/Users/allen/opt/anaconda3/envs/metis/lib/python3.8/site-packages/sklearn/linear_model/_sag.py:329: ConvergenceWarning: The max_iter was reached which means the coef_ did not converge\n",
      "  warnings.warn(\"The max_iter was reached which means \"\n",
      "/Users/allen/opt/anaconda3/envs/metis/lib/python3.8/site-packages/sklearn/linear_model/_logistic.py:762: ConvergenceWarning: lbfgs failed to converge (status=1):\n",
      "STOP: TOTAL NO. of ITERATIONS REACHED LIMIT.\n",
      "\n",
      "Increase the number of iterations (max_iter) or scale the data as shown in:\n",
      "    https://scikit-learn.org/stable/modules/preprocessing.html\n",
      "Please also refer to the documentation for alternative solver options:\n",
      "    https://scikit-learn.org/stable/modules/linear_model.html#logistic-regression\n",
      "  n_iter_i = _check_optimize_result(\n",
      "/Users/allen/opt/anaconda3/envs/metis/lib/python3.8/site-packages/sklearn/linear_model/_sag.py:329: ConvergenceWarning: The max_iter was reached which means the coef_ did not converge\n",
      "  warnings.warn(\"The max_iter was reached which means \"\n",
      "/Users/allen/opt/anaconda3/envs/metis/lib/python3.8/site-packages/sklearn/linear_model/_sag.py:329: ConvergenceWarning: The max_iter was reached which means the coef_ did not converge\n",
      "  warnings.warn(\"The max_iter was reached which means \"\n",
      "/Users/allen/opt/anaconda3/envs/metis/lib/python3.8/site-packages/sklearn/linear_model/_logistic.py:762: ConvergenceWarning: lbfgs failed to converge (status=1):\n",
      "STOP: TOTAL NO. of ITERATIONS REACHED LIMIT.\n",
      "\n",
      "Increase the number of iterations (max_iter) or scale the data as shown in:\n",
      "    https://scikit-learn.org/stable/modules/preprocessing.html\n",
      "Please also refer to the documentation for alternative solver options:\n",
      "    https://scikit-learn.org/stable/modules/linear_model.html#logistic-regression\n",
      "  n_iter_i = _check_optimize_result(\n",
      "/Users/allen/opt/anaconda3/envs/metis/lib/python3.8/site-packages/sklearn/linear_model/_sag.py:329: ConvergenceWarning: The max_iter was reached which means the coef_ did not converge\n",
      "  warnings.warn(\"The max_iter was reached which means \"\n",
      "/Users/allen/opt/anaconda3/envs/metis/lib/python3.8/site-packages/sklearn/linear_model/_sag.py:329: ConvergenceWarning: The max_iter was reached which means the coef_ did not converge\n",
      "  warnings.warn(\"The max_iter was reached which means \"\n",
      "/Users/allen/opt/anaconda3/envs/metis/lib/python3.8/site-packages/sklearn/linear_model/_logistic.py:762: ConvergenceWarning: lbfgs failed to converge (status=1):\n",
      "STOP: TOTAL NO. of ITERATIONS REACHED LIMIT.\n",
      "\n",
      "Increase the number of iterations (max_iter) or scale the data as shown in:\n",
      "    https://scikit-learn.org/stable/modules/preprocessing.html\n",
      "Please also refer to the documentation for alternative solver options:\n",
      "    https://scikit-learn.org/stable/modules/linear_model.html#logistic-regression\n",
      "  n_iter_i = _check_optimize_result(\n",
      "/Users/allen/opt/anaconda3/envs/metis/lib/python3.8/site-packages/sklearn/linear_model/_sag.py:329: ConvergenceWarning: The max_iter was reached which means the coef_ did not converge\n",
      "  warnings.warn(\"The max_iter was reached which means \"\n",
      "/Users/allen/opt/anaconda3/envs/metis/lib/python3.8/site-packages/sklearn/linear_model/_sag.py:329: ConvergenceWarning: The max_iter was reached which means the coef_ did not converge\n",
      "  warnings.warn(\"The max_iter was reached which means \"\n",
      "/Users/allen/opt/anaconda3/envs/metis/lib/python3.8/site-packages/sklearn/linear_model/_logistic.py:762: ConvergenceWarning: lbfgs failed to converge (status=1):\n",
      "STOP: TOTAL NO. of ITERATIONS REACHED LIMIT.\n",
      "\n",
      "Increase the number of iterations (max_iter) or scale the data as shown in:\n",
      "    https://scikit-learn.org/stable/modules/preprocessing.html\n",
      "Please also refer to the documentation for alternative solver options:\n",
      "    https://scikit-learn.org/stable/modules/linear_model.html#logistic-regression\n",
      "  n_iter_i = _check_optimize_result(\n",
      "/Users/allen/opt/anaconda3/envs/metis/lib/python3.8/site-packages/sklearn/linear_model/_sag.py:329: ConvergenceWarning: The max_iter was reached which means the coef_ did not converge\n",
      "  warnings.warn(\"The max_iter was reached which means \"\n",
      "/Users/allen/opt/anaconda3/envs/metis/lib/python3.8/site-packages/sklearn/linear_model/_sag.py:329: ConvergenceWarning: The max_iter was reached which means the coef_ did not converge\n",
      "  warnings.warn(\"The max_iter was reached which means \"\n",
      "/Users/allen/opt/anaconda3/envs/metis/lib/python3.8/site-packages/sklearn/linear_model/_logistic.py:762: ConvergenceWarning: lbfgs failed to converge (status=1):\n",
      "STOP: TOTAL NO. of ITERATIONS REACHED LIMIT.\n",
      "\n",
      "Increase the number of iterations (max_iter) or scale the data as shown in:\n",
      "    https://scikit-learn.org/stable/modules/preprocessing.html\n",
      "Please also refer to the documentation for alternative solver options:\n",
      "    https://scikit-learn.org/stable/modules/linear_model.html#logistic-regression\n",
      "  n_iter_i = _check_optimize_result(\n"
     ]
    },
    {
     "name": "stderr",
     "output_type": "stream",
     "text": [
      "/Users/allen/opt/anaconda3/envs/metis/lib/python3.8/site-packages/sklearn/linear_model/_sag.py:329: ConvergenceWarning: The max_iter was reached which means the coef_ did not converge\n",
      "  warnings.warn(\"The max_iter was reached which means \"\n",
      "/Users/allen/opt/anaconda3/envs/metis/lib/python3.8/site-packages/sklearn/linear_model/_sag.py:329: ConvergenceWarning: The max_iter was reached which means the coef_ did not converge\n",
      "  warnings.warn(\"The max_iter was reached which means \"\n",
      "/Users/allen/opt/anaconda3/envs/metis/lib/python3.8/site-packages/sklearn/linear_model/_logistic.py:762: ConvergenceWarning: lbfgs failed to converge (status=1):\n",
      "STOP: TOTAL NO. of ITERATIONS REACHED LIMIT.\n",
      "\n",
      "Increase the number of iterations (max_iter) or scale the data as shown in:\n",
      "    https://scikit-learn.org/stable/modules/preprocessing.html\n",
      "Please also refer to the documentation for alternative solver options:\n",
      "    https://scikit-learn.org/stable/modules/linear_model.html#logistic-regression\n",
      "  n_iter_i = _check_optimize_result(\n",
      "/Users/allen/opt/anaconda3/envs/metis/lib/python3.8/site-packages/sklearn/linear_model/_sag.py:329: ConvergenceWarning: The max_iter was reached which means the coef_ did not converge\n",
      "  warnings.warn(\"The max_iter was reached which means \"\n",
      "/Users/allen/opt/anaconda3/envs/metis/lib/python3.8/site-packages/sklearn/linear_model/_sag.py:329: ConvergenceWarning: The max_iter was reached which means the coef_ did not converge\n",
      "  warnings.warn(\"The max_iter was reached which means \"\n",
      "/Users/allen/opt/anaconda3/envs/metis/lib/python3.8/site-packages/sklearn/linear_model/_logistic.py:762: ConvergenceWarning: lbfgs failed to converge (status=1):\n",
      "STOP: TOTAL NO. of ITERATIONS REACHED LIMIT.\n",
      "\n",
      "Increase the number of iterations (max_iter) or scale the data as shown in:\n",
      "    https://scikit-learn.org/stable/modules/preprocessing.html\n",
      "Please also refer to the documentation for alternative solver options:\n",
      "    https://scikit-learn.org/stable/modules/linear_model.html#logistic-regression\n",
      "  n_iter_i = _check_optimize_result(\n",
      "/Users/allen/opt/anaconda3/envs/metis/lib/python3.8/site-packages/sklearn/linear_model/_sag.py:329: ConvergenceWarning: The max_iter was reached which means the coef_ did not converge\n",
      "  warnings.warn(\"The max_iter was reached which means \"\n",
      "/Users/allen/opt/anaconda3/envs/metis/lib/python3.8/site-packages/sklearn/linear_model/_sag.py:329: ConvergenceWarning: The max_iter was reached which means the coef_ did not converge\n",
      "  warnings.warn(\"The max_iter was reached which means \"\n",
      "/Users/allen/opt/anaconda3/envs/metis/lib/python3.8/site-packages/sklearn/linear_model/_logistic.py:762: ConvergenceWarning: lbfgs failed to converge (status=1):\n",
      "STOP: TOTAL NO. of ITERATIONS REACHED LIMIT.\n",
      "\n",
      "Increase the number of iterations (max_iter) or scale the data as shown in:\n",
      "    https://scikit-learn.org/stable/modules/preprocessing.html\n",
      "Please also refer to the documentation for alternative solver options:\n",
      "    https://scikit-learn.org/stable/modules/linear_model.html#logistic-regression\n",
      "  n_iter_i = _check_optimize_result(\n",
      "/Users/allen/opt/anaconda3/envs/metis/lib/python3.8/site-packages/sklearn/linear_model/_sag.py:329: ConvergenceWarning: The max_iter was reached which means the coef_ did not converge\n",
      "  warnings.warn(\"The max_iter was reached which means \"\n",
      "/Users/allen/opt/anaconda3/envs/metis/lib/python3.8/site-packages/sklearn/linear_model/_sag.py:329: ConvergenceWarning: The max_iter was reached which means the coef_ did not converge\n",
      "  warnings.warn(\"The max_iter was reached which means \"\n",
      "/Users/allen/opt/anaconda3/envs/metis/lib/python3.8/site-packages/sklearn/linear_model/_logistic.py:762: ConvergenceWarning: lbfgs failed to converge (status=1):\n",
      "STOP: TOTAL NO. of ITERATIONS REACHED LIMIT.\n",
      "\n",
      "Increase the number of iterations (max_iter) or scale the data as shown in:\n",
      "    https://scikit-learn.org/stable/modules/preprocessing.html\n",
      "Please also refer to the documentation for alternative solver options:\n",
      "    https://scikit-learn.org/stable/modules/linear_model.html#logistic-regression\n",
      "  n_iter_i = _check_optimize_result(\n",
      "/Users/allen/opt/anaconda3/envs/metis/lib/python3.8/site-packages/sklearn/linear_model/_sag.py:329: ConvergenceWarning: The max_iter was reached which means the coef_ did not converge\n",
      "  warnings.warn(\"The max_iter was reached which means \"\n",
      "/Users/allen/opt/anaconda3/envs/metis/lib/python3.8/site-packages/sklearn/linear_model/_sag.py:329: ConvergenceWarning: The max_iter was reached which means the coef_ did not converge\n",
      "  warnings.warn(\"The max_iter was reached which means \"\n",
      "/Users/allen/opt/anaconda3/envs/metis/lib/python3.8/site-packages/sklearn/linear_model/_logistic.py:762: ConvergenceWarning: lbfgs failed to converge (status=1):\n",
      "STOP: TOTAL NO. of ITERATIONS REACHED LIMIT.\n",
      "\n",
      "Increase the number of iterations (max_iter) or scale the data as shown in:\n",
      "    https://scikit-learn.org/stable/modules/preprocessing.html\n",
      "Please also refer to the documentation for alternative solver options:\n",
      "    https://scikit-learn.org/stable/modules/linear_model.html#logistic-regression\n",
      "  n_iter_i = _check_optimize_result(\n",
      "/Users/allen/opt/anaconda3/envs/metis/lib/python3.8/site-packages/sklearn/linear_model/_sag.py:329: ConvergenceWarning: The max_iter was reached which means the coef_ did not converge\n",
      "  warnings.warn(\"The max_iter was reached which means \"\n",
      "/Users/allen/opt/anaconda3/envs/metis/lib/python3.8/site-packages/sklearn/linear_model/_sag.py:329: ConvergenceWarning: The max_iter was reached which means the coef_ did not converge\n",
      "  warnings.warn(\"The max_iter was reached which means \"\n",
      "/Users/allen/opt/anaconda3/envs/metis/lib/python3.8/site-packages/sklearn/linear_model/_logistic.py:762: ConvergenceWarning: lbfgs failed to converge (status=1):\n",
      "STOP: TOTAL NO. of ITERATIONS REACHED LIMIT.\n",
      "\n",
      "Increase the number of iterations (max_iter) or scale the data as shown in:\n",
      "    https://scikit-learn.org/stable/modules/preprocessing.html\n",
      "Please also refer to the documentation for alternative solver options:\n",
      "    https://scikit-learn.org/stable/modules/linear_model.html#logistic-regression\n",
      "  n_iter_i = _check_optimize_result(\n",
      "/Users/allen/opt/anaconda3/envs/metis/lib/python3.8/site-packages/sklearn/linear_model/_sag.py:329: ConvergenceWarning: The max_iter was reached which means the coef_ did not converge\n",
      "  warnings.warn(\"The max_iter was reached which means \"\n",
      "/Users/allen/opt/anaconda3/envs/metis/lib/python3.8/site-packages/sklearn/linear_model/_sag.py:329: ConvergenceWarning: The max_iter was reached which means the coef_ did not converge\n",
      "  warnings.warn(\"The max_iter was reached which means \"\n"
     ]
    },
    {
     "data": {
      "text/plain": [
       "(LogisticRegression(class_weight='balanced', solver='liblinear'),\n",
       " 0.19364309548800032,\n",
       " 5)"
      ]
     },
     "execution_count": 36,
     "metadata": {},
     "output_type": "execute_result"
    }
   ],
   "source": [
    "LR_param_grid = {'class_weight':[None,'balanced',{'Athlete':.3, 'Average':.2, 'Fitness':.4, 'Obese':.1}],'solver':['lbfgs', 'liblinear','sag','saga']}\n",
    "LR, LR_score, LR_params, LR_scores_df, LR_index, LR_val_pred, LR_val_true, LR_val_pred_proba, LR_train_scores, LR_val_scores = \\\n",
    " SamplingGridSearchCV(ROS, LogisticRegression(), X_train, y_train, LR_param_grid, folds=5)\n",
    "LR, LR_score, LR_index"
   ]
  },
  {
   "cell_type": "code",
   "execution_count": 94,
   "metadata": {},
   "outputs": [
    {
     "data": {
      "text/plain": [
       "0.19364309548800032"
      ]
     },
     "execution_count": 94,
     "metadata": {},
     "output_type": "execute_result"
    }
   ],
   "source": [
    "LR_score"
   ]
  },
  {
   "cell_type": "code",
   "execution_count": 37,
   "metadata": {
    "scrolled": true
   },
   "outputs": [
    {
     "data": {
      "text/html": [
       "<div>\n",
       "<style scoped>\n",
       "    .dataframe tbody tr th:only-of-type {\n",
       "        vertical-align: middle;\n",
       "    }\n",
       "\n",
       "    .dataframe tbody tr th {\n",
       "        vertical-align: top;\n",
       "    }\n",
       "\n",
       "    .dataframe thead th {\n",
       "        text-align: right;\n",
       "    }\n",
       "</style>\n",
       "<table border=\"1\" class=\"dataframe\">\n",
       "  <thead>\n",
       "    <tr style=\"text-align: right;\">\n",
       "      <th></th>\n",
       "      <th>0</th>\n",
       "      <th>1</th>\n",
       "      <th>2</th>\n",
       "      <th>3</th>\n",
       "      <th>4</th>\n",
       "      <th>5</th>\n",
       "      <th>6</th>\n",
       "      <th>7</th>\n",
       "      <th>8</th>\n",
       "      <th>9</th>\n",
       "      <th>10</th>\n",
       "      <th>11</th>\n",
       "    </tr>\n",
       "  </thead>\n",
       "  <tbody>\n",
       "    <tr>\n",
       "      <th>parameters</th>\n",
       "      <td>{'class_weight': None, 'solver': 'lbfgs'}</td>\n",
       "      <td>{'class_weight': None, 'solver': 'liblinear'}</td>\n",
       "      <td>{'class_weight': None, 'solver': 'sag'}</td>\n",
       "      <td>{'class_weight': None, 'solver': 'saga'}</td>\n",
       "      <td>{'class_weight': 'balanced', 'solver': 'lbfgs'}</td>\n",
       "      <td>{'class_weight': 'balanced', 'solver': 'liblin...</td>\n",
       "      <td>{'class_weight': 'balanced', 'solver': 'sag'}</td>\n",
       "      <td>{'class_weight': 'balanced', 'solver': 'saga'}</td>\n",
       "      <td>{'class_weight': {'Athlete': 0.3, 'Average': 0...</td>\n",
       "      <td>{'class_weight': {'Athlete': 0.3, 'Average': 0...</td>\n",
       "      <td>{'class_weight': {'Athlete': 0.3, 'Average': 0...</td>\n",
       "      <td>{'class_weight': {'Athlete': 0.3, 'Average': 0...</td>\n",
       "    </tr>\n",
       "    <tr>\n",
       "      <th>train</th>\n",
       "      <td>0.0110185</td>\n",
       "      <td>0.00408426</td>\n",
       "      <td>0.00507359</td>\n",
       "      <td>0.00305345</td>\n",
       "      <td>0.153701</td>\n",
       "      <td>0.209275</td>\n",
       "      <td>0.145884</td>\n",
       "      <td>0.165208</td>\n",
       "      <td>0.146004</td>\n",
       "      <td>0.00706591</td>\n",
       "      <td>0.110968</td>\n",
       "      <td>0.0929472</td>\n",
       "    </tr>\n",
       "    <tr>\n",
       "      <th>val</th>\n",
       "      <td>0.004</td>\n",
       "      <td>0</td>\n",
       "      <td>0</td>\n",
       "      <td>0</td>\n",
       "      <td>0.134825</td>\n",
       "      <td>0.193643</td>\n",
       "      <td>0.140083</td>\n",
       "      <td>0.130524</td>\n",
       "      <td>0.149012</td>\n",
       "      <td>0</td>\n",
       "      <td>0.0845649</td>\n",
       "      <td>0.0692617</td>\n",
       "    </tr>\n",
       "  </tbody>\n",
       "</table>\n",
       "</div>"
      ],
      "text/plain": [
       "                                                    0  \\\n",
       "parameters  {'class_weight': None, 'solver': 'lbfgs'}   \n",
       "train                                       0.0110185   \n",
       "val                                             0.004   \n",
       "\n",
       "                                                        1  \\\n",
       "parameters  {'class_weight': None, 'solver': 'liblinear'}   \n",
       "train                                          0.00408426   \n",
       "val                                                     0   \n",
       "\n",
       "                                                  2  \\\n",
       "parameters  {'class_weight': None, 'solver': 'sag'}   \n",
       "train                                    0.00507359   \n",
       "val                                               0   \n",
       "\n",
       "                                                   3  \\\n",
       "parameters  {'class_weight': None, 'solver': 'saga'}   \n",
       "train                                     0.00305345   \n",
       "val                                                0   \n",
       "\n",
       "                                                          4  \\\n",
       "parameters  {'class_weight': 'balanced', 'solver': 'lbfgs'}   \n",
       "train                                              0.153701   \n",
       "val                                                0.134825   \n",
       "\n",
       "                                                            5  \\\n",
       "parameters  {'class_weight': 'balanced', 'solver': 'liblin...   \n",
       "train                                                0.209275   \n",
       "val                                                  0.193643   \n",
       "\n",
       "                                                        6  \\\n",
       "parameters  {'class_weight': 'balanced', 'solver': 'sag'}   \n",
       "train                                            0.145884   \n",
       "val                                              0.140083   \n",
       "\n",
       "                                                         7  \\\n",
       "parameters  {'class_weight': 'balanced', 'solver': 'saga'}   \n",
       "train                                             0.165208   \n",
       "val                                               0.130524   \n",
       "\n",
       "                                                            8  \\\n",
       "parameters  {'class_weight': {'Athlete': 0.3, 'Average': 0...   \n",
       "train                                                0.146004   \n",
       "val                                                  0.149012   \n",
       "\n",
       "                                                            9  \\\n",
       "parameters  {'class_weight': {'Athlete': 0.3, 'Average': 0...   \n",
       "train                                              0.00706591   \n",
       "val                                                         0   \n",
       "\n",
       "                                                           10  \\\n",
       "parameters  {'class_weight': {'Athlete': 0.3, 'Average': 0...   \n",
       "train                                                0.110968   \n",
       "val                                                 0.0845649   \n",
       "\n",
       "                                                           11  \n",
       "parameters  {'class_weight': {'Athlete': 0.3, 'Average': 0...  \n",
       "train                                               0.0929472  \n",
       "val                                                 0.0692617  "
      ]
     },
     "execution_count": 37,
     "metadata": {},
     "output_type": "execute_result"
    }
   ],
   "source": [
    "LR_scores_df"
   ]
  },
  {
   "cell_type": "code",
   "execution_count": 38,
   "metadata": {},
   "outputs": [
    {
     "data": {
      "text/plain": [
       "[array([0.00506329, 0.00507614, 0.01507538, 0.01980198, 0.01007557]),\n",
       " array([0.00510204, 0.00511509, 0.        , 0.00511509, 0.00508906]),\n",
       " array([0.00507614, 0.00508906, 0.        , 0.01012658, 0.00507614]),\n",
       " array([0.00507614, 0.00510204, 0.        , 0.00508906, 0.        ]),\n",
       " array([0.16047297, 0.13417191, 0.15147059, 0.16290909, 0.15948276]),\n",
       " array([0.20377358, 0.1576507 , 0.224     , 0.23101604, 0.22993492]),\n",
       " array([0.12950296, 0.18578352, 0.1042524 , 0.16122004, 0.14866204]),\n",
       " array([0.17391304, 0.15776987, 0.17577465, 0.17591036, 0.14267185]),\n",
       " array([0.13483146, 0.08281573, 0.17504052, 0.18040435, 0.15692821]),\n",
       " array([0.00505051, 0.00507614, 0.00506329, 0.01503759, 0.00510204]),\n",
       " array([0.0893617 , 0.01909308, 0.16936937, 0.15298507, 0.12403101]),\n",
       " array([0.06113537, 0.00977995, 0.15492958, 0.12865497, 0.11023622])]"
      ]
     },
     "execution_count": 38,
     "metadata": {},
     "output_type": "execute_result"
    }
   ],
   "source": [
    "LR_train_scores"
   ]
  },
  {
   "cell_type": "code",
   "execution_count": 39,
   "metadata": {},
   "outputs": [
    {
     "data": {
      "text/plain": [
       "[array([0.  , 0.  , 0.02, 0.  , 0.  ]),\n",
       " array([0., 0., 0., 0., 0.]),\n",
       " array([0., 0., 0., 0., 0.]),\n",
       " array([0., 0., 0., 0., 0.]),\n",
       " array([0.14965986, 0.12680115, 0.14044944, 0.14367816, 0.11353712]),\n",
       " array([0.22222222, 0.15853659, 0.19433198, 0.21800948, 0.17511521]),\n",
       " array([0.12411348, 0.20521173, 0.10869565, 0.17223199, 0.09016393]),\n",
       " array([0.15822785, 0.1291866 , 0.15550756, 0.15351812, 0.05617978]),\n",
       " array([0.14814815, 0.1300813 , 0.15189873, 0.13071895, 0.18421053]),\n",
       " array([0., 0., 0., 0., 0.]),\n",
       " array([0.08695652, 0.03738318, 0.10596026, 0.06349206, 0.12903226]),\n",
       " array([0.0877193 , 0.        , 0.12903226, 0.06451613, 0.06504065])]"
      ]
     },
     "execution_count": 39,
     "metadata": {},
     "output_type": "execute_result"
    }
   ],
   "source": [
    "LR_val_scores"
   ]
  },
  {
   "cell_type": "code",
   "execution_count": 40,
   "metadata": {},
   "outputs": [
    {
     "data": {
      "text/plain": [
       "pandas.core.series.Series"
      ]
     },
     "execution_count": 40,
     "metadata": {},
     "output_type": "execute_result"
    }
   ],
   "source": [
    "type(y_train)"
   ]
  },
  {
   "cell_type": "code",
   "execution_count": 41,
   "metadata": {},
   "outputs": [
    {
     "data": {
      "text/plain": [
       "Obese      6914\n",
       "Average    1977\n",
       "Fitness     488\n",
       "Athlete      81\n",
       "Name: category, dtype: int64"
      ]
     },
     "execution_count": 41,
     "metadata": {},
     "output_type": "execute_result"
    }
   ],
   "source": [
    "y_train.value_counts()"
   ]
  },
  {
   "cell_type": "code",
   "execution_count": 42,
   "metadata": {},
   "outputs": [
    {
     "data": {
      "text/plain": [
       "array([[   7,   11,   25,   38],\n",
       "       [ 129,  287,  237, 1324],\n",
       "       [  60,   82,  101,  245],\n",
       "       [ 154,  351,  186, 6223]])"
      ]
     },
     "execution_count": 42,
     "metadata": {},
     "output_type": "execute_result"
    }
   ],
   "source": [
    "metrics.confusion_matrix(LR_val_true[LR_index],LR_val_pred[LR_index])"
   ]
  },
  {
   "cell_type": "code",
   "execution_count": 43,
   "metadata": {},
   "outputs": [
    {
     "data": {
      "text/plain": [
       "array([[   0,   25,    0,   56],\n",
       "       [   0,  263,    2, 1712],\n",
       "       [   0,  123,    0,  365],\n",
       "       [   1,  205,    2, 6706]])"
      ]
     },
     "execution_count": 43,
     "metadata": {},
     "output_type": "execute_result"
    }
   ],
   "source": [
    "metrics.confusion_matrix(LR_val_true[3],LR_val_pred[3])"
   ]
  },
  {
   "cell_type": "code",
   "execution_count": 44,
   "metadata": {},
   "outputs": [
    {
     "data": {
      "text/plain": [
       "array([[  24,   12,   28,   17],\n",
       "       [ 501,  410,  380,  686],\n",
       "       [ 187,   99,  107,   95],\n",
       "       [ 741, 1045,  571, 4557]])"
      ]
     },
     "execution_count": 44,
     "metadata": {},
     "output_type": "execute_result"
    }
   ],
   "source": [
    "metrics.confusion_matrix(LR_val_true[4],LR_val_pred[4])"
   ]
  },
  {
   "cell_type": "code",
   "execution_count": 45,
   "metadata": {},
   "outputs": [
    {
     "data": {
      "text/plain": [
       "9460"
      ]
     },
     "execution_count": 45,
     "metadata": {},
     "output_type": "execute_result"
    }
   ],
   "source": [
    "len(LR_val_pred_proba[3])"
   ]
  },
  {
   "cell_type": "code",
   "execution_count": 46,
   "metadata": {},
   "outputs": [
    {
     "data": {
      "text/plain": [
       "LabelBinarizer()"
      ]
     },
     "execution_count": 46,
     "metadata": {},
     "output_type": "execute_result"
    }
   ],
   "source": [
    "lb = LabelBinarizer()\n",
    "lb.fit(['Athelete','Average','Fitness','Obese'])"
   ]
  },
  {
   "cell_type": "code",
   "execution_count": 47,
   "metadata": {},
   "outputs": [],
   "source": [
    "LR_val_bin = lb.transform(LR_val_true[3])"
   ]
  },
  {
   "cell_type": "code",
   "execution_count": 48,
   "metadata": {},
   "outputs": [
    {
     "data": {
      "text/plain": [
       "(9460, 4)"
      ]
     },
     "execution_count": 48,
     "metadata": {},
     "output_type": "execute_result"
    }
   ],
   "source": [
    "LR_val_bin.shape"
   ]
  },
  {
   "cell_type": "code",
   "execution_count": 49,
   "metadata": {},
   "outputs": [],
   "source": [
    "LR_val_bin = LR_val_bin.reshape(len(LR_val_bin),4)"
   ]
  },
  {
   "cell_type": "code",
   "execution_count": 50,
   "metadata": {},
   "outputs": [
    {
     "data": {
      "text/plain": [
       "array([[0, 0, 0, 1],\n",
       "       [0, 0, 0, 1],\n",
       "       [0, 1, 0, 0],\n",
       "       ...,\n",
       "       [0, 0, 0, 1],\n",
       "       [0, 0, 0, 1],\n",
       "       [0, 0, 0, 1]])"
      ]
     },
     "execution_count": 50,
     "metadata": {},
     "output_type": "execute_result"
    }
   ],
   "source": [
    "LR_val_bin[:,]"
   ]
  },
  {
   "cell_type": "code",
   "execution_count": 51,
   "metadata": {},
   "outputs": [
    {
     "data": {
      "text/plain": [
       "12"
      ]
     },
     "execution_count": 51,
     "metadata": {},
     "output_type": "execute_result"
    }
   ],
   "source": [
    "len(LR_val_pred_proba)"
   ]
  },
  {
   "cell_type": "code",
   "execution_count": 52,
   "metadata": {},
   "outputs": [],
   "source": [
    "proba = np.concatenate(LR_val_pred_proba[3]).reshape(len(LR_val_pred_proba[3]),4)"
   ]
  },
  {
   "cell_type": "code",
   "execution_count": 53,
   "metadata": {},
   "outputs": [
    {
     "data": {
      "text/plain": [
       "array([0.50997151, 0.14006229, 0.29345821, ..., 0.39308168, 0.04291741,\n",
       "       0.07788956])"
      ]
     },
     "execution_count": 53,
     "metadata": {},
     "output_type": "execute_result"
    }
   ],
   "source": [
    "proba[:,1]"
   ]
  },
  {
   "cell_type": "code",
   "execution_count": 54,
   "metadata": {},
   "outputs": [],
   "source": [
    "from sklearn.metrics import precision_recall_curve\n",
    "from sklearn.metrics import average_precision_score\n",
    "from sklearn.metrics import auc"
   ]
  },
  {
   "cell_type": "code",
   "execution_count": 55,
   "metadata": {},
   "outputs": [
    {
     "name": "stdout",
     "output_type": "stream",
     "text": [
      "Average precision score, micro-averaged over all classes: 0.81\n"
     ]
    },
    {
     "name": "stderr",
     "output_type": "stream",
     "text": [
      "/Users/allen/opt/anaconda3/envs/metis/lib/python3.8/site-packages/sklearn/metrics/_ranking.py:681: RuntimeWarning: invalid value encountered in true_divide\n",
      "  recall = tps / tps[-1]\n"
     ]
    }
   ],
   "source": [
    "\n",
    "precision = dict()\n",
    "recall = dict()\n",
    "average_precision = dict()\n",
    "for i in range(4):\n",
    "    precision[i], recall[i], _= metrics.precision_recall_curve(LR_val_bin[:,i],proba[:,i])\n",
    "    average_precision[i] = average_precision_score(LR_val_bin[:, i], proba[:, i])\n",
    "\n",
    "# A \"micro-average\": quantifying score on all classes jointly\n",
    "precision[\"micro\"], recall[\"micro\"], _ = precision_recall_curve(LR_val_bin.ravel(),\n",
    "    proba.ravel())\n",
    "average_precision[\"micro\"] = average_precision_score(LR_val_bin, proba,\n",
    "                                                     average=\"micro\")\n",
    "print('Average precision score, micro-averaged over all classes: {0:0.2f}'\n",
    "      .format(average_precision[\"micro\"]))"
   ]
  },
  {
   "cell_type": "code",
   "execution_count": 56,
   "metadata": {},
   "outputs": [
    {
     "data": {
      "image/png": "[encoded data removed]",
      "text/plain": [
       "<Figure size 504x576 with 1 Axes>"
      ]
     },
     "metadata": {},
     "output_type": "display_data"
    }
   ],
   "source": [
    "from itertools import cycle\n",
    "# setup plot details\n",
    "colors = cycle(['navy', 'turquoise', 'darkorange', 'cornflowerblue', 'teal'])\n",
    "\n",
    "plt.figure(figsize=(7, 8))\n",
    "f_scores = np.linspace(0.2, 0.8, num=4)\n",
    "lines = []\n",
    "labels = []\n",
    "for f_score in f_scores:\n",
    "    x = np.linspace(0.01, 1)\n",
    "    y = f_score * x / (2 * x - f_score)\n",
    "    l, = plt.plot(x[y >= 0], y[y >= 0], color='gray', alpha=0.2)\n",
    "    plt.annotate('f1={0:0.1f}'.format(f_score), xy=(0.9, y[45] + 0.02))\n",
    "\n",
    "lines.append(l)\n",
    "labels.append('iso-f1 curves')\n",
    "l, = plt.plot(recall[\"micro\"], precision[\"micro\"], color='gold', lw=2)\n",
    "lines.append(l)\n",
    "labels.append('micro-average Precision-recall (area = {0:0.2f})'\n",
    "              ''.format(average_precision[\"micro\"]))\n",
    "\n",
    "for i, color in zip(range(4), colors):\n",
    "    l, = plt.plot(recall[i], precision[i], color=color, lw=2)\n",
    "    lines.append(l)\n",
    "    labels.append('Precision-recall for class {0} (area = {1:0.2f})'\n",
    "                  ''.format(i, average_precision[i]))\n",
    "\n",
    "fig = plt.gcf()\n",
    "fig.subplots_adjust(bottom=0.25)\n",
    "plt.xlim([0.0, 1.0])\n",
    "plt.ylim([0.0, 1.05])\n",
    "plt.xlabel('Recall')\n",
    "plt.ylabel('Precision')\n",
    "plt.title('Extension of Precision-Recall curve to multi-class')\n",
    "plt.legend(lines, labels, loc=(0, -.38), prop=dict(size=14))\n",
    "\n",
    "\n",
    "plt.show()"
   ]
  },
  {
   "cell_type": "code",
   "execution_count": 57,
   "metadata": {},
   "outputs": [
    {
     "data": {
      "text/plain": [
       "{0: nan,\n",
       " 1: 0.34973921691141996,\n",
       " 2: 0.15073848349416732,\n",
       " 3: 0.8818310168044894,\n",
       " 'micro': 0.8064120489220782}"
      ]
     },
     "execution_count": 57,
     "metadata": {},
     "output_type": "execute_result"
    }
   ],
   "source": [
    "average_precision"
   ]
  },
  {
   "cell_type": "code",
   "execution_count": 58,
   "metadata": {},
   "outputs": [],
   "source": [
    "from sklearn.inspection import permutation_importance"
   ]
  },
  {
   "cell_type": "code",
   "execution_count": 59,
   "metadata": {},
   "outputs": [
    {
     "data": {
      "text/plain": [
       "array([0.19042394, 0.02116452, 0.01570052, 0.11902506, 0.00419834,\n",
       "       0.00083727, 0.00539342, 0.00239418, 0.00098747, 0.0066141 ,\n",
       "       0.00114991, 0.02095513, 0.00984684, 0.01605128, 0.00171171,\n",
       "       0.0071563 , 0.01374268, 0.01183047, 0.0092059 , 0.04109341,\n",
       "       0.07319651, 0.0585332 , 0.07217337, 0.21998677, 0.07662771])"
      ]
     },
     "execution_count": 59,
     "metadata": {},
     "output_type": "execute_result"
    }
   ],
   "source": [
    "DTC.feature_importances_"
   ]
  },
  {
   "cell_type": "code",
   "execution_count": 60,
   "metadata": {},
   "outputs": [
    {
     "data": {
      "text/plain": [
       "<matplotlib.axes._subplots.AxesSubplot at 0x7fe9d8c791c0>"
      ]
     },
     "execution_count": 60,
     "metadata": {},
     "output_type": "execute_result"
    },
    {
     "data": {
      "image/png": "[encoded data removed]",
      "text/plain": [
       "<Figure size 432x288 with 2 Axes>"
      ]
     },
     "metadata": {},
     "output_type": "display_data"
    }
   ],
   "source": [
    "sns.heatmap(LR.coef_)"
   ]
  },
  {
   "cell_type": "code",
   "execution_count": 61,
   "metadata": {},
   "outputs": [
    {
     "data": {
      "text/plain": [
       "array([-0.38049533,  0.13500147, -0.26632888,  0.51182275])"
      ]
     },
     "execution_count": 61,
     "metadata": {},
     "output_type": "execute_result"
    }
   ],
   "source": [
    "LR.intercept_"
   ]
  },
  {
   "cell_type": "markdown",
   "metadata": {},
   "source": [
    "#### Naive Bayes"
   ]
  },
  {
   "cell_type": "code",
   "execution_count": 62,
   "metadata": {},
   "outputs": [
    {
     "data": {
      "text/plain": [
       "(GaussianNB(priors=[0.25, 0.25, 0.25, 0.25]), 0.014460540433097168, 1)"
      ]
     },
     "execution_count": 62,
     "metadata": {},
     "output_type": "execute_result"
    }
   ],
   "source": [
    "GNB_param_grid = {'priors':[None,[0.25,0.25,0.25,0.25],[0.3,0.2,0.3,0.2]]}\n",
    "GNB, GNB_score, GNB_params, GNB_scores_df, GNB_index, GNB_val_pred, GNB_val_true, GNB_val_pred_proba, GNB_train_scores, GNB_val_scores = \\\n",
    "SamplingGridSearchCV(ROS, GaussianNB(), X_train, y_train, GNB_param_grid, folds=5)\n",
    "GNB, GNB_score, GNB_index\n"
   ]
  },
  {
   "cell_type": "code",
   "execution_count": 63,
   "metadata": {},
   "outputs": [
    {
     "data": {
      "text/plain": [
       "array([[  76,    0,    1,    4],\n",
       "       [1668,    4,   42,  263],\n",
       "       [ 450,    2,    7,   29],\n",
       "       [4285,   10,  336, 2283]])"
      ]
     },
     "execution_count": 63,
     "metadata": {},
     "output_type": "execute_result"
    }
   ],
   "source": [
    "metrics.confusion_matrix(GNB_val_true[GNB_index],GNB_val_pred[GNB_index])"
   ]
  },
  {
   "cell_type": "code",
   "execution_count": 64,
   "metadata": {},
   "outputs": [
    {
     "data": {
      "text/html": [
       "<div>\n",
       "<style scoped>\n",
       "    .dataframe tbody tr th:only-of-type {\n",
       "        vertical-align: middle;\n",
       "    }\n",
       "\n",
       "    .dataframe tbody tr th {\n",
       "        vertical-align: top;\n",
       "    }\n",
       "\n",
       "    .dataframe thead th {\n",
       "        text-align: right;\n",
       "    }\n",
       "</style>\n",
       "<table border=\"1\" class=\"dataframe\">\n",
       "  <thead>\n",
       "    <tr style=\"text-align: right;\">\n",
       "      <th></th>\n",
       "      <th>0</th>\n",
       "      <th>1</th>\n",
       "      <th>2</th>\n",
       "    </tr>\n",
       "  </thead>\n",
       "  <tbody>\n",
       "    <tr>\n",
       "      <th>parameters</th>\n",
       "      <td>{'priors': None}</td>\n",
       "      <td>{'priors': [0.25, 0.25, 0.25, 0.25]}</td>\n",
       "      <td>{'priors': [0.3, 0.2, 0.3, 0.2]}</td>\n",
       "    </tr>\n",
       "    <tr>\n",
       "      <th>train</th>\n",
       "      <td>0.0159767</td>\n",
       "      <td>0.0163433</td>\n",
       "      <td>0.0177009</td>\n",
       "    </tr>\n",
       "    <tr>\n",
       "      <th>val</th>\n",
       "      <td>0.0112619</td>\n",
       "      <td>0.0144605</td>\n",
       "      <td>0.0144298</td>\n",
       "    </tr>\n",
       "  </tbody>\n",
       "</table>\n",
       "</div>"
      ],
      "text/plain": [
       "                           0                                     1  \\\n",
       "parameters  {'priors': None}  {'priors': [0.25, 0.25, 0.25, 0.25]}   \n",
       "train              0.0159767                             0.0163433   \n",
       "val                0.0112619                             0.0144605   \n",
       "\n",
       "                                           2  \n",
       "parameters  {'priors': [0.3, 0.2, 0.3, 0.2]}  \n",
       "train                              0.0177009  \n",
       "val                                0.0144298  "
      ]
     },
     "execution_count": 64,
     "metadata": {},
     "output_type": "execute_result"
    }
   ],
   "source": [
    "GNB_scores_df"
   ]
  },
  {
   "cell_type": "code",
   "execution_count": 65,
   "metadata": {},
   "outputs": [
    {
     "data": {
      "text/plain": [
       "array([[  76,    0,    1,    4],\n",
       "       [1661,    3,   36,  277],\n",
       "       [ 450,    3,    6,   29],\n",
       "       [4206,    4,  315, 2389]])"
      ]
     },
     "execution_count": 65,
     "metadata": {},
     "output_type": "execute_result"
    }
   ],
   "source": [
    "metrics.confusion_matrix(GNB_val_true[0],GNB_val_pred[0])"
   ]
  },
  {
   "cell_type": "code",
   "execution_count": 99,
   "metadata": {},
   "outputs": [
    {
     "data": {
      "text/plain": [
       "array([[  76,    0,    1,    4],\n",
       "       [1668,    4,   42,  263],\n",
       "       [ 450,    2,    7,   29],\n",
       "       [4285,   10,  336, 2283]])"
      ]
     },
     "execution_count": 99,
     "metadata": {},
     "output_type": "execute_result"
    }
   ],
   "source": [
    "metrics.confusion_matrix(GNB_val_true[1],GNB_val_pred[1])"
   ]
  },
  {
   "cell_type": "code",
   "execution_count": 100,
   "metadata": {},
   "outputs": [
    {
     "data": {
      "text/plain": [
       "array([[  76,    0,    1,    4],\n",
       "       [1669,    4,   42,  262],\n",
       "       [ 451,    1,    7,   29],\n",
       "       [4288,   10,  339, 2277]])"
      ]
     },
     "execution_count": 100,
     "metadata": {},
     "output_type": "execute_result"
    }
   ],
   "source": [
    "metrics.confusion_matrix(GNB_val_true[2],GNB_val_pred[2])"
   ]
  },
  {
   "cell_type": "code",
   "execution_count": 66,
   "metadata": {},
   "outputs": [],
   "source": [
    "mod = GaussianNB()\n",
    "mod = mod.fit(X_train, y_train)\n",
    "mod_train_pred = mod.predict(X_train)\n",
    "mod_val_pred = mod.predict(X_test)"
   ]
  },
  {
   "cell_type": "code",
   "execution_count": 67,
   "metadata": {},
   "outputs": [],
   "source": [
    "from sklearn.metrics import classification_report"
   ]
  },
  {
   "cell_type": "code",
   "execution_count": 68,
   "metadata": {},
   "outputs": [
    {
     "name": "stdout",
     "output_type": "stream",
     "text": [
      "              precision    recall  f1-score   support\n",
      "\n",
      "     Athlete       0.01      0.98      0.02        81\n",
      "     Average       0.43      0.00      0.00      1977\n",
      "     Fitness       0.02      0.01      0.01       488\n",
      "       Obese       0.88      0.37      0.52      6914\n",
      "\n",
      "    accuracy                           0.28      9460\n",
      "   macro avg       0.34      0.34      0.14      9460\n",
      "weighted avg       0.74      0.28      0.38      9460\n",
      "\n"
     ]
    }
   ],
   "source": [
    "print(classification_report(y_train, mod.predict(X_train), target_names = ['Athlete','Average','Fitness','Obese']))"
   ]
  },
  {
   "cell_type": "code",
   "execution_count": 69,
   "metadata": {},
   "outputs": [
    {
     "data": {
      "text/plain": [
       "array([[  79,    0,    0,    2],\n",
       "       [1638,    3,   37,  299],\n",
       "       [ 451,    1,    5,   31],\n",
       "       [4105,    3,  274, 2532]])"
      ]
     },
     "execution_count": 69,
     "metadata": {},
     "output_type": "execute_result"
    }
   ],
   "source": [
    "metrics.confusion_matrix(y_train, mod.predict(X_train))"
   ]
  },
  {
   "cell_type": "code",
   "execution_count": 70,
   "metadata": {},
   "outputs": [],
   "source": [
    "x = classification_report(y_train, mod.predict(X_train), target_names = ['Athlete','Average','Fitness','Obese'],output_dict= True)"
   ]
  },
  {
   "cell_type": "code",
   "execution_count": 71,
   "metadata": {},
   "outputs": [
    {
     "data": {
      "text/plain": [
       "0.012437810945273632"
      ]
     },
     "execution_count": 71,
     "metadata": {},
     "output_type": "execute_result"
    }
   ],
   "source": [
    "x['Fitness']['f1-score']"
   ]
  },
  {
   "cell_type": "code",
   "execution_count": 72,
   "metadata": {},
   "outputs": [
    {
     "data": {
      "text/plain": [
       "dict_keys(['Athlete', 'Average', 'Fitness', 'Obese', 'accuracy', 'macro avg', 'weighted avg'])"
      ]
     },
     "execution_count": 72,
     "metadata": {},
     "output_type": "execute_result"
    }
   ],
   "source": [
    "x.keys()"
   ]
  },
  {
   "cell_type": "markdown",
   "metadata": {},
   "source": [
    "#### XGBoost"
   ]
  },
  {
   "cell_type": "code",
   "execution_count": 73,
   "metadata": {},
   "outputs": [
    {
     "data": {
      "text/plain": [
       "(XGBClassifier(base_score=0.5, booster=None, class_weight=None,\n",
       "               colsample_bylevel=1, colsample_bynode=1, colsample_bytree=1,\n",
       "               gamma=0, gpu_id=-1, importance_type='gain',\n",
       "               interaction_constraints=None, learning_rate=0.300000012,\n",
       "               max_delta_step=0, max_depth=8, min_child_weight=1, missing=nan,\n",
       "               monotone_constraints=None, n_estimators=100, n_jobs=0,\n",
       "               num_parallel_tree=1, objective='multi:softprob', random_state=0,\n",
       "               reg_alpha=0, reg_lambda=1, scale_pos_weight=None, subsample=1,\n",
       "               tree_method=None, validate_parameters=False, verbosity=None),\n",
       " 0.060839455857389854,\n",
       " 1)"
      ]
     },
     "execution_count": 73,
     "metadata": {},
     "output_type": "execute_result"
    }
   ],
   "source": [
    "XGB_param_grid = {'max_depth':[3,8],'class_weight':[None,'balanced']}\n",
    "XGB, XGB_score, XGB_params, XGB_scores_df, XGB_index, XGB_val_pred, XGB_val_true, XGB_val_pred_proba, XGB_train_scores, XGB_val_scores = \\\n",
    "SamplingGridSearchCV(ROS, xgb.XGBClassifier(), X_train, y_train, XGB_param_grid, folds=5)\n",
    "XGB, XGB_score, XGB_index"
   ]
  },
  {
   "cell_type": "code",
   "execution_count": 74,
   "metadata": {},
   "outputs": [
    {
     "data": {
      "text/html": [
       "<div>\n",
       "<style scoped>\n",
       "    .dataframe tbody tr th:only-of-type {\n",
       "        vertical-align: middle;\n",
       "    }\n",
       "\n",
       "    .dataframe tbody tr th {\n",
       "        vertical-align: top;\n",
       "    }\n",
       "\n",
       "    .dataframe thead th {\n",
       "        text-align: right;\n",
       "    }\n",
       "</style>\n",
       "<table border=\"1\" class=\"dataframe\">\n",
       "  <thead>\n",
       "    <tr style=\"text-align: right;\">\n",
       "      <th></th>\n",
       "      <th>0</th>\n",
       "      <th>1</th>\n",
       "      <th>2</th>\n",
       "      <th>3</th>\n",
       "    </tr>\n",
       "  </thead>\n",
       "  <tbody>\n",
       "    <tr>\n",
       "      <th>parameters</th>\n",
       "      <td>{'class_weight': None, 'max_depth': 3}</td>\n",
       "      <td>{'class_weight': None, 'max_depth': 8}</td>\n",
       "      <td>{'class_weight': 'balanced', 'max_depth': 3}</td>\n",
       "      <td>{'class_weight': 'balanced', 'max_depth': 8}</td>\n",
       "    </tr>\n",
       "    <tr>\n",
       "      <th>train</th>\n",
       "      <td>0.11841</td>\n",
       "      <td>0.601322</td>\n",
       "      <td>0.11841</td>\n",
       "      <td>0.601322</td>\n",
       "    </tr>\n",
       "    <tr>\n",
       "      <th>val</th>\n",
       "      <td>0.0149533</td>\n",
       "      <td>0.0608395</td>\n",
       "      <td>0.0149533</td>\n",
       "      <td>0.0608395</td>\n",
       "    </tr>\n",
       "  </tbody>\n",
       "</table>\n",
       "</div>"
      ],
      "text/plain": [
       "                                                 0  \\\n",
       "parameters  {'class_weight': None, 'max_depth': 3}   \n",
       "train                                      0.11841   \n",
       "val                                      0.0149533   \n",
       "\n",
       "                                                 1  \\\n",
       "parameters  {'class_weight': None, 'max_depth': 8}   \n",
       "train                                     0.601322   \n",
       "val                                      0.0608395   \n",
       "\n",
       "                                                       2  \\\n",
       "parameters  {'class_weight': 'balanced', 'max_depth': 3}   \n",
       "train                                            0.11841   \n",
       "val                                            0.0149533   \n",
       "\n",
       "                                                       3  \n",
       "parameters  {'class_weight': 'balanced', 'max_depth': 8}  \n",
       "train                                           0.601322  \n",
       "val                                            0.0608395  "
      ]
     },
     "execution_count": 74,
     "metadata": {},
     "output_type": "execute_result"
    }
   ],
   "source": [
    "XGB_scores_df"
   ]
  },
  {
   "cell_type": "code",
   "execution_count": 75,
   "metadata": {},
   "outputs": [
    {
     "data": {
      "text/plain": [
       "array([[   0,   32,    7,   42],\n",
       "       [   8,  470,   56, 1443],\n",
       "       [   8,  156,   19,  305],\n",
       "       [   5,  484,   50, 6375]])"
      ]
     },
     "execution_count": 75,
     "metadata": {},
     "output_type": "execute_result"
    }
   ],
   "source": [
    "metrics.confusion_matrix(XGB_val_true[XGB_index],XGB_val_pred[XGB_index])"
   ]
  },
  {
   "cell_type": "code",
   "execution_count": 76,
   "metadata": {},
   "outputs": [],
   "source": [
    "#Run loop on multiple codes\n",
    "\n",
    "#get values and create model v model plots\n"
   ]
  },
  {
   "cell_type": "code",
   "execution_count": 77,
   "metadata": {},
   "outputs": [],
   "source": [
    "#function to obtain results and plots (based on val data) for selected model with parameters"
   ]
  },
  {
   "cell_type": "code",
   "execution_count": 78,
   "metadata": {},
   "outputs": [],
   "source": [
    "naive_conf = metrics.confusion_matrix(y_test, dum_dum.predict(X_test),labels=['Athlete','Average','Fitness','Obese'])"
   ]
  },
  {
   "cell_type": "code",
   "execution_count": 79,
   "metadata": {},
   "outputs": [
    {
     "data": {
      "text/plain": [
       "array([[   0,    0,    0,   19],\n",
       "       [   0,    0,    0,  480],\n",
       "       [   0,    0,    0,  115],\n",
       "       [   0,    0,    0, 1752]])"
      ]
     },
     "execution_count": 79,
     "metadata": {},
     "output_type": "execute_result"
    }
   ],
   "source": [
    "naive_conf"
   ]
  },
  {
   "cell_type": "markdown",
   "metadata": {},
   "source": [
    "## Scratch for personal scoring metrics"
   ]
  },
  {
   "cell_type": "code",
   "execution_count": 80,
   "metadata": {},
   "outputs": [],
   "source": [
    "def my_scorer2(clf, X, y_true):\n",
    "    class_labels = clf.classes_\n",
    "    y_pred_proba = clf.predict_proba(X)\n",
    "    \n",
    "    score_points = np.array([[1,0.2,0.8,0],[0.2,1,0.4,0.6],[0.8,0.4,1,.2],[0,.6,.2,1]])\n",
    "    y_test_bin = LabelBinarizer().fit(class_labels).transform(y_true)\n",
    "    interstep = np.matmul(y_test_bin,score_points)\n",
    "    \n",
    "    fin = interstep*clf.predict_proba(X)\n",
    "    \n",
    "    error = fin.sum()/len(fin)\n",
    "    return error"
   ]
  },
  {
   "cell_type": "code",
   "execution_count": 81,
   "metadata": {},
   "outputs": [],
   "source": [
    "score_points = np.array([[1,0.2,0.8,0],[0.2,1,0.4,0.6],[0.8,0.4,1,.2],[0,.6,.2,1]])"
   ]
  },
  {
   "cell_type": "code",
   "execution_count": 82,
   "metadata": {},
   "outputs": [
    {
     "data": {
      "text/plain": [
       "array([[1. , 0.2, 0.8, 0. ],\n",
       "       [0.2, 1. , 0.4, 0.6],\n",
       "       [0.8, 0.4, 1. , 0.2],\n",
       "       [0. , 0.6, 0.2, 1. ]])"
      ]
     },
     "execution_count": 82,
     "metadata": {},
     "output_type": "execute_result"
    }
   ],
   "source": [
    "score_points"
   ]
  },
  {
   "cell_type": "code",
   "execution_count": 83,
   "metadata": {},
   "outputs": [],
   "source": [
    "from sklearn.preprocessing import LabelBinarizer"
   ]
  },
  {
   "cell_type": "code",
   "execution_count": 84,
   "metadata": {},
   "outputs": [
    {
     "data": {
      "text/plain": [
       "LabelBinarizer()"
      ]
     },
     "execution_count": 84,
     "metadata": {},
     "output_type": "execute_result"
    }
   ],
   "source": [
    "lb = LabelBinarizer()\n",
    "lb.fit(['Athlete','Average','Fitness','Obese'])"
   ]
  },
  {
   "cell_type": "code",
   "execution_count": 85,
   "metadata": {},
   "outputs": [
    {
     "data": {
      "text/plain": [
       "array([[0, 0, 0, 1],\n",
       "       [0, 0, 0, 1],\n",
       "       [0, 0, 0, 1],\n",
       "       ...,\n",
       "       [0, 0, 0, 1],\n",
       "       [0, 0, 0, 1],\n",
       "       [0, 0, 0, 1]])"
      ]
     },
     "execution_count": 85,
     "metadata": {},
     "output_type": "execute_result"
    }
   ],
   "source": [
    "y_test_bin = lb.transform(y_test)\n",
    "y_test_bin"
   ]
  },
  {
   "cell_type": "code",
   "execution_count": 86,
   "metadata": {},
   "outputs": [
    {
     "data": {
      "text/plain": [
       "2366"
      ]
     },
     "execution_count": 86,
     "metadata": {},
     "output_type": "execute_result"
    }
   ],
   "source": [
    "len(y_test_bin)"
   ]
  },
  {
   "cell_type": "code",
   "execution_count": 87,
   "metadata": {},
   "outputs": [
    {
     "data": {
      "text/plain": [
       "array([0, 0, 0, 1])"
      ]
     },
     "execution_count": 87,
     "metadata": {},
     "output_type": "execute_result"
    }
   ],
   "source": [
    "y_test_bin[0]"
   ]
  },
  {
   "cell_type": "code",
   "execution_count": 88,
   "metadata": {},
   "outputs": [
    {
     "data": {
      "text/plain": [
       "2366"
      ]
     },
     "execution_count": 88,
     "metadata": {},
     "output_type": "execute_result"
    }
   ],
   "source": [
    "len(np.matmul(y_test_bin,score_points))"
   ]
  },
  {
   "cell_type": "code",
   "execution_count": 89,
   "metadata": {},
   "outputs": [],
   "source": [
    "interstep = np.matmul(y_test_bin,score_points)"
   ]
  },
  {
   "cell_type": "code",
   "execution_count": 90,
   "metadata": {},
   "outputs": [
    {
     "data": {
      "text/plain": [
       "array([0. , 0.6, 0.2, 1. ])"
      ]
     },
     "execution_count": 90,
     "metadata": {},
     "output_type": "execute_result"
    }
   ],
   "source": [
    "interstep[0]"
   ]
  },
  {
   "cell_type": "markdown",
   "metadata": {},
   "source": [
    "# Deprecated Models"
   ]
  },
  {
   "cell_type": "markdown",
   "metadata": {},
   "source": [
    "Note: I wanted to try all the models (KNN, Logistic Regression, Naive Bayes, Decision Tree, Random Forest, XGBoost). However, given time constraints, will only look at Logistic Regression and Decision Trees"
   ]
  },
  {
   "cell_type": "markdown",
   "metadata": {},
   "source": [
    "#### K-Nearest Neighbors"
   ]
  },
  {
   "cell_type": "markdown",
   "metadata": {},
   "source": [
    "Attempted this a few times, but given that KNN is so slow, not intepretable, and does not scale well, will not continue using while I iterate through the feature selection"
   ]
  },
  {
   "cell_type": "code",
   "execution_count": 92,
   "metadata": {},
   "outputs": [
    {
     "data": {
      "text/plain": [
       "(KNeighborsClassifier(n_neighbors=4, weights='distance'),\n",
       " 0.07730065031913172,\n",
       " 1)"
      ]
     },
     "execution_count": 92,
     "metadata": {},
     "output_type": "execute_result"
    }
   ],
   "source": [
    "KNN_param_grid = {'n_neighbors':range(4,9),'weights':['uniform','distance']}\n",
    "KNN, KNN_score, KNN_params, KNN_scores_df, KNN_index, KNN_val_pred, KNN_val_true, KNN_val_pred_proba, KNN_train_scores, KNN_val_scores = \\\n",
    "SamplingGridSearchCV(ROS, KNeighborsClassifier(), X_train, y_train, KNN_param_grid, folds=5)\n",
    "KNN, KNN_score, KNN_index"
   ]
  },
  {
   "cell_type": "code",
   "execution_count": 93,
   "metadata": {
    "scrolled": true
   },
   "outputs": [
    {
     "data": {
      "text/plain": [
       "array([[   2,   32,    9,   38],\n",
       "       [  16,  602,   72, 1287],\n",
       "       [   9,  176,   27,  276],\n",
       "       [  19, 1162,  100, 5633]])"
      ]
     },
     "execution_count": 93,
     "metadata": {},
     "output_type": "execute_result"
    }
   ],
   "source": [
    "metrics.confusion_matrix(KNN_val_true[KNN_index],KNN_val_pred[KNN_index])"
   ]
  },
  {
   "cell_type": "code",
   "execution_count": null,
   "metadata": {},
   "outputs": [],
   "source": []
  },
  {
   "cell_type": "code",
   "execution_count": null,
   "metadata": {},
   "outputs": [],
   "source": [
    "KNN_score"
   ]
  }
 ],
 "metadata": {
  "kernelspec": {
   "display_name": "Python [conda env:metis] *",
   "language": "python",
   "name": "conda-env-metis-py"
  },
  "language_info": {
   "codemirror_mode": {
    "name": "ipython",
    "version": 3
   },
   "file_extension": ".py",
   "mimetype": "text/x-python",
   "name": "python",
   "nbconvert_exporter": "python",
   "pygments_lexer": "ipython3",
   "version": "3.8.3"
  }
 },
 "nbformat": 4,
 "nbformat_minor": 4
}
