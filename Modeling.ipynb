{
 "cells": [
  {
   "cell_type": "code",
   "execution_count": 1,
   "metadata": {},
   "outputs": [],
   "source": [
    "# Get pandas and postgres to work together\n",
    "import psycopg2 as pg\n",
    "import pandas as pd\n",
    "\n",
    "# We are also going to do some basic viz\n",
    "import seaborn as sns\n",
    "import matplotlib.pyplot as plt\n",
    "%matplotlib inline\n",
    "\n",
    "from imblearn.over_sampling import RandomOverSampler, SMOTE, ADASYN\n",
    "import pickle\n",
    "import numpy as np"
   ]
  },
  {
   "cell_type": "code",
   "execution_count": 2,
   "metadata": {},
   "outputs": [],
   "source": [
    "sns.set_context('notebook')\n",
    "sns.set_style('whitegrid')"
   ]
  },
  {
   "cell_type": "code",
   "execution_count": 3,
   "metadata": {},
   "outputs": [],
   "source": [
    "with open('data/df_full.pickle', 'rb') as f:\n",
    "    df = pickle.load(f)"
   ]
  },
  {
   "cell_type": "markdown",
   "metadata": {},
   "source": [
    "## Split data into train and test"
   ]
  },
  {
   "cell_type": "code",
   "execution_count": 4,
   "metadata": {},
   "outputs": [
    {
     "data": {
      "text/plain": [
       "11826"
      ]
     },
     "execution_count": 4,
     "metadata": {},
     "output_type": "execute_result"
    }
   ],
   "source": [
    "len(df)"
   ]
  },
  {
   "cell_type": "code",
   "execution_count": 5,
   "metadata": {},
   "outputs": [],
   "source": [
    "import sklearn\n",
    "from sklearn.model_selection import train_test_split"
   ]
  },
  {
   "cell_type": "code",
   "execution_count": 6,
   "metadata": {},
   "outputs": [],
   "source": [
    "df_train, df_test = train_test_split(df, test_size=.20, random_state=42)"
   ]
  },
  {
   "cell_type": "code",
   "execution_count": 7,
   "metadata": {},
   "outputs": [],
   "source": [
    "X_train = df_train.iloc[:,4:9]\n",
    "y_train = df_train['category']\n",
    "X_test = df_test.iloc[:,4:9]\n",
    "y_test = df_test['category']"
   ]
  },
  {
   "cell_type": "markdown",
   "metadata": {},
   "source": [
    "## Oversampling"
   ]
  },
  {
   "cell_type": "code",
   "execution_count": 8,
   "metadata": {},
   "outputs": [],
   "source": [
    "import imblearn.over_sampling\n",
    "\n",
    "# setup for the ratio argument of RandomOverSampler initialization\n",
    "Obese = np.sum(y_train == 'Obese')\n",
    "Average = np.sum(y_train == 'Average')\n",
    "Fitness = np.sum(y_train == 'Fitness')\n",
    "Athlete = np.sum(y_train == 'Athlete')\n",
    "ratio = {'Obese': Obese, 'Average': Average*2, 'Fitness': Fitness*5, 'Athlete': Athlete*10} \n"
   ]
  },
  {
   "cell_type": "code",
   "execution_count": 9,
   "metadata": {},
   "outputs": [],
   "source": [
    "#initialize random sampler for later use\n",
    "ROS = imblearn.over_sampling.RandomOverSampler(sampling_strategy = 'auto', random_state=42) \n",
    "    \n",
    "# X_tr_rs, y_tr_rs = ROS.fit_resample(df_train,y_train)"
   ]
  },
  {
   "cell_type": "markdown",
   "metadata": {},
   "source": [
    "## Scoring"
   ]
  },
  {
   "cell_type": "code",
   "execution_count": null,
   "metadata": {},
   "outputs": [],
   "source": []
  },
  {
   "cell_type": "markdown",
   "metadata": {},
   "source": [
    "## Functions (Model Selection Pipeline)\n",
    "Things to address in pipeline:\n",
    "\n",
    "Class Imbalance (sampling metrics)\\\n",
    "Kfold cross validation (small dataset) \\\n",
    "Modeling (parameter tuning, class weights for those it applies to) \\\n",
    "Metrics selected above (F1) \\\n",
    "ROC Curve"
   ]
  },
  {
   "cell_type": "markdown",
   "metadata": {},
   "source": [
    "# Modeling"
   ]
  },
  {
   "cell_type": "code",
   "execution_count": 10,
   "metadata": {},
   "outputs": [],
   "source": [
    "from sklearn.model_selection import cross_validate\n",
    "from sklearn.model_selection import GridSearchCV\n",
    "from sklearn.linear_model import LogisticRegression\n",
    "from sklearn.tree import DecisionTreeClassifier\n",
    "from sklearn.neighbors import KNeighborsClassifier\n",
    "from sklearn.ensemble import RandomForestClassifier\n",
    "from sklearn.ensemble import RandomForestClassifier\n",
    "from sklearn.naive_bayes import GaussianNB\n",
    "from sklearn import metrics\n",
    "from sklearn.metrics import accuracy_score\n",
    "from sklearn.metrics import f1_score\n",
    "from sklearn.dummy import DummyClassifier\n",
    "from operator import itemgetter\n",
    "from sklearn import tree\n",
    "from sklearn.utils import check_random_state\n",
    "import numpy as np\n",
    "from sklearn.model_selection import ParameterGrid\n",
    "from sklearn.model_selection import StratifiedKFold\n",
    "import xgboost as xgb\n",
    "from Sampling import SamplingGridSearchCV\n",
    "from sklearn.preprocessing import LabelBinarizer"
   ]
  },
  {
   "cell_type": "code",
   "execution_count": 11,
   "metadata": {},
   "outputs": [],
   "source": [
    "dum = DummyClassifier(strategy='prior')\n",
    "dum_dum = dum.fit(X_train,y_train) "
   ]
  },
  {
   "cell_type": "code",
   "execution_count": 12,
   "metadata": {},
   "outputs": [
    {
     "data": {
      "text/plain": [
       "array([[0.00856237, 0.2089852 , 0.05158562, 0.73086681],\n",
       "       [0.00856237, 0.2089852 , 0.05158562, 0.73086681],\n",
       "       [0.00856237, 0.2089852 , 0.05158562, 0.73086681],\n",
       "       ...,\n",
       "       [0.00856237, 0.2089852 , 0.05158562, 0.73086681],\n",
       "       [0.00856237, 0.2089852 , 0.05158562, 0.73086681],\n",
       "       [0.00856237, 0.2089852 , 0.05158562, 0.73086681]])"
      ]
     },
     "execution_count": 12,
     "metadata": {},
     "output_type": "execute_result"
    }
   ],
   "source": [
    "dum_dum.predict_proba(X_test)"
   ]
  },
  {
   "cell_type": "code",
   "execution_count": 13,
   "metadata": {},
   "outputs": [
    {
     "data": {
      "text/plain": [
       "0.1827167019027484"
      ]
     },
     "execution_count": 13,
     "metadata": {},
     "output_type": "execute_result"
    }
   ],
   "source": [
    "metrics.precision_score(y_train, dum_dum.predict(X_train), average = 'macro', zero_division=0)\n",
    "#note that micro will simply calculate true positives / (TP+FP), in multiclass this equals TP/all guesses = 74%\n",
    "#macro will calculate TP/(TP+FP) for each class, then average across. In naive case, this is 74%*0.25 = 0.185 because obese is one of 4 classes \n",
    "#weighted this is 74%* 74% (precision for obese*obese percentage) + 0%*19% (percentage average) + 0*5%(percent fit) +0*2% (percent athlete) because obese is weighted"
   ]
  },
  {
   "cell_type": "code",
   "execution_count": 14,
   "metadata": {},
   "outputs": [],
   "source": [
    "import graphviz"
   ]
  },
  {
   "cell_type": "code",
   "execution_count": 15,
   "metadata": {},
   "outputs": [],
   "source": [
    "from sklearn.metrics import make_scorer"
   ]
  },
  {
   "cell_type": "code",
   "execution_count": 16,
   "metadata": {},
   "outputs": [],
   "source": [
    "my_scorer = make_scorer(f1_score,average='macro',zero_division=0)"
   ]
  },
  {
   "cell_type": "code",
   "execution_count": 17,
   "metadata": {},
   "outputs": [
    {
     "data": {
      "text/plain": [
       "0.21112739709295225"
      ]
     },
     "execution_count": 17,
     "metadata": {},
     "output_type": "execute_result"
    }
   ],
   "source": [
    "y_pred = dum_dum.predict(X_train)\n",
    "my_scorer(dum_dum, X_train, y_train)"
   ]
  },
  {
   "cell_type": "code",
   "execution_count": 18,
   "metadata": {},
   "outputs": [
    {
     "data": {
      "text/plain": [
       "0.21112739709295225"
      ]
     },
     "execution_count": 18,
     "metadata": {},
     "output_type": "execute_result"
    }
   ],
   "source": [
    "f1_score(y_train, dum_dum.predict(X_train), average = 'macro', zero_division=0)"
   ]
  },
  {
   "cell_type": "code",
   "execution_count": 19,
   "metadata": {},
   "outputs": [
    {
     "data": {
      "text/plain": [
       "Obese      6914\n",
       "Average    1977\n",
       "Fitness     488\n",
       "Athlete      81\n",
       "Name: category, dtype: int64"
      ]
     },
     "execution_count": 19,
     "metadata": {},
     "output_type": "execute_result"
    }
   ],
   "source": [
    "y_train.value_counts()"
   ]
  },
  {
   "cell_type": "code",
   "execution_count": 20,
   "metadata": {},
   "outputs": [
    {
     "data": {
      "text/plain": [
       "9460"
      ]
     },
     "execution_count": 20,
     "metadata": {},
     "output_type": "execute_result"
    }
   ],
   "source": [
    "y_train.count()"
   ]
  },
  {
   "cell_type": "code",
   "execution_count": 21,
   "metadata": {},
   "outputs": [
    {
     "data": {
      "text/plain": [
       "array([[ 30. ,   0. ,  15. ,   0. ],\n",
       "       [  0. ,   1. ,  -1. ,   0. ],\n",
       "       [  2.5,   0. ,   5. ,   0. ],\n",
       "       [  0. ,   0. , -50. ,   0.5]])"
      ]
     },
     "execution_count": 21,
     "metadata": {},
     "output_type": "execute_result"
    }
   ],
   "source": [
    "np.array([[30,0,15,0],[0,1,-1,0],[2.5,0,5,0],[0,.0,-50,.5]])"
   ]
  },
  {
   "cell_type": "markdown",
   "metadata": {},
   "source": [
    "#### Decision Tree"
   ]
  },
  {
   "cell_type": "code",
   "execution_count": 22,
   "metadata": {},
   "outputs": [
    {
     "data": {
      "text/plain": [
       "(DecisionTreeClassifier(max_depth=8), 0.08121759614501442, 0)"
      ]
     },
     "execution_count": 22,
     "metadata": {},
     "output_type": "execute_result"
    }
   ],
   "source": [
    "DTC_param_grid = {'max_depth':range(8,15), 'class_weight':[None,'balanced',{'Athlete':.1, 'Average':.2, 'Fitness':.6, 'Obese':.1}]}\n",
    "DTC, DTC_score, DTC_params, DTC_scores_df, DTC_index, DTC_val_pred, DTC_val_true, DTC_val_pred_proba, DTC_train_scores, DTC_val_scores = \\\n",
    "SamplingGridSearchCV(ROS, DecisionTreeClassifier(), X_train, y_train, DTC_param_grid, folds=5)\n",
    "DTC, DTC_score, DTC_index"
   ]
  },
  {
   "cell_type": "code",
   "execution_count": 23,
   "metadata": {},
   "outputs": [
    {
     "data": {
      "text/plain": [
       "array([[   0,   11,    4,   66],\n",
       "       [   5,  162,   21, 1789],\n",
       "       [   7,   64,   12,  405],\n",
       "       [   8,  255,   44, 6607]])"
      ]
     },
     "execution_count": 23,
     "metadata": {},
     "output_type": "execute_result"
    }
   ],
   "source": [
    "metrics.confusion_matrix(DTC_val_true[DTC_index],DTC_val_pred[DTC_index])"
   ]
  },
  {
   "cell_type": "code",
   "execution_count": 24,
   "metadata": {},
   "outputs": [
    {
     "data": {
      "text/plain": [
       "array([[  22,   17,   13,   29],\n",
       "       [ 385,  433,  413,  746],\n",
       "       [  98,  101,  123,  166],\n",
       "       [ 936, 1048,  875, 4055]])"
      ]
     },
     "execution_count": 24,
     "metadata": {},
     "output_type": "execute_result"
    }
   ],
   "source": [
    "metrics.confusion_matrix(DTC_val_true[7],DTC_val_pred[7])"
   ]
  },
  {
   "cell_type": "code",
   "execution_count": 25,
   "metadata": {},
   "outputs": [
    {
     "data": {
      "text/plain": [
       "array([[   0,   19,   12,   50],\n",
       "       [   2,  382,  213, 1380],\n",
       "       [   2,  103,   60,  323],\n",
       "       [   5,  665,  397, 5847]])"
      ]
     },
     "execution_count": 25,
     "metadata": {},
     "output_type": "execute_result"
    }
   ],
   "source": [
    "metrics.confusion_matrix(DTC_val_true[14],DTC_val_pred[14])"
   ]
  },
  {
   "cell_type": "code",
   "execution_count": 26,
   "metadata": {},
   "outputs": [
    {
     "data": {
      "text/html": [
       "<div>\n",
       "<style scoped>\n",
       "    .dataframe tbody tr th:only-of-type {\n",
       "        vertical-align: middle;\n",
       "    }\n",
       "\n",
       "    .dataframe tbody tr th {\n",
       "        vertical-align: top;\n",
       "    }\n",
       "\n",
       "    .dataframe thead th {\n",
       "        text-align: right;\n",
       "    }\n",
       "</style>\n",
       "<table border=\"1\" class=\"dataframe\">\n",
       "  <thead>\n",
       "    <tr style=\"text-align: right;\">\n",
       "      <th></th>\n",
       "      <th>0</th>\n",
       "      <th>1</th>\n",
       "      <th>2</th>\n",
       "      <th>3</th>\n",
       "      <th>4</th>\n",
       "      <th>5</th>\n",
       "      <th>6</th>\n",
       "      <th>7</th>\n",
       "      <th>8</th>\n",
       "      <th>9</th>\n",
       "      <th>...</th>\n",
       "      <th>11</th>\n",
       "      <th>12</th>\n",
       "      <th>13</th>\n",
       "      <th>14</th>\n",
       "      <th>15</th>\n",
       "      <th>16</th>\n",
       "      <th>17</th>\n",
       "      <th>18</th>\n",
       "      <th>19</th>\n",
       "      <th>20</th>\n",
       "    </tr>\n",
       "  </thead>\n",
       "  <tbody>\n",
       "    <tr>\n",
       "      <th>parameters</th>\n",
       "      <td>{'class_weight': None, 'max_depth': 8}</td>\n",
       "      <td>{'class_weight': None, 'max_depth': 9}</td>\n",
       "      <td>{'class_weight': None, 'max_depth': 10}</td>\n",
       "      <td>{'class_weight': None, 'max_depth': 11}</td>\n",
       "      <td>{'class_weight': None, 'max_depth': 12}</td>\n",
       "      <td>{'class_weight': None, 'max_depth': 13}</td>\n",
       "      <td>{'class_weight': None, 'max_depth': 14}</td>\n",
       "      <td>{'class_weight': 'balanced', 'max_depth': 8}</td>\n",
       "      <td>{'class_weight': 'balanced', 'max_depth': 9}</td>\n",
       "      <td>{'class_weight': 'balanced', 'max_depth': 10}</td>\n",
       "      <td>...</td>\n",
       "      <td>{'class_weight': 'balanced', 'max_depth': 12}</td>\n",
       "      <td>{'class_weight': 'balanced', 'max_depth': 13}</td>\n",
       "      <td>{'class_weight': 'balanced', 'max_depth': 14}</td>\n",
       "      <td>{'class_weight': {'Athlete': 0.1, 'Average': 0...</td>\n",
       "      <td>{'class_weight': {'Athlete': 0.1, 'Average': 0...</td>\n",
       "      <td>{'class_weight': {'Athlete': 0.1, 'Average': 0...</td>\n",
       "      <td>{'class_weight': {'Athlete': 0.1, 'Average': 0...</td>\n",
       "      <td>{'class_weight': {'Athlete': 0.1, 'Average': 0...</td>\n",
       "      <td>{'class_weight': {'Athlete': 0.1, 'Average': 0...</td>\n",
       "      <td>{'class_weight': {'Athlete': 0.1, 'Average': 0...</td>\n",
       "    </tr>\n",
       "    <tr>\n",
       "      <th>train</th>\n",
       "      <td>0.260256</td>\n",
       "      <td>0.314841</td>\n",
       "      <td>0.360315</td>\n",
       "      <td>0.408089</td>\n",
       "      <td>0.454785</td>\n",
       "      <td>0.497636</td>\n",
       "      <td>0.525654</td>\n",
       "      <td>0.231431</td>\n",
       "      <td>0.286048</td>\n",
       "      <td>0.350202</td>\n",
       "      <td>...</td>\n",
       "      <td>0.460047</td>\n",
       "      <td>0.49726</td>\n",
       "      <td>0.524273</td>\n",
       "      <td>0.283509</td>\n",
       "      <td>0.342402</td>\n",
       "      <td>0.404036</td>\n",
       "      <td>0.456215</td>\n",
       "      <td>0.497541</td>\n",
       "      <td>0.527791</td>\n",
       "      <td>0.547875</td>\n",
       "    </tr>\n",
       "    <tr>\n",
       "      <th>val</th>\n",
       "      <td>0.0812176</td>\n",
       "      <td>0.0806611</td>\n",
       "      <td>0.0740445</td>\n",
       "      <td>0.0728103</td>\n",
       "      <td>0.0729591</td>\n",
       "      <td>0.0703453</td>\n",
       "      <td>0.0673519</td>\n",
       "      <td>0.0725743</td>\n",
       "      <td>0.0669805</td>\n",
       "      <td>0.0612903</td>\n",
       "      <td>...</td>\n",
       "      <td>0.0595082</td>\n",
       "      <td>0.0610086</td>\n",
       "      <td>0.060448</td>\n",
       "      <td>0.0705227</td>\n",
       "      <td>0.0645219</td>\n",
       "      <td>0.062961</td>\n",
       "      <td>0.0637586</td>\n",
       "      <td>0.0627065</td>\n",
       "      <td>0.0623185</td>\n",
       "      <td>0.0625623</td>\n",
       "    </tr>\n",
       "  </tbody>\n",
       "</table>\n",
       "<p>3 rows × 21 columns</p>\n",
       "</div>"
      ],
      "text/plain": [
       "                                                0   \\\n",
       "parameters  {'class_weight': None, 'max_depth': 8}   \n",
       "train                                     0.260256   \n",
       "val                                      0.0812176   \n",
       "\n",
       "                                                1   \\\n",
       "parameters  {'class_weight': None, 'max_depth': 9}   \n",
       "train                                     0.314841   \n",
       "val                                      0.0806611   \n",
       "\n",
       "                                                 2   \\\n",
       "parameters  {'class_weight': None, 'max_depth': 10}   \n",
       "train                                      0.360315   \n",
       "val                                       0.0740445   \n",
       "\n",
       "                                                 3   \\\n",
       "parameters  {'class_weight': None, 'max_depth': 11}   \n",
       "train                                      0.408089   \n",
       "val                                       0.0728103   \n",
       "\n",
       "                                                 4   \\\n",
       "parameters  {'class_weight': None, 'max_depth': 12}   \n",
       "train                                      0.454785   \n",
       "val                                       0.0729591   \n",
       "\n",
       "                                                 5   \\\n",
       "parameters  {'class_weight': None, 'max_depth': 13}   \n",
       "train                                      0.497636   \n",
       "val                                       0.0703453   \n",
       "\n",
       "                                                 6   \\\n",
       "parameters  {'class_weight': None, 'max_depth': 14}   \n",
       "train                                      0.525654   \n",
       "val                                       0.0673519   \n",
       "\n",
       "                                                      7   \\\n",
       "parameters  {'class_weight': 'balanced', 'max_depth': 8}   \n",
       "train                                           0.231431   \n",
       "val                                            0.0725743   \n",
       "\n",
       "                                                      8   \\\n",
       "parameters  {'class_weight': 'balanced', 'max_depth': 9}   \n",
       "train                                           0.286048   \n",
       "val                                            0.0669805   \n",
       "\n",
       "                                                       9   ...  \\\n",
       "parameters  {'class_weight': 'balanced', 'max_depth': 10}  ...   \n",
       "train                                            0.350202  ...   \n",
       "val                                             0.0612903  ...   \n",
       "\n",
       "                                                       11  \\\n",
       "parameters  {'class_weight': 'balanced', 'max_depth': 12}   \n",
       "train                                            0.460047   \n",
       "val                                             0.0595082   \n",
       "\n",
       "                                                       12  \\\n",
       "parameters  {'class_weight': 'balanced', 'max_depth': 13}   \n",
       "train                                             0.49726   \n",
       "val                                             0.0610086   \n",
       "\n",
       "                                                       13  \\\n",
       "parameters  {'class_weight': 'balanced', 'max_depth': 14}   \n",
       "train                                            0.524273   \n",
       "val                                              0.060448   \n",
       "\n",
       "                                                           14  \\\n",
       "parameters  {'class_weight': {'Athlete': 0.1, 'Average': 0...   \n",
       "train                                                0.283509   \n",
       "val                                                 0.0705227   \n",
       "\n",
       "                                                           15  \\\n",
       "parameters  {'class_weight': {'Athlete': 0.1, 'Average': 0...   \n",
       "train                                                0.342402   \n",
       "val                                                 0.0645219   \n",
       "\n",
       "                                                           16  \\\n",
       "parameters  {'class_weight': {'Athlete': 0.1, 'Average': 0...   \n",
       "train                                                0.404036   \n",
       "val                                                  0.062961   \n",
       "\n",
       "                                                           17  \\\n",
       "parameters  {'class_weight': {'Athlete': 0.1, 'Average': 0...   \n",
       "train                                                0.456215   \n",
       "val                                                 0.0637586   \n",
       "\n",
       "                                                           18  \\\n",
       "parameters  {'class_weight': {'Athlete': 0.1, 'Average': 0...   \n",
       "train                                                0.497541   \n",
       "val                                                 0.0627065   \n",
       "\n",
       "                                                           19  \\\n",
       "parameters  {'class_weight': {'Athlete': 0.1, 'Average': 0...   \n",
       "train                                                0.527791   \n",
       "val                                                 0.0623185   \n",
       "\n",
       "                                                           20  \n",
       "parameters  {'class_weight': {'Athlete': 0.1, 'Average': 0...  \n",
       "train                                                0.547875  \n",
       "val                                                 0.0625623  \n",
       "\n",
       "[3 rows x 21 columns]"
      ]
     },
     "execution_count": 26,
     "metadata": {},
     "output_type": "execute_result"
    }
   ],
   "source": [
    "DTC_scores_df"
   ]
  },
  {
   "cell_type": "code",
   "execution_count": 27,
   "metadata": {},
   "outputs": [
    {
     "data": {
      "text/plain": [
       "21"
      ]
     },
     "execution_count": 27,
     "metadata": {},
     "output_type": "execute_result"
    }
   ],
   "source": [
    "len(DTC_val_pred_proba)"
   ]
  },
  {
   "cell_type": "code",
   "execution_count": 28,
   "metadata": {},
   "outputs": [
    {
     "data": {
      "text/plain": [
       "array([[   0,   11,    4,   66],\n",
       "       [   5,  162,   21, 1789],\n",
       "       [   7,   64,   12,  405],\n",
       "       [   8,  255,   44, 6607]])"
      ]
     },
     "execution_count": 28,
     "metadata": {},
     "output_type": "execute_result"
    }
   ],
   "source": [
    "metrics.confusion_matrix(DTC_val_true[DTC_index],DTC_val_pred[DTC_index])"
   ]
  },
  {
   "cell_type": "markdown",
   "metadata": {},
   "source": [
    "#### Random Forest"
   ]
  },
  {
   "cell_type": "code",
   "execution_count": 29,
   "metadata": {},
   "outputs": [
    {
     "data": {
      "text/plain": [
       "(RandomForestClassifier(criterion='entropy', n_estimators=50),\n",
       " 0.06409967646759175,\n",
       " 2)"
      ]
     },
     "execution_count": 29,
     "metadata": {},
     "output_type": "execute_result"
    }
   ],
   "source": [
    "RFC_param_grid = {'n_estimators':[50,100], 'criterion':['gini','entropy'], 'class_weight':[None,'balanced',{'Athlete':.3, 'Average':.2, 'Fitness':.4, 'Obese':.1}]}\n",
    "\n",
    "RFC, RFC_score, RFC_params, RFC_scores_df, RFC_index, RFC_val_pred, RFC_val_true, RFC_val_pred_proba, RFC_train_scores, RFC_val_scores = \\\n",
    "SamplingGridSearchCV(ROS, RandomForestClassifier(), X_train, y_train, RFC_param_grid, folds=5)\n",
    "RFC, RFC_score, RFC_index\n"
   ]
  },
  {
   "cell_type": "code",
   "execution_count": 30,
   "metadata": {},
   "outputs": [
    {
     "data": {
      "text/html": [
       "<div>\n",
       "<style scoped>\n",
       "    .dataframe tbody tr th:only-of-type {\n",
       "        vertical-align: middle;\n",
       "    }\n",
       "\n",
       "    .dataframe tbody tr th {\n",
       "        vertical-align: top;\n",
       "    }\n",
       "\n",
       "    .dataframe thead th {\n",
       "        text-align: right;\n",
       "    }\n",
       "</style>\n",
       "<table border=\"1\" class=\"dataframe\">\n",
       "  <thead>\n",
       "    <tr style=\"text-align: right;\">\n",
       "      <th></th>\n",
       "      <th>0</th>\n",
       "      <th>1</th>\n",
       "      <th>2</th>\n",
       "      <th>3</th>\n",
       "      <th>4</th>\n",
       "      <th>5</th>\n",
       "      <th>6</th>\n",
       "      <th>7</th>\n",
       "      <th>8</th>\n",
       "      <th>9</th>\n",
       "      <th>10</th>\n",
       "      <th>11</th>\n",
       "    </tr>\n",
       "  </thead>\n",
       "  <tbody>\n",
       "    <tr>\n",
       "      <th>parameters</th>\n",
       "      <td>{'class_weight': None, 'criterion': 'gini', 'n...</td>\n",
       "      <td>{'class_weight': None, 'criterion': 'gini', 'n...</td>\n",
       "      <td>{'class_weight': None, 'criterion': 'entropy',...</td>\n",
       "      <td>{'class_weight': None, 'criterion': 'entropy',...</td>\n",
       "      <td>{'class_weight': 'balanced', 'criterion': 'gin...</td>\n",
       "      <td>{'class_weight': 'balanced', 'criterion': 'gin...</td>\n",
       "      <td>{'class_weight': 'balanced', 'criterion': 'ent...</td>\n",
       "      <td>{'class_weight': 'balanced', 'criterion': 'ent...</td>\n",
       "      <td>{'class_weight': {'Athlete': 0.3, 'Average': 0...</td>\n",
       "      <td>{'class_weight': {'Athlete': 0.3, 'Average': 0...</td>\n",
       "      <td>{'class_weight': {'Athlete': 0.3, 'Average': 0...</td>\n",
       "      <td>{'class_weight': {'Athlete': 0.3, 'Average': 0...</td>\n",
       "    </tr>\n",
       "    <tr>\n",
       "      <th>train</th>\n",
       "      <td>0.558983</td>\n",
       "      <td>0.56275</td>\n",
       "      <td>0.559854</td>\n",
       "      <td>0.561957</td>\n",
       "      <td>0.455956</td>\n",
       "      <td>0.461718</td>\n",
       "      <td>0.453892</td>\n",
       "      <td>0.467424</td>\n",
       "      <td>0.540123</td>\n",
       "      <td>0.547935</td>\n",
       "      <td>0.538548</td>\n",
       "      <td>0.549126</td>\n",
       "    </tr>\n",
       "    <tr>\n",
       "      <th>val</th>\n",
       "      <td>0.0627667</td>\n",
       "      <td>0.0636989</td>\n",
       "      <td>0.0640997</td>\n",
       "      <td>0.0634921</td>\n",
       "      <td>0.0512233</td>\n",
       "      <td>0.0510345</td>\n",
       "      <td>0.0521451</td>\n",
       "      <td>0.0514021</td>\n",
       "      <td>0.0552697</td>\n",
       "      <td>0.0571297</td>\n",
       "      <td>0.0540576</td>\n",
       "      <td>0.057971</td>\n",
       "    </tr>\n",
       "  </tbody>\n",
       "</table>\n",
       "</div>"
      ],
      "text/plain": [
       "                                                            0  \\\n",
       "parameters  {'class_weight': None, 'criterion': 'gini', 'n...   \n",
       "train                                                0.558983   \n",
       "val                                                 0.0627667   \n",
       "\n",
       "                                                            1  \\\n",
       "parameters  {'class_weight': None, 'criterion': 'gini', 'n...   \n",
       "train                                                 0.56275   \n",
       "val                                                 0.0636989   \n",
       "\n",
       "                                                            2  \\\n",
       "parameters  {'class_weight': None, 'criterion': 'entropy',...   \n",
       "train                                                0.559854   \n",
       "val                                                 0.0640997   \n",
       "\n",
       "                                                            3  \\\n",
       "parameters  {'class_weight': None, 'criterion': 'entropy',...   \n",
       "train                                                0.561957   \n",
       "val                                                 0.0634921   \n",
       "\n",
       "                                                            4  \\\n",
       "parameters  {'class_weight': 'balanced', 'criterion': 'gin...   \n",
       "train                                                0.455956   \n",
       "val                                                 0.0512233   \n",
       "\n",
       "                                                            5  \\\n",
       "parameters  {'class_weight': 'balanced', 'criterion': 'gin...   \n",
       "train                                                0.461718   \n",
       "val                                                 0.0510345   \n",
       "\n",
       "                                                            6  \\\n",
       "parameters  {'class_weight': 'balanced', 'criterion': 'ent...   \n",
       "train                                                0.453892   \n",
       "val                                                 0.0521451   \n",
       "\n",
       "                                                            7  \\\n",
       "parameters  {'class_weight': 'balanced', 'criterion': 'ent...   \n",
       "train                                                0.467424   \n",
       "val                                                 0.0514021   \n",
       "\n",
       "                                                            8  \\\n",
       "parameters  {'class_weight': {'Athlete': 0.3, 'Average': 0...   \n",
       "train                                                0.540123   \n",
       "val                                                 0.0552697   \n",
       "\n",
       "                                                            9  \\\n",
       "parameters  {'class_weight': {'Athlete': 0.3, 'Average': 0...   \n",
       "train                                                0.547935   \n",
       "val                                                 0.0571297   \n",
       "\n",
       "                                                           10  \\\n",
       "parameters  {'class_weight': {'Athlete': 0.3, 'Average': 0...   \n",
       "train                                                0.538548   \n",
       "val                                                 0.0540576   \n",
       "\n",
       "                                                           11  \n",
       "parameters  {'class_weight': {'Athlete': 0.3, 'Average': 0...  \n",
       "train                                                0.549126  \n",
       "val                                                  0.057971  "
      ]
     },
     "execution_count": 30,
     "metadata": {},
     "output_type": "execute_result"
    }
   ],
   "source": [
    "RFC_scores_df"
   ]
  },
  {
   "cell_type": "code",
   "execution_count": 31,
   "metadata": {},
   "outputs": [
    {
     "data": {
      "text/plain": [
       "array([[   0,   12,    6,   63],\n",
       "       [   9,  228,   42, 1698],\n",
       "       [   7,   74,   10,  397],\n",
       "       [  11,  420,   84, 6399]])"
      ]
     },
     "execution_count": 31,
     "metadata": {},
     "output_type": "execute_result"
    }
   ],
   "source": [
    "metrics.confusion_matrix(RFC_val_true[RFC_index],RFC_val_pred[RFC_index])"
   ]
  },
  {
   "cell_type": "code",
   "execution_count": 32,
   "metadata": {},
   "outputs": [
    {
     "name": "stdout",
     "output_type": "stream",
     "text": [
      "0.26263653515916846\n",
      "0.2676635390962557\n",
      "0.2643848024617828\n"
     ]
    }
   ],
   "source": [
    "print(f1_score(y_test, RFC.predict(X_test), average = 'macro', zero_division=0))\n",
    "print(metrics.precision_score(y_test, RFC.predict(X_test), average = 'macro', zero_division=0))\n",
    "print(metrics.recall_score(y_test, RFC.predict(X_test), average = 'macro', zero_division=0))"
   ]
  },
  {
   "cell_type": "markdown",
   "metadata": {},
   "source": [
    "#### K-Nearest Neighbors"
   ]
  },
  {
   "cell_type": "code",
   "execution_count": 33,
   "metadata": {},
   "outputs": [
    {
     "data": {
      "text/plain": [
       "(KNeighborsClassifier(n_neighbors=8), 0.06790974130054811, 8)"
      ]
     },
     "execution_count": 33,
     "metadata": {},
     "output_type": "execute_result"
    }
   ],
   "source": [
    "KNN_param_grid = {'n_neighbors':range(4,9),'weights':['uniform','distance']}\n",
    "KNN, KNN_score, KNN_params, KNN_scores_df, KNN_index, KNN_val_pred, KNN_val_true, KNN_val_pred_proba, KNN_train_scores, KNN_val_scores = \\\n",
    "SamplingGridSearchCV(ROS, KNeighborsClassifier(), X_train, y_train, KNN_param_grid, folds=5)\n",
    "KNN, KNN_score, KNN_index"
   ]
  },
  {
   "cell_type": "code",
   "execution_count": 34,
   "metadata": {},
   "outputs": [
    {
     "data": {
      "text/plain": [
       "array([[   0,   25,    1,   55],\n",
       "       [   2,  276,   15, 1684],\n",
       "       [   1,   79,    5,  403],\n",
       "       [   1,  529,   14, 6370]])"
      ]
     },
     "execution_count": 34,
     "metadata": {},
     "output_type": "execute_result"
    }
   ],
   "source": [
    "metrics.confusion_matrix(KNN_val_true[KNN_index],KNN_val_pred[KNN_index])"
   ]
  },
  {
   "cell_type": "markdown",
   "metadata": {},
   "source": [
    "#### Logistic Regression"
   ]
  },
  {
   "cell_type": "code",
   "execution_count": 35,
   "metadata": {},
   "outputs": [
    {
     "name": "stderr",
     "output_type": "stream",
     "text": [
      "/Users/allen/opt/anaconda3/envs/metis/lib/python3.8/site-packages/sklearn/linear_model/_sag.py:329: ConvergenceWarning: The max_iter was reached which means the coef_ did not converge\n",
      "  warnings.warn(\"The max_iter was reached which means \"\n",
      "/Users/allen/opt/anaconda3/envs/metis/lib/python3.8/site-packages/sklearn/linear_model/_sag.py:329: ConvergenceWarning: The max_iter was reached which means the coef_ did not converge\n",
      "  warnings.warn(\"The max_iter was reached which means \"\n",
      "/Users/allen/opt/anaconda3/envs/metis/lib/python3.8/site-packages/sklearn/linear_model/_sag.py:329: ConvergenceWarning: The max_iter was reached which means the coef_ did not converge\n",
      "  warnings.warn(\"The max_iter was reached which means \"\n",
      "/Users/allen/opt/anaconda3/envs/metis/lib/python3.8/site-packages/sklearn/linear_model/_sag.py:329: ConvergenceWarning: The max_iter was reached which means the coef_ did not converge\n",
      "  warnings.warn(\"The max_iter was reached which means \"\n",
      "/Users/allen/opt/anaconda3/envs/metis/lib/python3.8/site-packages/sklearn/linear_model/_sag.py:329: ConvergenceWarning: The max_iter was reached which means the coef_ did not converge\n",
      "  warnings.warn(\"The max_iter was reached which means \"\n",
      "/Users/allen/opt/anaconda3/envs/metis/lib/python3.8/site-packages/sklearn/linear_model/_sag.py:329: ConvergenceWarning: The max_iter was reached which means the coef_ did not converge\n",
      "  warnings.warn(\"The max_iter was reached which means \"\n",
      "/Users/allen/opt/anaconda3/envs/metis/lib/python3.8/site-packages/sklearn/linear_model/_sag.py:329: ConvergenceWarning: The max_iter was reached which means the coef_ did not converge\n",
      "  warnings.warn(\"The max_iter was reached which means \"\n",
      "/Users/allen/opt/anaconda3/envs/metis/lib/python3.8/site-packages/sklearn/linear_model/_sag.py:329: ConvergenceWarning: The max_iter was reached which means the coef_ did not converge\n",
      "  warnings.warn(\"The max_iter was reached which means \"\n",
      "/Users/allen/opt/anaconda3/envs/metis/lib/python3.8/site-packages/sklearn/linear_model/_sag.py:329: ConvergenceWarning: The max_iter was reached which means the coef_ did not converge\n",
      "  warnings.warn(\"The max_iter was reached which means \"\n",
      "/Users/allen/opt/anaconda3/envs/metis/lib/python3.8/site-packages/sklearn/linear_model/_sag.py:329: ConvergenceWarning: The max_iter was reached which means the coef_ did not converge\n",
      "  warnings.warn(\"The max_iter was reached which means \"\n",
      "/Users/allen/opt/anaconda3/envs/metis/lib/python3.8/site-packages/sklearn/linear_model/_sag.py:329: ConvergenceWarning: The max_iter was reached which means the coef_ did not converge\n",
      "  warnings.warn(\"The max_iter was reached which means \"\n",
      "/Users/allen/opt/anaconda3/envs/metis/lib/python3.8/site-packages/sklearn/linear_model/_sag.py:329: ConvergenceWarning: The max_iter was reached which means the coef_ did not converge\n",
      "  warnings.warn(\"The max_iter was reached which means \"\n",
      "/Users/allen/opt/anaconda3/envs/metis/lib/python3.8/site-packages/sklearn/linear_model/_sag.py:329: ConvergenceWarning: The max_iter was reached which means the coef_ did not converge\n",
      "  warnings.warn(\"The max_iter was reached which means \"\n",
      "/Users/allen/opt/anaconda3/envs/metis/lib/python3.8/site-packages/sklearn/linear_model/_sag.py:329: ConvergenceWarning: The max_iter was reached which means the coef_ did not converge\n",
      "  warnings.warn(\"The max_iter was reached which means \"\n",
      "/Users/allen/opt/anaconda3/envs/metis/lib/python3.8/site-packages/sklearn/linear_model/_sag.py:329: ConvergenceWarning: The max_iter was reached which means the coef_ did not converge\n",
      "  warnings.warn(\"The max_iter was reached which means \"\n",
      "/Users/allen/opt/anaconda3/envs/metis/lib/python3.8/site-packages/sklearn/linear_model/_sag.py:329: ConvergenceWarning: The max_iter was reached which means the coef_ did not converge\n",
      "  warnings.warn(\"The max_iter was reached which means \"\n",
      "/Users/allen/opt/anaconda3/envs/metis/lib/python3.8/site-packages/sklearn/linear_model/_sag.py:329: ConvergenceWarning: The max_iter was reached which means the coef_ did not converge\n",
      "  warnings.warn(\"The max_iter was reached which means \"\n",
      "/Users/allen/opt/anaconda3/envs/metis/lib/python3.8/site-packages/sklearn/linear_model/_sag.py:329: ConvergenceWarning: The max_iter was reached which means the coef_ did not converge\n",
      "  warnings.warn(\"The max_iter was reached which means \"\n",
      "/Users/allen/opt/anaconda3/envs/metis/lib/python3.8/site-packages/sklearn/linear_model/_sag.py:329: ConvergenceWarning: The max_iter was reached which means the coef_ did not converge\n",
      "  warnings.warn(\"The max_iter was reached which means \"\n",
      "/Users/allen/opt/anaconda3/envs/metis/lib/python3.8/site-packages/sklearn/linear_model/_sag.py:329: ConvergenceWarning: The max_iter was reached which means the coef_ did not converge\n",
      "  warnings.warn(\"The max_iter was reached which means \"\n",
      "/Users/allen/opt/anaconda3/envs/metis/lib/python3.8/site-packages/sklearn/linear_model/_sag.py:329: ConvergenceWarning: The max_iter was reached which means the coef_ did not converge\n",
      "  warnings.warn(\"The max_iter was reached which means \"\n",
      "/Users/allen/opt/anaconda3/envs/metis/lib/python3.8/site-packages/sklearn/linear_model/_sag.py:329: ConvergenceWarning: The max_iter was reached which means the coef_ did not converge\n",
      "  warnings.warn(\"The max_iter was reached which means \"\n",
      "/Users/allen/opt/anaconda3/envs/metis/lib/python3.8/site-packages/sklearn/linear_model/_sag.py:329: ConvergenceWarning: The max_iter was reached which means the coef_ did not converge\n",
      "  warnings.warn(\"The max_iter was reached which means \"\n",
      "/Users/allen/opt/anaconda3/envs/metis/lib/python3.8/site-packages/sklearn/linear_model/_sag.py:329: ConvergenceWarning: The max_iter was reached which means the coef_ did not converge\n",
      "  warnings.warn(\"The max_iter was reached which means \"\n",
      "/Users/allen/opt/anaconda3/envs/metis/lib/python3.8/site-packages/sklearn/linear_model/_sag.py:329: ConvergenceWarning: The max_iter was reached which means the coef_ did not converge\n",
      "  warnings.warn(\"The max_iter was reached which means \"\n",
      "/Users/allen/opt/anaconda3/envs/metis/lib/python3.8/site-packages/sklearn/linear_model/_sag.py:329: ConvergenceWarning: The max_iter was reached which means the coef_ did not converge\n",
      "  warnings.warn(\"The max_iter was reached which means \"\n",
      "/Users/allen/opt/anaconda3/envs/metis/lib/python3.8/site-packages/sklearn/linear_model/_sag.py:329: ConvergenceWarning: The max_iter was reached which means the coef_ did not converge\n",
      "  warnings.warn(\"The max_iter was reached which means \"\n",
      "/Users/allen/opt/anaconda3/envs/metis/lib/python3.8/site-packages/sklearn/linear_model/_sag.py:329: ConvergenceWarning: The max_iter was reached which means the coef_ did not converge\n",
      "  warnings.warn(\"The max_iter was reached which means \"\n",
      "/Users/allen/opt/anaconda3/envs/metis/lib/python3.8/site-packages/sklearn/linear_model/_sag.py:329: ConvergenceWarning: The max_iter was reached which means the coef_ did not converge\n",
      "  warnings.warn(\"The max_iter was reached which means \"\n",
      "/Users/allen/opt/anaconda3/envs/metis/lib/python3.8/site-packages/sklearn/linear_model/_sag.py:329: ConvergenceWarning: The max_iter was reached which means the coef_ did not converge\n",
      "  warnings.warn(\"The max_iter was reached which means \"\n"
     ]
    },
    {
     "data": {
      "text/plain": [
       "(LogisticRegression(class_weight={'Athlete': 0.3, 'Average': 0.2, 'Fitness': 0.4,\n",
       "                                  'Obese': 0.1},\n",
       "                    solver='liblinear'),\n",
       " 0.11673233096998073,\n",
       " 9)"
      ]
     },
     "execution_count": 35,
     "metadata": {},
     "output_type": "execute_result"
    }
   ],
   "source": [
    "LR_param_grid = {'class_weight':[None,'balanced',{'Athlete':.3, 'Average':.2, 'Fitness':.4, 'Obese':.1}],'solver':['lbfgs', 'liblinear','sag','saga']}\n",
    "LR, LR_score, LR_params, LR_scores_df, LR_index, LR_val_pred, LR_val_true, LR_val_pred_proba, LR_train_scores, LR_val_scores = \\\n",
    " SamplingGridSearchCV(ROS, LogisticRegression(), X_train, y_train, LR_param_grid, folds=5)\n",
    "LR, LR_score, LR_index"
   ]
  },
  {
   "cell_type": "code",
   "execution_count": 36,
   "metadata": {},
   "outputs": [
    {
     "data": {
      "text/html": [
       "<div>\n",
       "<style scoped>\n",
       "    .dataframe tbody tr th:only-of-type {\n",
       "        vertical-align: middle;\n",
       "    }\n",
       "\n",
       "    .dataframe tbody tr th {\n",
       "        vertical-align: top;\n",
       "    }\n",
       "\n",
       "    .dataframe thead th {\n",
       "        text-align: right;\n",
       "    }\n",
       "</style>\n",
       "<table border=\"1\" class=\"dataframe\">\n",
       "  <thead>\n",
       "    <tr style=\"text-align: right;\">\n",
       "      <th></th>\n",
       "      <th>0</th>\n",
       "      <th>1</th>\n",
       "      <th>2</th>\n",
       "      <th>3</th>\n",
       "      <th>4</th>\n",
       "      <th>5</th>\n",
       "      <th>6</th>\n",
       "      <th>7</th>\n",
       "      <th>8</th>\n",
       "      <th>9</th>\n",
       "      <th>10</th>\n",
       "      <th>11</th>\n",
       "    </tr>\n",
       "  </thead>\n",
       "  <tbody>\n",
       "    <tr>\n",
       "      <th>parameters</th>\n",
       "      <td>{'class_weight': None, 'solver': 'lbfgs'}</td>\n",
       "      <td>{'class_weight': None, 'solver': 'liblinear'}</td>\n",
       "      <td>{'class_weight': None, 'solver': 'sag'}</td>\n",
       "      <td>{'class_weight': None, 'solver': 'saga'}</td>\n",
       "      <td>{'class_weight': 'balanced', 'solver': 'lbfgs'}</td>\n",
       "      <td>{'class_weight': 'balanced', 'solver': 'liblin...</td>\n",
       "      <td>{'class_weight': 'balanced', 'solver': 'sag'}</td>\n",
       "      <td>{'class_weight': 'balanced', 'solver': 'saga'}</td>\n",
       "      <td>{'class_weight': {'Athlete': 0.3, 'Average': 0...</td>\n",
       "      <td>{'class_weight': {'Athlete': 0.3, 'Average': 0...</td>\n",
       "      <td>{'class_weight': {'Athlete': 0.3, 'Average': 0...</td>\n",
       "      <td>{'class_weight': {'Athlete': 0.3, 'Average': 0...</td>\n",
       "    </tr>\n",
       "    <tr>\n",
       "      <th>train</th>\n",
       "      <td>0.10896</td>\n",
       "      <td>0.107126</td>\n",
       "      <td>0.108866</td>\n",
       "      <td>0.108677</td>\n",
       "      <td>0.105682</td>\n",
       "      <td>0.108543</td>\n",
       "      <td>0.0823247</td>\n",
       "      <td>0.0977475</td>\n",
       "      <td>0.109095</td>\n",
       "      <td>0.108755</td>\n",
       "      <td>0.109137</td>\n",
       "      <td>0.108966</td>\n",
       "    </tr>\n",
       "    <tr>\n",
       "      <th>val</th>\n",
       "      <td>0.115373</td>\n",
       "      <td>0.113912</td>\n",
       "      <td>0.116588</td>\n",
       "      <td>0.116684</td>\n",
       "      <td>0.102921</td>\n",
       "      <td>0.113161</td>\n",
       "      <td>0.0916434</td>\n",
       "      <td>0.105146</td>\n",
       "      <td>0.114286</td>\n",
       "      <td>0.116732</td>\n",
       "      <td>0.113997</td>\n",
       "      <td>0.113611</td>\n",
       "    </tr>\n",
       "  </tbody>\n",
       "</table>\n",
       "</div>"
      ],
      "text/plain": [
       "                                                    0  \\\n",
       "parameters  {'class_weight': None, 'solver': 'lbfgs'}   \n",
       "train                                         0.10896   \n",
       "val                                          0.115373   \n",
       "\n",
       "                                                        1  \\\n",
       "parameters  {'class_weight': None, 'solver': 'liblinear'}   \n",
       "train                                            0.107126   \n",
       "val                                              0.113912   \n",
       "\n",
       "                                                  2  \\\n",
       "parameters  {'class_weight': None, 'solver': 'sag'}   \n",
       "train                                      0.108866   \n",
       "val                                        0.116588   \n",
       "\n",
       "                                                   3  \\\n",
       "parameters  {'class_weight': None, 'solver': 'saga'}   \n",
       "train                                       0.108677   \n",
       "val                                         0.116684   \n",
       "\n",
       "                                                          4  \\\n",
       "parameters  {'class_weight': 'balanced', 'solver': 'lbfgs'}   \n",
       "train                                              0.105682   \n",
       "val                                                0.102921   \n",
       "\n",
       "                                                            5  \\\n",
       "parameters  {'class_weight': 'balanced', 'solver': 'liblin...   \n",
       "train                                                0.108543   \n",
       "val                                                  0.113161   \n",
       "\n",
       "                                                        6  \\\n",
       "parameters  {'class_weight': 'balanced', 'solver': 'sag'}   \n",
       "train                                           0.0823247   \n",
       "val                                             0.0916434   \n",
       "\n",
       "                                                         7  \\\n",
       "parameters  {'class_weight': 'balanced', 'solver': 'saga'}   \n",
       "train                                            0.0977475   \n",
       "val                                               0.105146   \n",
       "\n",
       "                                                            8  \\\n",
       "parameters  {'class_weight': {'Athlete': 0.3, 'Average': 0...   \n",
       "train                                                0.109095   \n",
       "val                                                  0.114286   \n",
       "\n",
       "                                                            9  \\\n",
       "parameters  {'class_weight': {'Athlete': 0.3, 'Average': 0...   \n",
       "train                                                0.108755   \n",
       "val                                                  0.116732   \n",
       "\n",
       "                                                           10  \\\n",
       "parameters  {'class_weight': {'Athlete': 0.3, 'Average': 0...   \n",
       "train                                                0.109137   \n",
       "val                                                  0.113997   \n",
       "\n",
       "                                                           11  \n",
       "parameters  {'class_weight': {'Athlete': 0.3, 'Average': 0...  \n",
       "train                                                0.108966  \n",
       "val                                                  0.113611  "
      ]
     },
     "execution_count": 36,
     "metadata": {},
     "output_type": "execute_result"
    }
   ],
   "source": [
    "LR_scores_df"
   ]
  },
  {
   "cell_type": "code",
   "execution_count": 37,
   "metadata": {},
   "outputs": [
    {
     "data": {
      "text/plain": [
       "[array([0.1073289 , 0.09866399, 0.11160037, 0.11376592, 0.11344155]),\n",
       " array([0.10530492, 0.09669721, 0.10952092, 0.11279564, 0.11130952]),\n",
       " array([0.10727418, 0.09826492, 0.11173059, 0.11385634, 0.11320502]),\n",
       " array([0.10700834, 0.0982551 , 0.11134094, 0.11373449, 0.11304628]),\n",
       " array([0.10652572, 0.09507845, 0.10584593, 0.10824672, 0.11271293]),\n",
       " array([0.10647798, 0.09822411, 0.1094857 , 0.11461491, 0.11390982]),\n",
       " array([0.08030556, 0.08825859, 0.06913541, 0.0608199 , 0.11310392]),\n",
       " array([0.08558178, 0.09627063, 0.10553527, 0.09594983, 0.10539994]),\n",
       " array([0.1071016 , 0.09859653, 0.11220499, 0.11382364, 0.11374582]),\n",
       " array([0.10759641, 0.09837708, 0.11114004, 0.11218217, 0.11447779]),\n",
       " array([0.10727584, 0.0986019 , 0.11289941, 0.11353449, 0.11337118]),\n",
       " array([0.10756444, 0.09862619, 0.11210852, 0.11325201, 0.11327825])]"
      ]
     },
     "execution_count": 37,
     "metadata": {},
     "output_type": "execute_result"
    }
   ],
   "source": [
    "LR_train_scores"
   ]
  },
  {
   "cell_type": "code",
   "execution_count": 38,
   "metadata": {},
   "outputs": [
    {
     "data": {
      "text/plain": [
       "[array([0.12529343, 0.16989992, 0.09510372, 0.09370388, 0.09286218]),\n",
       " array([0.1204347 , 0.17161667, 0.09360783, 0.09260903, 0.09129035]),\n",
       " array([0.1253906 , 0.17513157, 0.09639157, 0.09351552, 0.09251178]),\n",
       " array([0.12568495, 0.17392731, 0.09783329, 0.0935924 , 0.09238239]),\n",
       " array([0.11938378, 0.11382366, 0.09119613, 0.09307088, 0.09713149]),\n",
       " array([0.13019943, 0.15566159, 0.09033605, 0.09520102, 0.09440589]),\n",
       " array([0.07948319, 0.13048144, 0.07946849, 0.07091384, 0.09787016]),\n",
       " array([0.08034991, 0.17651358, 0.08633338, 0.09180125, 0.09072949]),\n",
       " array([0.12586945, 0.16599646, 0.09217684, 0.09381689, 0.09357098]),\n",
       " array([0.12680048, 0.17491103, 0.09580677, 0.09277409, 0.09336928]),\n",
       " array([0.12614716, 0.16450623, 0.09203262, 0.09429506, 0.09300423]),\n",
       " array([0.12445823, 0.16493593, 0.09119607, 0.09462182, 0.09284074])]"
      ]
     },
     "execution_count": 38,
     "metadata": {},
     "output_type": "execute_result"
    }
   ],
   "source": [
    "LR_val_scores"
   ]
  },
  {
   "cell_type": "code",
   "execution_count": 39,
   "metadata": {},
   "outputs": [
    {
     "data": {
      "text/plain": [
       "pandas.core.series.Series"
      ]
     },
     "execution_count": 39,
     "metadata": {},
     "output_type": "execute_result"
    }
   ],
   "source": [
    "type(y_train)"
   ]
  },
  {
   "cell_type": "code",
   "execution_count": 40,
   "metadata": {},
   "outputs": [
    {
     "data": {
      "text/plain": [
       "Obese      6914\n",
       "Average    1977\n",
       "Fitness     488\n",
       "Athlete      81\n",
       "Name: category, dtype: int64"
      ]
     },
     "execution_count": 40,
     "metadata": {},
     "output_type": "execute_result"
    }
   ],
   "source": [
    "y_train.value_counts()"
   ]
  },
  {
   "cell_type": "code",
   "execution_count": 41,
   "metadata": {},
   "outputs": [
    {
     "data": {
      "text/plain": [
       "array([[   0,   14,    0,   67],\n",
       "       [   0,  138,    0, 1839],\n",
       "       [   0,   71,    0,  417],\n",
       "       [   1,  186,    2, 6725]])"
      ]
     },
     "execution_count": 41,
     "metadata": {},
     "output_type": "execute_result"
    }
   ],
   "source": [
    "metrics.confusion_matrix(LR_val_true[LR_index],LR_val_pred[LR_index])"
   ]
  },
  {
   "cell_type": "code",
   "execution_count": 42,
   "metadata": {},
   "outputs": [
    {
     "data": {
      "text/plain": [
       "array([[   0,    6,    0,   75],\n",
       "       [   0,   44,    3, 1930],\n",
       "       [   0,   24,    0,  464],\n",
       "       [   0,   49,    2, 6863]])"
      ]
     },
     "execution_count": 42,
     "metadata": {},
     "output_type": "execute_result"
    }
   ],
   "source": [
    "metrics.confusion_matrix(LR_val_true[3],LR_val_pred[3])"
   ]
  },
  {
   "cell_type": "code",
   "execution_count": 43,
   "metadata": {},
   "outputs": [
    {
     "data": {
      "text/plain": [
       "array([[  23,   10,   18,   30],\n",
       "       [ 463,  297,  291,  926],\n",
       "       [ 155,   73,   94,  166],\n",
       "       [ 880,  838,  628, 4568]])"
      ]
     },
     "execution_count": 43,
     "metadata": {},
     "output_type": "execute_result"
    }
   ],
   "source": [
    "metrics.confusion_matrix(LR_val_true[4],LR_val_pred[4])"
   ]
  },
  {
   "cell_type": "code",
   "execution_count": 44,
   "metadata": {},
   "outputs": [
    {
     "data": {
      "text/plain": [
       "9460"
      ]
     },
     "execution_count": 44,
     "metadata": {},
     "output_type": "execute_result"
    }
   ],
   "source": [
    "len(LR_val_pred_proba[3])"
   ]
  },
  {
   "cell_type": "code",
   "execution_count": 45,
   "metadata": {},
   "outputs": [
    {
     "data": {
      "text/plain": [
       "LabelBinarizer()"
      ]
     },
     "execution_count": 45,
     "metadata": {},
     "output_type": "execute_result"
    }
   ],
   "source": [
    "lb = LabelBinarizer()\n",
    "lb.fit(['Athelete','Average','Fitness','Obese'])"
   ]
  },
  {
   "cell_type": "code",
   "execution_count": 46,
   "metadata": {},
   "outputs": [],
   "source": [
    "LR_val_bin = lb.transform(LR_val_true[3])"
   ]
  },
  {
   "cell_type": "code",
   "execution_count": 47,
   "metadata": {},
   "outputs": [
    {
     "data": {
      "text/plain": [
       "(9460, 4)"
      ]
     },
     "execution_count": 47,
     "metadata": {},
     "output_type": "execute_result"
    }
   ],
   "source": [
    "LR_val_bin.shape"
   ]
  },
  {
   "cell_type": "code",
   "execution_count": 48,
   "metadata": {},
   "outputs": [],
   "source": [
    "LR_val_bin = LR_val_bin.reshape(len(LR_val_bin),4)"
   ]
  },
  {
   "cell_type": "code",
   "execution_count": 49,
   "metadata": {},
   "outputs": [
    {
     "data": {
      "text/plain": [
       "array([[0, 0, 0, 1],\n",
       "       [0, 0, 0, 1],\n",
       "       [0, 1, 0, 0],\n",
       "       ...,\n",
       "       [0, 0, 0, 1],\n",
       "       [0, 0, 0, 1],\n",
       "       [0, 0, 0, 1]])"
      ]
     },
     "execution_count": 49,
     "metadata": {},
     "output_type": "execute_result"
    }
   ],
   "source": [
    "LR_val_bin[:,]"
   ]
  },
  {
   "cell_type": "code",
   "execution_count": 50,
   "metadata": {},
   "outputs": [
    {
     "data": {
      "text/plain": [
       "12"
      ]
     },
     "execution_count": 50,
     "metadata": {},
     "output_type": "execute_result"
    }
   ],
   "source": [
    "len(LR_val_pred_proba)"
   ]
  },
  {
   "cell_type": "code",
   "execution_count": 51,
   "metadata": {},
   "outputs": [],
   "source": [
    "proba = np.concatenate(LR_val_pred_proba[3]).reshape(len(LR_val_pred_proba[3]),4)"
   ]
  },
  {
   "cell_type": "code",
   "execution_count": 52,
   "metadata": {},
   "outputs": [
    {
     "data": {
      "text/plain": [
       "array([0.39477705, 0.23669599, 0.23935355, ..., 0.30533591, 0.1470707 ,\n",
       "       0.26628489])"
      ]
     },
     "execution_count": 52,
     "metadata": {},
     "output_type": "execute_result"
    }
   ],
   "source": [
    "proba[:,1]"
   ]
  },
  {
   "cell_type": "code",
   "execution_count": 82,
   "metadata": {},
   "outputs": [],
   "source": [
    "from sklearn.metrics import precision_recall_curve\n",
    "from sklearn.metrics import average_precision_score\n",
    "from sklearn.metrics import auc"
   ]
  },
  {
   "cell_type": "code",
   "execution_count": 86,
   "metadata": {},
   "outputs": [
    {
     "name": "stdout",
     "output_type": "stream",
     "text": [
      "Average precision score, micro-averaged over all classes: 0.74\n"
     ]
    },
    {
     "name": "stderr",
     "output_type": "stream",
     "text": [
      "/Users/allen/opt/anaconda3/envs/metis/lib/python3.8/site-packages/sklearn/metrics/_ranking.py:681: RuntimeWarning: invalid value encountered in true_divide\n",
      "  recall = tps / tps[-1]\n"
     ]
    }
   ],
   "source": [
    "\n",
    "precision = dict()\n",
    "recall = dict()\n",
    "average_precision = dict()\n",
    "for i in range(4):\n",
    "    precision[i], recall[i], _= metrics.precision_recall_curve(LR_val_bin[:,i],proba[:,i])\n",
    "    average_precision[i] = average_precision_score(LR_val_bin[:, i], proba[:, i])\n",
    "\n",
    "# A \"micro-average\": quantifying score on all classes jointly\n",
    "precision[\"micro\"], recall[\"micro\"], _ = precision_recall_curve(LR_val_bin.ravel(),\n",
    "    proba.ravel())\n",
    "average_precision[\"micro\"] = average_precision_score(LR_val_bin, proba,\n",
    "                                                     average=\"micro\")\n",
    "print('Average precision score, micro-averaged over all classes: {0:0.2f}'\n",
    "      .format(average_precision[\"micro\"]))"
   ]
  },
  {
   "cell_type": "code",
   "execution_count": 88,
   "metadata": {},
   "outputs": [
    {
     "data": {
      "image/png": "[encoded data removed]",
      "text/plain": [
       "<Figure size 504x576 with 1 Axes>"
      ]
     },
     "metadata": {},
     "output_type": "display_data"
    }
   ],
   "source": [
    "from itertools import cycle\n",
    "# setup plot details\n",
    "colors = cycle(['navy', 'turquoise', 'darkorange', 'cornflowerblue', 'teal'])\n",
    "\n",
    "plt.figure(figsize=(7, 8))\n",
    "f_scores = np.linspace(0.2, 0.8, num=4)\n",
    "lines = []\n",
    "labels = []\n",
    "for f_score in f_scores:\n",
    "    x = np.linspace(0.01, 1)\n",
    "    y = f_score * x / (2 * x - f_score)\n",
    "    l, = plt.plot(x[y >= 0], y[y >= 0], color='gray', alpha=0.2)\n",
    "    plt.annotate('f1={0:0.1f}'.format(f_score), xy=(0.9, y[45] + 0.02))\n",
    "\n",
    "lines.append(l)\n",
    "labels.append('iso-f1 curves')\n",
    "l, = plt.plot(recall[\"micro\"], precision[\"micro\"], color='gold', lw=2)\n",
    "lines.append(l)\n",
    "labels.append('micro-average Precision-recall (area = {0:0.2f})'\n",
    "              ''.format(average_precision[\"micro\"]))\n",
    "\n",
    "for i, color in zip(range(4), colors):\n",
    "    l, = plt.plot(recall[i], precision[i], color=color, lw=2)\n",
    "    lines.append(l)\n",
    "    labels.append('Precision-recall for class {0} (area = {1:0.2f})'\n",
    "                  ''.format(i, average_precision[i]))\n",
    "\n",
    "fig = plt.gcf()\n",
    "fig.subplots_adjust(bottom=0.25)\n",
    "plt.xlim([0.0, 1.0])\n",
    "plt.ylim([0.0, 1.05])\n",
    "plt.xlabel('Recall')\n",
    "plt.ylabel('Precision')\n",
    "plt.title('Extension of Precision-Recall curve to multi-class')\n",
    "plt.legend(lines, labels, loc=(0, -.38), prop=dict(size=14))\n",
    "\n",
    "\n",
    "plt.show()"
   ]
  },
  {
   "cell_type": "code",
   "execution_count": 89,
   "metadata": {},
   "outputs": [
    {
     "data": {
      "text/plain": [
       "{0: nan,\n",
       " 1: 0.2879000168135448,\n",
       " 2: 0.10440892010564322,\n",
       " 3: 0.8074633313879296,\n",
       " 'micro': 0.7437031335053762}"
      ]
     },
     "execution_count": 89,
     "metadata": {},
     "output_type": "execute_result"
    }
   ],
   "source": [
    "average_precision"
   ]
  },
  {
   "cell_type": "code",
   "execution_count": 90,
   "metadata": {},
   "outputs": [],
   "source": [
    "from sklearn.inspection import permutation_importance"
   ]
  },
  {
   "cell_type": "code",
   "execution_count": 93,
   "metadata": {},
   "outputs": [
    {
     "data": {
      "text/plain": [
       "array([0.14707693, 0.22380061, 0.15577001, 0.24539213, 0.22796032])"
      ]
     },
     "execution_count": 93,
     "metadata": {},
     "output_type": "execute_result"
    }
   ],
   "source": [
    "DTC.feature_importances_"
   ]
  },
  {
   "cell_type": "code",
   "execution_count": 97,
   "metadata": {},
   "outputs": [
    {
     "data": {
      "text/plain": [
       "<matplotlib.axes._subplots.AxesSubplot at 0x7fa60bd50fa0>"
      ]
     },
     "execution_count": 97,
     "metadata": {},
     "output_type": "execute_result"
    },
    {
     "data": {
      "image/png": "[encoded data removed]",
      "text/plain": [
       "<Figure size 432x288 with 2 Axes>"
      ]
     },
     "metadata": {},
     "output_type": "display_data"
    }
   ],
   "source": [
    "sns.heatmap(LR.coef_)"
   ]
  },
  {
   "cell_type": "code",
   "execution_count": 98,
   "metadata": {},
   "outputs": [
    {
     "data": {
      "text/plain": [
       "array([-0.84235993,  0.20986745, -0.60331771,  1.23581018])"
      ]
     },
     "execution_count": 98,
     "metadata": {},
     "output_type": "execute_result"
    }
   ],
   "source": [
    "LR.intercept_"
   ]
  },
  {
   "cell_type": "markdown",
   "metadata": {},
   "source": [
    "#### Naive Bayes"
   ]
  },
  {
   "cell_type": "code",
   "execution_count": 56,
   "metadata": {},
   "outputs": [
    {
     "data": {
      "text/plain": [
       "(GaussianNB(), 0.1024327681839926, 0)"
      ]
     },
     "execution_count": 56,
     "metadata": {},
     "output_type": "execute_result"
    }
   ],
   "source": [
    "GNB_param_grid = {'priors':[None,[0.25,0.25,0.25,0.25],[0.3,0.2,0.3,0.2]]}\n",
    "GNB, GNB_score, GNB_params, GNB_scores_df, GNB_index, GNB_val_pred, GNB_val_true, GNB_val_pred_proba, GNB_train_scores, GNB_val_scores = \\\n",
    "SamplingGridSearchCV(ROS, GaussianNB(), X_train, y_train, GNB_param_grid, folds=5)\n",
    "GNB, GNB_score, GNB_index\n"
   ]
  },
  {
   "cell_type": "code",
   "execution_count": 57,
   "metadata": {},
   "outputs": [
    {
     "data": {
      "text/plain": [
       "array([[   0,    8,    3,   70],\n",
       "       [   0,  157,   27, 1793],\n",
       "       [   0,   53,    7,  428],\n",
       "       [   2,  233,   34, 6645]])"
      ]
     },
     "execution_count": 57,
     "metadata": {},
     "output_type": "execute_result"
    }
   ],
   "source": [
    "metrics.confusion_matrix(GNB_val_true[GNB_index],GNB_val_pred[GNB_index])"
   ]
  },
  {
   "cell_type": "code",
   "execution_count": 58,
   "metadata": {},
   "outputs": [
    {
     "data": {
      "text/html": [
       "<div>\n",
       "<style scoped>\n",
       "    .dataframe tbody tr th:only-of-type {\n",
       "        vertical-align: middle;\n",
       "    }\n",
       "\n",
       "    .dataframe tbody tr th {\n",
       "        vertical-align: top;\n",
       "    }\n",
       "\n",
       "    .dataframe thead th {\n",
       "        text-align: right;\n",
       "    }\n",
       "</style>\n",
       "<table border=\"1\" class=\"dataframe\">\n",
       "  <thead>\n",
       "    <tr style=\"text-align: right;\">\n",
       "      <th></th>\n",
       "      <th>0</th>\n",
       "      <th>1</th>\n",
       "      <th>2</th>\n",
       "    </tr>\n",
       "  </thead>\n",
       "  <tbody>\n",
       "    <tr>\n",
       "      <th>parameters</th>\n",
       "      <td>{'priors': None}</td>\n",
       "      <td>{'priors': [0.25, 0.25, 0.25, 0.25]}</td>\n",
       "      <td>{'priors': [0.3, 0.2, 0.3, 0.2]}</td>\n",
       "    </tr>\n",
       "    <tr>\n",
       "      <th>train</th>\n",
       "      <td>0.101254</td>\n",
       "      <td>0.0877257</td>\n",
       "      <td>0.0855352</td>\n",
       "    </tr>\n",
       "    <tr>\n",
       "      <th>val</th>\n",
       "      <td>0.102433</td>\n",
       "      <td>0.0874849</td>\n",
       "      <td>0.0848282</td>\n",
       "    </tr>\n",
       "  </tbody>\n",
       "</table>\n",
       "</div>"
      ],
      "text/plain": [
       "                           0                                     1  \\\n",
       "parameters  {'priors': None}  {'priors': [0.25, 0.25, 0.25, 0.25]}   \n",
       "train               0.101254                             0.0877257   \n",
       "val                 0.102433                             0.0874849   \n",
       "\n",
       "                                           2  \n",
       "parameters  {'priors': [0.3, 0.2, 0.3, 0.2]}  \n",
       "train                              0.0855352  \n",
       "val                                0.0848282  "
      ]
     },
     "execution_count": 58,
     "metadata": {},
     "output_type": "execute_result"
    }
   ],
   "source": [
    "GNB_scores_df"
   ]
  },
  {
   "cell_type": "code",
   "execution_count": 59,
   "metadata": {},
   "outputs": [
    {
     "data": {
      "text/plain": [
       "array([[  12,    9,   34,   26],\n",
       "       [ 294,  197,  611,  875],\n",
       "       [  90,   52,  186,  160],\n",
       "       [ 762,  498, 1345, 4309]])"
      ]
     },
     "execution_count": 59,
     "metadata": {},
     "output_type": "execute_result"
    }
   ],
   "source": [
    "metrics.confusion_matrix(GNB_val_true[2],GNB_val_pred[2])"
   ]
  },
  {
   "cell_type": "markdown",
   "metadata": {},
   "source": [
    "#### XGBoost"
   ]
  },
  {
   "cell_type": "code",
   "execution_count": 60,
   "metadata": {},
   "outputs": [
    {
     "data": {
      "text/plain": [
       "(XGBClassifier(base_score=0.5, booster=None, class_weight=None,\n",
       "               colsample_bylevel=1, colsample_bynode=1, colsample_bytree=1,\n",
       "               gamma=0, gpu_id=-1, importance_type='gain',\n",
       "               interaction_constraints=None, learning_rate=0.300000012,\n",
       "               max_delta_step=0, max_depth=3, min_child_weight=1, missing=nan,\n",
       "               monotone_constraints=None, n_estimators=100, n_jobs=0,\n",
       "               num_parallel_tree=1, objective='multi:softprob', random_state=0,\n",
       "               reg_alpha=0, reg_lambda=1, scale_pos_weight=None, subsample=1,\n",
       "               tree_method=None, validate_parameters=False, verbosity=None),\n",
       " 0.09305065773335033,\n",
       " 0)"
      ]
     },
     "execution_count": 60,
     "metadata": {},
     "output_type": "execute_result"
    }
   ],
   "source": [
    "XGB_param_grid = {'max_depth':[3,8],'class_weight':[None,'balanced']}\n",
    "XGB, XGB_score, XGB_params, XGB_scores_df, XGB_index, XGB_val_pred, XGB_val_true, XGB_val_pred_proba, XGB_train_scores, XGB_val_scores = \\\n",
    "SamplingGridSearchCV(ROS, xgb.XGBClassifier(), X_train, y_train, XGB_param_grid, folds=5)\n",
    "XGB, XGB_score, XGB_index"
   ]
  },
  {
   "cell_type": "code",
   "execution_count": null,
   "metadata": {},
   "outputs": [],
   "source": [
    "class model_out()"
   ]
  },
  {
   "cell_type": "code",
   "execution_count": null,
   "metadata": {},
   "outputs": [],
   "source": []
  },
  {
   "cell_type": "code",
   "execution_count": 61,
   "metadata": {},
   "outputs": [
    {
     "data": {
      "text/html": [
       "<div>\n",
       "<style scoped>\n",
       "    .dataframe tbody tr th:only-of-type {\n",
       "        vertical-align: middle;\n",
       "    }\n",
       "\n",
       "    .dataframe tbody tr th {\n",
       "        vertical-align: top;\n",
       "    }\n",
       "\n",
       "    .dataframe thead th {\n",
       "        text-align: right;\n",
       "    }\n",
       "</style>\n",
       "<table border=\"1\" class=\"dataframe\">\n",
       "  <thead>\n",
       "    <tr style=\"text-align: right;\">\n",
       "      <th></th>\n",
       "      <th>0</th>\n",
       "      <th>1</th>\n",
       "      <th>2</th>\n",
       "      <th>3</th>\n",
       "    </tr>\n",
       "  </thead>\n",
       "  <tbody>\n",
       "    <tr>\n",
       "      <th>parameters</th>\n",
       "      <td>{'class_weight': None, 'max_depth': 3}</td>\n",
       "      <td>{'class_weight': None, 'max_depth': 8}</td>\n",
       "      <td>{'class_weight': 'balanced', 'max_depth': 3}</td>\n",
       "      <td>{'class_weight': 'balanced', 'max_depth': 8}</td>\n",
       "    </tr>\n",
       "    <tr>\n",
       "      <th>train</th>\n",
       "      <td>0.235946</td>\n",
       "      <td>0.556943</td>\n",
       "      <td>0.235946</td>\n",
       "      <td>0.556943</td>\n",
       "    </tr>\n",
       "    <tr>\n",
       "      <th>val</th>\n",
       "      <td>0.0930507</td>\n",
       "      <td>0.0581551</td>\n",
       "      <td>0.0930507</td>\n",
       "      <td>0.0581551</td>\n",
       "    </tr>\n",
       "  </tbody>\n",
       "</table>\n",
       "</div>"
      ],
      "text/plain": [
       "                                                 0  \\\n",
       "parameters  {'class_weight': None, 'max_depth': 3}   \n",
       "train                                     0.235946   \n",
       "val                                      0.0930507   \n",
       "\n",
       "                                                 1  \\\n",
       "parameters  {'class_weight': None, 'max_depth': 8}   \n",
       "train                                     0.556943   \n",
       "val                                      0.0581551   \n",
       "\n",
       "                                                       2  \\\n",
       "parameters  {'class_weight': 'balanced', 'max_depth': 3}   \n",
       "train                                           0.235946   \n",
       "val                                            0.0930507   \n",
       "\n",
       "                                                       3  \n",
       "parameters  {'class_weight': 'balanced', 'max_depth': 8}  \n",
       "train                                           0.556943  \n",
       "val                                            0.0581551  "
      ]
     },
     "execution_count": 61,
     "metadata": {},
     "output_type": "execute_result"
    }
   ],
   "source": [
    "XGB_scores_df"
   ]
  },
  {
   "cell_type": "code",
   "execution_count": 62,
   "metadata": {},
   "outputs": [
    {
     "data": {
      "text/plain": [
       "array([[   0,    8,    1,   72],\n",
       "       [   1,   90,   14, 1872],\n",
       "       [   0,   34,    4,  450],\n",
       "       [   1,  112,   11, 6790]])"
      ]
     },
     "execution_count": 62,
     "metadata": {},
     "output_type": "execute_result"
    }
   ],
   "source": [
    "metrics.confusion_matrix(XGB_val_true[XGB_index],XGB_val_pred[XGB_index])"
   ]
  },
  {
   "cell_type": "code",
   "execution_count": 63,
   "metadata": {},
   "outputs": [],
   "source": [
    "#Run loop on multiple codes\n",
    "\n",
    "#get values and create model v model plots\n"
   ]
  },
  {
   "cell_type": "code",
   "execution_count": 64,
   "metadata": {},
   "outputs": [],
   "source": [
    "#function to obtain results and plots (based on val data) for selected model with parameters"
   ]
  },
  {
   "cell_type": "code",
   "execution_count": 65,
   "metadata": {},
   "outputs": [],
   "source": [
    "import seaborn as sns"
   ]
  },
  {
   "cell_type": "code",
   "execution_count": 66,
   "metadata": {},
   "outputs": [],
   "source": [
    "import matplotlib.pyplot as plt"
   ]
  },
  {
   "cell_type": "code",
   "execution_count": 67,
   "metadata": {},
   "outputs": [],
   "source": [
    "naive_conf = metrics.confusion_matrix(y_test, dum_dum.predict(X_test),labels=['Athlete','Average','Fitness','Obese'])"
   ]
  },
  {
   "cell_type": "code",
   "execution_count": 68,
   "metadata": {},
   "outputs": [
    {
     "data": {
      "text/plain": [
       "array([[   0,    0,    0,   19],\n",
       "       [   0,    0,    0,  480],\n",
       "       [   0,    0,    0,  115],\n",
       "       [   0,    0,    0, 1752]])"
      ]
     },
     "execution_count": 68,
     "metadata": {},
     "output_type": "execute_result"
    }
   ],
   "source": [
    "naive_conf"
   ]
  },
  {
   "cell_type": "markdown",
   "metadata": {},
   "source": [
    "## Scratch for personal scoring metrics"
   ]
  },
  {
   "cell_type": "code",
   "execution_count": 69,
   "metadata": {},
   "outputs": [],
   "source": [
    "def my_scorer2(clf, X, y_true):\n",
    "    class_labels = clf.classes_\n",
    "    y_pred_proba = clf.predict_proba(X)\n",
    "    \n",
    "    score_points = np.array([[1,0.2,0.8,0],[0.2,1,0.4,0.6],[0.8,0.4,1,.2],[0,.6,.2,1]])\n",
    "    y_test_bin = LabelBinarizer().fit(class_labels).transform(y_true)\n",
    "    interstep = np.matmul(y_test_bin,score_points)\n",
    "    \n",
    "    fin = interstep*clf.predict_proba(X)\n",
    "    \n",
    "    error = fin.sum()/len(fin)\n",
    "    return error"
   ]
  },
  {
   "cell_type": "code",
   "execution_count": 70,
   "metadata": {},
   "outputs": [],
   "source": [
    "score_points = np.array([[1,0.2,0.8,0],[0.2,1,0.4,0.6],[0.8,0.4,1,.2],[0,.6,.2,1]])"
   ]
  },
  {
   "cell_type": "code",
   "execution_count": 71,
   "metadata": {},
   "outputs": [
    {
     "data": {
      "text/plain": [
       "array([[1. , 0.2, 0.8, 0. ],\n",
       "       [0.2, 1. , 0.4, 0.6],\n",
       "       [0.8, 0.4, 1. , 0.2],\n",
       "       [0. , 0.6, 0.2, 1. ]])"
      ]
     },
     "execution_count": 71,
     "metadata": {},
     "output_type": "execute_result"
    }
   ],
   "source": [
    "score_points"
   ]
  },
  {
   "cell_type": "code",
   "execution_count": 72,
   "metadata": {},
   "outputs": [],
   "source": [
    "from sklearn.preprocessing import LabelBinarizer"
   ]
  },
  {
   "cell_type": "code",
   "execution_count": 73,
   "metadata": {},
   "outputs": [
    {
     "data": {
      "text/plain": [
       "LabelBinarizer()"
      ]
     },
     "execution_count": 73,
     "metadata": {},
     "output_type": "execute_result"
    }
   ],
   "source": [
    "lb = LabelBinarizer()\n",
    "lb.fit(['Athlete','Average','Fitness','Obese'])"
   ]
  },
  {
   "cell_type": "code",
   "execution_count": 74,
   "metadata": {},
   "outputs": [
    {
     "data": {
      "text/plain": [
       "array([[0, 0, 0, 1],\n",
       "       [0, 0, 0, 1],\n",
       "       [0, 0, 0, 1],\n",
       "       ...,\n",
       "       [0, 0, 0, 1],\n",
       "       [0, 0, 0, 1],\n",
       "       [0, 0, 0, 1]])"
      ]
     },
     "execution_count": 74,
     "metadata": {},
     "output_type": "execute_result"
    }
   ],
   "source": [
    "y_test_bin = lb.transform(y_test)\n",
    "y_test_bin"
   ]
  },
  {
   "cell_type": "code",
   "execution_count": 75,
   "metadata": {},
   "outputs": [
    {
     "data": {
      "text/plain": [
       "2366"
      ]
     },
     "execution_count": 75,
     "metadata": {},
     "output_type": "execute_result"
    }
   ],
   "source": [
    "len(y_test_bin)"
   ]
  },
  {
   "cell_type": "code",
   "execution_count": 76,
   "metadata": {},
   "outputs": [
    {
     "data": {
      "text/plain": [
       "array([0, 0, 0, 1])"
      ]
     },
     "execution_count": 76,
     "metadata": {},
     "output_type": "execute_result"
    }
   ],
   "source": [
    "y_test_bin[0]"
   ]
  },
  {
   "cell_type": "code",
   "execution_count": 77,
   "metadata": {},
   "outputs": [
    {
     "data": {
      "text/plain": [
       "2366"
      ]
     },
     "execution_count": 77,
     "metadata": {},
     "output_type": "execute_result"
    }
   ],
   "source": [
    "len(np.matmul(y_test_bin,score_points))"
   ]
  },
  {
   "cell_type": "code",
   "execution_count": 78,
   "metadata": {},
   "outputs": [],
   "source": [
    "interstep = np.matmul(y_test_bin,score_points)"
   ]
  },
  {
   "cell_type": "code",
   "execution_count": 79,
   "metadata": {},
   "outputs": [
    {
     "data": {
      "text/plain": [
       "array([0. , 0.6, 0.2, 1. ])"
      ]
     },
     "execution_count": 79,
     "metadata": {},
     "output_type": "execute_result"
    }
   ],
   "source": [
    "interstep[0]"
   ]
  },
  {
   "cell_type": "code",
   "execution_count": 80,
   "metadata": {},
   "outputs": [
    {
     "ename": "NameError",
     "evalue": "name 'DTC_prob' is not defined",
     "output_type": "error",
     "traceback": [
      "\u001b[0;31m---------------------------------------------------------------------------\u001b[0m",
      "\u001b[0;31mNameError\u001b[0m                                 Traceback (most recent call last)",
      "\u001b[0;32m<ipython-input-80-108804dfef82>\u001b[0m in \u001b[0;36m<module>\u001b[0;34m\u001b[0m\n\u001b[0;32m----> 1\u001b[0;31m \u001b[0mDTC_prob\u001b[0m\u001b[0;34m[\u001b[0m\u001b[0;36m0\u001b[0m\u001b[0;34m]\u001b[0m\u001b[0;34m\u001b[0m\u001b[0;34m\u001b[0m\u001b[0m\n\u001b[0m",
      "\u001b[0;31mNameError\u001b[0m: name 'DTC_prob' is not defined"
     ]
    }
   ],
   "source": [
    "DTC_prob[0]"
   ]
  },
  {
   "cell_type": "code",
   "execution_count": null,
   "metadata": {},
   "outputs": [],
   "source": [
    "fin = interstep*DTC_prob"
   ]
  },
  {
   "cell_type": "code",
   "execution_count": null,
   "metadata": {},
   "outputs": [],
   "source": [
    "len(fin)"
   ]
  },
  {
   "cell_type": "code",
   "execution_count": null,
   "metadata": {},
   "outputs": [],
   "source": [
    "fin_score = fin.sum()/len(fin)"
   ]
  },
  {
   "cell_type": "code",
   "execution_count": null,
   "metadata": {},
   "outputs": [],
   "source": [
    "from sklearn.utils.class_weight import compute_sample_weight"
   ]
  },
  {
   "cell_type": "code",
   "execution_count": null,
   "metadata": {},
   "outputs": [],
   "source": [
    "y_test"
   ]
  },
  {
   "cell_type": "code",
   "execution_count": null,
   "metadata": {},
   "outputs": [],
   "source": [
    "compute_sample_weight(class_weight='balanced',y=y_test)"
   ]
  }
 ],
 "metadata": {
  "kernelspec": {
   "display_name": "Python [conda env:metis] *",
   "language": "python",
   "name": "conda-env-metis-py"
  },
  "language_info": {
   "codemirror_mode": {
    "name": "ipython",
    "version": 3
   },
   "file_extension": ".py",
   "mimetype": "text/x-python",
   "name": "python",
   "nbconvert_exporter": "python",
   "pygments_lexer": "ipython3",
   "version": "3.8.3"
  }
 },
 "nbformat": 4,
 "nbformat_minor": 4
}
