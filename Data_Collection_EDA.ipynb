{
 "cells": [
  {
   "cell_type": "code",
   "execution_count": 16,
   "metadata": {},
   "outputs": [],
   "source": [
    "# Get pandas and postgres to work together\n",
    "import psycopg2 as pg\n",
    "import pandas as pd\n",
    "import psycopg2.extras as extras\n",
    "\n",
    "# We are also going to do some basic viz\n",
    "import seaborn as sns\n",
    "import matplotlib.pyplot as plt\n",
    "%matplotlib inline\n",
    "\n",
    "import pickle\n"
   ]
  },
  {
   "cell_type": "code",
   "execution_count": 21,
   "metadata": {},
   "outputs": [],
   "source": [
    "# Postgres info to connect\n",
    "connection_args = {\n",
    "    'host': 'localhost',  # We are connecting to our _local_ version of psql\n",
    "    'dbname': 'fitness',    # DB that we are connecting to\n",
    "    'port': 5432          # port we opened on AWS\n",
    "}\n",
    "\n",
    "connection = pg.connect(**connection_args)  # What is that \"**\" there??"
   ]
  },
  {
   "cell_type": "markdown",
   "metadata": {},
   "source": [
    "### Download Data\n",
    "\n",
    "Download Data from NHANES website (note that DXX only available from 2011 and on, prior to that had data issues and would require more data massaging)"
   ]
  },
  {
   "cell_type": "code",
   "execution_count": null,
   "metadata": {},
   "outputs": [],
   "source": [
    "years = dict([('2011-2012','G'),('2013-2014','H'),('2015-2016','I'),\\\n",
    "                  ('2017-2018','J')])\n",
    "data_type = ['DEMO','DR1TOT','PAQ','DBQ','WHQ','BMX','DXX']"
   ]
  },
  {
   "cell_type": "markdown",
   "metadata": {},
   "source": [
    "Note that initial database was set up using psql and tables made for the 2017-2018 table, then used the code here to insert prior year survey data into the table.\n",
    "\n",
    "Because DR1TOT files were not set up well to begin with, issues with appending with prior survey data, and therefore did not do so.\n",
    "\n",
    "Also, because some fields in the 2017-2018 survey tables were newer, the code below will add new columns of 0s (initially Nulls, but had some issues halfway so switch to 0s.. but this should not impact analysis.) Therefore, prior to using any field, should do a test to see distribution by survey year to make sure that it is valid across all years.\n",
    "\n",
    "additional table called \"fat\" was created that lists fitness category by gender and body fat range. (classes of \"Essential Fat\", \"Athlete\", \"Fitness\", \"Average\" (note originally called Acceptable), \"Obese\", as designated by the American Counsel on Exercise)"
   ]
  },
  {
   "cell_type": "code",
   "execution_count": null,
   "metadata": {},
   "outputs": [],
   "source": [
    "import requests\n",
    "         \n",
    "for key in years:\n",
    "    for data in data_type:\n",
    "        url = \"https://wwwn.cdc.gov/Nchs/Nhanes/\"+key+\"/\"+data+\"_\"+years[key]+\".XPT\"\n",
    "        r= requests.get(url)\n",
    "        filename = 'Data/Raw/'+data+'_'+years[key]+'.XPT'\n",
    "        with open(filename,'wb') as out_file:\n",
    "            out_file.write(r.content)"
   ]
  },
  {
   "cell_type": "code",
   "execution_count": null,
   "metadata": {},
   "outputs": [],
   "source": [
    "import xport.v56"
   ]
  },
  {
   "cell_type": "code",
   "execution_count": null,
   "metadata": {},
   "outputs": [],
   "source": [
    "def execute_values(conn, df, table,columns):\n",
    "    \"\"\"\n",
    "    Using psycopg2.extras.execute_values() to insert the dataframe\n",
    "    \"\"\"\n",
    "    #make new df into same columns as existing table\n",
    "    missing_cols = list(set(columns) - set(df.columns))\n",
    "    new_df = df\n",
    "    for i in missing_cols:\n",
    "        blank_series = pd.Series([None]*len(df),name=i)\n",
    "        new_df = pd.concat([new_df,blank_series],axis=1)\n",
    "    fin_df = new_df[columns]\n",
    "    \n",
    "    # Create a list of tupples from the dataframe values\n",
    "    tuples = [tuple(x) for x in fin_df.to_numpy()]\n",
    "    # Comma-separated dataframe columns\n",
    "    cols = ','.join(list(fin_df[columns]))\n",
    "    # SQL quert to execute\n",
    "    query  = \"INSERT INTO %s(%s) VALUES %%s\" % (table, cols)\n",
    "    cursor = conn.cursor()\n",
    "    try:\n",
    "        extras.execute_values(cursor, query, tuples)\n",
    "        conn.commit()\n",
    "    except (Exception, psycopg2.DatabaseError) as error:\n",
    "        print(\"Error: %s\" % error)\n",
    "        conn.rollback()\n",
    "        cursor.close()\n",
    "        return 1\n",
    "    print(\"execute_values() done\")\n",
    "    cursor.close()"
   ]
  },
  {
   "cell_type": "code",
   "execution_count": null,
   "metadata": {},
   "outputs": [],
   "source": [
    "data_type = ['DEMO','PAQ','DBQ','WHQ','BMX','DXX']\n",
    "survey = ['G','H','I']\n",
    "\n",
    "for data in data_type:\n",
    "    with open('Data/Raw/'+data+'_J.xpt', 'rb') as f:\n",
    "        library = xport.v56.load(f)\n",
    "    columns = list(library[data+'_J'].columns)\n",
    "\n",
    "             \n",
    "    for letter in survey:\n",
    "        with open('Data/Raw/'+data+'_'+letter+'.xpt', 'rb') as f:\n",
    "            library = xport.v56.load(f)\n",
    "        execute_values(connection,library[data+'_'+letter],data,columns)"
   ]
  },
  {
   "cell_type": "markdown",
   "metadata": {},
   "source": [
    "## EDA"
   ]
  },
  {
   "cell_type": "code",
   "execution_count": 22,
   "metadata": {},
   "outputs": [],
   "source": [
    "query = '''\n",
    "SELECT DISTINCT dxx.seqn, \n",
    "\tCASE demo.riagendr WHEN '1.0' THEN 'M' WHEN '2.0' THEN 'F' ELSE demo.riagendr END, \n",
    "\tdemo.ridageyr, dxx.dxdtopf, paq.paq610, paq.paq625, paq.paq640, paq.paq655, paq.paq670, bmx.bmxbmi, fat.category, bmi_cat.bmi_category\n",
    "FROM dxx\n",
    "LEFT JOIN demo\n",
    "\tON dxx.seqn = demo.seqn\n",
    "LEFT JOIN paq\n",
    "\tON dxx.seqn = paq.seqn\n",
    "LEFT JOIN bmx\n",
    "    ON dxx.seqn = bmx.seqn\n",
    "JOIN fat\n",
    "\tON demo.riagendr = fat.gender AND dxdtopf >= fat.low AND dxdtopf < fat.high\n",
    "JOIN bmi_cat\n",
    "    ON bmx.bmxbmi >= bmi_cat.low AND bmx.bmxbmi < bmi_cat.high\n",
    "WHERE demo.ridageyr >= 18\n",
    "ORDER BY dxx.seqn\n",
    "'''\n",
    "\n",
    "df = pd.read_sql(query, connection)\n"
   ]
  },
  {
   "cell_type": "code",
   "execution_count": 23,
   "metadata": {},
   "outputs": [
    {
     "data": {
      "text/plain": [
       "11791"
      ]
     },
     "execution_count": 23,
     "metadata": {},
     "output_type": "execute_result"
    }
   ],
   "source": [
    "len(df)"
   ]
  },
  {
   "cell_type": "code",
   "execution_count": 24,
   "metadata": {},
   "outputs": [
    {
     "data": {
      "text/html": [
       "<div>\n",
       "<style scoped>\n",
       "    .dataframe tbody tr th:only-of-type {\n",
       "        vertical-align: middle;\n",
       "    }\n",
       "\n",
       "    .dataframe tbody tr th {\n",
       "        vertical-align: top;\n",
       "    }\n",
       "\n",
       "    .dataframe thead th {\n",
       "        text-align: right;\n",
       "    }\n",
       "</style>\n",
       "<table border=\"1\" class=\"dataframe\">\n",
       "  <thead>\n",
       "    <tr style=\"text-align: right;\">\n",
       "      <th></th>\n",
       "      <th>seqn</th>\n",
       "      <th>riagendr</th>\n",
       "      <th>ridageyr</th>\n",
       "      <th>dxdtopf</th>\n",
       "      <th>paq610</th>\n",
       "      <th>paq625</th>\n",
       "      <th>paq640</th>\n",
       "      <th>paq655</th>\n",
       "      <th>paq670</th>\n",
       "      <th>bmxbmi</th>\n",
       "      <th>category</th>\n",
       "      <th>bmi_category</th>\n",
       "    </tr>\n",
       "  </thead>\n",
       "  <tbody>\n",
       "    <tr>\n",
       "      <th>0</th>\n",
       "      <td>62161.0</td>\n",
       "      <td>M</td>\n",
       "      <td>22.0</td>\n",
       "      <td>24.3</td>\n",
       "      <td>NaN</td>\n",
       "      <td>NaN</td>\n",
       "      <td>NaN</td>\n",
       "      <td>NaN</td>\n",
       "      <td>NaN</td>\n",
       "      <td>23.3</td>\n",
       "      <td>Average</td>\n",
       "      <td>Normal</td>\n",
       "    </tr>\n",
       "    <tr>\n",
       "      <th>1</th>\n",
       "      <td>62164.0</td>\n",
       "      <td>F</td>\n",
       "      <td>44.0</td>\n",
       "      <td>25.9</td>\n",
       "      <td>5.0</td>\n",
       "      <td>NaN</td>\n",
       "      <td>NaN</td>\n",
       "      <td>5.0</td>\n",
       "      <td>1.0</td>\n",
       "      <td>23.2</td>\n",
       "      <td>Average</td>\n",
       "      <td>Normal</td>\n",
       "    </tr>\n",
       "    <tr>\n",
       "      <th>2</th>\n",
       "      <td>62169.0</td>\n",
       "      <td>M</td>\n",
       "      <td>21.0</td>\n",
       "      <td>19.8</td>\n",
       "      <td>NaN</td>\n",
       "      <td>NaN</td>\n",
       "      <td>NaN</td>\n",
       "      <td>NaN</td>\n",
       "      <td>NaN</td>\n",
       "      <td>20.1</td>\n",
       "      <td>Average</td>\n",
       "      <td>Normal</td>\n",
       "    </tr>\n",
       "    <tr>\n",
       "      <th>3</th>\n",
       "      <td>62172.0</td>\n",
       "      <td>F</td>\n",
       "      <td>43.0</td>\n",
       "      <td>42.2</td>\n",
       "      <td>NaN</td>\n",
       "      <td>NaN</td>\n",
       "      <td>NaN</td>\n",
       "      <td>NaN</td>\n",
       "      <td>NaN</td>\n",
       "      <td>33.3</td>\n",
       "      <td>Obese</td>\n",
       "      <td>Obese</td>\n",
       "    </tr>\n",
       "    <tr>\n",
       "      <th>4</th>\n",
       "      <td>62179.0</td>\n",
       "      <td>M</td>\n",
       "      <td>55.0</td>\n",
       "      <td>27.6</td>\n",
       "      <td>NaN</td>\n",
       "      <td>NaN</td>\n",
       "      <td>5.0</td>\n",
       "      <td>NaN</td>\n",
       "      <td>NaN</td>\n",
       "      <td>27.6</td>\n",
       "      <td>Obese</td>\n",
       "      <td>Overweight</td>\n",
       "    </tr>\n",
       "    <tr>\n",
       "      <th>...</th>\n",
       "      <td>...</td>\n",
       "      <td>...</td>\n",
       "      <td>...</td>\n",
       "      <td>...</td>\n",
       "      <td>...</td>\n",
       "      <td>...</td>\n",
       "      <td>...</td>\n",
       "      <td>...</td>\n",
       "      <td>...</td>\n",
       "      <td>...</td>\n",
       "      <td>...</td>\n",
       "      <td>...</td>\n",
       "    </tr>\n",
       "    <tr>\n",
       "      <th>11786</th>\n",
       "      <td>102935.0</td>\n",
       "      <td>F</td>\n",
       "      <td>27.0</td>\n",
       "      <td>33.7</td>\n",
       "      <td>3.0</td>\n",
       "      <td>NaN</td>\n",
       "      <td>4.0</td>\n",
       "      <td>1.0</td>\n",
       "      <td>1.0</td>\n",
       "      <td>23.6</td>\n",
       "      <td>Obese</td>\n",
       "      <td>Normal</td>\n",
       "    </tr>\n",
       "    <tr>\n",
       "      <th>11787</th>\n",
       "      <td>102944.0</td>\n",
       "      <td>M</td>\n",
       "      <td>55.0</td>\n",
       "      <td>33.4</td>\n",
       "      <td>NaN</td>\n",
       "      <td>5.0</td>\n",
       "      <td>NaN</td>\n",
       "      <td>NaN</td>\n",
       "      <td>NaN</td>\n",
       "      <td>29.6</td>\n",
       "      <td>Obese</td>\n",
       "      <td>Overweight</td>\n",
       "    </tr>\n",
       "    <tr>\n",
       "      <th>11788</th>\n",
       "      <td>102948.0</td>\n",
       "      <td>F</td>\n",
       "      <td>31.0</td>\n",
       "      <td>27.7</td>\n",
       "      <td>NaN</td>\n",
       "      <td>NaN</td>\n",
       "      <td>NaN</td>\n",
       "      <td>5.0</td>\n",
       "      <td>NaN</td>\n",
       "      <td>20.2</td>\n",
       "      <td>Average</td>\n",
       "      <td>Normal</td>\n",
       "    </tr>\n",
       "    <tr>\n",
       "      <th>11789</th>\n",
       "      <td>102949.0</td>\n",
       "      <td>M</td>\n",
       "      <td>33.0</td>\n",
       "      <td>15.5</td>\n",
       "      <td>3.0</td>\n",
       "      <td>7.0</td>\n",
       "      <td>7.0</td>\n",
       "      <td>NaN</td>\n",
       "      <td>NaN</td>\n",
       "      <td>23.7</td>\n",
       "      <td>Fitness</td>\n",
       "      <td>Normal</td>\n",
       "    </tr>\n",
       "    <tr>\n",
       "      <th>11790</th>\n",
       "      <td>102954.0</td>\n",
       "      <td>F</td>\n",
       "      <td>41.0</td>\n",
       "      <td>35.4</td>\n",
       "      <td>NaN</td>\n",
       "      <td>NaN</td>\n",
       "      <td>NaN</td>\n",
       "      <td>NaN</td>\n",
       "      <td>2.0</td>\n",
       "      <td>26.1</td>\n",
       "      <td>Obese</td>\n",
       "      <td>Overweight</td>\n",
       "    </tr>\n",
       "  </tbody>\n",
       "</table>\n",
       "<p>11791 rows × 12 columns</p>\n",
       "</div>"
      ],
      "text/plain": [
       "           seqn riagendr  ridageyr  dxdtopf  paq610  paq625  paq640  paq655  \\\n",
       "0       62161.0        M      22.0     24.3     NaN     NaN     NaN     NaN   \n",
       "1       62164.0        F      44.0     25.9     5.0     NaN     NaN     5.0   \n",
       "2       62169.0        M      21.0     19.8     NaN     NaN     NaN     NaN   \n",
       "3       62172.0        F      43.0     42.2     NaN     NaN     NaN     NaN   \n",
       "4       62179.0        M      55.0     27.6     NaN     NaN     5.0     NaN   \n",
       "...         ...      ...       ...      ...     ...     ...     ...     ...   \n",
       "11786  102935.0        F      27.0     33.7     3.0     NaN     4.0     1.0   \n",
       "11787  102944.0        M      55.0     33.4     NaN     5.0     NaN     NaN   \n",
       "11788  102948.0        F      31.0     27.7     NaN     NaN     NaN     5.0   \n",
       "11789  102949.0        M      33.0     15.5     3.0     7.0     7.0     NaN   \n",
       "11790  102954.0        F      41.0     35.4     NaN     NaN     NaN     NaN   \n",
       "\n",
       "       paq670  bmxbmi category bmi_category  \n",
       "0         NaN    23.3  Average       Normal  \n",
       "1         1.0    23.2  Average       Normal  \n",
       "2         NaN    20.1  Average       Normal  \n",
       "3         NaN    33.3    Obese        Obese  \n",
       "4         NaN    27.6    Obese   Overweight  \n",
       "...       ...     ...      ...          ...  \n",
       "11786     1.0    23.6    Obese       Normal  \n",
       "11787     NaN    29.6    Obese   Overweight  \n",
       "11788     NaN    20.2  Average       Normal  \n",
       "11789     NaN    23.7  Fitness       Normal  \n",
       "11790     2.0    26.1    Obese   Overweight  \n",
       "\n",
       "[11791 rows x 12 columns]"
      ]
     },
     "execution_count": 24,
     "metadata": {},
     "output_type": "execute_result"
    }
   ],
   "source": [
    "df"
   ]
  },
  {
   "cell_type": "code",
   "execution_count": 26,
   "metadata": {},
   "outputs": [],
   "source": [
    "import seaborn as sns\n",
    "import matplotlib.pyplot as plt\n",
    "%matplotlib inline\n"
   ]
  },
  {
   "cell_type": "code",
   "execution_count": 39,
   "metadata": {},
   "outputs": [
    {
     "data": {
      "text/html": [
       "<div>\n",
       "<style scoped>\n",
       "    .dataframe tbody tr th:only-of-type {\n",
       "        vertical-align: middle;\n",
       "    }\n",
       "\n",
       "    .dataframe tbody tr th {\n",
       "        vertical-align: top;\n",
       "    }\n",
       "\n",
       "    .dataframe thead th {\n",
       "        text-align: right;\n",
       "    }\n",
       "</style>\n",
       "<table border=\"1\" class=\"dataframe\">\n",
       "  <thead>\n",
       "    <tr style=\"text-align: right;\">\n",
       "      <th>category</th>\n",
       "      <th>Athlete</th>\n",
       "      <th>Fitness</th>\n",
       "      <th>Average</th>\n",
       "      <th>Obese</th>\n",
       "    </tr>\n",
       "    <tr>\n",
       "      <th>bmi_category</th>\n",
       "      <th></th>\n",
       "      <th></th>\n",
       "      <th></th>\n",
       "      <th></th>\n",
       "    </tr>\n",
       "  </thead>\n",
       "  <tbody>\n",
       "    <tr>\n",
       "      <th>Underweight</th>\n",
       "      <td>14.0</td>\n",
       "      <td>101.0</td>\n",
       "      <td>115.0</td>\n",
       "      <td>27.0</td>\n",
       "    </tr>\n",
       "    <tr>\n",
       "      <th>Normal</th>\n",
       "      <td>81.0</td>\n",
       "      <td>447.0</td>\n",
       "      <td>1552.0</td>\n",
       "      <td>1604.0</td>\n",
       "    </tr>\n",
       "    <tr>\n",
       "      <th>Overweight</th>\n",
       "      <td>5.0</td>\n",
       "      <td>53.0</td>\n",
       "      <td>658.0</td>\n",
       "      <td>2908.0</td>\n",
       "    </tr>\n",
       "    <tr>\n",
       "      <th>Obese</th>\n",
       "      <td>NaN</td>\n",
       "      <td>1.0</td>\n",
       "      <td>124.0</td>\n",
       "      <td>4101.0</td>\n",
       "    </tr>\n",
       "  </tbody>\n",
       "</table>\n",
       "</div>"
      ],
      "text/plain": [
       "category      Athlete  Fitness  Average   Obese\n",
       "bmi_category                                   \n",
       "Underweight      14.0    101.0    115.0    27.0\n",
       "Normal           81.0    447.0   1552.0  1604.0\n",
       "Overweight        5.0     53.0    658.0  2908.0\n",
       "Obese             NaN      1.0    124.0  4101.0"
      ]
     },
     "execution_count": 39,
     "metadata": {},
     "output_type": "execute_result"
    }
   ],
   "source": [
    "table = df.pivot_table(index='bmi_category',columns='category',aggfunc='count')['seqn'].copy()\n",
    "\n",
    "column_order = ['Athlete','Fitness','Average','Obese']\n",
    "index_order = ['Underweight','Normal','Overweight','Obese']\n",
    "\n",
    "\n",
    "table.reindex(index = index_order, columns=column_order)"
   ]
  },
  {
   "cell_type": "markdown",
   "metadata": {},
   "source": [
    "Note that the BMI category is different than the (body fat) category. The body fat category is determined by the American Counsel on Exercise."
   ]
  },
  {
   "cell_type": "code",
   "execution_count": 13,
   "metadata": {},
   "outputs": [
    {
     "data": {
      "text/plain": [
       "array(['Average', 'Obese', 'Fitness', 'Athlete'], dtype=object)"
      ]
     },
     "execution_count": 13,
     "metadata": {},
     "output_type": "execute_result"
    }
   ],
   "source": [
    "df.category.unique()"
   ]
  },
  {
   "cell_type": "code",
   "execution_count": 7,
   "metadata": {},
   "outputs": [],
   "source": [
    "colnames = {\n",
    "    \"seqn\": \"id\",\n",
    "    \"riagendr\": \"gender\",\n",
    "    \"ridageyr\": \"age\",\n",
    "    \"dxdtopf\": \"body_fat\",\n",
    "    \"paq610\": \"vig_work_days\",\n",
    "    \"paq625\": \"mod_work_days\",\n",
    "    \"paq640\": \"walk_bike_days\",\n",
    "    \"paq655\": \"vig_rec_days\",\n",
    "    \"paq670\": \"mod_work_days\"\n",
    "}"
   ]
  },
  {
   "cell_type": "code",
   "execution_count": 8,
   "metadata": {},
   "outputs": [],
   "source": [
    "df = df.rename(columns = colnames)"
   ]
  },
  {
   "cell_type": "code",
   "execution_count": null,
   "metadata": {},
   "outputs": [],
   "source": [
    "df"
   ]
  },
  {
   "cell_type": "code",
   "execution_count": 10,
   "metadata": {},
   "outputs": [
    {
     "data": {
      "text/plain": [
       "id                   0\n",
       "gender               0\n",
       "age                  0\n",
       "body_fat             0\n",
       "vig_work_days     9037\n",
       "mod_work_days     7105\n",
       "walk_bike_days    8308\n",
       "vig_rec_days      7972\n",
       "mod_work_days     6558\n",
       "category             0\n",
       "dtype: int64"
      ]
     },
     "execution_count": 10,
     "metadata": {},
     "output_type": "execute_result"
    }
   ],
   "source": [
    "df.isnull().sum()"
   ]
  },
  {
   "cell_type": "code",
   "execution_count": 11,
   "metadata": {},
   "outputs": [],
   "source": [
    "df = df.fillna(value=0)"
   ]
  },
  {
   "cell_type": "code",
   "execution_count": 12,
   "metadata": {},
   "outputs": [],
   "source": [
    "with open('data/df_full.pickle', 'wb') as f:\n",
    "    pickle.dump(df, f)"
   ]
  },
  {
   "cell_type": "code",
   "execution_count": null,
   "metadata": {},
   "outputs": [],
   "source": []
  }
 ],
 "metadata": {
  "kernelspec": {
   "display_name": "Python [conda env:metis] *",
   "language": "python",
   "name": "conda-env-metis-py"
  },
  "language_info": {
   "codemirror_mode": {
    "name": "ipython",
    "version": 3
   },
   "file_extension": ".py",
   "mimetype": "text/x-python",
   "name": "python",
   "nbconvert_exporter": "python",
   "pygments_lexer": "ipython3",
   "version": "3.8.3"
  }
 },
 "nbformat": 4,
 "nbformat_minor": 4
}
